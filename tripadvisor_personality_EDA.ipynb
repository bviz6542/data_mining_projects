{
  "cells": [
    {
      "cell_type": "code",
      "execution_count": 3,
      "metadata": {
        "id": "6lABqciRQlCf"
      },
      "outputs": [],
      "source": [
        "import pandas as pd\n",
        "from pandas.plotting import scatter_matrix\n",
        "import numpy as np\n",
        "from collections import Counter\n",
        "import collections\n",
        "from pandas import DataFrame\n",
        "from scipy.cluster.hierarchy import linkage, dendrogram\n",
        "\n",
        "from pyspark.ml.recommendation import ALS\n",
        "from pyspark.sql.types import *\n",
        "import pyspark\n",
        "from pyspark.sql import SQLContext, Row\n",
        "\n",
        "from sklearn.cluster import KMeans\n",
        "from sklearn.feature_extraction.text import CountVectorizer, TfidfVectorizer\n",
        "from sklearn.metrics.pairwise import linear_kernel\n",
        "import matplotlib.pyplot as plt \n",
        "\n",
        "%matplotlib inline"
      ]
    },
    {
      "cell_type": "markdown",
      "metadata": {
        "id": "Dwfs6oMWQlCi"
      },
      "source": [
        "# importing data"
      ]
    },
    {
      "cell_type": "code",
      "source": [
        "from google.colab import files\n",
        "\n",
        "myfile = files.upload()\n",
        "myfile = files.upload()\n",
        "myfile = files.upload()\n",
        "myfile = files.upload()\n",
        "# personality scores\n",
        "data1 = pd.read_excel('pers_scores_1098.xlsx')\n",
        "# articles by some traveler\n",
        "data2 = pd.read_excel('articles_159.xlsx')\n",
        "# traveler profile\n",
        "data3 = pd.read_excel('users_full_7034.xlsx')\n",
        "# traveler and reviews\n",
        "data4 = pd.read_excel('reviews_32618_for_1098_users_with_location.xlsx')"
      ],
      "metadata": {
        "colab": {
          "resources": {
            "http://localhost:8080/nbextensions/google.colab/files.js": {
              "data": "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",
              "ok": true,
              "headers": [
                [
                  "content-type",
                  "application/javascript"
                ]
              ],
              "status": 200,
              "status_text": ""
            }
          },
          "base_uri": "https://localhost:8080/",
          "height": 255
        },
        "id": "gXa2eVYWdgDi",
        "outputId": "cc4b8305-b0c3-4fe8-a2a5-d06a06abe799"
      },
      "execution_count": 5,
      "outputs": [
        {
          "output_type": "display_data",
          "data": {
            "text/plain": [
              "<IPython.core.display.HTML object>"
            ],
            "text/html": [
              "\n",
              "     <input type=\"file\" id=\"files-4a334a37-77ba-4f70-aa18-242639bf491c\" name=\"files[]\" multiple disabled\n",
              "        style=\"border:none\" />\n",
              "     <output id=\"result-4a334a37-77ba-4f70-aa18-242639bf491c\">\n",
              "      Upload widget is only available when the cell has been executed in the\n",
              "      current browser session. Please rerun this cell to enable.\n",
              "      </output>\n",
              "      <script src=\"/nbextensions/google.colab/files.js\"></script> "
            ]
          },
          "metadata": {}
        },
        {
          "output_type": "stream",
          "name": "stdout",
          "text": [
            "Saving pers_scores_1098.xlsx to pers_scores_1098.xlsx\n"
          ]
        },
        {
          "output_type": "display_data",
          "data": {
            "text/plain": [
              "<IPython.core.display.HTML object>"
            ],
            "text/html": [
              "\n",
              "     <input type=\"file\" id=\"files-5a66157f-c14d-4cff-9dd9-87f44b979fed\" name=\"files[]\" multiple disabled\n",
              "        style=\"border:none\" />\n",
              "     <output id=\"result-5a66157f-c14d-4cff-9dd9-87f44b979fed\">\n",
              "      Upload widget is only available when the cell has been executed in the\n",
              "      current browser session. Please rerun this cell to enable.\n",
              "      </output>\n",
              "      <script src=\"/nbextensions/google.colab/files.js\"></script> "
            ]
          },
          "metadata": {}
        },
        {
          "output_type": "stream",
          "name": "stdout",
          "text": [
            "Saving articles_159.xlsx to articles_159.xlsx\n"
          ]
        },
        {
          "output_type": "display_data",
          "data": {
            "text/plain": [
              "<IPython.core.display.HTML object>"
            ],
            "text/html": [
              "\n",
              "     <input type=\"file\" id=\"files-f9b08b3c-f30b-4758-807f-ddb75d0bdb52\" name=\"files[]\" multiple disabled\n",
              "        style=\"border:none\" />\n",
              "     <output id=\"result-f9b08b3c-f30b-4758-807f-ddb75d0bdb52\">\n",
              "      Upload widget is only available when the cell has been executed in the\n",
              "      current browser session. Please rerun this cell to enable.\n",
              "      </output>\n",
              "      <script src=\"/nbextensions/google.colab/files.js\"></script> "
            ]
          },
          "metadata": {}
        },
        {
          "output_type": "stream",
          "name": "stdout",
          "text": [
            "Saving users_full_7034.xlsx to users_full_7034 (1).xlsx\n"
          ]
        },
        {
          "output_type": "display_data",
          "data": {
            "text/plain": [
              "<IPython.core.display.HTML object>"
            ],
            "text/html": [
              "\n",
              "     <input type=\"file\" id=\"files-6f2a1d27-03a1-4424-808a-aca91147dc57\" name=\"files[]\" multiple disabled\n",
              "        style=\"border:none\" />\n",
              "     <output id=\"result-6f2a1d27-03a1-4424-808a-aca91147dc57\">\n",
              "      Upload widget is only available when the cell has been executed in the\n",
              "      current browser session. Please rerun this cell to enable.\n",
              "      </output>\n",
              "      <script src=\"/nbextensions/google.colab/files.js\"></script> "
            ]
          },
          "metadata": {}
        },
        {
          "output_type": "stream",
          "name": "stdout",
          "text": [
            "Saving reviews_32618_for_1098_users_with_location.xlsx to reviews_32618_for_1098_users_with_location.xlsx\n"
          ]
        }
      ]
    },
    {
      "cell_type": "code",
      "execution_count": 6,
      "metadata": {
        "colab": {
          "base_uri": "https://localhost:8080/",
          "height": 206
        },
        "id": "XH35pWZkQlCk",
        "outputId": "55eb1f6d-43e8-411c-f0e9-f12af151b3d0"
      },
      "outputs": [
        {
          "output_type": "execute_result",
          "data": {
            "text/plain": [
              "          username     open     cons    extra    agree    neuro\n",
              "0  007solotraveler  0.63272  0.55666  0.56360  0.58108  0.45881\n",
              "1            0BKI0  0.64006  0.55189  0.56220  0.57943  0.46188\n",
              "2         10179k79  0.66435  0.56099  0.56880  0.58187  0.45011\n",
              "3           124_10  0.66003  0.57005  0.57221  0.59019  0.44860\n",
              "4     12ReasonsWhy  0.65036  0.55429  0.56510  0.58271  0.45919"
            ],
            "text/html": [
              "\n",
              "  <div id=\"df-11bffad6-9bc0-4b2e-8df8-4be365a982bd\">\n",
              "    <div class=\"colab-df-container\">\n",
              "      <div>\n",
              "<style scoped>\n",
              "    .dataframe tbody tr th:only-of-type {\n",
              "        vertical-align: middle;\n",
              "    }\n",
              "\n",
              "    .dataframe tbody tr th {\n",
              "        vertical-align: top;\n",
              "    }\n",
              "\n",
              "    .dataframe thead th {\n",
              "        text-align: right;\n",
              "    }\n",
              "</style>\n",
              "<table border=\"1\" class=\"dataframe\">\n",
              "  <thead>\n",
              "    <tr style=\"text-align: right;\">\n",
              "      <th></th>\n",
              "      <th>username</th>\n",
              "      <th>open</th>\n",
              "      <th>cons</th>\n",
              "      <th>extra</th>\n",
              "      <th>agree</th>\n",
              "      <th>neuro</th>\n",
              "    </tr>\n",
              "  </thead>\n",
              "  <tbody>\n",
              "    <tr>\n",
              "      <th>0</th>\n",
              "      <td>007solotraveler</td>\n",
              "      <td>0.63272</td>\n",
              "      <td>0.55666</td>\n",
              "      <td>0.56360</td>\n",
              "      <td>0.58108</td>\n",
              "      <td>0.45881</td>\n",
              "    </tr>\n",
              "    <tr>\n",
              "      <th>1</th>\n",
              "      <td>0BKI0</td>\n",
              "      <td>0.64006</td>\n",
              "      <td>0.55189</td>\n",
              "      <td>0.56220</td>\n",
              "      <td>0.57943</td>\n",
              "      <td>0.46188</td>\n",
              "    </tr>\n",
              "    <tr>\n",
              "      <th>2</th>\n",
              "      <td>10179k79</td>\n",
              "      <td>0.66435</td>\n",
              "      <td>0.56099</td>\n",
              "      <td>0.56880</td>\n",
              "      <td>0.58187</td>\n",
              "      <td>0.45011</td>\n",
              "    </tr>\n",
              "    <tr>\n",
              "      <th>3</th>\n",
              "      <td>124_10</td>\n",
              "      <td>0.66003</td>\n",
              "      <td>0.57005</td>\n",
              "      <td>0.57221</td>\n",
              "      <td>0.59019</td>\n",
              "      <td>0.44860</td>\n",
              "    </tr>\n",
              "    <tr>\n",
              "      <th>4</th>\n",
              "      <td>12ReasonsWhy</td>\n",
              "      <td>0.65036</td>\n",
              "      <td>0.55429</td>\n",
              "      <td>0.56510</td>\n",
              "      <td>0.58271</td>\n",
              "      <td>0.45919</td>\n",
              "    </tr>\n",
              "  </tbody>\n",
              "</table>\n",
              "</div>\n",
              "      <button class=\"colab-df-convert\" onclick=\"convertToInteractive('df-11bffad6-9bc0-4b2e-8df8-4be365a982bd')\"\n",
              "              title=\"Convert this dataframe to an interactive table.\"\n",
              "              style=\"display:none;\">\n",
              "        \n",
              "  <svg xmlns=\"http://www.w3.org/2000/svg\" height=\"24px\"viewBox=\"0 0 24 24\"\n",
              "       width=\"24px\">\n",
              "    <path d=\"M0 0h24v24H0V0z\" fill=\"none\"/>\n",
              "    <path d=\"M18.56 5.44l.94 2.06.94-2.06 2.06-.94-2.06-.94-.94-2.06-.94 2.06-2.06.94zm-11 1L8.5 8.5l.94-2.06 2.06-.94-2.06-.94L8.5 2.5l-.94 2.06-2.06.94zm10 10l.94 2.06.94-2.06 2.06-.94-2.06-.94-.94-2.06-.94 2.06-2.06.94z\"/><path d=\"M17.41 7.96l-1.37-1.37c-.4-.4-.92-.59-1.43-.59-.52 0-1.04.2-1.43.59L10.3 9.45l-7.72 7.72c-.78.78-.78 2.05 0 2.83L4 21.41c.39.39.9.59 1.41.59.51 0 1.02-.2 1.41-.59l7.78-7.78 2.81-2.81c.8-.78.8-2.07 0-2.86zM5.41 20L4 18.59l7.72-7.72 1.47 1.35L5.41 20z\"/>\n",
              "  </svg>\n",
              "      </button>\n",
              "      \n",
              "  <style>\n",
              "    .colab-df-container {\n",
              "      display:flex;\n",
              "      flex-wrap:wrap;\n",
              "      gap: 12px;\n",
              "    }\n",
              "\n",
              "    .colab-df-convert {\n",
              "      background-color: #E8F0FE;\n",
              "      border: none;\n",
              "      border-radius: 50%;\n",
              "      cursor: pointer;\n",
              "      display: none;\n",
              "      fill: #1967D2;\n",
              "      height: 32px;\n",
              "      padding: 0 0 0 0;\n",
              "      width: 32px;\n",
              "    }\n",
              "\n",
              "    .colab-df-convert:hover {\n",
              "      background-color: #E2EBFA;\n",
              "      box-shadow: 0px 1px 2px rgba(60, 64, 67, 0.3), 0px 1px 3px 1px rgba(60, 64, 67, 0.15);\n",
              "      fill: #174EA6;\n",
              "    }\n",
              "\n",
              "    [theme=dark] .colab-df-convert {\n",
              "      background-color: #3B4455;\n",
              "      fill: #D2E3FC;\n",
              "    }\n",
              "\n",
              "    [theme=dark] .colab-df-convert:hover {\n",
              "      background-color: #434B5C;\n",
              "      box-shadow: 0px 1px 3px 1px rgba(0, 0, 0, 0.15);\n",
              "      filter: drop-shadow(0px 1px 2px rgba(0, 0, 0, 0.3));\n",
              "      fill: #FFFFFF;\n",
              "    }\n",
              "  </style>\n",
              "\n",
              "      <script>\n",
              "        const buttonEl =\n",
              "          document.querySelector('#df-11bffad6-9bc0-4b2e-8df8-4be365a982bd button.colab-df-convert');\n",
              "        buttonEl.style.display =\n",
              "          google.colab.kernel.accessAllowed ? 'block' : 'none';\n",
              "\n",
              "        async function convertToInteractive(key) {\n",
              "          const element = document.querySelector('#df-11bffad6-9bc0-4b2e-8df8-4be365a982bd');\n",
              "          const dataTable =\n",
              "            await google.colab.kernel.invokeFunction('convertToInteractive',\n",
              "                                                     [key], {});\n",
              "          if (!dataTable) return;\n",
              "\n",
              "          const docLinkHtml = 'Like what you see? Visit the ' +\n",
              "            '<a target=\"_blank\" href=https://colab.research.google.com/notebooks/data_table.ipynb>data table notebook</a>'\n",
              "            + ' to learn more about interactive tables.';\n",
              "          element.innerHTML = '';\n",
              "          dataTable['output_type'] = 'display_data';\n",
              "          await google.colab.output.renderOutput(dataTable, element);\n",
              "          const docLink = document.createElement('div');\n",
              "          docLink.innerHTML = docLinkHtml;\n",
              "          element.appendChild(docLink);\n",
              "        }\n",
              "      </script>\n",
              "    </div>\n",
              "  </div>\n",
              "  "
            ]
          },
          "metadata": {},
          "execution_count": 6
        }
      ],
      "source": [
        "data1.head(5)"
      ]
    },
    {
      "cell_type": "code",
      "execution_count": 7,
      "metadata": {
        "colab": {
          "base_uri": "https://localhost:8080/",
          "height": 206
        },
        "id": "rqPmpDnoQlCl",
        "outputId": "b4164d2f-c78a-444d-f644-183fbab8b501"
      },
      "outputs": [
        {
          "output_type": "execute_result",
          "data": {
            "text/plain": [
              "           username       date                                title  \\\n",
              "0          19katy80 2012-07-15              Why come to Manchester?   \n",
              "1          29grapes 2010-03-27                    Taxis in Shanghai   \n",
              "2         ALiEN2108 2011-11-03                 Arriving & Departing   \n",
              "3  ASK_THE_LEYLANDS 2010-11-09  HEYSEN AND MAWSON TRAILS, AUSTRALIA   \n",
              "4       Alfanumeric 2013-12-06                        Neighborhoods   \n",
              "\n",
              "                                                text  total_points  \n",
              "0  Quite simply, whatever your interest, Manchest...             5  \n",
              "1  Taxi companies in Shanghai are heavily regulat...             5  \n",
              "2  Airport Transfer FAQs answered:\\nThere are two...             5  \n",
              "3    Laura is small township situated in the Sout...           100  \n",
              "4  City Centre\\nWhile Americans cousins refer to ...             5  "
            ],
            "text/html": [
              "\n",
              "  <div id=\"df-3c3c20d9-c108-4dd6-81fa-1569c5c00e17\">\n",
              "    <div class=\"colab-df-container\">\n",
              "      <div>\n",
              "<style scoped>\n",
              "    .dataframe tbody tr th:only-of-type {\n",
              "        vertical-align: middle;\n",
              "    }\n",
              "\n",
              "    .dataframe tbody tr th {\n",
              "        vertical-align: top;\n",
              "    }\n",
              "\n",
              "    .dataframe thead th {\n",
              "        text-align: right;\n",
              "    }\n",
              "</style>\n",
              "<table border=\"1\" class=\"dataframe\">\n",
              "  <thead>\n",
              "    <tr style=\"text-align: right;\">\n",
              "      <th></th>\n",
              "      <th>username</th>\n",
              "      <th>date</th>\n",
              "      <th>title</th>\n",
              "      <th>text</th>\n",
              "      <th>total_points</th>\n",
              "    </tr>\n",
              "  </thead>\n",
              "  <tbody>\n",
              "    <tr>\n",
              "      <th>0</th>\n",
              "      <td>19katy80</td>\n",
              "      <td>2012-07-15</td>\n",
              "      <td>Why come to Manchester?</td>\n",
              "      <td>Quite simply, whatever your interest, Manchest...</td>\n",
              "      <td>5</td>\n",
              "    </tr>\n",
              "    <tr>\n",
              "      <th>1</th>\n",
              "      <td>29grapes</td>\n",
              "      <td>2010-03-27</td>\n",
              "      <td>Taxis in Shanghai</td>\n",
              "      <td>Taxi companies in Shanghai are heavily regulat...</td>\n",
              "      <td>5</td>\n",
              "    </tr>\n",
              "    <tr>\n",
              "      <th>2</th>\n",
              "      <td>ALiEN2108</td>\n",
              "      <td>2011-11-03</td>\n",
              "      <td>Arriving &amp; Departing</td>\n",
              "      <td>Airport Transfer FAQs answered:\\nThere are two...</td>\n",
              "      <td>5</td>\n",
              "    </tr>\n",
              "    <tr>\n",
              "      <th>3</th>\n",
              "      <td>ASK_THE_LEYLANDS</td>\n",
              "      <td>2010-11-09</td>\n",
              "      <td>HEYSEN AND MAWSON TRAILS, AUSTRALIA</td>\n",
              "      <td>Laura is small township situated in the Sout...</td>\n",
              "      <td>100</td>\n",
              "    </tr>\n",
              "    <tr>\n",
              "      <th>4</th>\n",
              "      <td>Alfanumeric</td>\n",
              "      <td>2013-12-06</td>\n",
              "      <td>Neighborhoods</td>\n",
              "      <td>City Centre\\nWhile Americans cousins refer to ...</td>\n",
              "      <td>5</td>\n",
              "    </tr>\n",
              "  </tbody>\n",
              "</table>\n",
              "</div>\n",
              "      <button class=\"colab-df-convert\" onclick=\"convertToInteractive('df-3c3c20d9-c108-4dd6-81fa-1569c5c00e17')\"\n",
              "              title=\"Convert this dataframe to an interactive table.\"\n",
              "              style=\"display:none;\">\n",
              "        \n",
              "  <svg xmlns=\"http://www.w3.org/2000/svg\" height=\"24px\"viewBox=\"0 0 24 24\"\n",
              "       width=\"24px\">\n",
              "    <path d=\"M0 0h24v24H0V0z\" fill=\"none\"/>\n",
              "    <path d=\"M18.56 5.44l.94 2.06.94-2.06 2.06-.94-2.06-.94-.94-2.06-.94 2.06-2.06.94zm-11 1L8.5 8.5l.94-2.06 2.06-.94-2.06-.94L8.5 2.5l-.94 2.06-2.06.94zm10 10l.94 2.06.94-2.06 2.06-.94-2.06-.94-.94-2.06-.94 2.06-2.06.94z\"/><path d=\"M17.41 7.96l-1.37-1.37c-.4-.4-.92-.59-1.43-.59-.52 0-1.04.2-1.43.59L10.3 9.45l-7.72 7.72c-.78.78-.78 2.05 0 2.83L4 21.41c.39.39.9.59 1.41.59.51 0 1.02-.2 1.41-.59l7.78-7.78 2.81-2.81c.8-.78.8-2.07 0-2.86zM5.41 20L4 18.59l7.72-7.72 1.47 1.35L5.41 20z\"/>\n",
              "  </svg>\n",
              "      </button>\n",
              "      \n",
              "  <style>\n",
              "    .colab-df-container {\n",
              "      display:flex;\n",
              "      flex-wrap:wrap;\n",
              "      gap: 12px;\n",
              "    }\n",
              "\n",
              "    .colab-df-convert {\n",
              "      background-color: #E8F0FE;\n",
              "      border: none;\n",
              "      border-radius: 50%;\n",
              "      cursor: pointer;\n",
              "      display: none;\n",
              "      fill: #1967D2;\n",
              "      height: 32px;\n",
              "      padding: 0 0 0 0;\n",
              "      width: 32px;\n",
              "    }\n",
              "\n",
              "    .colab-df-convert:hover {\n",
              "      background-color: #E2EBFA;\n",
              "      box-shadow: 0px 1px 2px rgba(60, 64, 67, 0.3), 0px 1px 3px 1px rgba(60, 64, 67, 0.15);\n",
              "      fill: #174EA6;\n",
              "    }\n",
              "\n",
              "    [theme=dark] .colab-df-convert {\n",
              "      background-color: #3B4455;\n",
              "      fill: #D2E3FC;\n",
              "    }\n",
              "\n",
              "    [theme=dark] .colab-df-convert:hover {\n",
              "      background-color: #434B5C;\n",
              "      box-shadow: 0px 1px 3px 1px rgba(0, 0, 0, 0.15);\n",
              "      filter: drop-shadow(0px 1px 2px rgba(0, 0, 0, 0.3));\n",
              "      fill: #FFFFFF;\n",
              "    }\n",
              "  </style>\n",
              "\n",
              "      <script>\n",
              "        const buttonEl =\n",
              "          document.querySelector('#df-3c3c20d9-c108-4dd6-81fa-1569c5c00e17 button.colab-df-convert');\n",
              "        buttonEl.style.display =\n",
              "          google.colab.kernel.accessAllowed ? 'block' : 'none';\n",
              "\n",
              "        async function convertToInteractive(key) {\n",
              "          const element = document.querySelector('#df-3c3c20d9-c108-4dd6-81fa-1569c5c00e17');\n",
              "          const dataTable =\n",
              "            await google.colab.kernel.invokeFunction('convertToInteractive',\n",
              "                                                     [key], {});\n",
              "          if (!dataTable) return;\n",
              "\n",
              "          const docLinkHtml = 'Like what you see? Visit the ' +\n",
              "            '<a target=\"_blank\" href=https://colab.research.google.com/notebooks/data_table.ipynb>data table notebook</a>'\n",
              "            + ' to learn more about interactive tables.';\n",
              "          element.innerHTML = '';\n",
              "          dataTable['output_type'] = 'display_data';\n",
              "          await google.colab.output.renderOutput(dataTable, element);\n",
              "          const docLink = document.createElement('div');\n",
              "          docLink.innerHTML = docLinkHtml;\n",
              "          element.appendChild(docLink);\n",
              "        }\n",
              "      </script>\n",
              "    </div>\n",
              "  </div>\n",
              "  "
            ]
          },
          "metadata": {},
          "execution_count": 7
        }
      ],
      "source": [
        "data2.head(5)"
      ]
    },
    {
      "cell_type": "code",
      "execution_count": 8,
      "metadata": {
        "colab": {
          "base_uri": "https://localhost:8080/",
          "height": 259
        },
        "id": "nLeZs8WlQlCl",
        "outputId": "4476aaac-34e4-4370-90a2-94151b3b83ce"
      },
      "outputs": [
        {
          "output_type": "execute_result",
          "data": {
            "text/plain": [
              "          username ageRange  gender   location  \\\n",
              "0  007solotraveler    35-49    male  liverpool   \n",
              "1            0BKI0    25-34  female    Bristol   \n",
              "2          1010101      NaN     NaN         uk   \n",
              "\n",
              "                            travelStyle reviewerBadge registerDate  \\\n",
              "0                                   NaN   Contributor   2010-06-01   \n",
              "1  Foodie, Nature Lover, Urban Explorer   Contributor   2009-08-01   \n",
              "2                                   NaN           NaN   2009-03-01   \n",
              "\n",
              "   numHotelsReviews  numRestReviews  numAttractReviews  numFirstToReview  \\\n",
              "0              10.0             1.0                1.0               NaN   \n",
              "1              11.0             7.0                NaN               NaN   \n",
              "2               NaN             NaN                NaN               NaN   \n",
              "\n",
              "   numRatings  numPhotos  numForumPosts  numArticles  numCitiesBeen  \\\n",
              "0         6.0        NaN            NaN          NaN            8.0   \n",
              "1         1.0       10.0            NaN          NaN           11.0   \n",
              "2         NaN        NaN            NaN          NaN            NaN   \n",
              "\n",
              "   totalPoints  contribLevel  numHelpfulVotes  \n",
              "0       1240.0             3               10  \n",
              "1       2117.0             3               12  \n",
              "2          0.0             0                0  "
            ],
            "text/html": [
              "\n",
              "  <div id=\"df-ce0b10cc-99ac-466d-9c4a-712ec8a9efba\">\n",
              "    <div class=\"colab-df-container\">\n",
              "      <div>\n",
              "<style scoped>\n",
              "    .dataframe tbody tr th:only-of-type {\n",
              "        vertical-align: middle;\n",
              "    }\n",
              "\n",
              "    .dataframe tbody tr th {\n",
              "        vertical-align: top;\n",
              "    }\n",
              "\n",
              "    .dataframe thead th {\n",
              "        text-align: right;\n",
              "    }\n",
              "</style>\n",
              "<table border=\"1\" class=\"dataframe\">\n",
              "  <thead>\n",
              "    <tr style=\"text-align: right;\">\n",
              "      <th></th>\n",
              "      <th>username</th>\n",
              "      <th>ageRange</th>\n",
              "      <th>gender</th>\n",
              "      <th>location</th>\n",
              "      <th>travelStyle</th>\n",
              "      <th>reviewerBadge</th>\n",
              "      <th>registerDate</th>\n",
              "      <th>numHotelsReviews</th>\n",
              "      <th>numRestReviews</th>\n",
              "      <th>numAttractReviews</th>\n",
              "      <th>numFirstToReview</th>\n",
              "      <th>numRatings</th>\n",
              "      <th>numPhotos</th>\n",
              "      <th>numForumPosts</th>\n",
              "      <th>numArticles</th>\n",
              "      <th>numCitiesBeen</th>\n",
              "      <th>totalPoints</th>\n",
              "      <th>contribLevel</th>\n",
              "      <th>numHelpfulVotes</th>\n",
              "    </tr>\n",
              "  </thead>\n",
              "  <tbody>\n",
              "    <tr>\n",
              "      <th>0</th>\n",
              "      <td>007solotraveler</td>\n",
              "      <td>35-49</td>\n",
              "      <td>male</td>\n",
              "      <td>liverpool</td>\n",
              "      <td>NaN</td>\n",
              "      <td>Contributor</td>\n",
              "      <td>2010-06-01</td>\n",
              "      <td>10.0</td>\n",
              "      <td>1.0</td>\n",
              "      <td>1.0</td>\n",
              "      <td>NaN</td>\n",
              "      <td>6.0</td>\n",
              "      <td>NaN</td>\n",
              "      <td>NaN</td>\n",
              "      <td>NaN</td>\n",
              "      <td>8.0</td>\n",
              "      <td>1240.0</td>\n",
              "      <td>3</td>\n",
              "      <td>10</td>\n",
              "    </tr>\n",
              "    <tr>\n",
              "      <th>1</th>\n",
              "      <td>0BKI0</td>\n",
              "      <td>25-34</td>\n",
              "      <td>female</td>\n",
              "      <td>Bristol</td>\n",
              "      <td>Foodie, Nature Lover, Urban Explorer</td>\n",
              "      <td>Contributor</td>\n",
              "      <td>2009-08-01</td>\n",
              "      <td>11.0</td>\n",
              "      <td>7.0</td>\n",
              "      <td>NaN</td>\n",
              "      <td>NaN</td>\n",
              "      <td>1.0</td>\n",
              "      <td>10.0</td>\n",
              "      <td>NaN</td>\n",
              "      <td>NaN</td>\n",
              "      <td>11.0</td>\n",
              "      <td>2117.0</td>\n",
              "      <td>3</td>\n",
              "      <td>12</td>\n",
              "    </tr>\n",
              "    <tr>\n",
              "      <th>2</th>\n",
              "      <td>1010101</td>\n",
              "      <td>NaN</td>\n",
              "      <td>NaN</td>\n",
              "      <td>uk</td>\n",
              "      <td>NaN</td>\n",
              "      <td>NaN</td>\n",
              "      <td>2009-03-01</td>\n",
              "      <td>NaN</td>\n",
              "      <td>NaN</td>\n",
              "      <td>NaN</td>\n",
              "      <td>NaN</td>\n",
              "      <td>NaN</td>\n",
              "      <td>NaN</td>\n",
              "      <td>NaN</td>\n",
              "      <td>NaN</td>\n",
              "      <td>NaN</td>\n",
              "      <td>0.0</td>\n",
              "      <td>0</td>\n",
              "      <td>0</td>\n",
              "    </tr>\n",
              "  </tbody>\n",
              "</table>\n",
              "</div>\n",
              "      <button class=\"colab-df-convert\" onclick=\"convertToInteractive('df-ce0b10cc-99ac-466d-9c4a-712ec8a9efba')\"\n",
              "              title=\"Convert this dataframe to an interactive table.\"\n",
              "              style=\"display:none;\">\n",
              "        \n",
              "  <svg xmlns=\"http://www.w3.org/2000/svg\" height=\"24px\"viewBox=\"0 0 24 24\"\n",
              "       width=\"24px\">\n",
              "    <path d=\"M0 0h24v24H0V0z\" fill=\"none\"/>\n",
              "    <path d=\"M18.56 5.44l.94 2.06.94-2.06 2.06-.94-2.06-.94-.94-2.06-.94 2.06-2.06.94zm-11 1L8.5 8.5l.94-2.06 2.06-.94-2.06-.94L8.5 2.5l-.94 2.06-2.06.94zm10 10l.94 2.06.94-2.06 2.06-.94-2.06-.94-.94-2.06-.94 2.06-2.06.94z\"/><path d=\"M17.41 7.96l-1.37-1.37c-.4-.4-.92-.59-1.43-.59-.52 0-1.04.2-1.43.59L10.3 9.45l-7.72 7.72c-.78.78-.78 2.05 0 2.83L4 21.41c.39.39.9.59 1.41.59.51 0 1.02-.2 1.41-.59l7.78-7.78 2.81-2.81c.8-.78.8-2.07 0-2.86zM5.41 20L4 18.59l7.72-7.72 1.47 1.35L5.41 20z\"/>\n",
              "  </svg>\n",
              "      </button>\n",
              "      \n",
              "  <style>\n",
              "    .colab-df-container {\n",
              "      display:flex;\n",
              "      flex-wrap:wrap;\n",
              "      gap: 12px;\n",
              "    }\n",
              "\n",
              "    .colab-df-convert {\n",
              "      background-color: #E8F0FE;\n",
              "      border: none;\n",
              "      border-radius: 50%;\n",
              "      cursor: pointer;\n",
              "      display: none;\n",
              "      fill: #1967D2;\n",
              "      height: 32px;\n",
              "      padding: 0 0 0 0;\n",
              "      width: 32px;\n",
              "    }\n",
              "\n",
              "    .colab-df-convert:hover {\n",
              "      background-color: #E2EBFA;\n",
              "      box-shadow: 0px 1px 2px rgba(60, 64, 67, 0.3), 0px 1px 3px 1px rgba(60, 64, 67, 0.15);\n",
              "      fill: #174EA6;\n",
              "    }\n",
              "\n",
              "    [theme=dark] .colab-df-convert {\n",
              "      background-color: #3B4455;\n",
              "      fill: #D2E3FC;\n",
              "    }\n",
              "\n",
              "    [theme=dark] .colab-df-convert:hover {\n",
              "      background-color: #434B5C;\n",
              "      box-shadow: 0px 1px 3px 1px rgba(0, 0, 0, 0.15);\n",
              "      filter: drop-shadow(0px 1px 2px rgba(0, 0, 0, 0.3));\n",
              "      fill: #FFFFFF;\n",
              "    }\n",
              "  </style>\n",
              "\n",
              "      <script>\n",
              "        const buttonEl =\n",
              "          document.querySelector('#df-ce0b10cc-99ac-466d-9c4a-712ec8a9efba button.colab-df-convert');\n",
              "        buttonEl.style.display =\n",
              "          google.colab.kernel.accessAllowed ? 'block' : 'none';\n",
              "\n",
              "        async function convertToInteractive(key) {\n",
              "          const element = document.querySelector('#df-ce0b10cc-99ac-466d-9c4a-712ec8a9efba');\n",
              "          const dataTable =\n",
              "            await google.colab.kernel.invokeFunction('convertToInteractive',\n",
              "                                                     [key], {});\n",
              "          if (!dataTable) return;\n",
              "\n",
              "          const docLinkHtml = 'Like what you see? Visit the ' +\n",
              "            '<a target=\"_blank\" href=https://colab.research.google.com/notebooks/data_table.ipynb>data table notebook</a>'\n",
              "            + ' to learn more about interactive tables.';\n",
              "          element.innerHTML = '';\n",
              "          dataTable['output_type'] = 'display_data';\n",
              "          await google.colab.output.renderOutput(dataTable, element);\n",
              "          const docLink = document.createElement('div');\n",
              "          docLink.innerHTML = docLinkHtml;\n",
              "          element.appendChild(docLink);\n",
              "        }\n",
              "      </script>\n",
              "    </div>\n",
              "  </div>\n",
              "  "
            ]
          },
          "metadata": {},
          "execution_count": 8
        }
      ],
      "source": [
        "data3.head(3)"
      ]
    },
    {
      "cell_type": "code",
      "execution_count": 9,
      "metadata": {
        "colab": {
          "base_uri": "https://localhost:8080/",
          "height": 177
        },
        "id": "o1f_wFgVQlCm",
        "outputId": "f1465374-8814-42d2-df3b-ab42f9c5d785"
      },
      "outputs": [
        {
          "output_type": "execute_result",
          "data": {
            "text/plain": [
              "   id         username    type       date  \\\n",
              "0   1  007solotraveler  Hotels 2013-04-08   \n",
              "\n",
              "                                            title  \\\n",
              "0  Good Choice and would be suitable for a family   \n",
              "\n",
              "                                                text  rating  helpfulness  \\\n",
              "0  Decent Hotel next to station so good location ...       4          1.0   \n",
              "\n",
              "   total_points                                    taObject  \\\n",
              "0           101  Radisson Blu Royal Viking Hotel, Stockholm   \n",
              "\n",
              "                                         taObjectUrl taObjectCity  \n",
              "0  http://www.tripadvisor.com/Hotel_Review-g18985...    Stockholm  "
            ],
            "text/html": [
              "\n",
              "  <div id=\"df-ff259332-cf9c-4c79-8360-4a3a02f509a5\">\n",
              "    <div class=\"colab-df-container\">\n",
              "      <div>\n",
              "<style scoped>\n",
              "    .dataframe tbody tr th:only-of-type {\n",
              "        vertical-align: middle;\n",
              "    }\n",
              "\n",
              "    .dataframe tbody tr th {\n",
              "        vertical-align: top;\n",
              "    }\n",
              "\n",
              "    .dataframe thead th {\n",
              "        text-align: right;\n",
              "    }\n",
              "</style>\n",
              "<table border=\"1\" class=\"dataframe\">\n",
              "  <thead>\n",
              "    <tr style=\"text-align: right;\">\n",
              "      <th></th>\n",
              "      <th>id</th>\n",
              "      <th>username</th>\n",
              "      <th>type</th>\n",
              "      <th>date</th>\n",
              "      <th>title</th>\n",
              "      <th>text</th>\n",
              "      <th>rating</th>\n",
              "      <th>helpfulness</th>\n",
              "      <th>total_points</th>\n",
              "      <th>taObject</th>\n",
              "      <th>taObjectUrl</th>\n",
              "      <th>taObjectCity</th>\n",
              "    </tr>\n",
              "  </thead>\n",
              "  <tbody>\n",
              "    <tr>\n",
              "      <th>0</th>\n",
              "      <td>1</td>\n",
              "      <td>007solotraveler</td>\n",
              "      <td>Hotels</td>\n",
              "      <td>2013-04-08</td>\n",
              "      <td>Good Choice and would be suitable for a family</td>\n",
              "      <td>Decent Hotel next to station so good location ...</td>\n",
              "      <td>4</td>\n",
              "      <td>1.0</td>\n",
              "      <td>101</td>\n",
              "      <td>Radisson Blu Royal Viking Hotel, Stockholm</td>\n",
              "      <td>http://www.tripadvisor.com/Hotel_Review-g18985...</td>\n",
              "      <td>Stockholm</td>\n",
              "    </tr>\n",
              "  </tbody>\n",
              "</table>\n",
              "</div>\n",
              "      <button class=\"colab-df-convert\" onclick=\"convertToInteractive('df-ff259332-cf9c-4c79-8360-4a3a02f509a5')\"\n",
              "              title=\"Convert this dataframe to an interactive table.\"\n",
              "              style=\"display:none;\">\n",
              "        \n",
              "  <svg xmlns=\"http://www.w3.org/2000/svg\" height=\"24px\"viewBox=\"0 0 24 24\"\n",
              "       width=\"24px\">\n",
              "    <path d=\"M0 0h24v24H0V0z\" fill=\"none\"/>\n",
              "    <path d=\"M18.56 5.44l.94 2.06.94-2.06 2.06-.94-2.06-.94-.94-2.06-.94 2.06-2.06.94zm-11 1L8.5 8.5l.94-2.06 2.06-.94-2.06-.94L8.5 2.5l-.94 2.06-2.06.94zm10 10l.94 2.06.94-2.06 2.06-.94-2.06-.94-.94-2.06-.94 2.06-2.06.94z\"/><path d=\"M17.41 7.96l-1.37-1.37c-.4-.4-.92-.59-1.43-.59-.52 0-1.04.2-1.43.59L10.3 9.45l-7.72 7.72c-.78.78-.78 2.05 0 2.83L4 21.41c.39.39.9.59 1.41.59.51 0 1.02-.2 1.41-.59l7.78-7.78 2.81-2.81c.8-.78.8-2.07 0-2.86zM5.41 20L4 18.59l7.72-7.72 1.47 1.35L5.41 20z\"/>\n",
              "  </svg>\n",
              "      </button>\n",
              "      \n",
              "  <style>\n",
              "    .colab-df-container {\n",
              "      display:flex;\n",
              "      flex-wrap:wrap;\n",
              "      gap: 12px;\n",
              "    }\n",
              "\n",
              "    .colab-df-convert {\n",
              "      background-color: #E8F0FE;\n",
              "      border: none;\n",
              "      border-radius: 50%;\n",
              "      cursor: pointer;\n",
              "      display: none;\n",
              "      fill: #1967D2;\n",
              "      height: 32px;\n",
              "      padding: 0 0 0 0;\n",
              "      width: 32px;\n",
              "    }\n",
              "\n",
              "    .colab-df-convert:hover {\n",
              "      background-color: #E2EBFA;\n",
              "      box-shadow: 0px 1px 2px rgba(60, 64, 67, 0.3), 0px 1px 3px 1px rgba(60, 64, 67, 0.15);\n",
              "      fill: #174EA6;\n",
              "    }\n",
              "\n",
              "    [theme=dark] .colab-df-convert {\n",
              "      background-color: #3B4455;\n",
              "      fill: #D2E3FC;\n",
              "    }\n",
              "\n",
              "    [theme=dark] .colab-df-convert:hover {\n",
              "      background-color: #434B5C;\n",
              "      box-shadow: 0px 1px 3px 1px rgba(0, 0, 0, 0.15);\n",
              "      filter: drop-shadow(0px 1px 2px rgba(0, 0, 0, 0.3));\n",
              "      fill: #FFFFFF;\n",
              "    }\n",
              "  </style>\n",
              "\n",
              "      <script>\n",
              "        const buttonEl =\n",
              "          document.querySelector('#df-ff259332-cf9c-4c79-8360-4a3a02f509a5 button.colab-df-convert');\n",
              "        buttonEl.style.display =\n",
              "          google.colab.kernel.accessAllowed ? 'block' : 'none';\n",
              "\n",
              "        async function convertToInteractive(key) {\n",
              "          const element = document.querySelector('#df-ff259332-cf9c-4c79-8360-4a3a02f509a5');\n",
              "          const dataTable =\n",
              "            await google.colab.kernel.invokeFunction('convertToInteractive',\n",
              "                                                     [key], {});\n",
              "          if (!dataTable) return;\n",
              "\n",
              "          const docLinkHtml = 'Like what you see? Visit the ' +\n",
              "            '<a target=\"_blank\" href=https://colab.research.google.com/notebooks/data_table.ipynb>data table notebook</a>'\n",
              "            + ' to learn more about interactive tables.';\n",
              "          element.innerHTML = '';\n",
              "          dataTable['output_type'] = 'display_data';\n",
              "          await google.colab.output.renderOutput(dataTable, element);\n",
              "          const docLink = document.createElement('div');\n",
              "          docLink.innerHTML = docLinkHtml;\n",
              "          element.appendChild(docLink);\n",
              "        }\n",
              "      </script>\n",
              "    </div>\n",
              "  </div>\n",
              "  "
            ]
          },
          "metadata": {},
          "execution_count": 9
        }
      ],
      "source": [
        "data4.head(1)"
      ]
    },
    {
      "cell_type": "markdown",
      "metadata": {
        "id": "XVRX2AWOQlCn"
      },
      "source": [
        "# EDA\n",
        "## data2 - articles"
      ]
    },
    {
      "cell_type": "code",
      "execution_count": 11,
      "metadata": {
        "scrolled": true,
        "colab": {
          "base_uri": "https://localhost:8080/",
          "height": 126
        },
        "id": "4d_qk6scQlCo",
        "outputId": "a2e0e8cf-c47c-43e1-c29f-14a0bb5155cd"
      },
      "outputs": [
        {
          "output_type": "execute_result",
          "data": {
            "text/plain": [
              "'This selection of bars were chosen as all offer great dining also.\\nThe Australian Heritage Hotel - a heritage pub, located in the Rocks, premium outdoor seating. Close to the Rocks YHA. Style: Casual\\nThe Lord Nelson - also a heritage pub, beers are brewed on the premises, located in the Rocks Style:Casual\\nJames Squire Brewhouse - exclusive in-house micro-brewery, King Street Wharf, Darling Harbour  Style: Casual\\nEstablishment Bar - combines heritage and trendy features - 252 George Street       Style: Trendy upmarket\\nNewport Arms - a trek for overseas visitors but on the otherhand the views are probably worth it, Cnr Beaconsfield & Kalinya St\\nNewport     Style: Casual/Families\\nThe Oaks - a North side popular bar - 118 Military Road, Neutral Bay     Style: Casual\\nWoolwich Pier Hotel - nice location and courtyard , Gale Street Woolwich    Style: Casual\\nBambini Trust Wine Bar - Elizabeth Street Sydney, - very trendy for city after work drinks.  www.bambinitrust.com.au/\\nShangri-La Hotel Bar   - 36th floor, lovely cocktails, amazing views of Sydney.              \\n '"
            ],
            "application/vnd.google.colaboratory.intrinsic+json": {
              "type": "string"
            }
          },
          "metadata": {},
          "execution_count": 11
        }
      ],
      "source": [
        "data2.text[8]"
      ]
    },
    {
      "cell_type": "code",
      "execution_count": 12,
      "metadata": {
        "colab": {
          "base_uri": "https://localhost:8080/",
          "height": 363
        },
        "id": "4FzV9dJXQlCo",
        "outputId": "51e60991-998c-4ad9-c089-f453ae3cb17a"
      },
      "outputs": [
        {
          "output_type": "execute_result",
          "data": {
            "text/plain": [
              "           username       date                                title  \\\n",
              "0          19katy80 2012-07-15              Why come to Manchester?   \n",
              "1          29grapes 2010-03-27                    Taxis in Shanghai   \n",
              "2         ALiEN2108 2011-11-03                 Arriving & Departing   \n",
              "3  ASK_THE_LEYLANDS 2010-11-09  HEYSEN AND MAWSON TRAILS, AUSTRALIA   \n",
              "4       Alfanumeric 2013-12-06                        Neighborhoods   \n",
              "5          Andrea13 2011-06-14                            Day Trips   \n",
              "6             Arilh 2009-02-19               D.H. Lawrence Heritage   \n",
              "7         Badgerjim 2012-08-22                 Arriving & Departing   \n",
              "8      Bongo_Craigy 2010-12-30             Sydney&acute;s Best Bars   \n",
              "9    COCOFromOttawa 2011-01-07                            The Glebe   \n",
              "\n",
              "                                                text  total_points  \n",
              "0  Quite simply, whatever your interest, Manchest...             5  \n",
              "1  Taxi companies in Shanghai are heavily regulat...             5  \n",
              "2  Airport Transfer FAQs answered:\\nThere are two...             5  \n",
              "3    Laura is small township situated in the Sout...           100  \n",
              "4  City Centre\\nWhile Americans cousins refer to ...             5  \n",
              "5  Hua Hin has lots of tourist places like the wa...             5  \n",
              "6  Share your knowledge about D.H. Lawrence Herit...           100  \n",
              "7  Airport: Madison (MSN) is served by the Dane C...           100  \n",
              "8  This selection of bars were chosen as all offe...             5  \n",
              "9  This upscale neighborhood lies in an area dire...             5  "
            ],
            "text/html": [
              "\n",
              "  <div id=\"df-0a74dfcf-f8b6-4111-a5d0-9bed944f91d2\">\n",
              "    <div class=\"colab-df-container\">\n",
              "      <div>\n",
              "<style scoped>\n",
              "    .dataframe tbody tr th:only-of-type {\n",
              "        vertical-align: middle;\n",
              "    }\n",
              "\n",
              "    .dataframe tbody tr th {\n",
              "        vertical-align: top;\n",
              "    }\n",
              "\n",
              "    .dataframe thead th {\n",
              "        text-align: right;\n",
              "    }\n",
              "</style>\n",
              "<table border=\"1\" class=\"dataframe\">\n",
              "  <thead>\n",
              "    <tr style=\"text-align: right;\">\n",
              "      <th></th>\n",
              "      <th>username</th>\n",
              "      <th>date</th>\n",
              "      <th>title</th>\n",
              "      <th>text</th>\n",
              "      <th>total_points</th>\n",
              "    </tr>\n",
              "  </thead>\n",
              "  <tbody>\n",
              "    <tr>\n",
              "      <th>0</th>\n",
              "      <td>19katy80</td>\n",
              "      <td>2012-07-15</td>\n",
              "      <td>Why come to Manchester?</td>\n",
              "      <td>Quite simply, whatever your interest, Manchest...</td>\n",
              "      <td>5</td>\n",
              "    </tr>\n",
              "    <tr>\n",
              "      <th>1</th>\n",
              "      <td>29grapes</td>\n",
              "      <td>2010-03-27</td>\n",
              "      <td>Taxis in Shanghai</td>\n",
              "      <td>Taxi companies in Shanghai are heavily regulat...</td>\n",
              "      <td>5</td>\n",
              "    </tr>\n",
              "    <tr>\n",
              "      <th>2</th>\n",
              "      <td>ALiEN2108</td>\n",
              "      <td>2011-11-03</td>\n",
              "      <td>Arriving &amp; Departing</td>\n",
              "      <td>Airport Transfer FAQs answered:\\nThere are two...</td>\n",
              "      <td>5</td>\n",
              "    </tr>\n",
              "    <tr>\n",
              "      <th>3</th>\n",
              "      <td>ASK_THE_LEYLANDS</td>\n",
              "      <td>2010-11-09</td>\n",
              "      <td>HEYSEN AND MAWSON TRAILS, AUSTRALIA</td>\n",
              "      <td>Laura is small township situated in the Sout...</td>\n",
              "      <td>100</td>\n",
              "    </tr>\n",
              "    <tr>\n",
              "      <th>4</th>\n",
              "      <td>Alfanumeric</td>\n",
              "      <td>2013-12-06</td>\n",
              "      <td>Neighborhoods</td>\n",
              "      <td>City Centre\\nWhile Americans cousins refer to ...</td>\n",
              "      <td>5</td>\n",
              "    </tr>\n",
              "    <tr>\n",
              "      <th>5</th>\n",
              "      <td>Andrea13</td>\n",
              "      <td>2011-06-14</td>\n",
              "      <td>Day Trips</td>\n",
              "      <td>Hua Hin has lots of tourist places like the wa...</td>\n",
              "      <td>5</td>\n",
              "    </tr>\n",
              "    <tr>\n",
              "      <th>6</th>\n",
              "      <td>Arilh</td>\n",
              "      <td>2009-02-19</td>\n",
              "      <td>D.H. Lawrence Heritage</td>\n",
              "      <td>Share your knowledge about D.H. Lawrence Herit...</td>\n",
              "      <td>100</td>\n",
              "    </tr>\n",
              "    <tr>\n",
              "      <th>7</th>\n",
              "      <td>Badgerjim</td>\n",
              "      <td>2012-08-22</td>\n",
              "      <td>Arriving &amp; Departing</td>\n",
              "      <td>Airport: Madison (MSN) is served by the Dane C...</td>\n",
              "      <td>100</td>\n",
              "    </tr>\n",
              "    <tr>\n",
              "      <th>8</th>\n",
              "      <td>Bongo_Craigy</td>\n",
              "      <td>2010-12-30</td>\n",
              "      <td>Sydney&amp;acute;s Best Bars</td>\n",
              "      <td>This selection of bars were chosen as all offe...</td>\n",
              "      <td>5</td>\n",
              "    </tr>\n",
              "    <tr>\n",
              "      <th>9</th>\n",
              "      <td>COCOFromOttawa</td>\n",
              "      <td>2011-01-07</td>\n",
              "      <td>The Glebe</td>\n",
              "      <td>This upscale neighborhood lies in an area dire...</td>\n",
              "      <td>5</td>\n",
              "    </tr>\n",
              "  </tbody>\n",
              "</table>\n",
              "</div>\n",
              "      <button class=\"colab-df-convert\" onclick=\"convertToInteractive('df-0a74dfcf-f8b6-4111-a5d0-9bed944f91d2')\"\n",
              "              title=\"Convert this dataframe to an interactive table.\"\n",
              "              style=\"display:none;\">\n",
              "        \n",
              "  <svg xmlns=\"http://www.w3.org/2000/svg\" height=\"24px\"viewBox=\"0 0 24 24\"\n",
              "       width=\"24px\">\n",
              "    <path d=\"M0 0h24v24H0V0z\" fill=\"none\"/>\n",
              "    <path d=\"M18.56 5.44l.94 2.06.94-2.06 2.06-.94-2.06-.94-.94-2.06-.94 2.06-2.06.94zm-11 1L8.5 8.5l.94-2.06 2.06-.94-2.06-.94L8.5 2.5l-.94 2.06-2.06.94zm10 10l.94 2.06.94-2.06 2.06-.94-2.06-.94-.94-2.06-.94 2.06-2.06.94z\"/><path d=\"M17.41 7.96l-1.37-1.37c-.4-.4-.92-.59-1.43-.59-.52 0-1.04.2-1.43.59L10.3 9.45l-7.72 7.72c-.78.78-.78 2.05 0 2.83L4 21.41c.39.39.9.59 1.41.59.51 0 1.02-.2 1.41-.59l7.78-7.78 2.81-2.81c.8-.78.8-2.07 0-2.86zM5.41 20L4 18.59l7.72-7.72 1.47 1.35L5.41 20z\"/>\n",
              "  </svg>\n",
              "      </button>\n",
              "      \n",
              "  <style>\n",
              "    .colab-df-container {\n",
              "      display:flex;\n",
              "      flex-wrap:wrap;\n",
              "      gap: 12px;\n",
              "    }\n",
              "\n",
              "    .colab-df-convert {\n",
              "      background-color: #E8F0FE;\n",
              "      border: none;\n",
              "      border-radius: 50%;\n",
              "      cursor: pointer;\n",
              "      display: none;\n",
              "      fill: #1967D2;\n",
              "      height: 32px;\n",
              "      padding: 0 0 0 0;\n",
              "      width: 32px;\n",
              "    }\n",
              "\n",
              "    .colab-df-convert:hover {\n",
              "      background-color: #E2EBFA;\n",
              "      box-shadow: 0px 1px 2px rgba(60, 64, 67, 0.3), 0px 1px 3px 1px rgba(60, 64, 67, 0.15);\n",
              "      fill: #174EA6;\n",
              "    }\n",
              "\n",
              "    [theme=dark] .colab-df-convert {\n",
              "      background-color: #3B4455;\n",
              "      fill: #D2E3FC;\n",
              "    }\n",
              "\n",
              "    [theme=dark] .colab-df-convert:hover {\n",
              "      background-color: #434B5C;\n",
              "      box-shadow: 0px 1px 3px 1px rgba(0, 0, 0, 0.15);\n",
              "      filter: drop-shadow(0px 1px 2px rgba(0, 0, 0, 0.3));\n",
              "      fill: #FFFFFF;\n",
              "    }\n",
              "  </style>\n",
              "\n",
              "      <script>\n",
              "        const buttonEl =\n",
              "          document.querySelector('#df-0a74dfcf-f8b6-4111-a5d0-9bed944f91d2 button.colab-df-convert');\n",
              "        buttonEl.style.display =\n",
              "          google.colab.kernel.accessAllowed ? 'block' : 'none';\n",
              "\n",
              "        async function convertToInteractive(key) {\n",
              "          const element = document.querySelector('#df-0a74dfcf-f8b6-4111-a5d0-9bed944f91d2');\n",
              "          const dataTable =\n",
              "            await google.colab.kernel.invokeFunction('convertToInteractive',\n",
              "                                                     [key], {});\n",
              "          if (!dataTable) return;\n",
              "\n",
              "          const docLinkHtml = 'Like what you see? Visit the ' +\n",
              "            '<a target=\"_blank\" href=https://colab.research.google.com/notebooks/data_table.ipynb>data table notebook</a>'\n",
              "            + ' to learn more about interactive tables.';\n",
              "          element.innerHTML = '';\n",
              "          dataTable['output_type'] = 'display_data';\n",
              "          await google.colab.output.renderOutput(dataTable, element);\n",
              "          const docLink = document.createElement('div');\n",
              "          docLink.innerHTML = docLinkHtml;\n",
              "          element.appendChild(docLink);\n",
              "        }\n",
              "      </script>\n",
              "    </div>\n",
              "  </div>\n",
              "  "
            ]
          },
          "metadata": {},
          "execution_count": 12
        }
      ],
      "source": [
        "data2.head(10)"
      ]
    },
    {
      "cell_type": "code",
      "execution_count": 14,
      "metadata": {
        "id": "M3npfuOQQlCp"
      },
      "outputs": [],
      "source": [
        "Counter(data3.numAttractReviews);"
      ]
    },
    {
      "cell_type": "code",
      "execution_count": 16,
      "metadata": {
        "colab": {
          "base_uri": "https://localhost:8080/"
        },
        "id": "_V0gp-Q_QlCp",
        "outputId": "bcec391c-789a-4fd9-e507-59236a425296"
      },
      "outputs": [
        {
          "output_type": "execute_result",
          "data": {
            "text/plain": [
              "Counter({'Attractions': 5010, 'Hotels': 16699, 'Restaurants': 10871})"
            ]
          },
          "metadata": {},
          "execution_count": 16
        }
      ],
      "source": [
        "Counter(data4.type)"
      ]
    },
    {
      "cell_type": "code",
      "execution_count": 15,
      "metadata": {
        "colab": {
          "base_uri": "https://localhost:8080/"
        },
        "id": "iTmufj7LQlCq",
        "outputId": "bcbababa-f85f-417a-acda-7e5d9a8fc98a"
      },
      "outputs": [
        {
          "output_type": "execute_result",
          "data": {
            "text/plain": [
              "5927"
            ]
          },
          "metadata": {},
          "execution_count": 15
        }
      ],
      "source": [
        "len(data4.taObjectCity.unique())"
      ]
    },
    {
      "cell_type": "code",
      "execution_count": 17,
      "metadata": {
        "colab": {
          "base_uri": "https://localhost:8080/"
        },
        "id": "JkkAAL6bQlCq",
        "outputId": "a226b5e9-912e-4109-f9dc-5409f71c8d88"
      },
      "outputs": [
        {
          "output_type": "execute_result",
          "data": {
            "text/plain": [
              "Counter({5: 87, 100: 72})"
            ]
          },
          "metadata": {},
          "execution_count": 17
        }
      ],
      "source": [
        "Counter(data2.total_points)"
      ]
    },
    {
      "cell_type": "markdown",
      "metadata": {
        "id": "MqTpdtCsQlCr"
      },
      "source": [
        "## data3"
      ]
    },
    {
      "cell_type": "code",
      "execution_count": 18,
      "metadata": {
        "colab": {
          "base_uri": "https://localhost:8080/"
        },
        "id": "OXfET7VvQlCr",
        "outputId": "26ffe0ac-54c3-4463-ca72-50a776550699"
      },
      "outputs": [
        {
          "output_type": "execute_result",
          "data": {
            "text/plain": [
              "352444.0"
            ]
          },
          "metadata": {},
          "execution_count": 18
        }
      ],
      "source": [
        "#plt(data3.totalPoints);\n",
        "import pylab\n",
        "null_total_pt = data3.totalPoints.isnull()\n",
        "#plt.hist(data3.totalPoints[~null_total_pt]);\n",
        "#pylab.xlim([0,300000])\n",
        "max_pt = data3.totalPoints[~null_total_pt].max()\n",
        "max_pt\n",
        "#plt.hist(data3.totalPoints[~null_total_pt].drop([5162]))\n",
        "#max_2 = data3.totalPoints[~null_total_pt].drop([5162]).max()\n",
        "#max_2\n",
        "#plt.hist(data3.totalPoints[~null_total_pt].drop([5162,4829]);\n",
        "#plt.hist( 1000 < data3.totalPoints[~null_total_pt] < 60000)"
      ]
    },
    {
      "cell_type": "code",
      "execution_count": 19,
      "metadata": {
        "id": "i80v5fnrQlCr"
      },
      "outputs": [],
      "source": [
        "data3.totalPoints[~null_total_pt].sort_values()[::-1];"
      ]
    },
    {
      "cell_type": "code",
      "execution_count": 20,
      "metadata": {
        "colab": {
          "base_uri": "https://localhost:8080/",
          "height": 145
        },
        "id": "GtztBg3bQlCs",
        "outputId": "f1420164-01a9-4832-eaef-98ac5414755d"
      },
      "outputs": [
        {
          "output_type": "execute_result",
          "data": {
            "text/plain": [
              "        username ageRange gender location travelStyle    reviewerBadge  \\\n",
              "5162  jonotennis    35-49   male      NaN         NaN  Top Contributor   \n",
              "\n",
              "     registerDate  numHotelsReviews  numRestReviews  numAttractReviews  \\\n",
              "5162   2011-02-01              90.0           179.0              198.0   \n",
              "\n",
              "      numFirstToReview  numRatings  numPhotos  numForumPosts  numArticles  \\\n",
              "5162              51.0         2.0    10169.0            2.0          NaN   \n",
              "\n",
              "      numCitiesBeen  totalPoints  contribLevel  numHelpfulVotes  \n",
              "5162          204.0     352444.0             6              619  "
            ],
            "text/html": [
              "\n",
              "  <div id=\"df-076bc94f-e91b-4ef2-a243-3f14ec1631c6\">\n",
              "    <div class=\"colab-df-container\">\n",
              "      <div>\n",
              "<style scoped>\n",
              "    .dataframe tbody tr th:only-of-type {\n",
              "        vertical-align: middle;\n",
              "    }\n",
              "\n",
              "    .dataframe tbody tr th {\n",
              "        vertical-align: top;\n",
              "    }\n",
              "\n",
              "    .dataframe thead th {\n",
              "        text-align: right;\n",
              "    }\n",
              "</style>\n",
              "<table border=\"1\" class=\"dataframe\">\n",
              "  <thead>\n",
              "    <tr style=\"text-align: right;\">\n",
              "      <th></th>\n",
              "      <th>username</th>\n",
              "      <th>ageRange</th>\n",
              "      <th>gender</th>\n",
              "      <th>location</th>\n",
              "      <th>travelStyle</th>\n",
              "      <th>reviewerBadge</th>\n",
              "      <th>registerDate</th>\n",
              "      <th>numHotelsReviews</th>\n",
              "      <th>numRestReviews</th>\n",
              "      <th>numAttractReviews</th>\n",
              "      <th>numFirstToReview</th>\n",
              "      <th>numRatings</th>\n",
              "      <th>numPhotos</th>\n",
              "      <th>numForumPosts</th>\n",
              "      <th>numArticles</th>\n",
              "      <th>numCitiesBeen</th>\n",
              "      <th>totalPoints</th>\n",
              "      <th>contribLevel</th>\n",
              "      <th>numHelpfulVotes</th>\n",
              "    </tr>\n",
              "  </thead>\n",
              "  <tbody>\n",
              "    <tr>\n",
              "      <th>5162</th>\n",
              "      <td>jonotennis</td>\n",
              "      <td>35-49</td>\n",
              "      <td>male</td>\n",
              "      <td>NaN</td>\n",
              "      <td>NaN</td>\n",
              "      <td>Top Contributor</td>\n",
              "      <td>2011-02-01</td>\n",
              "      <td>90.0</td>\n",
              "      <td>179.0</td>\n",
              "      <td>198.0</td>\n",
              "      <td>51.0</td>\n",
              "      <td>2.0</td>\n",
              "      <td>10169.0</td>\n",
              "      <td>2.0</td>\n",
              "      <td>NaN</td>\n",
              "      <td>204.0</td>\n",
              "      <td>352444.0</td>\n",
              "      <td>6</td>\n",
              "      <td>619</td>\n",
              "    </tr>\n",
              "  </tbody>\n",
              "</table>\n",
              "</div>\n",
              "      <button class=\"colab-df-convert\" onclick=\"convertToInteractive('df-076bc94f-e91b-4ef2-a243-3f14ec1631c6')\"\n",
              "              title=\"Convert this dataframe to an interactive table.\"\n",
              "              style=\"display:none;\">\n",
              "        \n",
              "  <svg xmlns=\"http://www.w3.org/2000/svg\" height=\"24px\"viewBox=\"0 0 24 24\"\n",
              "       width=\"24px\">\n",
              "    <path d=\"M0 0h24v24H0V0z\" fill=\"none\"/>\n",
              "    <path d=\"M18.56 5.44l.94 2.06.94-2.06 2.06-.94-2.06-.94-.94-2.06-.94 2.06-2.06.94zm-11 1L8.5 8.5l.94-2.06 2.06-.94-2.06-.94L8.5 2.5l-.94 2.06-2.06.94zm10 10l.94 2.06.94-2.06 2.06-.94-2.06-.94-.94-2.06-.94 2.06-2.06.94z\"/><path d=\"M17.41 7.96l-1.37-1.37c-.4-.4-.92-.59-1.43-.59-.52 0-1.04.2-1.43.59L10.3 9.45l-7.72 7.72c-.78.78-.78 2.05 0 2.83L4 21.41c.39.39.9.59 1.41.59.51 0 1.02-.2 1.41-.59l7.78-7.78 2.81-2.81c.8-.78.8-2.07 0-2.86zM5.41 20L4 18.59l7.72-7.72 1.47 1.35L5.41 20z\"/>\n",
              "  </svg>\n",
              "      </button>\n",
              "      \n",
              "  <style>\n",
              "    .colab-df-container {\n",
              "      display:flex;\n",
              "      flex-wrap:wrap;\n",
              "      gap: 12px;\n",
              "    }\n",
              "\n",
              "    .colab-df-convert {\n",
              "      background-color: #E8F0FE;\n",
              "      border: none;\n",
              "      border-radius: 50%;\n",
              "      cursor: pointer;\n",
              "      display: none;\n",
              "      fill: #1967D2;\n",
              "      height: 32px;\n",
              "      padding: 0 0 0 0;\n",
              "      width: 32px;\n",
              "    }\n",
              "\n",
              "    .colab-df-convert:hover {\n",
              "      background-color: #E2EBFA;\n",
              "      box-shadow: 0px 1px 2px rgba(60, 64, 67, 0.3), 0px 1px 3px 1px rgba(60, 64, 67, 0.15);\n",
              "      fill: #174EA6;\n",
              "    }\n",
              "\n",
              "    [theme=dark] .colab-df-convert {\n",
              "      background-color: #3B4455;\n",
              "      fill: #D2E3FC;\n",
              "    }\n",
              "\n",
              "    [theme=dark] .colab-df-convert:hover {\n",
              "      background-color: #434B5C;\n",
              "      box-shadow: 0px 1px 3px 1px rgba(0, 0, 0, 0.15);\n",
              "      filter: drop-shadow(0px 1px 2px rgba(0, 0, 0, 0.3));\n",
              "      fill: #FFFFFF;\n",
              "    }\n",
              "  </style>\n",
              "\n",
              "      <script>\n",
              "        const buttonEl =\n",
              "          document.querySelector('#df-076bc94f-e91b-4ef2-a243-3f14ec1631c6 button.colab-df-convert');\n",
              "        buttonEl.style.display =\n",
              "          google.colab.kernel.accessAllowed ? 'block' : 'none';\n",
              "\n",
              "        async function convertToInteractive(key) {\n",
              "          const element = document.querySelector('#df-076bc94f-e91b-4ef2-a243-3f14ec1631c6');\n",
              "          const dataTable =\n",
              "            await google.colab.kernel.invokeFunction('convertToInteractive',\n",
              "                                                     [key], {});\n",
              "          if (!dataTable) return;\n",
              "\n",
              "          const docLinkHtml = 'Like what you see? Visit the ' +\n",
              "            '<a target=\"_blank\" href=https://colab.research.google.com/notebooks/data_table.ipynb>data table notebook</a>'\n",
              "            + ' to learn more about interactive tables.';\n",
              "          element.innerHTML = '';\n",
              "          dataTable['output_type'] = 'display_data';\n",
              "          await google.colab.output.renderOutput(dataTable, element);\n",
              "          const docLink = document.createElement('div');\n",
              "          docLink.innerHTML = docLinkHtml;\n",
              "          element.appendChild(docLink);\n",
              "        }\n",
              "      </script>\n",
              "    </div>\n",
              "  </div>\n",
              "  "
            ]
          },
          "metadata": {},
          "execution_count": 20
        }
      ],
      "source": [
        "# outlier - 352444.0 tripadvisor points\n",
        "data3[data3.totalPoints == max_pt]"
      ]
    },
    {
      "cell_type": "code",
      "execution_count": 22,
      "metadata": {
        "id": "5rUciG8bQlCs"
      },
      "outputs": [],
      "source": [
        "# outlier - 236336.0 tripadvisor points\n",
        "# data3[data3.totalPoints == max_2]"
      ]
    },
    {
      "cell_type": "code",
      "execution_count": 23,
      "metadata": {
        "id": "nQUCWjiKQlCs"
      },
      "outputs": [],
      "source": [
        "data3[data3.reviewerBadge == 'Top Contributor'];"
      ]
    },
    {
      "cell_type": "code",
      "execution_count": 24,
      "metadata": {
        "colab": {
          "base_uri": "https://localhost:8080/",
          "height": 265
        },
        "id": "ZzaVWLYOQlCt",
        "outputId": "404a97a9-c93a-44d7-f17c-3ed6c084319f"
      },
      "outputs": [
        {
          "output_type": "display_data",
          "data": {
            "text/plain": [
              "<Figure size 432x288 with 1 Axes>"
            ],
            "image/png": "[encoded data removed]"
          },
          "metadata": {
            "needs_background": "light"
          }
        }
      ],
      "source": [
        "upper = (data3.totalPoints < 10000)\n",
        "lower = (data3.totalPoints > 1000)\n",
        "plt.hist(data3[upper].totalPoints);\n",
        "#data3[upper].totalPoints"
      ]
    },
    {
      "cell_type": "code",
      "execution_count": 25,
      "metadata": {
        "id": "4UBfhAgeQlCt"
      },
      "outputs": [],
      "source": [
        "null_age = data3.ageRange.isnull()\n",
        "null_gender = data3.gender.isnull()\n",
        "null_style = data3.travelStyle.isnull()\n",
        "#null"
      ]
    },
    {
      "cell_type": "code",
      "execution_count": 26,
      "metadata": {
        "colab": {
          "base_uri": "https://localhost:8080/"
        },
        "id": "rvM4jWe-QlCt",
        "outputId": "81c3745e-7665-482b-8d82-d49fb3caf718"
      },
      "outputs": [
        {
          "output_type": "execute_result",
          "data": {
            "text/plain": [
              "477"
            ]
          },
          "metadata": {},
          "execution_count": 26
        }
      ],
      "source": [
        "(data3[null_age].totalPoints < 1000).sum()"
      ]
    },
    {
      "cell_type": "markdown",
      "metadata": {
        "id": "23LXA7kTQlCt"
      },
      "source": [
        "# data3 with total tripadvisor point > 1000 and no null age or gender"
      ]
    },
    {
      "cell_type": "code",
      "execution_count": 27,
      "metadata": {
        "colab": {
          "base_uri": "https://localhost:8080/",
          "height": 601
        },
        "id": "uDA_bEYyQlCu",
        "outputId": "acd0f558-7cc0-46eb-b3b6-9d45092f8f42"
      },
      "outputs": [
        {
          "output_type": "stream",
          "name": "stderr",
          "text": [
            "/usr/local/lib/python3.7/dist-packages/ipykernel_launcher.py:1: UserWarning: Boolean Series key will be reindexed to match DataFrame index.\n",
            "  \"\"\"Entry point for launching an IPython kernel.\n"
          ]
        },
        {
          "output_type": "execute_result",
          "data": {
            "text/plain": [
              "    username ageRange  gender                      location  \\\n",
              "1      0BKI0    25-34  female                       Bristol   \n",
              "7   14beacon    35-49    male    Wappingers Falls, New York   \n",
              "12  1975mark    25-34    male  Huddersfield, United Kingdom   \n",
              "15     19Cam    25-34    male        London, United Kingdom   \n",
              "17    1Angie    18-24  female          Melbourne, Australia   \n",
              "\n",
              "                                          travelStyle       reviewerBadge  \\\n",
              "1                Foodie, Nature Lover, Urban Explorer         Contributor   \n",
              "7   Foodie, Trendsetter, Like a Local, Luxury Trav...         Contributor   \n",
              "12  Foodie, Beach Goer, Thrifty Traveller, Nightli...  Senior Contributor   \n",
              "15  Vegetarian, Urban Explorer, Art and Architectu...     Top Contributor   \n",
              "17             Beach Goer, Vegetarian, Urban Explorer  Senior Contributor   \n",
              "\n",
              "   registerDate  numHotelsReviews  numRestReviews  numAttractReviews  \\\n",
              "1    2009-08-01              11.0             7.0                NaN   \n",
              "7    2009-03-01               7.0             2.0                2.0   \n",
              "12   2010-06-01              12.0            15.0                NaN   \n",
              "15   2010-05-01              58.0            28.0                8.0   \n",
              "17   2010-08-01              20.0             5.0                8.0   \n",
              "\n",
              "    numFirstToReview  numRatings  numPhotos  numForumPosts  numArticles  \\\n",
              "1                NaN         1.0       10.0            NaN          NaN   \n",
              "7                NaN         NaN        1.0            NaN          NaN   \n",
              "12               4.0         NaN        NaN            NaN          NaN   \n",
              "15               NaN         2.0       12.0            1.0          NaN   \n",
              "17               3.0         NaN       11.0            NaN          NaN   \n",
              "\n",
              "    numCitiesBeen  totalPoints  contribLevel  numHelpfulVotes  \n",
              "1            11.0       2117.0             3               12  \n",
              "7            10.0       1144.0             3               14  \n",
              "12           13.0       2718.0             4               18  \n",
              "15           49.0       9836.0             5               46  \n",
              "17           18.0       3649.0             4               19  "
            ],
            "text/html": [
              "\n",
              "  <div id=\"df-7e9d191b-79e1-4f06-a27d-59f142a51104\">\n",
              "    <div class=\"colab-df-container\">\n",
              "      <div>\n",
              "<style scoped>\n",
              "    .dataframe tbody tr th:only-of-type {\n",
              "        vertical-align: middle;\n",
              "    }\n",
              "\n",
              "    .dataframe tbody tr th {\n",
              "        vertical-align: top;\n",
              "    }\n",
              "\n",
              "    .dataframe thead th {\n",
              "        text-align: right;\n",
              "    }\n",
              "</style>\n",
              "<table border=\"1\" class=\"dataframe\">\n",
              "  <thead>\n",
              "    <tr style=\"text-align: right;\">\n",
              "      <th></th>\n",
              "      <th>username</th>\n",
              "      <th>ageRange</th>\n",
              "      <th>gender</th>\n",
              "      <th>location</th>\n",
              "      <th>travelStyle</th>\n",
              "      <th>reviewerBadge</th>\n",
              "      <th>registerDate</th>\n",
              "      <th>numHotelsReviews</th>\n",
              "      <th>numRestReviews</th>\n",
              "      <th>numAttractReviews</th>\n",
              "      <th>numFirstToReview</th>\n",
              "      <th>numRatings</th>\n",
              "      <th>numPhotos</th>\n",
              "      <th>numForumPosts</th>\n",
              "      <th>numArticles</th>\n",
              "      <th>numCitiesBeen</th>\n",
              "      <th>totalPoints</th>\n",
              "      <th>contribLevel</th>\n",
              "      <th>numHelpfulVotes</th>\n",
              "    </tr>\n",
              "  </thead>\n",
              "  <tbody>\n",
              "    <tr>\n",
              "      <th>1</th>\n",
              "      <td>0BKI0</td>\n",
              "      <td>25-34</td>\n",
              "      <td>female</td>\n",
              "      <td>Bristol</td>\n",
              "      <td>Foodie, Nature Lover, Urban Explorer</td>\n",
              "      <td>Contributor</td>\n",
              "      <td>2009-08-01</td>\n",
              "      <td>11.0</td>\n",
              "      <td>7.0</td>\n",
              "      <td>NaN</td>\n",
              "      <td>NaN</td>\n",
              "      <td>1.0</td>\n",
              "      <td>10.0</td>\n",
              "      <td>NaN</td>\n",
              "      <td>NaN</td>\n",
              "      <td>11.0</td>\n",
              "      <td>2117.0</td>\n",
              "      <td>3</td>\n",
              "      <td>12</td>\n",
              "    </tr>\n",
              "    <tr>\n",
              "      <th>7</th>\n",
              "      <td>14beacon</td>\n",
              "      <td>35-49</td>\n",
              "      <td>male</td>\n",
              "      <td>Wappingers Falls, New York</td>\n",
              "      <td>Foodie, Trendsetter, Like a Local, Luxury Trav...</td>\n",
              "      <td>Contributor</td>\n",
              "      <td>2009-03-01</td>\n",
              "      <td>7.0</td>\n",
              "      <td>2.0</td>\n",
              "      <td>2.0</td>\n",
              "      <td>NaN</td>\n",
              "      <td>NaN</td>\n",
              "      <td>1.0</td>\n",
              "      <td>NaN</td>\n",
              "      <td>NaN</td>\n",
              "      <td>10.0</td>\n",
              "      <td>1144.0</td>\n",
              "      <td>3</td>\n",
              "      <td>14</td>\n",
              "    </tr>\n",
              "    <tr>\n",
              "      <th>12</th>\n",
              "      <td>1975mark</td>\n",
              "      <td>25-34</td>\n",
              "      <td>male</td>\n",
              "      <td>Huddersfield, United Kingdom</td>\n",
              "      <td>Foodie, Beach Goer, Thrifty Traveller, Nightli...</td>\n",
              "      <td>Senior Contributor</td>\n",
              "      <td>2010-06-01</td>\n",
              "      <td>12.0</td>\n",
              "      <td>15.0</td>\n",
              "      <td>NaN</td>\n",
              "      <td>4.0</td>\n",
              "      <td>NaN</td>\n",
              "      <td>NaN</td>\n",
              "      <td>NaN</td>\n",
              "      <td>NaN</td>\n",
              "      <td>13.0</td>\n",
              "      <td>2718.0</td>\n",
              "      <td>4</td>\n",
              "      <td>18</td>\n",
              "    </tr>\n",
              "    <tr>\n",
              "      <th>15</th>\n",
              "      <td>19Cam</td>\n",
              "      <td>25-34</td>\n",
              "      <td>male</td>\n",
              "      <td>London, United Kingdom</td>\n",
              "      <td>Vegetarian, Urban Explorer, Art and Architectu...</td>\n",
              "      <td>Top Contributor</td>\n",
              "      <td>2010-05-01</td>\n",
              "      <td>58.0</td>\n",
              "      <td>28.0</td>\n",
              "      <td>8.0</td>\n",
              "      <td>NaN</td>\n",
              "      <td>2.0</td>\n",
              "      <td>12.0</td>\n",
              "      <td>1.0</td>\n",
              "      <td>NaN</td>\n",
              "      <td>49.0</td>\n",
              "      <td>9836.0</td>\n",
              "      <td>5</td>\n",
              "      <td>46</td>\n",
              "    </tr>\n",
              "    <tr>\n",
              "      <th>17</th>\n",
              "      <td>1Angie</td>\n",
              "      <td>18-24</td>\n",
              "      <td>female</td>\n",
              "      <td>Melbourne, Australia</td>\n",
              "      <td>Beach Goer, Vegetarian, Urban Explorer</td>\n",
              "      <td>Senior Contributor</td>\n",
              "      <td>2010-08-01</td>\n",
              "      <td>20.0</td>\n",
              "      <td>5.0</td>\n",
              "      <td>8.0</td>\n",
              "      <td>3.0</td>\n",
              "      <td>NaN</td>\n",
              "      <td>11.0</td>\n",
              "      <td>NaN</td>\n",
              "      <td>NaN</td>\n",
              "      <td>18.0</td>\n",
              "      <td>3649.0</td>\n",
              "      <td>4</td>\n",
              "      <td>19</td>\n",
              "    </tr>\n",
              "  </tbody>\n",
              "</table>\n",
              "</div>\n",
              "      <button class=\"colab-df-convert\" onclick=\"convertToInteractive('df-7e9d191b-79e1-4f06-a27d-59f142a51104')\"\n",
              "              title=\"Convert this dataframe to an interactive table.\"\n",
              "              style=\"display:none;\">\n",
              "        \n",
              "  <svg xmlns=\"http://www.w3.org/2000/svg\" height=\"24px\"viewBox=\"0 0 24 24\"\n",
              "       width=\"24px\">\n",
              "    <path d=\"M0 0h24v24H0V0z\" fill=\"none\"/>\n",
              "    <path d=\"M18.56 5.44l.94 2.06.94-2.06 2.06-.94-2.06-.94-.94-2.06-.94 2.06-2.06.94zm-11 1L8.5 8.5l.94-2.06 2.06-.94-2.06-.94L8.5 2.5l-.94 2.06-2.06.94zm10 10l.94 2.06.94-2.06 2.06-.94-2.06-.94-.94-2.06-.94 2.06-2.06.94z\"/><path d=\"M17.41 7.96l-1.37-1.37c-.4-.4-.92-.59-1.43-.59-.52 0-1.04.2-1.43.59L10.3 9.45l-7.72 7.72c-.78.78-.78 2.05 0 2.83L4 21.41c.39.39.9.59 1.41.59.51 0 1.02-.2 1.41-.59l7.78-7.78 2.81-2.81c.8-.78.8-2.07 0-2.86zM5.41 20L4 18.59l7.72-7.72 1.47 1.35L5.41 20z\"/>\n",
              "  </svg>\n",
              "      </button>\n",
              "      \n",
              "  <style>\n",
              "    .colab-df-container {\n",
              "      display:flex;\n",
              "      flex-wrap:wrap;\n",
              "      gap: 12px;\n",
              "    }\n",
              "\n",
              "    .colab-df-convert {\n",
              "      background-color: #E8F0FE;\n",
              "      border: none;\n",
              "      border-radius: 50%;\n",
              "      cursor: pointer;\n",
              "      display: none;\n",
              "      fill: #1967D2;\n",
              "      height: 32px;\n",
              "      padding: 0 0 0 0;\n",
              "      width: 32px;\n",
              "    }\n",
              "\n",
              "    .colab-df-convert:hover {\n",
              "      background-color: #E2EBFA;\n",
              "      box-shadow: 0px 1px 2px rgba(60, 64, 67, 0.3), 0px 1px 3px 1px rgba(60, 64, 67, 0.15);\n",
              "      fill: #174EA6;\n",
              "    }\n",
              "\n",
              "    [theme=dark] .colab-df-convert {\n",
              "      background-color: #3B4455;\n",
              "      fill: #D2E3FC;\n",
              "    }\n",
              "\n",
              "    [theme=dark] .colab-df-convert:hover {\n",
              "      background-color: #434B5C;\n",
              "      box-shadow: 0px 1px 3px 1px rgba(0, 0, 0, 0.15);\n",
              "      filter: drop-shadow(0px 1px 2px rgba(0, 0, 0, 0.3));\n",
              "      fill: #FFFFFF;\n",
              "    }\n",
              "  </style>\n",
              "\n",
              "      <script>\n",
              "        const buttonEl =\n",
              "          document.querySelector('#df-7e9d191b-79e1-4f06-a27d-59f142a51104 button.colab-df-convert');\n",
              "        buttonEl.style.display =\n",
              "          google.colab.kernel.accessAllowed ? 'block' : 'none';\n",
              "\n",
              "        async function convertToInteractive(key) {\n",
              "          const element = document.querySelector('#df-7e9d191b-79e1-4f06-a27d-59f142a51104');\n",
              "          const dataTable =\n",
              "            await google.colab.kernel.invokeFunction('convertToInteractive',\n",
              "                                                     [key], {});\n",
              "          if (!dataTable) return;\n",
              "\n",
              "          const docLinkHtml = 'Like what you see? Visit the ' +\n",
              "            '<a target=\"_blank\" href=https://colab.research.google.com/notebooks/data_table.ipynb>data table notebook</a>'\n",
              "            + ' to learn more about interactive tables.';\n",
              "          element.innerHTML = '';\n",
              "          dataTable['output_type'] = 'display_data';\n",
              "          await google.colab.output.renderOutput(dataTable, element);\n",
              "          const docLink = document.createElement('div');\n",
              "          docLink.innerHTML = docLinkHtml;\n",
              "          element.appendChild(docLink);\n",
              "        }\n",
              "      </script>\n",
              "    </div>\n",
              "  </div>\n",
              "  "
            ]
          },
          "metadata": {},
          "execution_count": 27
        }
      ],
      "source": [
        "filtered_data3 = data3[data3.totalPoints > 1000][~null_age][~null_gender][~null_style]\n",
        "filtered_data3.head()"
      ]
    },
    {
      "cell_type": "code",
      "execution_count": 28,
      "metadata": {
        "colab": {
          "base_uri": "https://localhost:8080/"
        },
        "id": "EiKESu8RQlCu",
        "outputId": "f75caac6-48f4-4187-ab78-5e4230fc1e6e"
      },
      "outputs": [
        {
          "output_type": "stream",
          "name": "stderr",
          "text": [
            "/usr/local/lib/python3.7/dist-packages/ipykernel_launcher.py:1: UserWarning: Boolean Series key will be reindexed to match DataFrame index.\n",
            "  \"\"\"Entry point for launching an IPython kernel.\n"
          ]
        },
        {
          "output_type": "execute_result",
          "data": {
            "text/plain": [
              "(2523, 19)"
            ]
          },
          "metadata": {},
          "execution_count": 28
        }
      ],
      "source": [
        "data3[data3.totalPoints > 1000][~null_age][~null_gender][~null_style].shape"
      ]
    },
    {
      "cell_type": "code",
      "execution_count": 29,
      "metadata": {
        "id": "mEbqHgPQQlCu"
      },
      "outputs": [],
      "source": [
        "data3.numHelpfulVotes;"
      ]
    },
    {
      "cell_type": "code",
      "execution_count": 30,
      "metadata": {
        "id": "zKpydbxEQlCu"
      },
      "outputs": [],
      "source": [
        "#Counter(data3.travelStyle.split(','))\n",
        "data3.travelStyle.isnull().sum();\n",
        "data3.travelStyle[~null_style].shape\n",
        "\n",
        "styles_lst = []\n",
        "for style in list(data3.travelStyle[data3.totalPoints > 1000][~null_age][~null_gender][~null_style]):\n",
        "    item = style.split(', ')\n",
        "    styles_lst.append(item)\n",
        "    #print(styles)\n",
        "    #styles_lst.extend(item)\n",
        "    #print(styles_lst)\n",
        "    \n",
        "#print(styles_lst[:10])\n",
        "newlist = [item for items in styles_lst for item in items]\n",
        "Counter(newlist);\n",
        "#print(len(Counter(newlist).keys()))\n",
        "#scatter_matrix(Counter(newlist))\n"
      ]
    },
    {
      "cell_type": "code",
      "execution_count": 31,
      "metadata": {
        "id": "4ECfxKgpQlCu"
      },
      "outputs": [],
      "source": [
        "veg_lst = []\n",
        "for item in styles_lst:\n",
        "    if 'Vegetarian' in item:\n",
        "        if len(item) < 4:\n",
        "            veg_lst.append(item)\n",
        "veg_lst[:10];\n"
      ]
    },
    {
      "cell_type": "code",
      "execution_count": 32,
      "metadata": {
        "colab": {
          "base_uri": "https://localhost:8080/"
        },
        "id": "J5oGG0bvQlCv",
        "outputId": "a6555ca0-86a6-45cf-9b3d-6dad93761c79"
      },
      "outputs": [
        {
          "output_type": "execute_result",
          "data": {
            "text/plain": [
              "(3502,)"
            ]
          },
          "metadata": {},
          "execution_count": 32
        }
      ],
      "source": [
        "data3.travelStyle[~null_style].shape"
      ]
    },
    {
      "cell_type": "markdown",
      "metadata": {
        "id": "F3jNrS_CQlCv"
      },
      "source": [
        "## creating new column of list of travel styles"
      ]
    },
    {
      "cell_type": "code",
      "execution_count": 33,
      "metadata": {
        "colab": {
          "base_uri": "https://localhost:8080/"
        },
        "id": "bS_JNkJpQlCv",
        "outputId": "03370227-84d6-4d5f-ff2c-40508ff53442"
      },
      "outputs": [
        {
          "output_type": "stream",
          "name": "stderr",
          "text": [
            "/usr/local/lib/python3.7/dist-packages/ipykernel_launcher.py:1: UserWarning: Boolean Series key will be reindexed to match DataFrame index.\n",
            "  \"\"\"Entry point for launching an IPython kernel.\n"
          ]
        },
        {
          "output_type": "execute_result",
          "data": {
            "text/plain": [
              "(2523, 19)"
            ]
          },
          "metadata": {},
          "execution_count": 33
        }
      ],
      "source": [
        "test_data3 = data3[data3.totalPoints > 1000][~null_style][~null_age][~null_gender]\n",
        "#test_data3\n",
        "#test_data3['new_travel_style'] = test_data3.travelStyle\n",
        "#df = pd.get_dummies(test_data3, columns=['travelStyle'])\n",
        "#df\n",
        "style_lst2 = [item.split(', ') for item in test_data3.travelStyle]\n",
        "style_lst2;\n",
        "test_data3.shape\n"
      ]
    },
    {
      "cell_type": "code",
      "execution_count": 34,
      "metadata": {
        "id": "-5aExlExQlCv"
      },
      "outputs": [],
      "source": [
        "test_data3['new_travel'] = style_lst2\n",
        "#test_data3.new_travel\n",
        "test_data3;\n",
        "#df = pd.get_dummies(test_data3, columns=['new_travel'])\n",
        "#df\n",
        "\n"
      ]
    },
    {
      "cell_type": "markdown",
      "metadata": {
        "id": "CkUIZycRQlCv"
      },
      "source": [
        "## creating dummies for each travel style"
      ]
    },
    {
      "cell_type": "code",
      "execution_count": 35,
      "metadata": {
        "colab": {
          "base_uri": "https://localhost:8080/"
        },
        "id": "Dutp3uS0QlCv",
        "outputId": "b34b3b5e-03bd-4b68-85f5-2f68405bf809"
      },
      "outputs": [
        {
          "output_type": "stream",
          "name": "stderr",
          "text": [
            "/usr/local/lib/python3.7/dist-packages/ipykernel_launcher.py:2: FutureWarning: Using the level keyword in DataFrame and Series aggregations is deprecated and will be removed in a future version. Use groupby instead. df.sum(level=1) should use df.groupby(level=1).sum().\n",
            "  \n"
          ]
        }
      ],
      "source": [
        "travel_style = test_data3['new_travel'].apply(pd.Series) # 653 notes\n",
        "travel_style_matrix = pd.get_dummies(travel_style.apply(pd.Series).stack()). \\\n",
        "sum(level=0).rename(columns = lambda x : 'travel_style_' + x)\n"
      ]
    },
    {
      "cell_type": "code",
      "execution_count": 36,
      "metadata": {
        "colab": {
          "base_uri": "https://localhost:8080/"
        },
        "id": "uMpIq5nFQlCw",
        "outputId": "7882ba5b-8778-4829-e473-b4c888cd618a"
      },
      "outputs": [
        {
          "output_type": "execute_result",
          "data": {
            "text/plain": [
              "Index(['travel_style_60+ Traveler', 'travel_style_Art and Architecture Lover',\n",
              "       'travel_style_Backpacker', 'travel_style_Beach Goer',\n",
              "       'travel_style_Eco-tourist', 'travel_style_Family Hoilday Maker',\n",
              "       'travel_style_Foodie', 'travel_style_History Buff',\n",
              "       'travel_style_Like a Local', 'travel_style_Luxury Traveller',\n",
              "       'travel_style_Nature Lover', 'travel_style_Nightlife Seeker',\n",
              "       'travel_style_Peace and Quiet Seeker', 'travel_style_Shopping Fanatic',\n",
              "       'travel_style_Thrifty Traveller', 'travel_style_Thrill Seeker',\n",
              "       'travel_style_Trendsetter', 'travel_style_Urban Explorer',\n",
              "       'travel_style_Vegetarian'],\n",
              "      dtype='object')"
            ]
          },
          "metadata": {},
          "execution_count": 36
        }
      ],
      "source": [
        "travel_style_matrix.columns"
      ]
    },
    {
      "cell_type": "code",
      "execution_count": 37,
      "metadata": {
        "colab": {
          "base_uri": "https://localhost:8080/",
          "height": 592
        },
        "id": "RtE9imYNQlCw",
        "outputId": "bd8269a9-bffa-4e45-8e8f-8cbaf584a47d"
      },
      "outputs": [
        {
          "output_type": "display_data",
          "data": {
            "text/plain": [
              "<Figure size 864x720 with 1 Axes>"
            ],
            "image/png": "[encoded data removed]"
          },
          "metadata": {
            "needs_background": "light"
          }
        }
      ],
      "source": [
        "(travel_style_matrix.sum(axis=0)\n",
        "                   .sort_values(ascending=True)\n",
        "                   .plot(kind='barh',\n",
        "                         figsize=(12,10),\n",
        "                         alpha = .7));"
      ]
    },
    {
      "cell_type": "code",
      "execution_count": 38,
      "metadata": {
        "colab": {
          "base_uri": "https://localhost:8080/",
          "height": 522
        },
        "id": "CaKJo3hYQlCw",
        "outputId": "21daf5be-d79a-440e-d1cf-22331ae31b40"
      },
      "outputs": [
        {
          "output_type": "execute_result",
          "data": {
            "text/plain": [
              "      travel_style_60+ Traveler  travel_style_Art and Architecture Lover  \\\n",
              "1                             0                                        0   \n",
              "7                             0                                        0   \n",
              "12                            0                                        0   \n",
              "15                            0                                        1   \n",
              "17                            0                                        0   \n",
              "...                         ...                                      ...   \n",
              "7024                          0                                        0   \n",
              "7028                          0                                        1   \n",
              "7029                          0                                        1   \n",
              "7031                          0                                        0   \n",
              "7032                          0                                        0   \n",
              "\n",
              "      travel_style_Backpacker  travel_style_Beach Goer  \\\n",
              "1                           0                        0   \n",
              "7                           0                        0   \n",
              "12                          0                        1   \n",
              "15                          0                        0   \n",
              "17                          0                        1   \n",
              "...                       ...                      ...   \n",
              "7024                        0                        0   \n",
              "7028                        0                        0   \n",
              "7029                        0                        0   \n",
              "7031                        0                        0   \n",
              "7032                        0                        1   \n",
              "\n",
              "      travel_style_Eco-tourist  travel_style_Family Hoilday Maker  \\\n",
              "1                            0                                  0   \n",
              "7                            0                                  1   \n",
              "12                           0                                  1   \n",
              "15                           0                                  0   \n",
              "17                           0                                  0   \n",
              "...                        ...                                ...   \n",
              "7024                         0                                  1   \n",
              "7028                         0                                  1   \n",
              "7029                         0                                  0   \n",
              "7031                         0                                  0   \n",
              "7032                         0                                  1   \n",
              "\n",
              "      travel_style_Foodie  travel_style_History Buff  \\\n",
              "1                       1                          0   \n",
              "7                       1                          0   \n",
              "12                      1                          0   \n",
              "15                      0                          0   \n",
              "17                      0                          0   \n",
              "...                   ...                        ...   \n",
              "7024                    1                          0   \n",
              "7028                    1                          0   \n",
              "7029                    0                          0   \n",
              "7031                    1                          0   \n",
              "7032                    1                          0   \n",
              "\n",
              "      travel_style_Like a Local  travel_style_Luxury Traveller  \\\n",
              "1                             0                              0   \n",
              "7                             1                              1   \n",
              "12                            0                              0   \n",
              "15                            0                              0   \n",
              "17                            0                              0   \n",
              "...                         ...                            ...   \n",
              "7024                          1                              1   \n",
              "7028                          1                              0   \n",
              "7029                          1                              0   \n",
              "7031                          0                              0   \n",
              "7032                          0                              1   \n",
              "\n",
              "      travel_style_Nature Lover  travel_style_Nightlife Seeker  \\\n",
              "1                             1                              0   \n",
              "7                             0                              0   \n",
              "12                            0                              1   \n",
              "15                            0                              0   \n",
              "17                            0                              0   \n",
              "...                         ...                            ...   \n",
              "7024                          0                              0   \n",
              "7028                          0                              0   \n",
              "7029                          0                              0   \n",
              "7031                          0                              0   \n",
              "7032                          0                              1   \n",
              "\n",
              "      travel_style_Peace and Quiet Seeker  travel_style_Shopping Fanatic  \\\n",
              "1                                       0                              0   \n",
              "7                                       0                              0   \n",
              "12                                      0                              0   \n",
              "15                                      0                              0   \n",
              "17                                      0                              0   \n",
              "...                                   ...                            ...   \n",
              "7024                                    0                              1   \n",
              "7028                                    0                              0   \n",
              "7029                                    0                              0   \n",
              "7031                                    0                              1   \n",
              "7032                                    0                              1   \n",
              "\n",
              "      travel_style_Thrifty Traveller  travel_style_Thrill Seeker  \\\n",
              "1                                  0                           0   \n",
              "7                                  0                           0   \n",
              "12                                 1                           0   \n",
              "15                                 0                           0   \n",
              "17                                 0                           0   \n",
              "...                              ...                         ...   \n",
              "7024                               0                           0   \n",
              "7028                               0                           0   \n",
              "7029                               1                           0   \n",
              "7031                               1                           0   \n",
              "7032                               0                           0   \n",
              "\n",
              "      travel_style_Trendsetter  travel_style_Urban Explorer  \\\n",
              "1                            0                            1   \n",
              "7                            1                            0   \n",
              "12                           0                            0   \n",
              "15                           0                            1   \n",
              "17                           0                            1   \n",
              "...                        ...                          ...   \n",
              "7024                         0                            1   \n",
              "7028                         0                            1   \n",
              "7029                         0                            0   \n",
              "7031                         0                            0   \n",
              "7032                         1                            1   \n",
              "\n",
              "      travel_style_Vegetarian  \n",
              "1                           0  \n",
              "7                           0  \n",
              "12                          0  \n",
              "15                          1  \n",
              "17                          1  \n",
              "...                       ...  \n",
              "7024                        0  \n",
              "7028                        0  \n",
              "7029                        0  \n",
              "7031                        0  \n",
              "7032                        0  \n",
              "\n",
              "[2523 rows x 19 columns]"
            ],
            "text/html": [
              "\n",
              "  <div id=\"df-54a38ff4-52f8-491a-a664-4846ecdee0c7\">\n",
              "    <div class=\"colab-df-container\">\n",
              "      <div>\n",
              "<style scoped>\n",
              "    .dataframe tbody tr th:only-of-type {\n",
              "        vertical-align: middle;\n",
              "    }\n",
              "\n",
              "    .dataframe tbody tr th {\n",
              "        vertical-align: top;\n",
              "    }\n",
              "\n",
              "    .dataframe thead th {\n",
              "        text-align: right;\n",
              "    }\n",
              "</style>\n",
              "<table border=\"1\" class=\"dataframe\">\n",
              "  <thead>\n",
              "    <tr style=\"text-align: right;\">\n",
              "      <th></th>\n",
              "      <th>travel_style_60+ Traveler</th>\n",
              "      <th>travel_style_Art and Architecture Lover</th>\n",
              "      <th>travel_style_Backpacker</th>\n",
              "      <th>travel_style_Beach Goer</th>\n",
              "      <th>travel_style_Eco-tourist</th>\n",
              "      <th>travel_style_Family Hoilday Maker</th>\n",
              "      <th>travel_style_Foodie</th>\n",
              "      <th>travel_style_History Buff</th>\n",
              "      <th>travel_style_Like a Local</th>\n",
              "      <th>travel_style_Luxury Traveller</th>\n",
              "      <th>travel_style_Nature Lover</th>\n",
              "      <th>travel_style_Nightlife Seeker</th>\n",
              "      <th>travel_style_Peace and Quiet Seeker</th>\n",
              "      <th>travel_style_Shopping Fanatic</th>\n",
              "      <th>travel_style_Thrifty Traveller</th>\n",
              "      <th>travel_style_Thrill Seeker</th>\n",
              "      <th>travel_style_Trendsetter</th>\n",
              "      <th>travel_style_Urban Explorer</th>\n",
              "      <th>travel_style_Vegetarian</th>\n",
              "    </tr>\n",
              "  </thead>\n",
              "  <tbody>\n",
              "    <tr>\n",
              "      <th>1</th>\n",
              "      <td>0</td>\n",
              "      <td>0</td>\n",
              "      <td>0</td>\n",
              "      <td>0</td>\n",
              "      <td>0</td>\n",
              "      <td>0</td>\n",
              "      <td>1</td>\n",
              "      <td>0</td>\n",
              "      <td>0</td>\n",
              "      <td>0</td>\n",
              "      <td>1</td>\n",
              "      <td>0</td>\n",
              "      <td>0</td>\n",
              "      <td>0</td>\n",
              "      <td>0</td>\n",
              "      <td>0</td>\n",
              "      <td>0</td>\n",
              "      <td>1</td>\n",
              "      <td>0</td>\n",
              "    </tr>\n",
              "    <tr>\n",
              "      <th>7</th>\n",
              "      <td>0</td>\n",
              "      <td>0</td>\n",
              "      <td>0</td>\n",
              "      <td>0</td>\n",
              "      <td>0</td>\n",
              "      <td>1</td>\n",
              "      <td>1</td>\n",
              "      <td>0</td>\n",
              "      <td>1</td>\n",
              "      <td>1</td>\n",
              "      <td>0</td>\n",
              "      <td>0</td>\n",
              "      <td>0</td>\n",
              "      <td>0</td>\n",
              "      <td>0</td>\n",
              "      <td>0</td>\n",
              "      <td>1</td>\n",
              "      <td>0</td>\n",
              "      <td>0</td>\n",
              "    </tr>\n",
              "    <tr>\n",
              "      <th>12</th>\n",
              "      <td>0</td>\n",
              "      <td>0</td>\n",
              "      <td>0</td>\n",
              "      <td>1</td>\n",
              "      <td>0</td>\n",
              "      <td>1</td>\n",
              "      <td>1</td>\n",
              "      <td>0</td>\n",
              "      <td>0</td>\n",
              "      <td>0</td>\n",
              "      <td>0</td>\n",
              "      <td>1</td>\n",
              "      <td>0</td>\n",
              "      <td>0</td>\n",
              "      <td>1</td>\n",
              "      <td>0</td>\n",
              "      <td>0</td>\n",
              "      <td>0</td>\n",
              "      <td>0</td>\n",
              "    </tr>\n",
              "    <tr>\n",
              "      <th>15</th>\n",
              "      <td>0</td>\n",
              "      <td>1</td>\n",
              "      <td>0</td>\n",
              "      <td>0</td>\n",
              "      <td>0</td>\n",
              "      <td>0</td>\n",
              "      <td>0</td>\n",
              "      <td>0</td>\n",
              "      <td>0</td>\n",
              "      <td>0</td>\n",
              "      <td>0</td>\n",
              "      <td>0</td>\n",
              "      <td>0</td>\n",
              "      <td>0</td>\n",
              "      <td>0</td>\n",
              "      <td>0</td>\n",
              "      <td>0</td>\n",
              "      <td>1</td>\n",
              "      <td>1</td>\n",
              "    </tr>\n",
              "    <tr>\n",
              "      <th>17</th>\n",
              "      <td>0</td>\n",
              "      <td>0</td>\n",
              "      <td>0</td>\n",
              "      <td>1</td>\n",
              "      <td>0</td>\n",
              "      <td>0</td>\n",
              "      <td>0</td>\n",
              "      <td>0</td>\n",
              "      <td>0</td>\n",
              "      <td>0</td>\n",
              "      <td>0</td>\n",
              "      <td>0</td>\n",
              "      <td>0</td>\n",
              "      <td>0</td>\n",
              "      <td>0</td>\n",
              "      <td>0</td>\n",
              "      <td>0</td>\n",
              "      <td>1</td>\n",
              "      <td>1</td>\n",
              "    </tr>\n",
              "    <tr>\n",
              "      <th>...</th>\n",
              "      <td>...</td>\n",
              "      <td>...</td>\n",
              "      <td>...</td>\n",
              "      <td>...</td>\n",
              "      <td>...</td>\n",
              "      <td>...</td>\n",
              "      <td>...</td>\n",
              "      <td>...</td>\n",
              "      <td>...</td>\n",
              "      <td>...</td>\n",
              "      <td>...</td>\n",
              "      <td>...</td>\n",
              "      <td>...</td>\n",
              "      <td>...</td>\n",
              "      <td>...</td>\n",
              "      <td>...</td>\n",
              "      <td>...</td>\n",
              "      <td>...</td>\n",
              "      <td>...</td>\n",
              "    </tr>\n",
              "    <tr>\n",
              "      <th>7024</th>\n",
              "      <td>0</td>\n",
              "      <td>0</td>\n",
              "      <td>0</td>\n",
              "      <td>0</td>\n",
              "      <td>0</td>\n",
              "      <td>1</td>\n",
              "      <td>1</td>\n",
              "      <td>0</td>\n",
              "      <td>1</td>\n",
              "      <td>1</td>\n",
              "      <td>0</td>\n",
              "      <td>0</td>\n",
              "      <td>0</td>\n",
              "      <td>1</td>\n",
              "      <td>0</td>\n",
              "      <td>0</td>\n",
              "      <td>0</td>\n",
              "      <td>1</td>\n",
              "      <td>0</td>\n",
              "    </tr>\n",
              "    <tr>\n",
              "      <th>7028</th>\n",
              "      <td>0</td>\n",
              "      <td>1</td>\n",
              "      <td>0</td>\n",
              "      <td>0</td>\n",
              "      <td>0</td>\n",
              "      <td>1</td>\n",
              "      <td>1</td>\n",
              "      <td>0</td>\n",
              "      <td>1</td>\n",
              "      <td>0</td>\n",
              "      <td>0</td>\n",
              "      <td>0</td>\n",
              "      <td>0</td>\n",
              "      <td>0</td>\n",
              "      <td>0</td>\n",
              "      <td>0</td>\n",
              "      <td>0</td>\n",
              "      <td>1</td>\n",
              "      <td>0</td>\n",
              "    </tr>\n",
              "    <tr>\n",
              "      <th>7029</th>\n",
              "      <td>0</td>\n",
              "      <td>1</td>\n",
              "      <td>0</td>\n",
              "      <td>0</td>\n",
              "      <td>0</td>\n",
              "      <td>0</td>\n",
              "      <td>0</td>\n",
              "      <td>0</td>\n",
              "      <td>1</td>\n",
              "      <td>0</td>\n",
              "      <td>0</td>\n",
              "      <td>0</td>\n",
              "      <td>0</td>\n",
              "      <td>0</td>\n",
              "      <td>1</td>\n",
              "      <td>0</td>\n",
              "      <td>0</td>\n",
              "      <td>0</td>\n",
              "      <td>0</td>\n",
              "    </tr>\n",
              "    <tr>\n",
              "      <th>7031</th>\n",
              "      <td>0</td>\n",
              "      <td>0</td>\n",
              "      <td>0</td>\n",
              "      <td>0</td>\n",
              "      <td>0</td>\n",
              "      <td>0</td>\n",
              "      <td>1</td>\n",
              "      <td>0</td>\n",
              "      <td>0</td>\n",
              "      <td>0</td>\n",
              "      <td>0</td>\n",
              "      <td>0</td>\n",
              "      <td>0</td>\n",
              "      <td>1</td>\n",
              "      <td>1</td>\n",
              "      <td>0</td>\n",
              "      <td>0</td>\n",
              "      <td>0</td>\n",
              "      <td>0</td>\n",
              "    </tr>\n",
              "    <tr>\n",
              "      <th>7032</th>\n",
              "      <td>0</td>\n",
              "      <td>0</td>\n",
              "      <td>0</td>\n",
              "      <td>1</td>\n",
              "      <td>0</td>\n",
              "      <td>1</td>\n",
              "      <td>1</td>\n",
              "      <td>0</td>\n",
              "      <td>0</td>\n",
              "      <td>1</td>\n",
              "      <td>0</td>\n",
              "      <td>1</td>\n",
              "      <td>0</td>\n",
              "      <td>1</td>\n",
              "      <td>0</td>\n",
              "      <td>0</td>\n",
              "      <td>1</td>\n",
              "      <td>1</td>\n",
              "      <td>0</td>\n",
              "    </tr>\n",
              "  </tbody>\n",
              "</table>\n",
              "<p>2523 rows × 19 columns</p>\n",
              "</div>\n",
              "      <button class=\"colab-df-convert\" onclick=\"convertToInteractive('df-54a38ff4-52f8-491a-a664-4846ecdee0c7')\"\n",
              "              title=\"Convert this dataframe to an interactive table.\"\n",
              "              style=\"display:none;\">\n",
              "        \n",
              "  <svg xmlns=\"http://www.w3.org/2000/svg\" height=\"24px\"viewBox=\"0 0 24 24\"\n",
              "       width=\"24px\">\n",
              "    <path d=\"M0 0h24v24H0V0z\" fill=\"none\"/>\n",
              "    <path d=\"M18.56 5.44l.94 2.06.94-2.06 2.06-.94-2.06-.94-.94-2.06-.94 2.06-2.06.94zm-11 1L8.5 8.5l.94-2.06 2.06-.94-2.06-.94L8.5 2.5l-.94 2.06-2.06.94zm10 10l.94 2.06.94-2.06 2.06-.94-2.06-.94-.94-2.06-.94 2.06-2.06.94z\"/><path d=\"M17.41 7.96l-1.37-1.37c-.4-.4-.92-.59-1.43-.59-.52 0-1.04.2-1.43.59L10.3 9.45l-7.72 7.72c-.78.78-.78 2.05 0 2.83L4 21.41c.39.39.9.59 1.41.59.51 0 1.02-.2 1.41-.59l7.78-7.78 2.81-2.81c.8-.78.8-2.07 0-2.86zM5.41 20L4 18.59l7.72-7.72 1.47 1.35L5.41 20z\"/>\n",
              "  </svg>\n",
              "      </button>\n",
              "      \n",
              "  <style>\n",
              "    .colab-df-container {\n",
              "      display:flex;\n",
              "      flex-wrap:wrap;\n",
              "      gap: 12px;\n",
              "    }\n",
              "\n",
              "    .colab-df-convert {\n",
              "      background-color: #E8F0FE;\n",
              "      border: none;\n",
              "      border-radius: 50%;\n",
              "      cursor: pointer;\n",
              "      display: none;\n",
              "      fill: #1967D2;\n",
              "      height: 32px;\n",
              "      padding: 0 0 0 0;\n",
              "      width: 32px;\n",
              "    }\n",
              "\n",
              "    .colab-df-convert:hover {\n",
              "      background-color: #E2EBFA;\n",
              "      box-shadow: 0px 1px 2px rgba(60, 64, 67, 0.3), 0px 1px 3px 1px rgba(60, 64, 67, 0.15);\n",
              "      fill: #174EA6;\n",
              "    }\n",
              "\n",
              "    [theme=dark] .colab-df-convert {\n",
              "      background-color: #3B4455;\n",
              "      fill: #D2E3FC;\n",
              "    }\n",
              "\n",
              "    [theme=dark] .colab-df-convert:hover {\n",
              "      background-color: #434B5C;\n",
              "      box-shadow: 0px 1px 3px 1px rgba(0, 0, 0, 0.15);\n",
              "      filter: drop-shadow(0px 1px 2px rgba(0, 0, 0, 0.3));\n",
              "      fill: #FFFFFF;\n",
              "    }\n",
              "  </style>\n",
              "\n",
              "      <script>\n",
              "        const buttonEl =\n",
              "          document.querySelector('#df-54a38ff4-52f8-491a-a664-4846ecdee0c7 button.colab-df-convert');\n",
              "        buttonEl.style.display =\n",
              "          google.colab.kernel.accessAllowed ? 'block' : 'none';\n",
              "\n",
              "        async function convertToInteractive(key) {\n",
              "          const element = document.querySelector('#df-54a38ff4-52f8-491a-a664-4846ecdee0c7');\n",
              "          const dataTable =\n",
              "            await google.colab.kernel.invokeFunction('convertToInteractive',\n",
              "                                                     [key], {});\n",
              "          if (!dataTable) return;\n",
              "\n",
              "          const docLinkHtml = 'Like what you see? Visit the ' +\n",
              "            '<a target=\"_blank\" href=https://colab.research.google.com/notebooks/data_table.ipynb>data table notebook</a>'\n",
              "            + ' to learn more about interactive tables.';\n",
              "          element.innerHTML = '';\n",
              "          dataTable['output_type'] = 'display_data';\n",
              "          await google.colab.output.renderOutput(dataTable, element);\n",
              "          const docLink = document.createElement('div');\n",
              "          docLink.innerHTML = docLinkHtml;\n",
              "          element.appendChild(docLink);\n",
              "        }\n",
              "      </script>\n",
              "    </div>\n",
              "  </div>\n",
              "  "
            ]
          },
          "metadata": {},
          "execution_count": 38
        }
      ],
      "source": [
        "travel_style_matrix"
      ]
    },
    {
      "cell_type": "code",
      "execution_count": 40,
      "metadata": {
        "id": "u0UqAFnnQlCw"
      },
      "outputs": [],
      "source": [
        "#travel_style_matrix['travel_style_Luxury Traveller'].intersection(travel_style_matrix['travel_style_Shopping Fanatic'])"
      ]
    },
    {
      "cell_type": "code",
      "execution_count": 39,
      "metadata": {
        "id": "N-_0IDidQlCw"
      },
      "outputs": [],
      "source": [
        "mask = travel_style_matrix"
      ]
    },
    {
      "cell_type": "code",
      "execution_count": 41,
      "metadata": {
        "colab": {
          "base_uri": "https://localhost:8080/"
        },
        "id": "jthchNhnQlCx",
        "outputId": "56dd19f0-2d16-4904-d300-a6b292a2b090"
      },
      "outputs": [
        {
          "output_type": "execute_result",
          "data": {
            "text/plain": [
              "Counter({0: 85, 1: 17, 2: 943, 3: 2034, 4: 1655, 5: 1301, 6: 999})"
            ]
          },
          "metadata": {},
          "execution_count": 41
        }
      ],
      "source": [
        "Counter(data3.contribLevel)"
      ]
    },
    {
      "cell_type": "markdown",
      "metadata": {
        "id": "eSqscAoCQlCx"
      },
      "source": [
        "# data 4 by reviews"
      ]
    },
    {
      "cell_type": "code",
      "execution_count": 42,
      "metadata": {
        "id": "KBW6GU48QlCx"
      },
      "outputs": [],
      "source": [
        "mask = data4.username == '19katy80'\n",
        "mask2 = data4.username == '1984travel'"
      ]
    },
    {
      "cell_type": "code",
      "execution_count": 43,
      "metadata": {
        "id": "U3jIaX6EQlCx"
      },
      "outputs": [],
      "source": [
        "new_mask = data4[mask].taObjectCity == 'Manchester'"
      ]
    },
    {
      "cell_type": "code",
      "execution_count": 44,
      "metadata": {
        "id": "69R8OwmfQlCx"
      },
      "outputs": [],
      "source": [
        "data4[mask][new_mask];"
      ]
    },
    {
      "cell_type": "code",
      "execution_count": 45,
      "metadata": {
        "id": "21Gz0WoTQlCx"
      },
      "outputs": [],
      "source": [
        "bongo_mask = data4.username == 'Bongo_Craigy'"
      ]
    },
    {
      "cell_type": "code",
      "execution_count": 46,
      "metadata": {
        "id": "LbfGhr2YQlCx"
      },
      "outputs": [],
      "source": [
        "data4[bongo_mask].taObjectCity;"
      ]
    },
    {
      "cell_type": "code",
      "execution_count": 47,
      "metadata": {
        "colab": {
          "base_uri": "https://localhost:8080/"
        },
        "id": "9WwXc8D_QlCy",
        "outputId": "1b8c4528-fb76-4d87-91ea-381e6b3d2e21"
      },
      "outputs": [
        {
          "output_type": "stream",
          "name": "stderr",
          "text": [
            "/usr/local/lib/python3.7/dist-packages/ipykernel_launcher.py:2: UserWarning: Boolean Series key will be reindexed to match DataFrame index.\n",
            "  \n"
          ]
        }
      ],
      "source": [
        "attrac_mask = data4.type == 'Attractions'\n",
        "data4[attrac_mask][mask2];"
      ]
    },
    {
      "cell_type": "markdown",
      "metadata": {
        "id": "F7srd8l2QlCy"
      },
      "source": [
        "## data 1 - personality\n"
      ]
    },
    {
      "cell_type": "code",
      "execution_count": 50,
      "metadata": {
        "colab": {
          "base_uri": "https://localhost:8080/",
          "height": 206
        },
        "id": "cMzYkfipQlCy",
        "outputId": "32ae3e2c-ea58-4257-c4a0-54b4282c4030"
      },
      "outputs": [
        {
          "output_type": "execute_result",
          "data": {
            "text/plain": [
              "      open     cons    extra    agree    neuro\n",
              "0  0.63272  0.55666  0.56360  0.58108  0.45881\n",
              "1  0.64006  0.55189  0.56220  0.57943  0.46188\n",
              "2  0.66435  0.56099  0.56880  0.58187  0.45011\n",
              "3  0.66003  0.57005  0.57221  0.59019  0.44860\n",
              "4  0.65036  0.55429  0.56510  0.58271  0.45919"
            ],
            "text/html": [
              "\n",
              "  <div id=\"df-02b9a801-4f3a-4336-81e9-c6aaa407af78\">\n",
              "    <div class=\"colab-df-container\">\n",
              "      <div>\n",
              "<style scoped>\n",
              "    .dataframe tbody tr th:only-of-type {\n",
              "        vertical-align: middle;\n",
              "    }\n",
              "\n",
              "    .dataframe tbody tr th {\n",
              "        vertical-align: top;\n",
              "    }\n",
              "\n",
              "    .dataframe thead th {\n",
              "        text-align: right;\n",
              "    }\n",
              "</style>\n",
              "<table border=\"1\" class=\"dataframe\">\n",
              "  <thead>\n",
              "    <tr style=\"text-align: right;\">\n",
              "      <th></th>\n",
              "      <th>open</th>\n",
              "      <th>cons</th>\n",
              "      <th>extra</th>\n",
              "      <th>agree</th>\n",
              "      <th>neuro</th>\n",
              "    </tr>\n",
              "  </thead>\n",
              "  <tbody>\n",
              "    <tr>\n",
              "      <th>0</th>\n",
              "      <td>0.63272</td>\n",
              "      <td>0.55666</td>\n",
              "      <td>0.56360</td>\n",
              "      <td>0.58108</td>\n",
              "      <td>0.45881</td>\n",
              "    </tr>\n",
              "    <tr>\n",
              "      <th>1</th>\n",
              "      <td>0.64006</td>\n",
              "      <td>0.55189</td>\n",
              "      <td>0.56220</td>\n",
              "      <td>0.57943</td>\n",
              "      <td>0.46188</td>\n",
              "    </tr>\n",
              "    <tr>\n",
              "      <th>2</th>\n",
              "      <td>0.66435</td>\n",
              "      <td>0.56099</td>\n",
              "      <td>0.56880</td>\n",
              "      <td>0.58187</td>\n",
              "      <td>0.45011</td>\n",
              "    </tr>\n",
              "    <tr>\n",
              "      <th>3</th>\n",
              "      <td>0.66003</td>\n",
              "      <td>0.57005</td>\n",
              "      <td>0.57221</td>\n",
              "      <td>0.59019</td>\n",
              "      <td>0.44860</td>\n",
              "    </tr>\n",
              "    <tr>\n",
              "      <th>4</th>\n",
              "      <td>0.65036</td>\n",
              "      <td>0.55429</td>\n",
              "      <td>0.56510</td>\n",
              "      <td>0.58271</td>\n",
              "      <td>0.45919</td>\n",
              "    </tr>\n",
              "  </tbody>\n",
              "</table>\n",
              "</div>\n",
              "      <button class=\"colab-df-convert\" onclick=\"convertToInteractive('df-02b9a801-4f3a-4336-81e9-c6aaa407af78')\"\n",
              "              title=\"Convert this dataframe to an interactive table.\"\n",
              "              style=\"display:none;\">\n",
              "        \n",
              "  <svg xmlns=\"http://www.w3.org/2000/svg\" height=\"24px\"viewBox=\"0 0 24 24\"\n",
              "       width=\"24px\">\n",
              "    <path d=\"M0 0h24v24H0V0z\" fill=\"none\"/>\n",
              "    <path d=\"M18.56 5.44l.94 2.06.94-2.06 2.06-.94-2.06-.94-.94-2.06-.94 2.06-2.06.94zm-11 1L8.5 8.5l.94-2.06 2.06-.94-2.06-.94L8.5 2.5l-.94 2.06-2.06.94zm10 10l.94 2.06.94-2.06 2.06-.94-2.06-.94-.94-2.06-.94 2.06-2.06.94z\"/><path d=\"M17.41 7.96l-1.37-1.37c-.4-.4-.92-.59-1.43-.59-.52 0-1.04.2-1.43.59L10.3 9.45l-7.72 7.72c-.78.78-.78 2.05 0 2.83L4 21.41c.39.39.9.59 1.41.59.51 0 1.02-.2 1.41-.59l7.78-7.78 2.81-2.81c.8-.78.8-2.07 0-2.86zM5.41 20L4 18.59l7.72-7.72 1.47 1.35L5.41 20z\"/>\n",
              "  </svg>\n",
              "      </button>\n",
              "      \n",
              "  <style>\n",
              "    .colab-df-container {\n",
              "      display:flex;\n",
              "      flex-wrap:wrap;\n",
              "      gap: 12px;\n",
              "    }\n",
              "\n",
              "    .colab-df-convert {\n",
              "      background-color: #E8F0FE;\n",
              "      border: none;\n",
              "      border-radius: 50%;\n",
              "      cursor: pointer;\n",
              "      display: none;\n",
              "      fill: #1967D2;\n",
              "      height: 32px;\n",
              "      padding: 0 0 0 0;\n",
              "      width: 32px;\n",
              "    }\n",
              "\n",
              "    .colab-df-convert:hover {\n",
              "      background-color: #E2EBFA;\n",
              "      box-shadow: 0px 1px 2px rgba(60, 64, 67, 0.3), 0px 1px 3px 1px rgba(60, 64, 67, 0.15);\n",
              "      fill: #174EA6;\n",
              "    }\n",
              "\n",
              "    [theme=dark] .colab-df-convert {\n",
              "      background-color: #3B4455;\n",
              "      fill: #D2E3FC;\n",
              "    }\n",
              "\n",
              "    [theme=dark] .colab-df-convert:hover {\n",
              "      background-color: #434B5C;\n",
              "      box-shadow: 0px 1px 3px 1px rgba(0, 0, 0, 0.15);\n",
              "      filter: drop-shadow(0px 1px 2px rgba(0, 0, 0, 0.3));\n",
              "      fill: #FFFFFF;\n",
              "    }\n",
              "  </style>\n",
              "\n",
              "      <script>\n",
              "        const buttonEl =\n",
              "          document.querySelector('#df-02b9a801-4f3a-4336-81e9-c6aaa407af78 button.colab-df-convert');\n",
              "        buttonEl.style.display =\n",
              "          google.colab.kernel.accessAllowed ? 'block' : 'none';\n",
              "\n",
              "        async function convertToInteractive(key) {\n",
              "          const element = document.querySelector('#df-02b9a801-4f3a-4336-81e9-c6aaa407af78');\n",
              "          const dataTable =\n",
              "            await google.colab.kernel.invokeFunction('convertToInteractive',\n",
              "                                                     [key], {});\n",
              "          if (!dataTable) return;\n",
              "\n",
              "          const docLinkHtml = 'Like what you see? Visit the ' +\n",
              "            '<a target=\"_blank\" href=https://colab.research.google.com/notebooks/data_table.ipynb>data table notebook</a>'\n",
              "            + ' to learn more about interactive tables.';\n",
              "          element.innerHTML = '';\n",
              "          dataTable['output_type'] = 'display_data';\n",
              "          await google.colab.output.renderOutput(dataTable, element);\n",
              "          const docLink = document.createElement('div');\n",
              "          docLink.innerHTML = docLinkHtml;\n",
              "          element.appendChild(docLink);\n",
              "        }\n",
              "      </script>\n",
              "    </div>\n",
              "  </div>\n",
              "  "
            ]
          },
          "metadata": {},
          "execution_count": 50
        }
      ],
      "source": [
        "data1_new = data1.drop(['username'], axis = 1);\n",
        "data1_new.head()\n",
        "#scatter_matrix(data1_new, figsize=(16, 12));"
      ]
    },
    {
      "cell_type": "code",
      "execution_count": 51,
      "metadata": {
        "colab": {
          "base_uri": "https://localhost:8080/",
          "height": 592
        },
        "id": "qeeKve45QlCy",
        "outputId": "80a1a607-1a7b-4c59-d7a2-8bc64536d8ea"
      },
      "outputs": [
        {
          "output_type": "display_data",
          "data": {
            "text/plain": [
              "<Figure size 864x720 with 1 Axes>"
            ],
            "image/png": "[encoded data removed]"
          },
          "metadata": {
            "needs_background": "light"
          }
        }
      ],
      "source": [
        "data1_new['cons'].plot(kind='hist', bins=20, figsize=(12,10), alpha = .7);\n",
        "data1_new['open'].plot(kind='hist', bins=20, figsize=(12,10), alpha = .7);\n",
        "data1_new['extra'].plot(kind='hist', bins=20, figsize=(12,10), alpha = .7);\n",
        "data1_new['agree'].plot(kind='hist', bins=20, figsize=(12,10), alpha = .7);\n",
        "data1_new['neuro'].plot(kind='hist', bins=20, figsize=(12,10), alpha = .7);\n"
      ]
    },
    {
      "cell_type": "markdown",
      "metadata": {
        "id": "g9SpscDoQlCy"
      },
      "source": [
        "# merging data1 - personality and data3- reviews"
      ]
    },
    {
      "cell_type": "code",
      "execution_count": 52,
      "metadata": {
        "colab": {
          "base_uri": "https://localhost:8080/",
          "height": 310
        },
        "id": "i0Ml4DDwQlCy",
        "outputId": "ae146589-ea4f-4732-b116-51e542a17c49"
      },
      "outputs": [
        {
          "output_type": "execute_result",
          "data": {
            "text/plain": [
              "   username     open     cons    extra    agree    neuro ageRange  gender  \\\n",
              "0     0BKI0  0.64006  0.55189  0.56220  0.57943  0.46188    25-34  female   \n",
              "1  14beacon  0.64359  0.56584  0.56965  0.59001  0.45454    35-49    male   \n",
              "\n",
              "                     location  \\\n",
              "0                     Bristol   \n",
              "1  Wappingers Falls, New York   \n",
              "\n",
              "                                         travelStyle  ... numAttractReviews  \\\n",
              "0               Foodie, Nature Lover, Urban Explorer  ...               NaN   \n",
              "1  Foodie, Trendsetter, Like a Local, Luxury Trav...  ...               2.0   \n",
              "\n",
              "  numFirstToReview  numRatings  numPhotos  numForumPosts  numArticles  \\\n",
              "0              NaN         1.0       10.0            NaN          NaN   \n",
              "1              NaN         NaN        1.0            NaN          NaN   \n",
              "\n",
              "   numCitiesBeen  totalPoints  contribLevel  numHelpfulVotes  \n",
              "0           11.0       2117.0             3               12  \n",
              "1           10.0       1144.0             3               14  \n",
              "\n",
              "[2 rows x 24 columns]"
            ],
            "text/html": [
              "\n",
              "  <div id=\"df-e3768097-4a05-42b3-bbae-2ac3a00496e6\">\n",
              "    <div class=\"colab-df-container\">\n",
              "      <div>\n",
              "<style scoped>\n",
              "    .dataframe tbody tr th:only-of-type {\n",
              "        vertical-align: middle;\n",
              "    }\n",
              "\n",
              "    .dataframe tbody tr th {\n",
              "        vertical-align: top;\n",
              "    }\n",
              "\n",
              "    .dataframe thead th {\n",
              "        text-align: right;\n",
              "    }\n",
              "</style>\n",
              "<table border=\"1\" class=\"dataframe\">\n",
              "  <thead>\n",
              "    <tr style=\"text-align: right;\">\n",
              "      <th></th>\n",
              "      <th>username</th>\n",
              "      <th>open</th>\n",
              "      <th>cons</th>\n",
              "      <th>extra</th>\n",
              "      <th>agree</th>\n",
              "      <th>neuro</th>\n",
              "      <th>ageRange</th>\n",
              "      <th>gender</th>\n",
              "      <th>location</th>\n",
              "      <th>travelStyle</th>\n",
              "      <th>...</th>\n",
              "      <th>numAttractReviews</th>\n",
              "      <th>numFirstToReview</th>\n",
              "      <th>numRatings</th>\n",
              "      <th>numPhotos</th>\n",
              "      <th>numForumPosts</th>\n",
              "      <th>numArticles</th>\n",
              "      <th>numCitiesBeen</th>\n",
              "      <th>totalPoints</th>\n",
              "      <th>contribLevel</th>\n",
              "      <th>numHelpfulVotes</th>\n",
              "    </tr>\n",
              "  </thead>\n",
              "  <tbody>\n",
              "    <tr>\n",
              "      <th>0</th>\n",
              "      <td>0BKI0</td>\n",
              "      <td>0.64006</td>\n",
              "      <td>0.55189</td>\n",
              "      <td>0.56220</td>\n",
              "      <td>0.57943</td>\n",
              "      <td>0.46188</td>\n",
              "      <td>25-34</td>\n",
              "      <td>female</td>\n",
              "      <td>Bristol</td>\n",
              "      <td>Foodie, Nature Lover, Urban Explorer</td>\n",
              "      <td>...</td>\n",
              "      <td>NaN</td>\n",
              "      <td>NaN</td>\n",
              "      <td>1.0</td>\n",
              "      <td>10.0</td>\n",
              "      <td>NaN</td>\n",
              "      <td>NaN</td>\n",
              "      <td>11.0</td>\n",
              "      <td>2117.0</td>\n",
              "      <td>3</td>\n",
              "      <td>12</td>\n",
              "    </tr>\n",
              "    <tr>\n",
              "      <th>1</th>\n",
              "      <td>14beacon</td>\n",
              "      <td>0.64359</td>\n",
              "      <td>0.56584</td>\n",
              "      <td>0.56965</td>\n",
              "      <td>0.59001</td>\n",
              "      <td>0.45454</td>\n",
              "      <td>35-49</td>\n",
              "      <td>male</td>\n",
              "      <td>Wappingers Falls, New York</td>\n",
              "      <td>Foodie, Trendsetter, Like a Local, Luxury Trav...</td>\n",
              "      <td>...</td>\n",
              "      <td>2.0</td>\n",
              "      <td>NaN</td>\n",
              "      <td>NaN</td>\n",
              "      <td>1.0</td>\n",
              "      <td>NaN</td>\n",
              "      <td>NaN</td>\n",
              "      <td>10.0</td>\n",
              "      <td>1144.0</td>\n",
              "      <td>3</td>\n",
              "      <td>14</td>\n",
              "    </tr>\n",
              "  </tbody>\n",
              "</table>\n",
              "<p>2 rows × 24 columns</p>\n",
              "</div>\n",
              "      <button class=\"colab-df-convert\" onclick=\"convertToInteractive('df-e3768097-4a05-42b3-bbae-2ac3a00496e6')\"\n",
              "              title=\"Convert this dataframe to an interactive table.\"\n",
              "              style=\"display:none;\">\n",
              "        \n",
              "  <svg xmlns=\"http://www.w3.org/2000/svg\" height=\"24px\"viewBox=\"0 0 24 24\"\n",
              "       width=\"24px\">\n",
              "    <path d=\"M0 0h24v24H0V0z\" fill=\"none\"/>\n",
              "    <path d=\"M18.56 5.44l.94 2.06.94-2.06 2.06-.94-2.06-.94-.94-2.06-.94 2.06-2.06.94zm-11 1L8.5 8.5l.94-2.06 2.06-.94-2.06-.94L8.5 2.5l-.94 2.06-2.06.94zm10 10l.94 2.06.94-2.06 2.06-.94-2.06-.94-.94-2.06-.94 2.06-2.06.94z\"/><path d=\"M17.41 7.96l-1.37-1.37c-.4-.4-.92-.59-1.43-.59-.52 0-1.04.2-1.43.59L10.3 9.45l-7.72 7.72c-.78.78-.78 2.05 0 2.83L4 21.41c.39.39.9.59 1.41.59.51 0 1.02-.2 1.41-.59l7.78-7.78 2.81-2.81c.8-.78.8-2.07 0-2.86zM5.41 20L4 18.59l7.72-7.72 1.47 1.35L5.41 20z\"/>\n",
              "  </svg>\n",
              "      </button>\n",
              "      \n",
              "  <style>\n",
              "    .colab-df-container {\n",
              "      display:flex;\n",
              "      flex-wrap:wrap;\n",
              "      gap: 12px;\n",
              "    }\n",
              "\n",
              "    .colab-df-convert {\n",
              "      background-color: #E8F0FE;\n",
              "      border: none;\n",
              "      border-radius: 50%;\n",
              "      cursor: pointer;\n",
              "      display: none;\n",
              "      fill: #1967D2;\n",
              "      height: 32px;\n",
              "      padding: 0 0 0 0;\n",
              "      width: 32px;\n",
              "    }\n",
              "\n",
              "    .colab-df-convert:hover {\n",
              "      background-color: #E2EBFA;\n",
              "      box-shadow: 0px 1px 2px rgba(60, 64, 67, 0.3), 0px 1px 3px 1px rgba(60, 64, 67, 0.15);\n",
              "      fill: #174EA6;\n",
              "    }\n",
              "\n",
              "    [theme=dark] .colab-df-convert {\n",
              "      background-color: #3B4455;\n",
              "      fill: #D2E3FC;\n",
              "    }\n",
              "\n",
              "    [theme=dark] .colab-df-convert:hover {\n",
              "      background-color: #434B5C;\n",
              "      box-shadow: 0px 1px 3px 1px rgba(0, 0, 0, 0.15);\n",
              "      filter: drop-shadow(0px 1px 2px rgba(0, 0, 0, 0.3));\n",
              "      fill: #FFFFFF;\n",
              "    }\n",
              "  </style>\n",
              "\n",
              "      <script>\n",
              "        const buttonEl =\n",
              "          document.querySelector('#df-e3768097-4a05-42b3-bbae-2ac3a00496e6 button.colab-df-convert');\n",
              "        buttonEl.style.display =\n",
              "          google.colab.kernel.accessAllowed ? 'block' : 'none';\n",
              "\n",
              "        async function convertToInteractive(key) {\n",
              "          const element = document.querySelector('#df-e3768097-4a05-42b3-bbae-2ac3a00496e6');\n",
              "          const dataTable =\n",
              "            await google.colab.kernel.invokeFunction('convertToInteractive',\n",
              "                                                     [key], {});\n",
              "          if (!dataTable) return;\n",
              "\n",
              "          const docLinkHtml = 'Like what you see? Visit the ' +\n",
              "            '<a target=\"_blank\" href=https://colab.research.google.com/notebooks/data_table.ipynb>data table notebook</a>'\n",
              "            + ' to learn more about interactive tables.';\n",
              "          element.innerHTML = '';\n",
              "          dataTable['output_type'] = 'display_data';\n",
              "          await google.colab.output.renderOutput(dataTable, element);\n",
              "          const docLink = document.createElement('div');\n",
              "          docLink.innerHTML = docLinkHtml;\n",
              "          element.appendChild(docLink);\n",
              "        }\n",
              "      </script>\n",
              "    </div>\n",
              "  </div>\n",
              "  "
            ]
          },
          "metadata": {},
          "execution_count": 52
        }
      ],
      "source": [
        "data1_and_3 = pd.merge(data1, filtered_data3, on=['username'])\n",
        "data1_and_3.head(2)\n"
      ]
    },
    {
      "cell_type": "code",
      "execution_count": 53,
      "metadata": {
        "colab": {
          "base_uri": "https://localhost:8080/",
          "height": 396
        },
        "id": "B46VomCqQlCz",
        "outputId": "8b581bdc-9414-496b-9ea7-d3aa80c91fe9"
      },
      "outputs": [
        {
          "output_type": "execute_result",
          "data": {
            "text/plain": [
              "  username     open     cons   extra    agree    neuro ageRange  gender  \\\n",
              "0    0BKI0  0.64006  0.55189  0.5622  0.57943  0.46188    25-34  female   \n",
              "1    0BKI0  0.64006  0.55189  0.5622  0.57943  0.46188    25-34  female   \n",
              "\n",
              "  location                           travelStyle  ...         type       date  \\\n",
              "0  Bristol  Foodie, Nature Lover, Urban Explorer  ...  Restaurants 2015-09-28   \n",
              "1  Bristol  Foodie, Nature Lover, Urban Explorer  ...  Restaurants 2015-06-30   \n",
              "\n",
              "                                               title  \\\n",
              "0                      Unhygienic & terrible service   \n",
              "1  Beautiful resturant overlooking the beach and ...   \n",
              "\n",
              "                                                text  rating  helpfulness  \\\n",
              "0  I have visited this restaurant twice before an...       1          0.0   \n",
              "1  If you are in Alvor you must visit Canico! Bea...       5          1.0   \n",
              "\n",
              "   total_points           taObject  \\\n",
              "0           100     Wahaca Bristol   \n",
              "1           101  Canico Restaurant   \n",
              "\n",
              "                                         taObjectUrl  taObjectCity  \n",
              "0  http://www.tripadvisor.com/Restaurant_Review-g...       Bristol  \n",
              "1  http://www.tripadvisor.com/Restaurant_Review-g...         Alvor  \n",
              "\n",
              "[2 rows x 35 columns]"
            ],
            "text/html": [
              "\n",
              "  <div id=\"df-45d9328d-a1ac-45e8-a89b-65e2636ca436\">\n",
              "    <div class=\"colab-df-container\">\n",
              "      <div>\n",
              "<style scoped>\n",
              "    .dataframe tbody tr th:only-of-type {\n",
              "        vertical-align: middle;\n",
              "    }\n",
              "\n",
              "    .dataframe tbody tr th {\n",
              "        vertical-align: top;\n",
              "    }\n",
              "\n",
              "    .dataframe thead th {\n",
              "        text-align: right;\n",
              "    }\n",
              "</style>\n",
              "<table border=\"1\" class=\"dataframe\">\n",
              "  <thead>\n",
              "    <tr style=\"text-align: right;\">\n",
              "      <th></th>\n",
              "      <th>username</th>\n",
              "      <th>open</th>\n",
              "      <th>cons</th>\n",
              "      <th>extra</th>\n",
              "      <th>agree</th>\n",
              "      <th>neuro</th>\n",
              "      <th>ageRange</th>\n",
              "      <th>gender</th>\n",
              "      <th>location</th>\n",
              "      <th>travelStyle</th>\n",
              "      <th>...</th>\n",
              "      <th>type</th>\n",
              "      <th>date</th>\n",
              "      <th>title</th>\n",
              "      <th>text</th>\n",
              "      <th>rating</th>\n",
              "      <th>helpfulness</th>\n",
              "      <th>total_points</th>\n",
              "      <th>taObject</th>\n",
              "      <th>taObjectUrl</th>\n",
              "      <th>taObjectCity</th>\n",
              "    </tr>\n",
              "  </thead>\n",
              "  <tbody>\n",
              "    <tr>\n",
              "      <th>0</th>\n",
              "      <td>0BKI0</td>\n",
              "      <td>0.64006</td>\n",
              "      <td>0.55189</td>\n",
              "      <td>0.5622</td>\n",
              "      <td>0.57943</td>\n",
              "      <td>0.46188</td>\n",
              "      <td>25-34</td>\n",
              "      <td>female</td>\n",
              "      <td>Bristol</td>\n",
              "      <td>Foodie, Nature Lover, Urban Explorer</td>\n",
              "      <td>...</td>\n",
              "      <td>Restaurants</td>\n",
              "      <td>2015-09-28</td>\n",
              "      <td>Unhygienic &amp; terrible service</td>\n",
              "      <td>I have visited this restaurant twice before an...</td>\n",
              "      <td>1</td>\n",
              "      <td>0.0</td>\n",
              "      <td>100</td>\n",
              "      <td>Wahaca Bristol</td>\n",
              "      <td>http://www.tripadvisor.com/Restaurant_Review-g...</td>\n",
              "      <td>Bristol</td>\n",
              "    </tr>\n",
              "    <tr>\n",
              "      <th>1</th>\n",
              "      <td>0BKI0</td>\n",
              "      <td>0.64006</td>\n",
              "      <td>0.55189</td>\n",
              "      <td>0.5622</td>\n",
              "      <td>0.57943</td>\n",
              "      <td>0.46188</td>\n",
              "      <td>25-34</td>\n",
              "      <td>female</td>\n",
              "      <td>Bristol</td>\n",
              "      <td>Foodie, Nature Lover, Urban Explorer</td>\n",
              "      <td>...</td>\n",
              "      <td>Restaurants</td>\n",
              "      <td>2015-06-30</td>\n",
              "      <td>Beautiful resturant overlooking the beach and ...</td>\n",
              "      <td>If you are in Alvor you must visit Canico! Bea...</td>\n",
              "      <td>5</td>\n",
              "      <td>1.0</td>\n",
              "      <td>101</td>\n",
              "      <td>Canico Restaurant</td>\n",
              "      <td>http://www.tripadvisor.com/Restaurant_Review-g...</td>\n",
              "      <td>Alvor</td>\n",
              "    </tr>\n",
              "  </tbody>\n",
              "</table>\n",
              "<p>2 rows × 35 columns</p>\n",
              "</div>\n",
              "      <button class=\"colab-df-convert\" onclick=\"convertToInteractive('df-45d9328d-a1ac-45e8-a89b-65e2636ca436')\"\n",
              "              title=\"Convert this dataframe to an interactive table.\"\n",
              "              style=\"display:none;\">\n",
              "        \n",
              "  <svg xmlns=\"http://www.w3.org/2000/svg\" height=\"24px\"viewBox=\"0 0 24 24\"\n",
              "       width=\"24px\">\n",
              "    <path d=\"M0 0h24v24H0V0z\" fill=\"none\"/>\n",
              "    <path d=\"M18.56 5.44l.94 2.06.94-2.06 2.06-.94-2.06-.94-.94-2.06-.94 2.06-2.06.94zm-11 1L8.5 8.5l.94-2.06 2.06-.94-2.06-.94L8.5 2.5l-.94 2.06-2.06.94zm10 10l.94 2.06.94-2.06 2.06-.94-2.06-.94-.94-2.06-.94 2.06-2.06.94z\"/><path d=\"M17.41 7.96l-1.37-1.37c-.4-.4-.92-.59-1.43-.59-.52 0-1.04.2-1.43.59L10.3 9.45l-7.72 7.72c-.78.78-.78 2.05 0 2.83L4 21.41c.39.39.9.59 1.41.59.51 0 1.02-.2 1.41-.59l7.78-7.78 2.81-2.81c.8-.78.8-2.07 0-2.86zM5.41 20L4 18.59l7.72-7.72 1.47 1.35L5.41 20z\"/>\n",
              "  </svg>\n",
              "      </button>\n",
              "      \n",
              "  <style>\n",
              "    .colab-df-container {\n",
              "      display:flex;\n",
              "      flex-wrap:wrap;\n",
              "      gap: 12px;\n",
              "    }\n",
              "\n",
              "    .colab-df-convert {\n",
              "      background-color: #E8F0FE;\n",
              "      border: none;\n",
              "      border-radius: 50%;\n",
              "      cursor: pointer;\n",
              "      display: none;\n",
              "      fill: #1967D2;\n",
              "      height: 32px;\n",
              "      padding: 0 0 0 0;\n",
              "      width: 32px;\n",
              "    }\n",
              "\n",
              "    .colab-df-convert:hover {\n",
              "      background-color: #E2EBFA;\n",
              "      box-shadow: 0px 1px 2px rgba(60, 64, 67, 0.3), 0px 1px 3px 1px rgba(60, 64, 67, 0.15);\n",
              "      fill: #174EA6;\n",
              "    }\n",
              "\n",
              "    [theme=dark] .colab-df-convert {\n",
              "      background-color: #3B4455;\n",
              "      fill: #D2E3FC;\n",
              "    }\n",
              "\n",
              "    [theme=dark] .colab-df-convert:hover {\n",
              "      background-color: #434B5C;\n",
              "      box-shadow: 0px 1px 3px 1px rgba(0, 0, 0, 0.15);\n",
              "      filter: drop-shadow(0px 1px 2px rgba(0, 0, 0, 0.3));\n",
              "      fill: #FFFFFF;\n",
              "    }\n",
              "  </style>\n",
              "\n",
              "      <script>\n",
              "        const buttonEl =\n",
              "          document.querySelector('#df-45d9328d-a1ac-45e8-a89b-65e2636ca436 button.colab-df-convert');\n",
              "        buttonEl.style.display =\n",
              "          google.colab.kernel.accessAllowed ? 'block' : 'none';\n",
              "\n",
              "        async function convertToInteractive(key) {\n",
              "          const element = document.querySelector('#df-45d9328d-a1ac-45e8-a89b-65e2636ca436');\n",
              "          const dataTable =\n",
              "            await google.colab.kernel.invokeFunction('convertToInteractive',\n",
              "                                                     [key], {});\n",
              "          if (!dataTable) return;\n",
              "\n",
              "          const docLinkHtml = 'Like what you see? Visit the ' +\n",
              "            '<a target=\"_blank\" href=https://colab.research.google.com/notebooks/data_table.ipynb>data table notebook</a>'\n",
              "            + ' to learn more about interactive tables.';\n",
              "          element.innerHTML = '';\n",
              "          dataTable['output_type'] = 'display_data';\n",
              "          await google.colab.output.renderOutput(dataTable, element);\n",
              "          const docLink = document.createElement('div');\n",
              "          docLink.innerHTML = docLinkHtml;\n",
              "          element.appendChild(docLink);\n",
              "        }\n",
              "      </script>\n",
              "    </div>\n",
              "  </div>\n",
              "  "
            ]
          },
          "metadata": {},
          "execution_count": 53
        }
      ],
      "source": [
        "final_table = pd.merge(data1_and_3, data4, on=['username'])\n",
        "final_table.head(2)"
      ]
    },
    {
      "cell_type": "code",
      "execution_count": 54,
      "metadata": {
        "id": "pCEGyQH4QlCz"
      },
      "outputs": [],
      "source": [
        "final_table.type.unique();"
      ]
    },
    {
      "cell_type": "code",
      "execution_count": 55,
      "metadata": {
        "id": "wpT3aQZoQlCz"
      },
      "outputs": [],
      "source": [
        "attra_mask_final = final_table.type == 'Attractions'"
      ]
    },
    {
      "cell_type": "code",
      "execution_count": 56,
      "metadata": {
        "id": "tubUxRPSQlCz"
      },
      "outputs": [],
      "source": [
        "final_table_2 = final_table[attra_mask_final]\n"
      ]
    },
    {
      "cell_type": "code",
      "execution_count": 57,
      "metadata": {
        "colab": {
          "base_uri": "https://localhost:8080/"
        },
        "id": "RWj9lieiQlCz",
        "outputId": "bba04937-d892-49b3-cc3f-0e0ca76d1f76"
      },
      "outputs": [
        {
          "output_type": "execute_result",
          "data": {
            "text/plain": [
              "array(['username', 'open', 'cons', 'extra', 'agree', 'neuro', 'ageRange',\n",
              "       'gender', 'location', 'travelStyle', 'reviewerBadge',\n",
              "       'registerDate', 'numHotelsReviews', 'numRestReviews',\n",
              "       'numAttractReviews', 'numFirstToReview', 'numRatings', 'numPhotos',\n",
              "       'numForumPosts', 'numArticles', 'numCitiesBeen', 'totalPoints',\n",
              "       'contribLevel', 'numHelpfulVotes', 'id', 'type', 'date', 'title',\n",
              "       'text', 'rating', 'helpfulness', 'total_points', 'taObject',\n",
              "       'taObjectUrl', 'taObjectCity'], dtype=object)"
            ]
          },
          "metadata": {},
          "execution_count": 57
        }
      ],
      "source": [
        "final_table_2.columns.values"
      ]
    },
    {
      "cell_type": "code",
      "execution_count": 58,
      "metadata": {
        "scrolled": true,
        "id": "M6DSmIydQlCz"
      },
      "outputs": [],
      "source": [
        "final_table_2.shape;"
      ]
    },
    {
      "cell_type": "markdown",
      "metadata": {
        "id": "5pwL6uPdQlCz"
      },
      "source": [
        "# 109 cities have more than 4 reviews"
      ]
    },
    {
      "cell_type": "code",
      "execution_count": 59,
      "metadata": {
        "colab": {
          "base_uri": "https://localhost:8080/"
        },
        "id": "XAKuuqPaQlC0",
        "outputId": "36468855-939a-4d96-e73e-49f2801db48e"
      },
      "outputs": [
        {
          "output_type": "stream",
          "name": "stdout",
          "text": [
            "['Berlin', 'London', 'Kuala Lumpur', 'Brussels', 'Darwin', 'Chattanooga', 'St. Petersburg', 'Vienna', 'Athens', 'Granada', 'Barcelona', 'Madrid', 'Canberra', 'Washington DC', 'New York City', 'Montreal', 'Budapest', 'Santa Barbara', 'Sydney', 'Hanoi', 'Rome', 'Nashville', 'San Francisco', 'Dubai', 'Calgary', 'Quebec City', 'Chicago', 'Orlando', 'Anaheim', 'Lucerne', 'Amsterdam', 'Honolulu', 'Cologne', 'Paris', 'Monterey', 'Las Vegas', 'Boston', 'Yellowstone National Park', 'Bangkok', 'Lahaina', 'Helsinki', 'Hong Kong', 'Munich', 'Singapore', 'Vatican City', 'San Juan', 'Stratford-upon-Avon', 'Niagara Falls', 'Florence', 'Tallinn', 'Nice', 'Oxford', 'Reykjavik', 'Bergen', 'Venice', 'Key West', 'Atlanta', 'Miami', 'Los Angeles', 'Edinburgh', 'Belfast', 'Minato', 'Seattle', 'Brighton', 'Sentosa Island', 'Sao Paulo', 'Rio de Janeiro', 'Buenos Aires', 'Prague', 'Istanbul', 'Oslo', 'Manchester', 'Salzburg', 'Toronto', 'Naples', 'Lancaster', 'Moscow', 'Milan', 'Monte-Carlo', 'Hoi An', 'Warsaw', 'Halifax', 'Vancouver', 'Baltimore', 'Kanchanaburi', 'Stockholm', 'Melbourne', 'Genoa', 'Leicester', 'New Orleans', 'San Diego', 'Plymouth', 'Sacramento', 'Ottawa', 'California', 'Yosemite National Park', 'Sequoia and Kings Canyon National Park', 'Torremolinos', 'Kyoto', 'Chuo', 'Regina', 'Detroit', 'Bath', 'Mexico City', 'Bridgetown', 'Bucharest', 'Virgin Islands National Park', 'Kish Island', 'Minsk']\n"
          ]
        }
      ],
      "source": [
        "#Counter(final_table_2.taObjectCity).values() > 2\n",
        "pop_city = []\n",
        "for item, value in Counter(final_table_2.taObjectCity).items():\n",
        "    if value > 4:\n",
        "        pop_city.append(item)\n",
        "len(pop_city)\n",
        "print(pop_city)"
      ]
    },
    {
      "cell_type": "markdown",
      "metadata": {
        "id": "9w6YaCjhQlC0"
      },
      "source": [
        "# group by cities then run NLP and then create city clusters"
      ]
    },
    {
      "cell_type": "code",
      "execution_count": 60,
      "metadata": {
        "id": "-1SOy71UQlC0"
      },
      "outputs": [],
      "source": [
        "final_table_3 = final_table_2[final_table_2.taObjectCity.isin(pop_city)]\n",
        "#df[~df.Species.isin(['Cat'])]"
      ]
    },
    {
      "cell_type": "code",
      "execution_count": 61,
      "metadata": {
        "scrolled": true,
        "colab": {
          "base_uri": "https://localhost:8080/",
          "height": 733
        },
        "id": "pHGtqBa8QlC0",
        "outputId": "98dde6ee-5c81-4e42-eccf-06fcd7055ed5"
      },
      "outputs": [
        {
          "output_type": "execute_result",
          "data": {
            "text/plain": [
              "   index username     open     cons    extra    agree    neuro ageRange  \\\n",
              "0     61    19Cam  0.64198  0.55524  0.56619  0.58622  0.46087    25-34   \n",
              "1     62    19Cam  0.64198  0.55524  0.56619  0.58622  0.46087    25-34   \n",
              "2     77    19Cam  0.64198  0.55524  0.56619  0.58622  0.46087    25-34   \n",
              "3    113    19Cam  0.64198  0.55524  0.56619  0.58622  0.46087    25-34   \n",
              "4    131    19Cam  0.64198  0.55524  0.56619  0.58622  0.46087    25-34   \n",
              "\n",
              "  gender                location  ...         type       date  \\\n",
              "0   male  London, United Kingdom  ...  Attractions 2015-09-04   \n",
              "1   male  London, United Kingdom  ...  Attractions 2015-09-04   \n",
              "2   male  London, United Kingdom  ...  Attractions 2013-11-09   \n",
              "3   male  London, United Kingdom  ...  Attractions 2013-01-27   \n",
              "4   male  London, United Kingdom  ...  Attractions 2012-06-25   \n",
              "\n",
              "                                     title  \\\n",
              "0                   See it before its gone   \n",
              "1  Worth a look for the architecture alone   \n",
              "2                                Fantastic   \n",
              "3               Tranquility in a busy city   \n",
              "4     Tourist trap, some nice architecture   \n",
              "\n",
              "                                                text  rating  helpfulness  \\\n",
              "0  The box is only a temporary exhibit while cons...       4          0.0   \n",
              "1  A large collection, presented in a stunning bu...       3          0.0   \n",
              "2  After reading all the hype about this show, I ...       5          0.0   \n",
              "3  Sited within the main botanical gardens area o...       4          0.0   \n",
              "4  Not a lot to say. It&acute;s a big plaza. Not ...       3          1.0   \n",
              "\n",
              "   total_points                   taObject  \\\n",
              "0           100               Humboldt Box   \n",
              "1           100               Neues Museum   \n",
              "2           100  The Book of Mormon London   \n",
              "3           100  Orchid Park (Taman Orkid)   \n",
              "4           101                Grand-Place   \n",
              "\n",
              "                                         taObjectUrl  taObjectCity  \n",
              "0  http://www.tripadvisor.com/Attraction_Review-g...        Berlin  \n",
              "1  http://www.tripadvisor.com/Attraction_Review-g...        Berlin  \n",
              "2  http://www.tripadvisor.com/Attraction_Review-g...        London  \n",
              "3  http://www.tripadvisor.com/Attraction_Review-g...  Kuala Lumpur  \n",
              "4  http://www.tripadvisor.com/Attraction_Review-g...      Brussels  \n",
              "\n",
              "[5 rows x 36 columns]"
            ],
            "text/html": [
              "\n",
              "  <div id=\"df-a17d0237-3db0-4e35-aeee-6e008ee0dcce\">\n",
              "    <div class=\"colab-df-container\">\n",
              "      <div>\n",
              "<style scoped>\n",
              "    .dataframe tbody tr th:only-of-type {\n",
              "        vertical-align: middle;\n",
              "    }\n",
              "\n",
              "    .dataframe tbody tr th {\n",
              "        vertical-align: top;\n",
              "    }\n",
              "\n",
              "    .dataframe thead th {\n",
              "        text-align: right;\n",
              "    }\n",
              "</style>\n",
              "<table border=\"1\" class=\"dataframe\">\n",
              "  <thead>\n",
              "    <tr style=\"text-align: right;\">\n",
              "      <th></th>\n",
              "      <th>index</th>\n",
              "      <th>username</th>\n",
              "      <th>open</th>\n",
              "      <th>cons</th>\n",
              "      <th>extra</th>\n",
              "      <th>agree</th>\n",
              "      <th>neuro</th>\n",
              "      <th>ageRange</th>\n",
              "      <th>gender</th>\n",
              "      <th>location</th>\n",
              "      <th>...</th>\n",
              "      <th>type</th>\n",
              "      <th>date</th>\n",
              "      <th>title</th>\n",
              "      <th>text</th>\n",
              "      <th>rating</th>\n",
              "      <th>helpfulness</th>\n",
              "      <th>total_points</th>\n",
              "      <th>taObject</th>\n",
              "      <th>taObjectUrl</th>\n",
              "      <th>taObjectCity</th>\n",
              "    </tr>\n",
              "  </thead>\n",
              "  <tbody>\n",
              "    <tr>\n",
              "      <th>0</th>\n",
              "      <td>61</td>\n",
              "      <td>19Cam</td>\n",
              "      <td>0.64198</td>\n",
              "      <td>0.55524</td>\n",
              "      <td>0.56619</td>\n",
              "      <td>0.58622</td>\n",
              "      <td>0.46087</td>\n",
              "      <td>25-34</td>\n",
              "      <td>male</td>\n",
              "      <td>London, United Kingdom</td>\n",
              "      <td>...</td>\n",
              "      <td>Attractions</td>\n",
              "      <td>2015-09-04</td>\n",
              "      <td>See it before its gone</td>\n",
              "      <td>The box is only a temporary exhibit while cons...</td>\n",
              "      <td>4</td>\n",
              "      <td>0.0</td>\n",
              "      <td>100</td>\n",
              "      <td>Humboldt Box</td>\n",
              "      <td>http://www.tripadvisor.com/Attraction_Review-g...</td>\n",
              "      <td>Berlin</td>\n",
              "    </tr>\n",
              "    <tr>\n",
              "      <th>1</th>\n",
              "      <td>62</td>\n",
              "      <td>19Cam</td>\n",
              "      <td>0.64198</td>\n",
              "      <td>0.55524</td>\n",
              "      <td>0.56619</td>\n",
              "      <td>0.58622</td>\n",
              "      <td>0.46087</td>\n",
              "      <td>25-34</td>\n",
              "      <td>male</td>\n",
              "      <td>London, United Kingdom</td>\n",
              "      <td>...</td>\n",
              "      <td>Attractions</td>\n",
              "      <td>2015-09-04</td>\n",
              "      <td>Worth a look for the architecture alone</td>\n",
              "      <td>A large collection, presented in a stunning bu...</td>\n",
              "      <td>3</td>\n",
              "      <td>0.0</td>\n",
              "      <td>100</td>\n",
              "      <td>Neues Museum</td>\n",
              "      <td>http://www.tripadvisor.com/Attraction_Review-g...</td>\n",
              "      <td>Berlin</td>\n",
              "    </tr>\n",
              "    <tr>\n",
              "      <th>2</th>\n",
              "      <td>77</td>\n",
              "      <td>19Cam</td>\n",
              "      <td>0.64198</td>\n",
              "      <td>0.55524</td>\n",
              "      <td>0.56619</td>\n",
              "      <td>0.58622</td>\n",
              "      <td>0.46087</td>\n",
              "      <td>25-34</td>\n",
              "      <td>male</td>\n",
              "      <td>London, United Kingdom</td>\n",
              "      <td>...</td>\n",
              "      <td>Attractions</td>\n",
              "      <td>2013-11-09</td>\n",
              "      <td>Fantastic</td>\n",
              "      <td>After reading all the hype about this show, I ...</td>\n",
              "      <td>5</td>\n",
              "      <td>0.0</td>\n",
              "      <td>100</td>\n",
              "      <td>The Book of Mormon London</td>\n",
              "      <td>http://www.tripadvisor.com/Attraction_Review-g...</td>\n",
              "      <td>London</td>\n",
              "    </tr>\n",
              "    <tr>\n",
              "      <th>3</th>\n",
              "      <td>113</td>\n",
              "      <td>19Cam</td>\n",
              "      <td>0.64198</td>\n",
              "      <td>0.55524</td>\n",
              "      <td>0.56619</td>\n",
              "      <td>0.58622</td>\n",
              "      <td>0.46087</td>\n",
              "      <td>25-34</td>\n",
              "      <td>male</td>\n",
              "      <td>London, United Kingdom</td>\n",
              "      <td>...</td>\n",
              "      <td>Attractions</td>\n",
              "      <td>2013-01-27</td>\n",
              "      <td>Tranquility in a busy city</td>\n",
              "      <td>Sited within the main botanical gardens area o...</td>\n",
              "      <td>4</td>\n",
              "      <td>0.0</td>\n",
              "      <td>100</td>\n",
              "      <td>Orchid Park (Taman Orkid)</td>\n",
              "      <td>http://www.tripadvisor.com/Attraction_Review-g...</td>\n",
              "      <td>Kuala Lumpur</td>\n",
              "    </tr>\n",
              "    <tr>\n",
              "      <th>4</th>\n",
              "      <td>131</td>\n",
              "      <td>19Cam</td>\n",
              "      <td>0.64198</td>\n",
              "      <td>0.55524</td>\n",
              "      <td>0.56619</td>\n",
              "      <td>0.58622</td>\n",
              "      <td>0.46087</td>\n",
              "      <td>25-34</td>\n",
              "      <td>male</td>\n",
              "      <td>London, United Kingdom</td>\n",
              "      <td>...</td>\n",
              "      <td>Attractions</td>\n",
              "      <td>2012-06-25</td>\n",
              "      <td>Tourist trap, some nice architecture</td>\n",
              "      <td>Not a lot to say. It&amp;acute;s a big plaza. Not ...</td>\n",
              "      <td>3</td>\n",
              "      <td>1.0</td>\n",
              "      <td>101</td>\n",
              "      <td>Grand-Place</td>\n",
              "      <td>http://www.tripadvisor.com/Attraction_Review-g...</td>\n",
              "      <td>Brussels</td>\n",
              "    </tr>\n",
              "  </tbody>\n",
              "</table>\n",
              "<p>5 rows × 36 columns</p>\n",
              "</div>\n",
              "      <button class=\"colab-df-convert\" onclick=\"convertToInteractive('df-a17d0237-3db0-4e35-aeee-6e008ee0dcce')\"\n",
              "              title=\"Convert this dataframe to an interactive table.\"\n",
              "              style=\"display:none;\">\n",
              "        \n",
              "  <svg xmlns=\"http://www.w3.org/2000/svg\" height=\"24px\"viewBox=\"0 0 24 24\"\n",
              "       width=\"24px\">\n",
              "    <path d=\"M0 0h24v24H0V0z\" fill=\"none\"/>\n",
              "    <path d=\"M18.56 5.44l.94 2.06.94-2.06 2.06-.94-2.06-.94-.94-2.06-.94 2.06-2.06.94zm-11 1L8.5 8.5l.94-2.06 2.06-.94-2.06-.94L8.5 2.5l-.94 2.06-2.06.94zm10 10l.94 2.06.94-2.06 2.06-.94-2.06-.94-.94-2.06-.94 2.06-2.06.94z\"/><path d=\"M17.41 7.96l-1.37-1.37c-.4-.4-.92-.59-1.43-.59-.52 0-1.04.2-1.43.59L10.3 9.45l-7.72 7.72c-.78.78-.78 2.05 0 2.83L4 21.41c.39.39.9.59 1.41.59.51 0 1.02-.2 1.41-.59l7.78-7.78 2.81-2.81c.8-.78.8-2.07 0-2.86zM5.41 20L4 18.59l7.72-7.72 1.47 1.35L5.41 20z\"/>\n",
              "  </svg>\n",
              "      </button>\n",
              "      \n",
              "  <style>\n",
              "    .colab-df-container {\n",
              "      display:flex;\n",
              "      flex-wrap:wrap;\n",
              "      gap: 12px;\n",
              "    }\n",
              "\n",
              "    .colab-df-convert {\n",
              "      background-color: #E8F0FE;\n",
              "      border: none;\n",
              "      border-radius: 50%;\n",
              "      cursor: pointer;\n",
              "      display: none;\n",
              "      fill: #1967D2;\n",
              "      height: 32px;\n",
              "      padding: 0 0 0 0;\n",
              "      width: 32px;\n",
              "    }\n",
              "\n",
              "    .colab-df-convert:hover {\n",
              "      background-color: #E2EBFA;\n",
              "      box-shadow: 0px 1px 2px rgba(60, 64, 67, 0.3), 0px 1px 3px 1px rgba(60, 64, 67, 0.15);\n",
              "      fill: #174EA6;\n",
              "    }\n",
              "\n",
              "    [theme=dark] .colab-df-convert {\n",
              "      background-color: #3B4455;\n",
              "      fill: #D2E3FC;\n",
              "    }\n",
              "\n",
              "    [theme=dark] .colab-df-convert:hover {\n",
              "      background-color: #434B5C;\n",
              "      box-shadow: 0px 1px 3px 1px rgba(0, 0, 0, 0.15);\n",
              "      filter: drop-shadow(0px 1px 2px rgba(0, 0, 0, 0.3));\n",
              "      fill: #FFFFFF;\n",
              "    }\n",
              "  </style>\n",
              "\n",
              "      <script>\n",
              "        const buttonEl =\n",
              "          document.querySelector('#df-a17d0237-3db0-4e35-aeee-6e008ee0dcce button.colab-df-convert');\n",
              "        buttonEl.style.display =\n",
              "          google.colab.kernel.accessAllowed ? 'block' : 'none';\n",
              "\n",
              "        async function convertToInteractive(key) {\n",
              "          const element = document.querySelector('#df-a17d0237-3db0-4e35-aeee-6e008ee0dcce');\n",
              "          const dataTable =\n",
              "            await google.colab.kernel.invokeFunction('convertToInteractive',\n",
              "                                                     [key], {});\n",
              "          if (!dataTable) return;\n",
              "\n",
              "          const docLinkHtml = 'Like what you see? Visit the ' +\n",
              "            '<a target=\"_blank\" href=https://colab.research.google.com/notebooks/data_table.ipynb>data table notebook</a>'\n",
              "            + ' to learn more about interactive tables.';\n",
              "          element.innerHTML = '';\n",
              "          dataTable['output_type'] = 'display_data';\n",
              "          await google.colab.output.renderOutput(dataTable, element);\n",
              "          const docLink = document.createElement('div');\n",
              "          docLink.innerHTML = docLinkHtml;\n",
              "          element.appendChild(docLink);\n",
              "        }\n",
              "      </script>\n",
              "    </div>\n",
              "  </div>\n",
              "  "
            ]
          },
          "metadata": {},
          "execution_count": 61
        }
      ],
      "source": [
        "final_table_3 = final_table_3.reset_index()\n",
        "final_table_3.head()\n",
        "#final_table_3.shape"
      ]
    },
    {
      "cell_type": "code",
      "execution_count": 62,
      "metadata": {
        "id": "8y3hUo8VQlC0"
      },
      "outputs": [],
      "source": [
        "#final_table_3.taObjectCity"
      ]
    },
    {
      "cell_type": "code",
      "execution_count": 63,
      "metadata": {
        "id": "tJr8dZnlQlC0"
      },
      "outputs": [],
      "source": [
        "reviews = final_table_3.title + ' ' + final_table_3.text\n",
        "content = [i for i in reviews]\n",
        "#content[:2]"
      ]
    },
    {
      "cell_type": "code",
      "execution_count": 64,
      "metadata": {
        "id": "0WZvZ5BWQlC0"
      },
      "outputs": [],
      "source": [
        "def cluster_texts(texts, clusters=3):\n",
        "    \"\"\" Transform texts to Tf-Idf coordinates and cluster texts using K-Means \"\"\"\n",
        "    vectorizer = TfidfVectorizer(stop_words=('english'),\n",
        "                                 max_features = 500,\n",
        "                                 lowercase=True)\n",
        " \n",
        "    tfidf_model = vectorizer.fit_transform(texts)\n",
        "    vectors = tfidf_model.toarray()\n",
        "    cols = vectorizer.get_feature_names()\n",
        "    \n",
        "    #print(vectors[0][100:200])\n",
        "    #print(cols[100:190])\n",
        "    return (vectors, cols)\n",
        "    \n",
        "#     km_model = KMeans(n_clusters=clusters)\n",
        "#     km_model.fit(tfidf_model)\n",
        " \n",
        "#     clustering = collections.defaultdict(list)\n",
        " \n",
        "#     for idx, label in enumerate(km_model.labels_):\n",
        "#         clustering[label].append(idx)\n",
        " \n",
        "#     return clustering\n",
        "def _cluster(vectors, cols, texts):\n",
        "    \"\"\"\n",
        "    Cluster vecotirzed reviews and create k books a data frame relating the\n",
        "    k label to the book id\n",
        "    \"\"\"\n",
        "    kmeans = KMeans(n_clusters=5).fit(vectors)\n",
        "    k_books = pd.DataFrame(list(zip(list(kmeans.labels_),\n",
        "                                list(texts.index))),\n",
        "                                columns=['k_label', 'book_id'])\n",
        "    \n",
        "    ''' added code to print centriod vocab - Print the top n words from all centroids vocab\n",
        "    '''\n",
        "    n = 30\n",
        "    centroids = kmeans.cluster_centers_\n",
        "    for ind, c in enumerate(centroids):\n",
        "        print(ind)\n",
        "        indices = c.argsort()[-1:-n-1:-1]\n",
        "        print([cols[i] for i in indices])\n",
        "        print(\"==\"*20)\n",
        "    \n",
        "    return k_books"
      ]
    },
    {
      "cell_type": "code",
      "execution_count": 65,
      "metadata": {
        "colab": {
          "base_uri": "https://localhost:8080/"
        },
        "id": "H-pvftO_QlC1",
        "outputId": "a451923b-7227-4ee8-cd2d-563777f53210"
      },
      "outputs": [
        {
          "output_type": "stream",
          "name": "stderr",
          "text": [
            "/usr/local/lib/python3.7/dist-packages/sklearn/utils/deprecation.py:87: FutureWarning: Function get_feature_names is deprecated; get_feature_names is deprecated in 1.0 and will be removed in 1.2. Please use get_feature_names_out instead.\n",
            "  warnings.warn(msg, category=FutureWarning)\n"
          ]
        },
        {
          "output_type": "stream",
          "name": "stdout",
          "text": [
            "0\n",
            "['museum', 'acute', 'visit', 'art', 'museums', 'time', 'exhibition', 'exhibits', 'collection', 'worth', 'history', 'like', 'free', 'world', 'new', 'great', 'modern', 'building', 'hours', 'presented', 'best', 'just', 'place', 'really', 'amazing', 'enjoyed', 'lot', 'children', 'small', 'day']\n",
            "========================================\n",
            "1\n",
            "['great', 'good', 'worth', 'visit', 'time', 'experience', 'just', 'amazing', 'really', 'acute', 'day', 'interesting', 'fun', 'para', 'people', 'tickets', 'food', 'best', 'excellent', 'inside', 'da', 'bit', 'got', 'like', 'sure', 'ride', 'loved', 'going', 'way', 'music']\n",
            "========================================\n",
            "2\n",
            "['tour', 'guide', 'acute', 'good', 'bus', 'fun', 'great', 'really', 'time', 'did', 'tours', 'city', 'interesting', 'day', 'history', 'way', 'knowledgeable', 'little', 'group', 'excellent', 'recommend', 'experience', 'trip', 'informative', 'walk', 'worth', 'driver', 'lot', 'place', 'highly']\n",
            "========================================\n",
            "3\n",
            "['nice', 'place', 'walk', 'beautiful', 'great', 'park', 'lovely', 'area', 'view', 'shops', 'acute', 'lots', 'good', 'views', 'worth', 'visit', 'just', 'day', 'walking', 'old', 'city', 'bridge', 'time', 'building', 'spend', 'street', 'trail', 'enjoy', 'garden', 'water']\n",
            "========================================\n",
            "4\n",
            "['acute', 'don', 'great', 'like', 'just', 'good', 'place', 'visit', 'didn', 'really', 'time', 'day', 'miss', 've', 'love', 'worth', 'best', 'fun', 'people', 'way', 'think', 'view', 'history', 'll', 'make', 'went', 'going', 'beautiful', 'world', 'want']\n",
            "========================================\n"
          ]
        }
      ],
      "source": [
        "#from pprint import pprint\n",
        "vector, cols = cluster_texts(content, 5)\n",
        "cluster_df = _cluster(vector, cols, reviews)"
      ]
    },
    {
      "cell_type": "code",
      "execution_count": 66,
      "metadata": {
        "id": "FCilq_gJQlC1"
      },
      "outputs": [],
      "source": [
        "cluster_df.head(10);\n",
        "#cluster_df.shape"
      ]
    },
    {
      "cell_type": "code",
      "execution_count": 67,
      "metadata": {
        "id": "sQB2reh0QlC1"
      },
      "outputs": [],
      "source": [
        "cluster2_mask = (cluster_df['k_label'] == 2)\n",
        "cluster0_mask = (cluster_df['k_label'] == 0)\n",
        "cluster3_mask = (cluster_df['k_label'] == 3)\n",
        "#cluster2_mask"
      ]
    },
    {
      "cell_type": "code",
      "execution_count": 68,
      "metadata": {
        "scrolled": false,
        "id": "2WzIpV6sQlC1"
      },
      "outputs": [],
      "source": [
        "#cluster_df[cluster2_mask].head(20);\n",
        "#cluster_df[cluster0_mask][:-10];\n",
        "cluster_df[cluster3_mask][100:120];"
      ]
    },
    {
      "cell_type": "code",
      "execution_count": 69,
      "metadata": {
        "id": "tDs3JMGpQlC1"
      },
      "outputs": [],
      "source": [
        "# from cluster 2\n",
        "final_table_3.iloc[[0, 5, 6, 9, 15, 17]];\n",
        "# Berlin, Darwin, London\n",
        "\n",
        "# from cluster 0\n",
        "final_table_3.iloc[[278, 279, 280, 611, 612, 986, 987]]\n",
        "# Sao Paulo, Quebec City, Rio de Janeiro, Orlando\n",
        "\n",
        "# from cluster 3\n",
        "final_table_3.iloc[[229, 230, 233, 300, 971, 1039, 1115]];\n",
        "# Atlanta, Niagara Falls, Bergen, New York City, Las Vegas, Reykjavik"
      ]
    },
    {
      "cell_type": "code",
      "execution_count": 70,
      "metadata": {
        "id": "OXJBDd6UQlC2"
      },
      "outputs": [],
      "source": [
        "# def print_centroid_vocab(self, n):\n",
        "#     \"\"\"\n",
        "#     Print the top n words from all centroids vocab\n",
        "#     \"\"\"\n",
        "#     centroids = self.kmeans.cluster_centers_\n",
        "#     for ind, c in enumerate(centroids):\n",
        "#         print(ind)\n",
        "#         indices = c.argsort()[-1:-n-1:-1]\n",
        "#         print([self.cols[i] for i in indices])\n",
        "#         print(\"==\"*20)"
      ]
    },
    {
      "cell_type": "markdown",
      "metadata": {
        "id": "VuWabPg3QlC2"
      },
      "source": [
        "# ALS model?"
      ]
    },
    {
      "cell_type": "markdown",
      "metadata": {
        "id": "GOeXQzs3QlC2"
      },
      "source": [
        "## create spark dataframe"
      ]
    },
    {
      "cell_type": "code",
      "execution_count": 99,
      "metadata": {
        "colab": {
          "base_uri": "https://localhost:8080/"
        },
        "id": "uNz84al7QlC2",
        "outputId": "84912d36-e511-4da3-df94-a4700d781e4c"
      },
      "outputs": [
        {
          "output_type": "stream",
          "name": "stderr",
          "text": [
            "/usr/local/lib/python3.7/dist-packages/pyspark/sql/context.py:79: FutureWarning: Deprecated in 3.0.0. Use SparkSession.builder.getOrCreate() instead.\n",
            "  FutureWarning\n"
          ]
        }
      ],
      "source": [
        "# Build our Spark Session and Context\n",
        "\n",
        "spark = pyspark.sql.SparkSession.builder.getOrCreate()\n",
        "sc = spark.sparkContext\n",
        "spark, sc\n",
        "sqlContext = SQLContext(sc)"
      ]
    },
    {
      "cell_type": "code",
      "execution_count": 100,
      "metadata": {
        "id": "e1qodmsGQlC2"
      },
      "outputs": [],
      "source": [
        "#ratings_df = spark.createDataFrame(.drop('timestamp', axis=1))"
      ]
    },
    {
      "cell_type": "code",
      "execution_count": 101,
      "metadata": {
        "id": "V2_awN9WQlC2"
      },
      "outputs": [],
      "source": [
        "np.linalg.svd?"
      ]
    },
    {
      "cell_type": "code",
      "execution_count": 102,
      "metadata": {
        "scrolled": true,
        "colab": {
          "base_uri": "https://localhost:8080/",
          "height": 733
        },
        "id": "xSLe8p2-QlC2",
        "outputId": "e0767c46-1627-4b4e-d4a6-52031188a523"
      },
      "outputs": [
        {
          "output_type": "execute_result",
          "data": {
            "text/plain": [
              "   index username     open     cons    extra    agree    neuro ageRange  \\\n",
              "0     61    19Cam  0.64198  0.55524  0.56619  0.58622  0.46087    25-34   \n",
              "1     62    19Cam  0.64198  0.55524  0.56619  0.58622  0.46087    25-34   \n",
              "2     77    19Cam  0.64198  0.55524  0.56619  0.58622  0.46087    25-34   \n",
              "3    113    19Cam  0.64198  0.55524  0.56619  0.58622  0.46087    25-34   \n",
              "4    131    19Cam  0.64198  0.55524  0.56619  0.58622  0.46087    25-34   \n",
              "\n",
              "  gender                location  ...         type       date  \\\n",
              "0   male  London, United Kingdom  ...  Attractions 2015-09-04   \n",
              "1   male  London, United Kingdom  ...  Attractions 2015-09-04   \n",
              "2   male  London, United Kingdom  ...  Attractions 2013-11-09   \n",
              "3   male  London, United Kingdom  ...  Attractions 2013-01-27   \n",
              "4   male  London, United Kingdom  ...  Attractions 2012-06-25   \n",
              "\n",
              "                                     title  \\\n",
              "0                   See it before its gone   \n",
              "1  Worth a look for the architecture alone   \n",
              "2                                Fantastic   \n",
              "3               Tranquility in a busy city   \n",
              "4     Tourist trap, some nice architecture   \n",
              "\n",
              "                                                text  rating  helpfulness  \\\n",
              "0  The box is only a temporary exhibit while cons...       4          0.0   \n",
              "1  A large collection, presented in a stunning bu...       3          0.0   \n",
              "2  After reading all the hype about this show, I ...       5          0.0   \n",
              "3  Sited within the main botanical gardens area o...       4          0.0   \n",
              "4  Not a lot to say. It&acute;s a big plaza. Not ...       3          1.0   \n",
              "\n",
              "   total_points                   taObject  \\\n",
              "0           100               Humboldt Box   \n",
              "1           100               Neues Museum   \n",
              "2           100  The Book of Mormon London   \n",
              "3           100  Orchid Park (Taman Orkid)   \n",
              "4           101                Grand-Place   \n",
              "\n",
              "                                         taObjectUrl  taObjectCity  \n",
              "0  http://www.tripadvisor.com/Attraction_Review-g...        Berlin  \n",
              "1  http://www.tripadvisor.com/Attraction_Review-g...        Berlin  \n",
              "2  http://www.tripadvisor.com/Attraction_Review-g...        London  \n",
              "3  http://www.tripadvisor.com/Attraction_Review-g...  Kuala Lumpur  \n",
              "4  http://www.tripadvisor.com/Attraction_Review-g...      Brussels  \n",
              "\n",
              "[5 rows x 36 columns]"
            ],
            "text/html": [
              "\n",
              "  <div id=\"df-6aa93415-271e-4501-be27-030efa5cb66a\">\n",
              "    <div class=\"colab-df-container\">\n",
              "      <div>\n",
              "<style scoped>\n",
              "    .dataframe tbody tr th:only-of-type {\n",
              "        vertical-align: middle;\n",
              "    }\n",
              "\n",
              "    .dataframe tbody tr th {\n",
              "        vertical-align: top;\n",
              "    }\n",
              "\n",
              "    .dataframe thead th {\n",
              "        text-align: right;\n",
              "    }\n",
              "</style>\n",
              "<table border=\"1\" class=\"dataframe\">\n",
              "  <thead>\n",
              "    <tr style=\"text-align: right;\">\n",
              "      <th></th>\n",
              "      <th>index</th>\n",
              "      <th>username</th>\n",
              "      <th>open</th>\n",
              "      <th>cons</th>\n",
              "      <th>extra</th>\n",
              "      <th>agree</th>\n",
              "      <th>neuro</th>\n",
              "      <th>ageRange</th>\n",
              "      <th>gender</th>\n",
              "      <th>location</th>\n",
              "      <th>...</th>\n",
              "      <th>type</th>\n",
              "      <th>date</th>\n",
              "      <th>title</th>\n",
              "      <th>text</th>\n",
              "      <th>rating</th>\n",
              "      <th>helpfulness</th>\n",
              "      <th>total_points</th>\n",
              "      <th>taObject</th>\n",
              "      <th>taObjectUrl</th>\n",
              "      <th>taObjectCity</th>\n",
              "    </tr>\n",
              "  </thead>\n",
              "  <tbody>\n",
              "    <tr>\n",
              "      <th>0</th>\n",
              "      <td>61</td>\n",
              "      <td>19Cam</td>\n",
              "      <td>0.64198</td>\n",
              "      <td>0.55524</td>\n",
              "      <td>0.56619</td>\n",
              "      <td>0.58622</td>\n",
              "      <td>0.46087</td>\n",
              "      <td>25-34</td>\n",
              "      <td>male</td>\n",
              "      <td>London, United Kingdom</td>\n",
              "      <td>...</td>\n",
              "      <td>Attractions</td>\n",
              "      <td>2015-09-04</td>\n",
              "      <td>See it before its gone</td>\n",
              "      <td>The box is only a temporary exhibit while cons...</td>\n",
              "      <td>4</td>\n",
              "      <td>0.0</td>\n",
              "      <td>100</td>\n",
              "      <td>Humboldt Box</td>\n",
              "      <td>http://www.tripadvisor.com/Attraction_Review-g...</td>\n",
              "      <td>Berlin</td>\n",
              "    </tr>\n",
              "    <tr>\n",
              "      <th>1</th>\n",
              "      <td>62</td>\n",
              "      <td>19Cam</td>\n",
              "      <td>0.64198</td>\n",
              "      <td>0.55524</td>\n",
              "      <td>0.56619</td>\n",
              "      <td>0.58622</td>\n",
              "      <td>0.46087</td>\n",
              "      <td>25-34</td>\n",
              "      <td>male</td>\n",
              "      <td>London, United Kingdom</td>\n",
              "      <td>...</td>\n",
              "      <td>Attractions</td>\n",
              "      <td>2015-09-04</td>\n",
              "      <td>Worth a look for the architecture alone</td>\n",
              "      <td>A large collection, presented in a stunning bu...</td>\n",
              "      <td>3</td>\n",
              "      <td>0.0</td>\n",
              "      <td>100</td>\n",
              "      <td>Neues Museum</td>\n",
              "      <td>http://www.tripadvisor.com/Attraction_Review-g...</td>\n",
              "      <td>Berlin</td>\n",
              "    </tr>\n",
              "    <tr>\n",
              "      <th>2</th>\n",
              "      <td>77</td>\n",
              "      <td>19Cam</td>\n",
              "      <td>0.64198</td>\n",
              "      <td>0.55524</td>\n",
              "      <td>0.56619</td>\n",
              "      <td>0.58622</td>\n",
              "      <td>0.46087</td>\n",
              "      <td>25-34</td>\n",
              "      <td>male</td>\n",
              "      <td>London, United Kingdom</td>\n",
              "      <td>...</td>\n",
              "      <td>Attractions</td>\n",
              "      <td>2013-11-09</td>\n",
              "      <td>Fantastic</td>\n",
              "      <td>After reading all the hype about this show, I ...</td>\n",
              "      <td>5</td>\n",
              "      <td>0.0</td>\n",
              "      <td>100</td>\n",
              "      <td>The Book of Mormon London</td>\n",
              "      <td>http://www.tripadvisor.com/Attraction_Review-g...</td>\n",
              "      <td>London</td>\n",
              "    </tr>\n",
              "    <tr>\n",
              "      <th>3</th>\n",
              "      <td>113</td>\n",
              "      <td>19Cam</td>\n",
              "      <td>0.64198</td>\n",
              "      <td>0.55524</td>\n",
              "      <td>0.56619</td>\n",
              "      <td>0.58622</td>\n",
              "      <td>0.46087</td>\n",
              "      <td>25-34</td>\n",
              "      <td>male</td>\n",
              "      <td>London, United Kingdom</td>\n",
              "      <td>...</td>\n",
              "      <td>Attractions</td>\n",
              "      <td>2013-01-27</td>\n",
              "      <td>Tranquility in a busy city</td>\n",
              "      <td>Sited within the main botanical gardens area o...</td>\n",
              "      <td>4</td>\n",
              "      <td>0.0</td>\n",
              "      <td>100</td>\n",
              "      <td>Orchid Park (Taman Orkid)</td>\n",
              "      <td>http://www.tripadvisor.com/Attraction_Review-g...</td>\n",
              "      <td>Kuala Lumpur</td>\n",
              "    </tr>\n",
              "    <tr>\n",
              "      <th>4</th>\n",
              "      <td>131</td>\n",
              "      <td>19Cam</td>\n",
              "      <td>0.64198</td>\n",
              "      <td>0.55524</td>\n",
              "      <td>0.56619</td>\n",
              "      <td>0.58622</td>\n",
              "      <td>0.46087</td>\n",
              "      <td>25-34</td>\n",
              "      <td>male</td>\n",
              "      <td>London, United Kingdom</td>\n",
              "      <td>...</td>\n",
              "      <td>Attractions</td>\n",
              "      <td>2012-06-25</td>\n",
              "      <td>Tourist trap, some nice architecture</td>\n",
              "      <td>Not a lot to say. It&amp;acute;s a big plaza. Not ...</td>\n",
              "      <td>3</td>\n",
              "      <td>1.0</td>\n",
              "      <td>101</td>\n",
              "      <td>Grand-Place</td>\n",
              "      <td>http://www.tripadvisor.com/Attraction_Review-g...</td>\n",
              "      <td>Brussels</td>\n",
              "    </tr>\n",
              "  </tbody>\n",
              "</table>\n",
              "<p>5 rows × 36 columns</p>\n",
              "</div>\n",
              "      <button class=\"colab-df-convert\" onclick=\"convertToInteractive('df-6aa93415-271e-4501-be27-030efa5cb66a')\"\n",
              "              title=\"Convert this dataframe to an interactive table.\"\n",
              "              style=\"display:none;\">\n",
              "        \n",
              "  <svg xmlns=\"http://www.w3.org/2000/svg\" height=\"24px\"viewBox=\"0 0 24 24\"\n",
              "       width=\"24px\">\n",
              "    <path d=\"M0 0h24v24H0V0z\" fill=\"none\"/>\n",
              "    <path d=\"M18.56 5.44l.94 2.06.94-2.06 2.06-.94-2.06-.94-.94-2.06-.94 2.06-2.06.94zm-11 1L8.5 8.5l.94-2.06 2.06-.94-2.06-.94L8.5 2.5l-.94 2.06-2.06.94zm10 10l.94 2.06.94-2.06 2.06-.94-2.06-.94-.94-2.06-.94 2.06-2.06.94z\"/><path d=\"M17.41 7.96l-1.37-1.37c-.4-.4-.92-.59-1.43-.59-.52 0-1.04.2-1.43.59L10.3 9.45l-7.72 7.72c-.78.78-.78 2.05 0 2.83L4 21.41c.39.39.9.59 1.41.59.51 0 1.02-.2 1.41-.59l7.78-7.78 2.81-2.81c.8-.78.8-2.07 0-2.86zM5.41 20L4 18.59l7.72-7.72 1.47 1.35L5.41 20z\"/>\n",
              "  </svg>\n",
              "      </button>\n",
              "      \n",
              "  <style>\n",
              "    .colab-df-container {\n",
              "      display:flex;\n",
              "      flex-wrap:wrap;\n",
              "      gap: 12px;\n",
              "    }\n",
              "\n",
              "    .colab-df-convert {\n",
              "      background-color: #E8F0FE;\n",
              "      border: none;\n",
              "      border-radius: 50%;\n",
              "      cursor: pointer;\n",
              "      display: none;\n",
              "      fill: #1967D2;\n",
              "      height: 32px;\n",
              "      padding: 0 0 0 0;\n",
              "      width: 32px;\n",
              "    }\n",
              "\n",
              "    .colab-df-convert:hover {\n",
              "      background-color: #E2EBFA;\n",
              "      box-shadow: 0px 1px 2px rgba(60, 64, 67, 0.3), 0px 1px 3px 1px rgba(60, 64, 67, 0.15);\n",
              "      fill: #174EA6;\n",
              "    }\n",
              "\n",
              "    [theme=dark] .colab-df-convert {\n",
              "      background-color: #3B4455;\n",
              "      fill: #D2E3FC;\n",
              "    }\n",
              "\n",
              "    [theme=dark] .colab-df-convert:hover {\n",
              "      background-color: #434B5C;\n",
              "      box-shadow: 0px 1px 3px 1px rgba(0, 0, 0, 0.15);\n",
              "      filter: drop-shadow(0px 1px 2px rgba(0, 0, 0, 0.3));\n",
              "      fill: #FFFFFF;\n",
              "    }\n",
              "  </style>\n",
              "\n",
              "      <script>\n",
              "        const buttonEl =\n",
              "          document.querySelector('#df-6aa93415-271e-4501-be27-030efa5cb66a button.colab-df-convert');\n",
              "        buttonEl.style.display =\n",
              "          google.colab.kernel.accessAllowed ? 'block' : 'none';\n",
              "\n",
              "        async function convertToInteractive(key) {\n",
              "          const element = document.querySelector('#df-6aa93415-271e-4501-be27-030efa5cb66a');\n",
              "          const dataTable =\n",
              "            await google.colab.kernel.invokeFunction('convertToInteractive',\n",
              "                                                     [key], {});\n",
              "          if (!dataTable) return;\n",
              "\n",
              "          const docLinkHtml = 'Like what you see? Visit the ' +\n",
              "            '<a target=\"_blank\" href=https://colab.research.google.com/notebooks/data_table.ipynb>data table notebook</a>'\n",
              "            + ' to learn more about interactive tables.';\n",
              "          element.innerHTML = '';\n",
              "          dataTable['output_type'] = 'display_data';\n",
              "          await google.colab.output.renderOutput(dataTable, element);\n",
              "          const docLink = document.createElement('div');\n",
              "          docLink.innerHTML = docLinkHtml;\n",
              "          element.appendChild(docLink);\n",
              "        }\n",
              "      </script>\n",
              "    </div>\n",
              "  </div>\n",
              "  "
            ]
          },
          "metadata": {},
          "execution_count": 102
        }
      ],
      "source": [
        "final_table_3.head()"
      ]
    },
    {
      "cell_type": "code",
      "execution_count": 103,
      "metadata": {
        "id": "p8YzPGjlQlC2"
      },
      "outputs": [],
      "source": [
        "temp_rdd = final_table_3[['username', 'taObjectCity', 'rating']]"
      ]
    },
    {
      "cell_type": "code",
      "execution_count": 104,
      "metadata": {
        "id": "lIj8iY98QlC3"
      },
      "outputs": [],
      "source": [
        "temp_rdd;"
      ]
    },
    {
      "cell_type": "code",
      "execution_count": 105,
      "metadata": {
        "colab": {
          "base_uri": "https://localhost:8080/"
        },
        "id": "3hDtoJjwQlC3",
        "outputId": "07eb8674-f10c-4fbe-8e7f-76fa2eb466fe"
      },
      "outputs": [
        {
          "output_type": "execute_result",
          "data": {
            "text/plain": [
              "234"
            ]
          },
          "metadata": {},
          "execution_count": 105
        }
      ],
      "source": [
        "len(temp_rdd.username.unique())"
      ]
    },
    {
      "cell_type": "markdown",
      "metadata": {
        "id": "h4CwCMiPQlC3"
      },
      "source": [
        "## creating user dictionary with key = user, values = id/index"
      ]
    },
    {
      "cell_type": "code",
      "execution_count": 106,
      "metadata": {
        "scrolled": true,
        "id": "sRrb_YgrQlC3"
      },
      "outputs": [],
      "source": [
        "\n",
        "user_dict = {}\n",
        "for idx, user in enumerate(temp_rdd.username.unique()):\n",
        "    user_dict[user] = idx\n",
        "    \n",
        "user_dict;\n",
        "    "
      ]
    },
    {
      "cell_type": "code",
      "execution_count": 107,
      "metadata": {
        "id": "ac9Du697QlC3"
      },
      "outputs": [],
      "source": [
        "user_id_list = [user_dict[item] \n",
        "                  for user in temp_rdd.username for item, key in user_dict.items() \n",
        "                  if item == user]"
      ]
    },
    {
      "cell_type": "code",
      "execution_count": 108,
      "metadata": {
        "colab": {
          "base_uri": "https://localhost:8080/"
        },
        "id": "uhUM6fbTQlC3",
        "outputId": "70c22de8-55ac-4e86-9f2a-9271a7d80573"
      },
      "outputs": [
        {
          "output_type": "stream",
          "name": "stderr",
          "text": [
            "/usr/local/lib/python3.7/dist-packages/ipykernel_launcher.py:1: SettingWithCopyWarning: \n",
            "A value is trying to be set on a copy of a slice from a DataFrame.\n",
            "Try using .loc[row_indexer,col_indexer] = value instead\n",
            "\n",
            "See the caveats in the documentation: https://pandas.pydata.org/pandas-docs/stable/user_guide/indexing.html#returning-a-view-versus-a-copy\n",
            "  \"\"\"Entry point for launching an IPython kernel.\n"
          ]
        }
      ],
      "source": [
        "temp_rdd['user_id'] = user_id_list"
      ]
    },
    {
      "cell_type": "code",
      "execution_count": 109,
      "metadata": {
        "colab": {
          "base_uri": "https://localhost:8080/",
          "height": 206
        },
        "id": "ybA7hdS1QlC3",
        "outputId": "f5a671f2-4912-466d-b5e8-7a7935ade17a"
      },
      "outputs": [
        {
          "output_type": "execute_result",
          "data": {
            "text/plain": [
              "  username  taObjectCity  rating  user_id\n",
              "0    19Cam        Berlin       4        0\n",
              "1    19Cam        Berlin       3        0\n",
              "2    19Cam        London       5        0\n",
              "3    19Cam  Kuala Lumpur       4        0\n",
              "4    19Cam      Brussels       3        0"
            ],
            "text/html": [
              "\n",
              "  <div id=\"df-d570de52-675c-4dec-ac90-aaa26df5d836\">\n",
              "    <div class=\"colab-df-container\">\n",
              "      <div>\n",
              "<style scoped>\n",
              "    .dataframe tbody tr th:only-of-type {\n",
              "        vertical-align: middle;\n",
              "    }\n",
              "\n",
              "    .dataframe tbody tr th {\n",
              "        vertical-align: top;\n",
              "    }\n",
              "\n",
              "    .dataframe thead th {\n",
              "        text-align: right;\n",
              "    }\n",
              "</style>\n",
              "<table border=\"1\" class=\"dataframe\">\n",
              "  <thead>\n",
              "    <tr style=\"text-align: right;\">\n",
              "      <th></th>\n",
              "      <th>username</th>\n",
              "      <th>taObjectCity</th>\n",
              "      <th>rating</th>\n",
              "      <th>user_id</th>\n",
              "    </tr>\n",
              "  </thead>\n",
              "  <tbody>\n",
              "    <tr>\n",
              "      <th>0</th>\n",
              "      <td>19Cam</td>\n",
              "      <td>Berlin</td>\n",
              "      <td>4</td>\n",
              "      <td>0</td>\n",
              "    </tr>\n",
              "    <tr>\n",
              "      <th>1</th>\n",
              "      <td>19Cam</td>\n",
              "      <td>Berlin</td>\n",
              "      <td>3</td>\n",
              "      <td>0</td>\n",
              "    </tr>\n",
              "    <tr>\n",
              "      <th>2</th>\n",
              "      <td>19Cam</td>\n",
              "      <td>London</td>\n",
              "      <td>5</td>\n",
              "      <td>0</td>\n",
              "    </tr>\n",
              "    <tr>\n",
              "      <th>3</th>\n",
              "      <td>19Cam</td>\n",
              "      <td>Kuala Lumpur</td>\n",
              "      <td>4</td>\n",
              "      <td>0</td>\n",
              "    </tr>\n",
              "    <tr>\n",
              "      <th>4</th>\n",
              "      <td>19Cam</td>\n",
              "      <td>Brussels</td>\n",
              "      <td>3</td>\n",
              "      <td>0</td>\n",
              "    </tr>\n",
              "  </tbody>\n",
              "</table>\n",
              "</div>\n",
              "      <button class=\"colab-df-convert\" onclick=\"convertToInteractive('df-d570de52-675c-4dec-ac90-aaa26df5d836')\"\n",
              "              title=\"Convert this dataframe to an interactive table.\"\n",
              "              style=\"display:none;\">\n",
              "        \n",
              "  <svg xmlns=\"http://www.w3.org/2000/svg\" height=\"24px\"viewBox=\"0 0 24 24\"\n",
              "       width=\"24px\">\n",
              "    <path d=\"M0 0h24v24H0V0z\" fill=\"none\"/>\n",
              "    <path d=\"M18.56 5.44l.94 2.06.94-2.06 2.06-.94-2.06-.94-.94-2.06-.94 2.06-2.06.94zm-11 1L8.5 8.5l.94-2.06 2.06-.94-2.06-.94L8.5 2.5l-.94 2.06-2.06.94zm10 10l.94 2.06.94-2.06 2.06-.94-2.06-.94-.94-2.06-.94 2.06-2.06.94z\"/><path d=\"M17.41 7.96l-1.37-1.37c-.4-.4-.92-.59-1.43-.59-.52 0-1.04.2-1.43.59L10.3 9.45l-7.72 7.72c-.78.78-.78 2.05 0 2.83L4 21.41c.39.39.9.59 1.41.59.51 0 1.02-.2 1.41-.59l7.78-7.78 2.81-2.81c.8-.78.8-2.07 0-2.86zM5.41 20L4 18.59l7.72-7.72 1.47 1.35L5.41 20z\"/>\n",
              "  </svg>\n",
              "      </button>\n",
              "      \n",
              "  <style>\n",
              "    .colab-df-container {\n",
              "      display:flex;\n",
              "      flex-wrap:wrap;\n",
              "      gap: 12px;\n",
              "    }\n",
              "\n",
              "    .colab-df-convert {\n",
              "      background-color: #E8F0FE;\n",
              "      border: none;\n",
              "      border-radius: 50%;\n",
              "      cursor: pointer;\n",
              "      display: none;\n",
              "      fill: #1967D2;\n",
              "      height: 32px;\n",
              "      padding: 0 0 0 0;\n",
              "      width: 32px;\n",
              "    }\n",
              "\n",
              "    .colab-df-convert:hover {\n",
              "      background-color: #E2EBFA;\n",
              "      box-shadow: 0px 1px 2px rgba(60, 64, 67, 0.3), 0px 1px 3px 1px rgba(60, 64, 67, 0.15);\n",
              "      fill: #174EA6;\n",
              "    }\n",
              "\n",
              "    [theme=dark] .colab-df-convert {\n",
              "      background-color: #3B4455;\n",
              "      fill: #D2E3FC;\n",
              "    }\n",
              "\n",
              "    [theme=dark] .colab-df-convert:hover {\n",
              "      background-color: #434B5C;\n",
              "      box-shadow: 0px 1px 3px 1px rgba(0, 0, 0, 0.15);\n",
              "      filter: drop-shadow(0px 1px 2px rgba(0, 0, 0, 0.3));\n",
              "      fill: #FFFFFF;\n",
              "    }\n",
              "  </style>\n",
              "\n",
              "      <script>\n",
              "        const buttonEl =\n",
              "          document.querySelector('#df-d570de52-675c-4dec-ac90-aaa26df5d836 button.colab-df-convert');\n",
              "        buttonEl.style.display =\n",
              "          google.colab.kernel.accessAllowed ? 'block' : 'none';\n",
              "\n",
              "        async function convertToInteractive(key) {\n",
              "          const element = document.querySelector('#df-d570de52-675c-4dec-ac90-aaa26df5d836');\n",
              "          const dataTable =\n",
              "            await google.colab.kernel.invokeFunction('convertToInteractive',\n",
              "                                                     [key], {});\n",
              "          if (!dataTable) return;\n",
              "\n",
              "          const docLinkHtml = 'Like what you see? Visit the ' +\n",
              "            '<a target=\"_blank\" href=https://colab.research.google.com/notebooks/data_table.ipynb>data table notebook</a>'\n",
              "            + ' to learn more about interactive tables.';\n",
              "          element.innerHTML = '';\n",
              "          dataTable['output_type'] = 'display_data';\n",
              "          await google.colab.output.renderOutput(dataTable, element);\n",
              "          const docLink = document.createElement('div');\n",
              "          docLink.innerHTML = docLinkHtml;\n",
              "          element.appendChild(docLink);\n",
              "        }\n",
              "      </script>\n",
              "    </div>\n",
              "  </div>\n",
              "  "
            ]
          },
          "metadata": {},
          "execution_count": 109
        }
      ],
      "source": [
        "temp_rdd.head()"
      ]
    },
    {
      "cell_type": "code",
      "execution_count": 110,
      "metadata": {
        "colab": {
          "base_uri": "https://localhost:8080/"
        },
        "id": "ikCSQLI6QlC4",
        "outputId": "aa636e2b-3025-48a9-d68a-072b8751003a"
      },
      "outputs": [
        {
          "output_type": "execute_result",
          "data": {
            "text/plain": [
              "True"
            ]
          },
          "metadata": {},
          "execution_count": 110
        }
      ],
      "source": [
        "len(user_id_list) == len(temp_rdd.username)"
      ]
    },
    {
      "cell_type": "code",
      "execution_count": 111,
      "metadata": {
        "colab": {
          "base_uri": "https://localhost:8080/"
        },
        "id": "_ubzQvVKQlC4",
        "outputId": "87cdf79a-0440-45aa-bfd2-b67dec5009f1"
      },
      "outputs": [
        {
          "output_type": "execute_result",
          "data": {
            "text/plain": [
              "109"
            ]
          },
          "metadata": {},
          "execution_count": 111
        }
      ],
      "source": [
        "len(temp_rdd.taObjectCity.unique())"
      ]
    },
    {
      "cell_type": "markdown",
      "metadata": {
        "id": "AR1MazINQlC4"
      },
      "source": [
        "## creating city dictionary with key = city, values =id/index"
      ]
    },
    {
      "cell_type": "code",
      "execution_count": 112,
      "metadata": {
        "scrolled": true,
        "id": "Q63HiBWLQlC4"
      },
      "outputs": [],
      "source": [
        "city_dict = {}\n",
        "for idx, city in enumerate(temp_rdd.taObjectCity.unique()):\n",
        "    city_dict[city] = idx\n",
        "    \n",
        "city_dict;"
      ]
    },
    {
      "cell_type": "code",
      "execution_count": 113,
      "metadata": {
        "id": "g7SOUdTYQlC5"
      },
      "outputs": [],
      "source": [
        "city_id_list_2 = [city_dict[item] for city in temp_rdd.taObjectCity \n",
        "                  for item, key in city_dict.items() if item == city]"
      ]
    },
    {
      "cell_type": "code",
      "execution_count": 114,
      "metadata": {
        "colab": {
          "base_uri": "https://localhost:8080/"
        },
        "id": "PNNGfcFtQlC5",
        "outputId": "58b17029-d39d-43bd-a1a9-a47621608869"
      },
      "outputs": [
        {
          "output_type": "execute_result",
          "data": {
            "text/plain": [
              "True"
            ]
          },
          "metadata": {},
          "execution_count": 114
        }
      ],
      "source": [
        "# make sure each city has an id\n",
        "\n",
        "len(temp_rdd.taObjectCity) == len(city_id_list_2)"
      ]
    },
    {
      "cell_type": "code",
      "execution_count": 115,
      "metadata": {
        "id": "nJCPMEMdQlC5"
      },
      "outputs": [],
      "source": [
        "temp_rdd.head(20);\n"
      ]
    },
    {
      "cell_type": "code",
      "execution_count": 116,
      "metadata": {
        "id": "ZLOo7ZxsQlC5"
      },
      "outputs": [],
      "source": [
        "# city_id_list = []\n",
        "# for city in temp_rdd.taObjectCity :\n",
        "#     #print(city)\n",
        "#     for item, key in city_dict.items():\n",
        "#         if item == city:\n",
        "#             city_id_list.append(city_dict[item])\n",
        "#             #print('item:', item, 'idx:',city_dict[item])\n",
        "\n"
      ]
    },
    {
      "cell_type": "code",
      "execution_count": 117,
      "metadata": {
        "colab": {
          "base_uri": "https://localhost:8080/"
        },
        "id": "N7CTgP8lQlC5",
        "outputId": "b8dbbb9e-31e7-4f5b-d99e-54d386e0e139"
      },
      "outputs": [
        {
          "output_type": "stream",
          "name": "stderr",
          "text": [
            "/usr/local/lib/python3.7/dist-packages/ipykernel_launcher.py:1: SettingWithCopyWarning: \n",
            "A value is trying to be set on a copy of a slice from a DataFrame.\n",
            "Try using .loc[row_indexer,col_indexer] = value instead\n",
            "\n",
            "See the caveats in the documentation: https://pandas.pydata.org/pandas-docs/stable/user_guide/indexing.html#returning-a-view-versus-a-copy\n",
            "  \"\"\"Entry point for launching an IPython kernel.\n"
          ]
        }
      ],
      "source": [
        "temp_rdd['city_id'] = city_id_list_2"
      ]
    },
    {
      "cell_type": "code",
      "execution_count": 118,
      "metadata": {
        "scrolled": true,
        "colab": {
          "base_uri": "https://localhost:8080/"
        },
        "id": "8Cv3__yKQlC8",
        "outputId": "c2ec85d9-6897-40e1-eda4-e46daeaeafb0"
      },
      "outputs": [
        {
          "output_type": "stream",
          "name": "stderr",
          "text": [
            "/usr/local/lib/python3.7/dist-packages/ipykernel_launcher.py:2: SettingWithCopyWarning: \n",
            "A value is trying to be set on a copy of a slice from a DataFrame.\n",
            "Try using .loc[row_indexer,col_indexer] = value instead\n",
            "\n",
            "See the caveats in the documentation: https://pandas.pydata.org/pandas-docs/stable/user_guide/indexing.html#returning-a-view-versus-a-copy\n",
            "  \n"
          ]
        },
        {
          "output_type": "execute_result",
          "data": {
            "text/plain": [
              "0       4.0\n",
              "1       3.0\n",
              "2       5.0\n",
              "3       4.0\n",
              "4       3.0\n",
              "       ... \n",
              "1269    4.0\n",
              "1270    2.0\n",
              "1271    1.0\n",
              "1272    1.0\n",
              "1273    2.0\n",
              "Name: rating_float, Length: 1274, dtype: float32"
            ]
          },
          "metadata": {},
          "execution_count": 118
        }
      ],
      "source": [
        "new_temp_rdd = temp_rdd[['user_id', 'city_id', 'rating']]\n",
        "new_temp_rdd['rating_float'] = pd.to_numeric(new_temp_rdd.rating, downcast='float');\n",
        "new_temp_rdd['rating_float']"
      ]
    },
    {
      "cell_type": "code",
      "execution_count": 119,
      "metadata": {
        "colab": {
          "base_uri": "https://localhost:8080/"
        },
        "id": "RFYqc9foQlC9",
        "outputId": "58b016dd-319b-4c12-8d59-f8f04909dde2"
      },
      "outputs": [
        {
          "output_type": "stream",
          "name": "stdout",
          "text": [
            "<class 'pandas.core.frame.DataFrame'>\n",
            "RangeIndex: 1274 entries, 0 to 1273\n",
            "Data columns (total 4 columns):\n",
            " #   Column        Non-Null Count  Dtype  \n",
            "---  ------        --------------  -----  \n",
            " 0   user_id       1274 non-null   int64  \n",
            " 1   city_id       1274 non-null   int64  \n",
            " 2   rating        1274 non-null   int64  \n",
            " 3   rating_float  1274 non-null   float32\n",
            "dtypes: float32(1), int64(3)\n",
            "memory usage: 35.0 KB\n"
          ]
        }
      ],
      "source": [
        "new_temp_rdd.info()"
      ]
    },
    {
      "cell_type": "code",
      "execution_count": 120,
      "metadata": {
        "id": "YU1b_AOTQlC9"
      },
      "outputs": [],
      "source": [
        "new_new_temp_rdd = new_temp_rdd[['user_id','city_id','rating_float']]"
      ]
    },
    {
      "cell_type": "code",
      "execution_count": 121,
      "metadata": {
        "colab": {
          "base_uri": "https://localhost:8080/",
          "height": 206
        },
        "id": "fZaxyayMQlC9",
        "outputId": "c0ebf7b5-d4a4-4163-b00f-f11772bf6904"
      },
      "outputs": [
        {
          "output_type": "execute_result",
          "data": {
            "text/plain": [
              "   user_id  city_id  rating_float\n",
              "0        0        0           4.0\n",
              "1        0        0           3.0\n",
              "2        0        1           5.0\n",
              "3        0        2           4.0\n",
              "4        0        3           3.0"
            ],
            "text/html": [
              "\n",
              "  <div id=\"df-db5b8ba6-5c82-45db-a70b-b416b2c736aa\">\n",
              "    <div class=\"colab-df-container\">\n",
              "      <div>\n",
              "<style scoped>\n",
              "    .dataframe tbody tr th:only-of-type {\n",
              "        vertical-align: middle;\n",
              "    }\n",
              "\n",
              "    .dataframe tbody tr th {\n",
              "        vertical-align: top;\n",
              "    }\n",
              "\n",
              "    .dataframe thead th {\n",
              "        text-align: right;\n",
              "    }\n",
              "</style>\n",
              "<table border=\"1\" class=\"dataframe\">\n",
              "  <thead>\n",
              "    <tr style=\"text-align: right;\">\n",
              "      <th></th>\n",
              "      <th>user_id</th>\n",
              "      <th>city_id</th>\n",
              "      <th>rating_float</th>\n",
              "    </tr>\n",
              "  </thead>\n",
              "  <tbody>\n",
              "    <tr>\n",
              "      <th>0</th>\n",
              "      <td>0</td>\n",
              "      <td>0</td>\n",
              "      <td>4.0</td>\n",
              "    </tr>\n",
              "    <tr>\n",
              "      <th>1</th>\n",
              "      <td>0</td>\n",
              "      <td>0</td>\n",
              "      <td>3.0</td>\n",
              "    </tr>\n",
              "    <tr>\n",
              "      <th>2</th>\n",
              "      <td>0</td>\n",
              "      <td>1</td>\n",
              "      <td>5.0</td>\n",
              "    </tr>\n",
              "    <tr>\n",
              "      <th>3</th>\n",
              "      <td>0</td>\n",
              "      <td>2</td>\n",
              "      <td>4.0</td>\n",
              "    </tr>\n",
              "    <tr>\n",
              "      <th>4</th>\n",
              "      <td>0</td>\n",
              "      <td>3</td>\n",
              "      <td>3.0</td>\n",
              "    </tr>\n",
              "  </tbody>\n",
              "</table>\n",
              "</div>\n",
              "      <button class=\"colab-df-convert\" onclick=\"convertToInteractive('df-db5b8ba6-5c82-45db-a70b-b416b2c736aa')\"\n",
              "              title=\"Convert this dataframe to an interactive table.\"\n",
              "              style=\"display:none;\">\n",
              "        \n",
              "  <svg xmlns=\"http://www.w3.org/2000/svg\" height=\"24px\"viewBox=\"0 0 24 24\"\n",
              "       width=\"24px\">\n",
              "    <path d=\"M0 0h24v24H0V0z\" fill=\"none\"/>\n",
              "    <path d=\"M18.56 5.44l.94 2.06.94-2.06 2.06-.94-2.06-.94-.94-2.06-.94 2.06-2.06.94zm-11 1L8.5 8.5l.94-2.06 2.06-.94-2.06-.94L8.5 2.5l-.94 2.06-2.06.94zm10 10l.94 2.06.94-2.06 2.06-.94-2.06-.94-.94-2.06-.94 2.06-2.06.94z\"/><path d=\"M17.41 7.96l-1.37-1.37c-.4-.4-.92-.59-1.43-.59-.52 0-1.04.2-1.43.59L10.3 9.45l-7.72 7.72c-.78.78-.78 2.05 0 2.83L4 21.41c.39.39.9.59 1.41.59.51 0 1.02-.2 1.41-.59l7.78-7.78 2.81-2.81c.8-.78.8-2.07 0-2.86zM5.41 20L4 18.59l7.72-7.72 1.47 1.35L5.41 20z\"/>\n",
              "  </svg>\n",
              "      </button>\n",
              "      \n",
              "  <style>\n",
              "    .colab-df-container {\n",
              "      display:flex;\n",
              "      flex-wrap:wrap;\n",
              "      gap: 12px;\n",
              "    }\n",
              "\n",
              "    .colab-df-convert {\n",
              "      background-color: #E8F0FE;\n",
              "      border: none;\n",
              "      border-radius: 50%;\n",
              "      cursor: pointer;\n",
              "      display: none;\n",
              "      fill: #1967D2;\n",
              "      height: 32px;\n",
              "      padding: 0 0 0 0;\n",
              "      width: 32px;\n",
              "    }\n",
              "\n",
              "    .colab-df-convert:hover {\n",
              "      background-color: #E2EBFA;\n",
              "      box-shadow: 0px 1px 2px rgba(60, 64, 67, 0.3), 0px 1px 3px 1px rgba(60, 64, 67, 0.15);\n",
              "      fill: #174EA6;\n",
              "    }\n",
              "\n",
              "    [theme=dark] .colab-df-convert {\n",
              "      background-color: #3B4455;\n",
              "      fill: #D2E3FC;\n",
              "    }\n",
              "\n",
              "    [theme=dark] .colab-df-convert:hover {\n",
              "      background-color: #434B5C;\n",
              "      box-shadow: 0px 1px 3px 1px rgba(0, 0, 0, 0.15);\n",
              "      filter: drop-shadow(0px 1px 2px rgba(0, 0, 0, 0.3));\n",
              "      fill: #FFFFFF;\n",
              "    }\n",
              "  </style>\n",
              "\n",
              "      <script>\n",
              "        const buttonEl =\n",
              "          document.querySelector('#df-db5b8ba6-5c82-45db-a70b-b416b2c736aa button.colab-df-convert');\n",
              "        buttonEl.style.display =\n",
              "          google.colab.kernel.accessAllowed ? 'block' : 'none';\n",
              "\n",
              "        async function convertToInteractive(key) {\n",
              "          const element = document.querySelector('#df-db5b8ba6-5c82-45db-a70b-b416b2c736aa');\n",
              "          const dataTable =\n",
              "            await google.colab.kernel.invokeFunction('convertToInteractive',\n",
              "                                                     [key], {});\n",
              "          if (!dataTable) return;\n",
              "\n",
              "          const docLinkHtml = 'Like what you see? Visit the ' +\n",
              "            '<a target=\"_blank\" href=https://colab.research.google.com/notebooks/data_table.ipynb>data table notebook</a>'\n",
              "            + ' to learn more about interactive tables.';\n",
              "          element.innerHTML = '';\n",
              "          dataTable['output_type'] = 'display_data';\n",
              "          await google.colab.output.renderOutput(dataTable, element);\n",
              "          const docLink = document.createElement('div');\n",
              "          docLink.innerHTML = docLinkHtml;\n",
              "          element.appendChild(docLink);\n",
              "        }\n",
              "      </script>\n",
              "    </div>\n",
              "  </div>\n",
              "  "
            ]
          },
          "metadata": {},
          "execution_count": 121
        }
      ],
      "source": [
        "new_new_temp_rdd.head()"
      ]
    },
    {
      "cell_type": "code",
      "execution_count": 122,
      "metadata": {
        "id": "4VcSoGInQlC9"
      },
      "outputs": [],
      "source": [
        "# schema = StructType( [ \n",
        "#     StructField('user', StringType(), True),\n",
        "#     StructField('city', StringType(), True),\n",
        "#     StructField('rating', IntegerType(), True)]\n",
        "# )\n",
        "\n",
        "schema = StructType( [ \n",
        "    StructField('user', IntegerType(), True),\n",
        "    StructField('city', IntegerType(), True),\n",
        "    StructField('rating', FloatType(), True)]\n",
        ")"
      ]
    },
    {
      "cell_type": "code",
      "execution_count": 123,
      "metadata": {
        "scrolled": true,
        "id": "ITv7YFVpQlC9"
      },
      "outputs": [],
      "source": [
        "sp_df = sqlContext.createDataFrame(new_new_temp_rdd, schema)\n",
        "sp_df.take(10);\n"
      ]
    },
    {
      "cell_type": "code",
      "execution_count": 124,
      "metadata": {
        "colab": {
          "base_uri": "https://localhost:8080/"
        },
        "id": "RKI8E0EIQlC9",
        "outputId": "45b16979-112b-4663-b689-a8df935a7b20"
      },
      "outputs": [
        {
          "output_type": "execute_result",
          "data": {
            "text/plain": [
              "pyspark.sql.dataframe.DataFrame"
            ]
          },
          "metadata": {},
          "execution_count": 124
        }
      ],
      "source": [
        "type(sp_df)"
      ]
    },
    {
      "cell_type": "code",
      "execution_count": 125,
      "metadata": {
        "id": "Fbo_LXGMQlC-"
      },
      "outputs": [],
      "source": [
        "#ratings_df = spark.createDataFrame(sp_df, schema)\n"
      ]
    },
    {
      "cell_type": "code",
      "execution_count": 126,
      "metadata": {
        "colab": {
          "base_uri": "https://localhost:8080/"
        },
        "id": "rXMFKcdZQlC-",
        "outputId": "780f87a3-0ae4-4ed5-d7c7-a1455d2a2dd7"
      },
      "outputs": [
        {
          "output_type": "stream",
          "name": "stdout",
          "text": [
            "+----+----+------+\n",
            "|user|city|rating|\n",
            "+----+----+------+\n",
            "|   0|   0|   3.0|\n",
            "|   0|   0|   4.0|\n",
            "|   0|   1|   5.0|\n",
            "|   0|   2|   4.0|\n",
            "|   0|   3|   3.0|\n",
            "|   1|   4|   3.0|\n",
            "|   1|   4|   4.0|\n",
            "|   1|   4|   5.0|\n",
            "|   1|   4|   5.0|\n",
            "|   2|   5|   5.0|\n",
            "+----+----+------+\n",
            "only showing top 10 rows\n",
            "\n"
          ]
        }
      ],
      "source": [
        "train, test = sp_df.randomSplit([0.8, 0.2], seed=427471138)\n",
        "train.show(10);"
      ]
    },
    {
      "cell_type": "markdown",
      "metadata": {
        "id": "Y7dm3v4bQlC-"
      },
      "source": [
        "# ALS model!!!!"
      ]
    },
    {
      "cell_type": "code",
      "execution_count": 127,
      "metadata": {
        "id": "VgVR4C62QlC-"
      },
      "outputs": [],
      "source": [
        "als_model = ALS(userCol='user',\n",
        "                itemCol='city',\n",
        "                ratingCol='rating',\n",
        "                nonnegative=True,\n",
        "                regParam=0.1,\n",
        "                rank=20\n",
        "               )"
      ]
    },
    {
      "cell_type": "code",
      "execution_count": 128,
      "metadata": {
        "colab": {
          "base_uri": "https://localhost:8080/"
        },
        "id": "cGNDRdTAQlC-",
        "outputId": "49daee97-0946-4ff8-c836-fda08c34cf91"
      },
      "outputs": [
        {
          "output_type": "execute_result",
          "data": {
            "text/plain": [
              "ALSModel: uid=ALS_e579eff813e7, rank=20"
            ]
          },
          "metadata": {},
          "execution_count": 128
        }
      ],
      "source": [
        "recommender = als_model.fit(train)\n",
        "recommender"
      ]
    },
    {
      "cell_type": "code",
      "execution_count": 129,
      "metadata": {
        "id": "psF8EChvQlC-"
      },
      "outputs": [],
      "source": [
        "predictions = recommender.transform(test)\n"
      ]
    },
    {
      "cell_type": "code",
      "execution_count": 130,
      "metadata": {
        "colab": {
          "base_uri": "https://localhost:8080/"
        },
        "id": "yvfY8DEwQlC-",
        "outputId": "75dcd8ca-74f6-45fb-de8c-a984589754e0"
      },
      "outputs": [
        {
          "output_type": "stream",
          "name": "stdout",
          "text": [
            "+----+----+------+----------+\n",
            "|user|city|rating|prediction|\n",
            "+----+----+------+----------+\n",
            "|   1|   4|   2.0| 4.1990814|\n",
            "|   6|  18|   4.0|  3.963774|\n",
            "|   6|  19|   4.0| 3.8059492|\n",
            "|   6|  20|   5.0|  3.374963|\n",
            "|   3|   1|   4.0| 3.9635572|\n",
            "|   3|  10|   4.0| 4.0872474|\n",
            "|   3|  11|   4.0| 3.1361065|\n",
            "|   3|  11|   5.0| 3.1361065|\n",
            "|   5|  10|   5.0| 4.8887596|\n",
            "|   9|  24|   3.0| 4.7300286|\n",
            "|   9|  24|   4.0| 4.7300286|\n",
            "|   9|  26|   4.0| 4.1423006|\n",
            "|   9|  27|   3.0|  4.820272|\n",
            "|   9|  27|   5.0|  4.820272|\n",
            "|   9|  28|   5.0|  4.071685|\n",
            "|   7|   5|   5.0| 3.1107435|\n",
            "|   7|   5|   5.0| 3.1107435|\n",
            "|  10|  14|   5.0|  4.643458|\n",
            "|  10|  29|   5.0| 4.9166765|\n",
            "|  11|  31|   4.0| 4.9390316|\n",
            "+----+----+------+----------+\n",
            "only showing top 20 rows\n",
            "\n"
          ]
        }
      ],
      "source": [
        "predictions.show(20)"
      ]
    },
    {
      "cell_type": "code",
      "execution_count": 131,
      "metadata": {
        "id": "vma17HpmQlC_"
      },
      "outputs": [],
      "source": [
        "col = predictions.rating-predictions.prediction"
      ]
    },
    {
      "cell_type": "code",
      "execution_count": 132,
      "metadata": {
        "id": "0SZUa6vDQlC_"
      },
      "outputs": [],
      "source": [
        "df_pred = predictions.toPandas()"
      ]
    },
    {
      "cell_type": "code",
      "execution_count": 133,
      "metadata": {
        "id": "2ZXqamgTQlC_"
      },
      "outputs": [],
      "source": [
        "pred = df_pred.prediction\n",
        "actual = df_pred.rating"
      ]
    },
    {
      "cell_type": "code",
      "execution_count": 134,
      "metadata": {
        "id": "_u0iFj-9QlC_"
      },
      "outputs": [],
      "source": [
        "from sklearn.metrics import mean_squared_error\n",
        "mse = mean_squared_error(actual, pred.fillna(3))"
      ]
    },
    {
      "cell_type": "markdown",
      "metadata": {
        "id": "45uDUdryQlC_"
      },
      "source": [
        "## mse "
      ]
    },
    {
      "cell_type": "code",
      "execution_count": 136,
      "metadata": {
        "colab": {
          "base_uri": "https://localhost:8080/"
        },
        "id": "yXvC0_a_QlC_",
        "outputId": "99224c2e-ee2d-438d-8a6d-82639309253f"
      },
      "outputs": [
        {
          "output_type": "stream",
          "name": "stdout",
          "text": [
            "1.0719678\n"
          ]
        }
      ],
      "source": [
        "print(np.sqrt(mse))"
      ]
    },
    {
      "cell_type": "markdown",
      "metadata": {
        "id": "jYnuQ92BQlC_"
      },
      "source": [
        "# hybrid recommender! - combo of utility matrix and user-only matrix"
      ]
    },
    {
      "cell_type": "markdown",
      "metadata": {
        "id": "SyBGJWkVQlDA"
      },
      "source": [
        "## user-only matrix"
      ]
    },
    {
      "cell_type": "code",
      "execution_count": 137,
      "metadata": {
        "colab": {
          "base_uri": "https://localhost:8080/",
          "height": 379
        },
        "id": "gX4HgMmOQlDA",
        "outputId": "0c9701cb-94cd-49a1-cbef-4c81059bb471"
      },
      "outputs": [
        {
          "output_type": "execute_result",
          "data": {
            "text/plain": [
              "   index username     open     cons    extra    agree    neuro ageRange  \\\n",
              "0     61    19Cam  0.64198  0.55524  0.56619  0.58622  0.46087    25-34   \n",
              "1     62    19Cam  0.64198  0.55524  0.56619  0.58622  0.46087    25-34   \n",
              "\n",
              "  gender                location  ...         type       date  \\\n",
              "0   male  London, United Kingdom  ...  Attractions 2015-09-04   \n",
              "1   male  London, United Kingdom  ...  Attractions 2015-09-04   \n",
              "\n",
              "                                     title  \\\n",
              "0                   See it before its gone   \n",
              "1  Worth a look for the architecture alone   \n",
              "\n",
              "                                                text  rating  helpfulness  \\\n",
              "0  The box is only a temporary exhibit while cons...       4          0.0   \n",
              "1  A large collection, presented in a stunning bu...       3          0.0   \n",
              "\n",
              "   total_points      taObject  \\\n",
              "0           100  Humboldt Box   \n",
              "1           100  Neues Museum   \n",
              "\n",
              "                                         taObjectUrl  taObjectCity  \n",
              "0  http://www.tripadvisor.com/Attraction_Review-g...        Berlin  \n",
              "1  http://www.tripadvisor.com/Attraction_Review-g...        Berlin  \n",
              "\n",
              "[2 rows x 36 columns]"
            ],
            "text/html": [
              "\n",
              "  <div id=\"df-71aa145d-3f35-470b-8d46-6067ca9d77cb\">\n",
              "    <div class=\"colab-df-container\">\n",
              "      <div>\n",
              "<style scoped>\n",
              "    .dataframe tbody tr th:only-of-type {\n",
              "        vertical-align: middle;\n",
              "    }\n",
              "\n",
              "    .dataframe tbody tr th {\n",
              "        vertical-align: top;\n",
              "    }\n",
              "\n",
              "    .dataframe thead th {\n",
              "        text-align: right;\n",
              "    }\n",
              "</style>\n",
              "<table border=\"1\" class=\"dataframe\">\n",
              "  <thead>\n",
              "    <tr style=\"text-align: right;\">\n",
              "      <th></th>\n",
              "      <th>index</th>\n",
              "      <th>username</th>\n",
              "      <th>open</th>\n",
              "      <th>cons</th>\n",
              "      <th>extra</th>\n",
              "      <th>agree</th>\n",
              "      <th>neuro</th>\n",
              "      <th>ageRange</th>\n",
              "      <th>gender</th>\n",
              "      <th>location</th>\n",
              "      <th>...</th>\n",
              "      <th>type</th>\n",
              "      <th>date</th>\n",
              "      <th>title</th>\n",
              "      <th>text</th>\n",
              "      <th>rating</th>\n",
              "      <th>helpfulness</th>\n",
              "      <th>total_points</th>\n",
              "      <th>taObject</th>\n",
              "      <th>taObjectUrl</th>\n",
              "      <th>taObjectCity</th>\n",
              "    </tr>\n",
              "  </thead>\n",
              "  <tbody>\n",
              "    <tr>\n",
              "      <th>0</th>\n",
              "      <td>61</td>\n",
              "      <td>19Cam</td>\n",
              "      <td>0.64198</td>\n",
              "      <td>0.55524</td>\n",
              "      <td>0.56619</td>\n",
              "      <td>0.58622</td>\n",
              "      <td>0.46087</td>\n",
              "      <td>25-34</td>\n",
              "      <td>male</td>\n",
              "      <td>London, United Kingdom</td>\n",
              "      <td>...</td>\n",
              "      <td>Attractions</td>\n",
              "      <td>2015-09-04</td>\n",
              "      <td>See it before its gone</td>\n",
              "      <td>The box is only a temporary exhibit while cons...</td>\n",
              "      <td>4</td>\n",
              "      <td>0.0</td>\n",
              "      <td>100</td>\n",
              "      <td>Humboldt Box</td>\n",
              "      <td>http://www.tripadvisor.com/Attraction_Review-g...</td>\n",
              "      <td>Berlin</td>\n",
              "    </tr>\n",
              "    <tr>\n",
              "      <th>1</th>\n",
              "      <td>62</td>\n",
              "      <td>19Cam</td>\n",
              "      <td>0.64198</td>\n",
              "      <td>0.55524</td>\n",
              "      <td>0.56619</td>\n",
              "      <td>0.58622</td>\n",
              "      <td>0.46087</td>\n",
              "      <td>25-34</td>\n",
              "      <td>male</td>\n",
              "      <td>London, United Kingdom</td>\n",
              "      <td>...</td>\n",
              "      <td>Attractions</td>\n",
              "      <td>2015-09-04</td>\n",
              "      <td>Worth a look for the architecture alone</td>\n",
              "      <td>A large collection, presented in a stunning bu...</td>\n",
              "      <td>3</td>\n",
              "      <td>0.0</td>\n",
              "      <td>100</td>\n",
              "      <td>Neues Museum</td>\n",
              "      <td>http://www.tripadvisor.com/Attraction_Review-g...</td>\n",
              "      <td>Berlin</td>\n",
              "    </tr>\n",
              "  </tbody>\n",
              "</table>\n",
              "<p>2 rows × 36 columns</p>\n",
              "</div>\n",
              "      <button class=\"colab-df-convert\" onclick=\"convertToInteractive('df-71aa145d-3f35-470b-8d46-6067ca9d77cb')\"\n",
              "              title=\"Convert this dataframe to an interactive table.\"\n",
              "              style=\"display:none;\">\n",
              "        \n",
              "  <svg xmlns=\"http://www.w3.org/2000/svg\" height=\"24px\"viewBox=\"0 0 24 24\"\n",
              "       width=\"24px\">\n",
              "    <path d=\"M0 0h24v24H0V0z\" fill=\"none\"/>\n",
              "    <path d=\"M18.56 5.44l.94 2.06.94-2.06 2.06-.94-2.06-.94-.94-2.06-.94 2.06-2.06.94zm-11 1L8.5 8.5l.94-2.06 2.06-.94-2.06-.94L8.5 2.5l-.94 2.06-2.06.94zm10 10l.94 2.06.94-2.06 2.06-.94-2.06-.94-.94-2.06-.94 2.06-2.06.94z\"/><path d=\"M17.41 7.96l-1.37-1.37c-.4-.4-.92-.59-1.43-.59-.52 0-1.04.2-1.43.59L10.3 9.45l-7.72 7.72c-.78.78-.78 2.05 0 2.83L4 21.41c.39.39.9.59 1.41.59.51 0 1.02-.2 1.41-.59l7.78-7.78 2.81-2.81c.8-.78.8-2.07 0-2.86zM5.41 20L4 18.59l7.72-7.72 1.47 1.35L5.41 20z\"/>\n",
              "  </svg>\n",
              "      </button>\n",
              "      \n",
              "  <style>\n",
              "    .colab-df-container {\n",
              "      display:flex;\n",
              "      flex-wrap:wrap;\n",
              "      gap: 12px;\n",
              "    }\n",
              "\n",
              "    .colab-df-convert {\n",
              "      background-color: #E8F0FE;\n",
              "      border: none;\n",
              "      border-radius: 50%;\n",
              "      cursor: pointer;\n",
              "      display: none;\n",
              "      fill: #1967D2;\n",
              "      height: 32px;\n",
              "      padding: 0 0 0 0;\n",
              "      width: 32px;\n",
              "    }\n",
              "\n",
              "    .colab-df-convert:hover {\n",
              "      background-color: #E2EBFA;\n",
              "      box-shadow: 0px 1px 2px rgba(60, 64, 67, 0.3), 0px 1px 3px 1px rgba(60, 64, 67, 0.15);\n",
              "      fill: #174EA6;\n",
              "    }\n",
              "\n",
              "    [theme=dark] .colab-df-convert {\n",
              "      background-color: #3B4455;\n",
              "      fill: #D2E3FC;\n",
              "    }\n",
              "\n",
              "    [theme=dark] .colab-df-convert:hover {\n",
              "      background-color: #434B5C;\n",
              "      box-shadow: 0px 1px 3px 1px rgba(0, 0, 0, 0.15);\n",
              "      filter: drop-shadow(0px 1px 2px rgba(0, 0, 0, 0.3));\n",
              "      fill: #FFFFFF;\n",
              "    }\n",
              "  </style>\n",
              "\n",
              "      <script>\n",
              "        const buttonEl =\n",
              "          document.querySelector('#df-71aa145d-3f35-470b-8d46-6067ca9d77cb button.colab-df-convert');\n",
              "        buttonEl.style.display =\n",
              "          google.colab.kernel.accessAllowed ? 'block' : 'none';\n",
              "\n",
              "        async function convertToInteractive(key) {\n",
              "          const element = document.querySelector('#df-71aa145d-3f35-470b-8d46-6067ca9d77cb');\n",
              "          const dataTable =\n",
              "            await google.colab.kernel.invokeFunction('convertToInteractive',\n",
              "                                                     [key], {});\n",
              "          if (!dataTable) return;\n",
              "\n",
              "          const docLinkHtml = 'Like what you see? Visit the ' +\n",
              "            '<a target=\"_blank\" href=https://colab.research.google.com/notebooks/data_table.ipynb>data table notebook</a>'\n",
              "            + ' to learn more about interactive tables.';\n",
              "          element.innerHTML = '';\n",
              "          dataTable['output_type'] = 'display_data';\n",
              "          await google.colab.output.renderOutput(dataTable, element);\n",
              "          const docLink = document.createElement('div');\n",
              "          docLink.innerHTML = docLinkHtml;\n",
              "          element.appendChild(docLink);\n",
              "        }\n",
              "      </script>\n",
              "    </div>\n",
              "  </div>\n",
              "  "
            ]
          },
          "metadata": {},
          "execution_count": 137
        }
      ],
      "source": [
        "final_table_3.head(2)"
      ]
    },
    {
      "cell_type": "code",
      "execution_count": 138,
      "metadata": {
        "colab": {
          "base_uri": "https://localhost:8080/"
        },
        "id": "gnhyAmuFQlDA",
        "outputId": "57d398b0-5202-4242-a322-c12ca38f7e9b"
      },
      "outputs": [
        {
          "output_type": "execute_result",
          "data": {
            "text/plain": [
              "Index(['index', 'username', 'open', 'cons', 'extra', 'agree', 'neuro',\n",
              "       'ageRange', 'gender', 'location', 'travelStyle', 'reviewerBadge',\n",
              "       'registerDate', 'numHotelsReviews', 'numRestReviews',\n",
              "       'numAttractReviews', 'numFirstToReview', 'numRatings', 'numPhotos',\n",
              "       'numForumPosts', 'numArticles', 'numCitiesBeen', 'totalPoints',\n",
              "       'contribLevel', 'numHelpfulVotes', 'id', 'type', 'date', 'title',\n",
              "       'text', 'rating', 'helpfulness', 'total_points', 'taObject',\n",
              "       'taObjectUrl', 'taObjectCity'],\n",
              "      dtype='object')"
            ]
          },
          "metadata": {},
          "execution_count": 138
        }
      ],
      "source": [
        "final_table_3.columns"
      ]
    },
    {
      "cell_type": "code",
      "execution_count": 139,
      "metadata": {
        "scrolled": true,
        "id": "XI7qH8ORQlDA"
      },
      "outputs": [],
      "source": [
        "user_feature_df = final_table_3[['index', 'username','ageRange', 'gender','travelStyle']]"
      ]
    },
    {
      "cell_type": "code",
      "execution_count": 140,
      "metadata": {
        "colab": {
          "base_uri": "https://localhost:8080/"
        },
        "id": "M8SDTscYQlDA",
        "outputId": "e8ebc81a-317d-4c6d-9cc4-362dc3f61a16"
      },
      "outputs": [
        {
          "output_type": "stream",
          "name": "stderr",
          "text": [
            "/usr/local/lib/python3.7/dist-packages/ipykernel_launcher.py:2: SettingWithCopyWarning: \n",
            "A value is trying to be set on a copy of a slice from a DataFrame.\n",
            "Try using .loc[row_indexer,col_indexer] = value instead\n",
            "\n",
            "See the caveats in the documentation: https://pandas.pydata.org/pandas-docs/stable/user_guide/indexing.html#returning-a-view-versus-a-copy\n",
            "  \n"
          ]
        }
      ],
      "source": [
        "travel_style_lst = [item.split(', ') for item in user_feature_df.travelStyle]\n",
        "user_feature_df['new_travel'] = travel_style_lst"
      ]
    },
    {
      "cell_type": "code",
      "execution_count": 141,
      "metadata": {
        "colab": {
          "base_uri": "https://localhost:8080/"
        },
        "id": "4FxdBraUQlDA",
        "outputId": "541d5664-a2d3-403d-fc87-83c3a8022265"
      },
      "outputs": [
        {
          "output_type": "stream",
          "name": "stderr",
          "text": [
            "/usr/local/lib/python3.7/dist-packages/ipykernel_launcher.py:2: FutureWarning: Using the level keyword in DataFrame and Series aggregations is deprecated and will be removed in a future version. Use groupby instead. df.sum(level=1) should use df.groupby(level=1).sum().\n",
            "  \n"
          ]
        }
      ],
      "source": [
        "travel_style_revised = user_feature_df['new_travel'].apply(pd.Series) # 653 notes\n",
        "travel_style_matrix_revised = pd.get_dummies(travel_style_revised.apply(pd.Series).stack()).sum(level=0).rename(columns = lambda x : 'travel_style_' + x)"
      ]
    },
    {
      "cell_type": "code",
      "execution_count": 142,
      "metadata": {
        "scrolled": true,
        "colab": {
          "base_uri": "https://localhost:8080/",
          "height": 522
        },
        "id": "fv99j05XQlDB",
        "outputId": "83e763f9-30b2-41fc-b6bc-eff815f4cb5e"
      },
      "outputs": [
        {
          "output_type": "execute_result",
          "data": {
            "text/plain": [
              "      travel_style_Art and Architecture Lover  travel_style_Backpacker  \\\n",
              "0                                           1                        0   \n",
              "1                                           1                        0   \n",
              "2                                           1                        0   \n",
              "3                                           1                        0   \n",
              "4                                           1                        0   \n",
              "...                                       ...                      ...   \n",
              "1269                                        0                        0   \n",
              "1270                                        0                        0   \n",
              "1271                                        0                        0   \n",
              "1272                                        0                        0   \n",
              "1273                                        0                        0   \n",
              "\n",
              "      travel_style_Beach Goer  travel_style_Eco-tourist  \\\n",
              "0                           0                         0   \n",
              "1                           0                         0   \n",
              "2                           0                         0   \n",
              "3                           0                         0   \n",
              "4                           0                         0   \n",
              "...                       ...                       ...   \n",
              "1269                        0                         0   \n",
              "1270                        0                         0   \n",
              "1271                        0                         0   \n",
              "1272                        0                         0   \n",
              "1273                        0                         0   \n",
              "\n",
              "      travel_style_Family Hoilday Maker  travel_style_History Buff  \\\n",
              "0                                     0                          0   \n",
              "1                                     0                          0   \n",
              "2                                     0                          0   \n",
              "3                                     0                          0   \n",
              "4                                     0                          0   \n",
              "...                                 ...                        ...   \n",
              "1269                                  1                          0   \n",
              "1270                                  1                          0   \n",
              "1271                                  0                          0   \n",
              "1272                                  0                          0   \n",
              "1273                                  0                          0   \n",
              "\n",
              "      travel_style_Like a Local  travel_style_Luxury Traveller  \\\n",
              "0                             0                              0   \n",
              "1                             0                              0   \n",
              "2                             0                              0   \n",
              "3                             0                              0   \n",
              "4                             0                              0   \n",
              "...                         ...                            ...   \n",
              "1269                          0                              0   \n",
              "1270                          0                              0   \n",
              "1271                          1                              0   \n",
              "1272                          1                              0   \n",
              "1273                          1                              0   \n",
              "\n",
              "      travel_style_Nature Lover  travel_style_Nightlife Seeker  \\\n",
              "0                             0                              0   \n",
              "1                             0                              0   \n",
              "2                             0                              0   \n",
              "3                             0                              0   \n",
              "4                             0                              0   \n",
              "...                         ...                            ...   \n",
              "1269                          0                              0   \n",
              "1270                          0                              0   \n",
              "1271                          0                              0   \n",
              "1272                          0                              0   \n",
              "1273                          0                              0   \n",
              "\n",
              "      travel_style_Peace and Quiet Seeker  travel_style_Shopping Fanatic  \\\n",
              "0                                       0                              0   \n",
              "1                                       0                              0   \n",
              "2                                       0                              0   \n",
              "3                                       0                              0   \n",
              "4                                       0                              0   \n",
              "...                                   ...                            ...   \n",
              "1269                                    0                              0   \n",
              "1270                                    0                              0   \n",
              "1271                                    0                              0   \n",
              "1272                                    0                              0   \n",
              "1273                                    0                              0   \n",
              "\n",
              "      travel_style_Thrifty Traveller  travel_style_Thrill Seeker  \\\n",
              "0                                  0                           0   \n",
              "1                                  0                           0   \n",
              "2                                  0                           0   \n",
              "3                                  0                           0   \n",
              "4                                  0                           0   \n",
              "...                              ...                         ...   \n",
              "1269                               0                           0   \n",
              "1270                               0                           0   \n",
              "1271                               0                           0   \n",
              "1272                               0                           0   \n",
              "1273                               0                           0   \n",
              "\n",
              "      travel_style_Trendsetter  travel_style_Urban Explorer  \\\n",
              "0                            0                            1   \n",
              "1                            0                            1   \n",
              "2                            0                            1   \n",
              "3                            0                            1   \n",
              "4                            0                            1   \n",
              "...                        ...                          ...   \n",
              "1269                         0                            0   \n",
              "1270                         0                            0   \n",
              "1271                         0                            0   \n",
              "1272                         0                            0   \n",
              "1273                         0                            0   \n",
              "\n",
              "      travel_style_Vegetarian  \n",
              "0                           1  \n",
              "1                           1  \n",
              "2                           1  \n",
              "3                           1  \n",
              "4                           1  \n",
              "...                       ...  \n",
              "1269                        0  \n",
              "1270                        0  \n",
              "1271                        0  \n",
              "1272                        0  \n",
              "1273                        0  \n",
              "\n",
              "[1274 rows x 17 columns]"
            ],
            "text/html": [
              "\n",
              "  <div id=\"df-1b242678-231b-4e10-9e55-38277d6c210b\">\n",
              "    <div class=\"colab-df-container\">\n",
              "      <div>\n",
              "<style scoped>\n",
              "    .dataframe tbody tr th:only-of-type {\n",
              "        vertical-align: middle;\n",
              "    }\n",
              "\n",
              "    .dataframe tbody tr th {\n",
              "        vertical-align: top;\n",
              "    }\n",
              "\n",
              "    .dataframe thead th {\n",
              "        text-align: right;\n",
              "    }\n",
              "</style>\n",
              "<table border=\"1\" class=\"dataframe\">\n",
              "  <thead>\n",
              "    <tr style=\"text-align: right;\">\n",
              "      <th></th>\n",
              "      <th>travel_style_Art and Architecture Lover</th>\n",
              "      <th>travel_style_Backpacker</th>\n",
              "      <th>travel_style_Beach Goer</th>\n",
              "      <th>travel_style_Eco-tourist</th>\n",
              "      <th>travel_style_Family Hoilday Maker</th>\n",
              "      <th>travel_style_History Buff</th>\n",
              "      <th>travel_style_Like a Local</th>\n",
              "      <th>travel_style_Luxury Traveller</th>\n",
              "      <th>travel_style_Nature Lover</th>\n",
              "      <th>travel_style_Nightlife Seeker</th>\n",
              "      <th>travel_style_Peace and Quiet Seeker</th>\n",
              "      <th>travel_style_Shopping Fanatic</th>\n",
              "      <th>travel_style_Thrifty Traveller</th>\n",
              "      <th>travel_style_Thrill Seeker</th>\n",
              "      <th>travel_style_Trendsetter</th>\n",
              "      <th>travel_style_Urban Explorer</th>\n",
              "      <th>travel_style_Vegetarian</th>\n",
              "    </tr>\n",
              "  </thead>\n",
              "  <tbody>\n",
              "    <tr>\n",
              "      <th>0</th>\n",
              "      <td>1</td>\n",
              "      <td>0</td>\n",
              "      <td>0</td>\n",
              "      <td>0</td>\n",
              "      <td>0</td>\n",
              "      <td>0</td>\n",
              "      <td>0</td>\n",
              "      <td>0</td>\n",
              "      <td>0</td>\n",
              "      <td>0</td>\n",
              "      <td>0</td>\n",
              "      <td>0</td>\n",
              "      <td>0</td>\n",
              "      <td>0</td>\n",
              "      <td>0</td>\n",
              "      <td>1</td>\n",
              "      <td>1</td>\n",
              "    </tr>\n",
              "    <tr>\n",
              "      <th>1</th>\n",
              "      <td>1</td>\n",
              "      <td>0</td>\n",
              "      <td>0</td>\n",
              "      <td>0</td>\n",
              "      <td>0</td>\n",
              "      <td>0</td>\n",
              "      <td>0</td>\n",
              "      <td>0</td>\n",
              "      <td>0</td>\n",
              "      <td>0</td>\n",
              "      <td>0</td>\n",
              "      <td>0</td>\n",
              "      <td>0</td>\n",
              "      <td>0</td>\n",
              "      <td>0</td>\n",
              "      <td>1</td>\n",
              "      <td>1</td>\n",
              "    </tr>\n",
              "    <tr>\n",
              "      <th>2</th>\n",
              "      <td>1</td>\n",
              "      <td>0</td>\n",
              "      <td>0</td>\n",
              "      <td>0</td>\n",
              "      <td>0</td>\n",
              "      <td>0</td>\n",
              "      <td>0</td>\n",
              "      <td>0</td>\n",
              "      <td>0</td>\n",
              "      <td>0</td>\n",
              "      <td>0</td>\n",
              "      <td>0</td>\n",
              "      <td>0</td>\n",
              "      <td>0</td>\n",
              "      <td>0</td>\n",
              "      <td>1</td>\n",
              "      <td>1</td>\n",
              "    </tr>\n",
              "    <tr>\n",
              "      <th>3</th>\n",
              "      <td>1</td>\n",
              "      <td>0</td>\n",
              "      <td>0</td>\n",
              "      <td>0</td>\n",
              "      <td>0</td>\n",
              "      <td>0</td>\n",
              "      <td>0</td>\n",
              "      <td>0</td>\n",
              "      <td>0</td>\n",
              "      <td>0</td>\n",
              "      <td>0</td>\n",
              "      <td>0</td>\n",
              "      <td>0</td>\n",
              "      <td>0</td>\n",
              "      <td>0</td>\n",
              "      <td>1</td>\n",
              "      <td>1</td>\n",
              "    </tr>\n",
              "    <tr>\n",
              "      <th>4</th>\n",
              "      <td>1</td>\n",
              "      <td>0</td>\n",
              "      <td>0</td>\n",
              "      <td>0</td>\n",
              "      <td>0</td>\n",
              "      <td>0</td>\n",
              "      <td>0</td>\n",
              "      <td>0</td>\n",
              "      <td>0</td>\n",
              "      <td>0</td>\n",
              "      <td>0</td>\n",
              "      <td>0</td>\n",
              "      <td>0</td>\n",
              "      <td>0</td>\n",
              "      <td>0</td>\n",
              "      <td>1</td>\n",
              "      <td>1</td>\n",
              "    </tr>\n",
              "    <tr>\n",
              "      <th>...</th>\n",
              "      <td>...</td>\n",
              "      <td>...</td>\n",
              "      <td>...</td>\n",
              "      <td>...</td>\n",
              "      <td>...</td>\n",
              "      <td>...</td>\n",
              "      <td>...</td>\n",
              "      <td>...</td>\n",
              "      <td>...</td>\n",
              "      <td>...</td>\n",
              "      <td>...</td>\n",
              "      <td>...</td>\n",
              "      <td>...</td>\n",
              "      <td>...</td>\n",
              "      <td>...</td>\n",
              "      <td>...</td>\n",
              "      <td>...</td>\n",
              "    </tr>\n",
              "    <tr>\n",
              "      <th>1269</th>\n",
              "      <td>0</td>\n",
              "      <td>0</td>\n",
              "      <td>0</td>\n",
              "      <td>0</td>\n",
              "      <td>1</td>\n",
              "      <td>0</td>\n",
              "      <td>0</td>\n",
              "      <td>0</td>\n",
              "      <td>0</td>\n",
              "      <td>0</td>\n",
              "      <td>0</td>\n",
              "      <td>0</td>\n",
              "      <td>0</td>\n",
              "      <td>0</td>\n",
              "      <td>0</td>\n",
              "      <td>0</td>\n",
              "      <td>0</td>\n",
              "    </tr>\n",
              "    <tr>\n",
              "      <th>1270</th>\n",
              "      <td>0</td>\n",
              "      <td>0</td>\n",
              "      <td>0</td>\n",
              "      <td>0</td>\n",
              "      <td>1</td>\n",
              "      <td>0</td>\n",
              "      <td>0</td>\n",
              "      <td>0</td>\n",
              "      <td>0</td>\n",
              "      <td>0</td>\n",
              "      <td>0</td>\n",
              "      <td>0</td>\n",
              "      <td>0</td>\n",
              "      <td>0</td>\n",
              "      <td>0</td>\n",
              "      <td>0</td>\n",
              "      <td>0</td>\n",
              "    </tr>\n",
              "    <tr>\n",
              "      <th>1271</th>\n",
              "      <td>0</td>\n",
              "      <td>0</td>\n",
              "      <td>0</td>\n",
              "      <td>0</td>\n",
              "      <td>0</td>\n",
              "      <td>0</td>\n",
              "      <td>1</td>\n",
              "      <td>0</td>\n",
              "      <td>0</td>\n",
              "      <td>0</td>\n",
              "      <td>0</td>\n",
              "      <td>0</td>\n",
              "      <td>0</td>\n",
              "      <td>0</td>\n",
              "      <td>0</td>\n",
              "      <td>0</td>\n",
              "      <td>0</td>\n",
              "    </tr>\n",
              "    <tr>\n",
              "      <th>1272</th>\n",
              "      <td>0</td>\n",
              "      <td>0</td>\n",
              "      <td>0</td>\n",
              "      <td>0</td>\n",
              "      <td>0</td>\n",
              "      <td>0</td>\n",
              "      <td>1</td>\n",
              "      <td>0</td>\n",
              "      <td>0</td>\n",
              "      <td>0</td>\n",
              "      <td>0</td>\n",
              "      <td>0</td>\n",
              "      <td>0</td>\n",
              "      <td>0</td>\n",
              "      <td>0</td>\n",
              "      <td>0</td>\n",
              "      <td>0</td>\n",
              "    </tr>\n",
              "    <tr>\n",
              "      <th>1273</th>\n",
              "      <td>0</td>\n",
              "      <td>0</td>\n",
              "      <td>0</td>\n",
              "      <td>0</td>\n",
              "      <td>0</td>\n",
              "      <td>0</td>\n",
              "      <td>1</td>\n",
              "      <td>0</td>\n",
              "      <td>0</td>\n",
              "      <td>0</td>\n",
              "      <td>0</td>\n",
              "      <td>0</td>\n",
              "      <td>0</td>\n",
              "      <td>0</td>\n",
              "      <td>0</td>\n",
              "      <td>0</td>\n",
              "      <td>0</td>\n",
              "    </tr>\n",
              "  </tbody>\n",
              "</table>\n",
              "<p>1274 rows × 17 columns</p>\n",
              "</div>\n",
              "      <button class=\"colab-df-convert\" onclick=\"convertToInteractive('df-1b242678-231b-4e10-9e55-38277d6c210b')\"\n",
              "              title=\"Convert this dataframe to an interactive table.\"\n",
              "              style=\"display:none;\">\n",
              "        \n",
              "  <svg xmlns=\"http://www.w3.org/2000/svg\" height=\"24px\"viewBox=\"0 0 24 24\"\n",
              "       width=\"24px\">\n",
              "    <path d=\"M0 0h24v24H0V0z\" fill=\"none\"/>\n",
              "    <path d=\"M18.56 5.44l.94 2.06.94-2.06 2.06-.94-2.06-.94-.94-2.06-.94 2.06-2.06.94zm-11 1L8.5 8.5l.94-2.06 2.06-.94-2.06-.94L8.5 2.5l-.94 2.06-2.06.94zm10 10l.94 2.06.94-2.06 2.06-.94-2.06-.94-.94-2.06-.94 2.06-2.06.94z\"/><path d=\"M17.41 7.96l-1.37-1.37c-.4-.4-.92-.59-1.43-.59-.52 0-1.04.2-1.43.59L10.3 9.45l-7.72 7.72c-.78.78-.78 2.05 0 2.83L4 21.41c.39.39.9.59 1.41.59.51 0 1.02-.2 1.41-.59l7.78-7.78 2.81-2.81c.8-.78.8-2.07 0-2.86zM5.41 20L4 18.59l7.72-7.72 1.47 1.35L5.41 20z\"/>\n",
              "  </svg>\n",
              "      </button>\n",
              "      \n",
              "  <style>\n",
              "    .colab-df-container {\n",
              "      display:flex;\n",
              "      flex-wrap:wrap;\n",
              "      gap: 12px;\n",
              "    }\n",
              "\n",
              "    .colab-df-convert {\n",
              "      background-color: #E8F0FE;\n",
              "      border: none;\n",
              "      border-radius: 50%;\n",
              "      cursor: pointer;\n",
              "      display: none;\n",
              "      fill: #1967D2;\n",
              "      height: 32px;\n",
              "      padding: 0 0 0 0;\n",
              "      width: 32px;\n",
              "    }\n",
              "\n",
              "    .colab-df-convert:hover {\n",
              "      background-color: #E2EBFA;\n",
              "      box-shadow: 0px 1px 2px rgba(60, 64, 67, 0.3), 0px 1px 3px 1px rgba(60, 64, 67, 0.15);\n",
              "      fill: #174EA6;\n",
              "    }\n",
              "\n",
              "    [theme=dark] .colab-df-convert {\n",
              "      background-color: #3B4455;\n",
              "      fill: #D2E3FC;\n",
              "    }\n",
              "\n",
              "    [theme=dark] .colab-df-convert:hover {\n",
              "      background-color: #434B5C;\n",
              "      box-shadow: 0px 1px 3px 1px rgba(0, 0, 0, 0.15);\n",
              "      filter: drop-shadow(0px 1px 2px rgba(0, 0, 0, 0.3));\n",
              "      fill: #FFFFFF;\n",
              "    }\n",
              "  </style>\n",
              "\n",
              "      <script>\n",
              "        const buttonEl =\n",
              "          document.querySelector('#df-1b242678-231b-4e10-9e55-38277d6c210b button.colab-df-convert');\n",
              "        buttonEl.style.display =\n",
              "          google.colab.kernel.accessAllowed ? 'block' : 'none';\n",
              "\n",
              "        async function convertToInteractive(key) {\n",
              "          const element = document.querySelector('#df-1b242678-231b-4e10-9e55-38277d6c210b');\n",
              "          const dataTable =\n",
              "            await google.colab.kernel.invokeFunction('convertToInteractive',\n",
              "                                                     [key], {});\n",
              "          if (!dataTable) return;\n",
              "\n",
              "          const docLinkHtml = 'Like what you see? Visit the ' +\n",
              "            '<a target=\"_blank\" href=https://colab.research.google.com/notebooks/data_table.ipynb>data table notebook</a>'\n",
              "            + ' to learn more about interactive tables.';\n",
              "          element.innerHTML = '';\n",
              "          dataTable['output_type'] = 'display_data';\n",
              "          await google.colab.output.renderOutput(dataTable, element);\n",
              "          const docLink = document.createElement('div');\n",
              "          docLink.innerHTML = docLinkHtml;\n",
              "          element.appendChild(docLink);\n",
              "        }\n",
              "      </script>\n",
              "    </div>\n",
              "  </div>\n",
              "  "
            ]
          },
          "metadata": {},
          "execution_count": 142
        }
      ],
      "source": [
        "travel_style_matrix_revised = travel_style_matrix_revised.drop(['travel_style_Foodie', 'travel_style_60+ Traveler'], axis=1)\n",
        "travel_style_matrix_revised"
      ]
    },
    {
      "cell_type": "code",
      "execution_count": 143,
      "metadata": {
        "scrolled": true,
        "id": "0XyrvF88QlDB"
      },
      "outputs": [],
      "source": [
        "#travel_style_matrix_revised.isnull()"
      ]
    },
    {
      "cell_type": "code",
      "execution_count": 144,
      "metadata": {
        "id": "1C3qTIKKQlDB"
      },
      "outputs": [],
      "source": [
        "# travel_style_matrix_revised['travel_style_Veg_or_eco'] = (travel_style_matrix_revised['travel_style_Vegetarian'] \n",
        "# + travel_style_matrix_revised['travel_style_Eco-tourist'])\n",
        "# more_than_two_mask = travel_style_matrix_revised['travel_style_Veg_or_eco'] == 2"
      ]
    },
    {
      "cell_type": "code",
      "execution_count": 145,
      "metadata": {
        "scrolled": false,
        "id": "DejBttq3QlDB"
      },
      "outputs": [],
      "source": [
        "#travel_style_matrix_revised[more_than_two_mask]"
      ]
    },
    {
      "cell_type": "code",
      "execution_count": 146,
      "metadata": {
        "id": "g1462VmoQlDB"
      },
      "outputs": [],
      "source": [
        "mask = (travel_style_matrix_revised['travel_style_Nature Lover'] == 1) \n",
        "#| (travel_style_matrix_revised['travel_style_Eco-tourist'] == 1)"
      ]
    },
    {
      "cell_type": "code",
      "execution_count": 147,
      "metadata": {
        "colab": {
          "base_uri": "https://localhost:8080/"
        },
        "id": "Q3QzqfjKQlDB",
        "outputId": "f25c3150-67a8-443d-fe19-e93e7fe54841"
      },
      "outputs": [
        {
          "output_type": "execute_result",
          "data": {
            "text/plain": [
              "travel_style_Art and Architecture Lover    174\n",
              "travel_style_Backpacker                     19\n",
              "travel_style_Beach Goer                    141\n",
              "travel_style_Eco-tourist                    21\n",
              "travel_style_Family Hoilday Maker          176\n",
              "travel_style_History Buff                  200\n",
              "travel_style_Like a Local                  262\n",
              "travel_style_Luxury Traveller              107\n",
              "travel_style_Nature Lover                  451\n",
              "travel_style_Nightlife Seeker               35\n",
              "travel_style_Peace and Quiet Seeker        146\n",
              "travel_style_Shopping Fanatic              135\n",
              "travel_style_Thrifty Traveller              93\n",
              "travel_style_Thrill Seeker                 135\n",
              "travel_style_Trendsetter                    54\n",
              "travel_style_Urban Explorer                138\n",
              "travel_style_Vegetarian                      8\n",
              "dtype: int64"
            ]
          },
          "metadata": {},
          "execution_count": 147
        }
      ],
      "source": [
        "travel_style_matrix_revised[mask].sum()"
      ]
    },
    {
      "cell_type": "code",
      "execution_count": 148,
      "metadata": {
        "colab": {
          "base_uri": "https://localhost:8080/",
          "height": 592
        },
        "id": "LINz-FYAQlDB",
        "outputId": "a6241813-787a-4044-957d-bb7037abef1a"
      },
      "outputs": [
        {
          "output_type": "display_data",
          "data": {
            "text/plain": [
              "<Figure size 864x720 with 1 Axes>"
            ],
            "image/png": "[encoded data removed]"
          },
          "metadata": {
            "needs_background": "light"
          }
        }
      ],
      "source": [
        "(travel_style_matrix_revised.sum(axis=0)\n",
        "                   .sort_values(ascending=True)\n",
        "                   .plot(kind='barh',\n",
        "                         figsize=(12,10),\n",
        "                         alpha = .7));"
      ]
    },
    {
      "cell_type": "code",
      "execution_count": 149,
      "metadata": {
        "id": "brvHWjVyQlDC"
      },
      "outputs": [],
      "source": [
        "df_age_gender = final_table_3[['ageRange', 'gender']]\n",
        "#df_age_gender.ageRange"
      ]
    },
    {
      "cell_type": "code",
      "execution_count": 150,
      "metadata": {
        "id": "_A5yaEWsQlDC"
      },
      "outputs": [],
      "source": [
        "df_age_gender = pd.get_dummies(df_age_gender, columns = ['ageRange'])"
      ]
    },
    {
      "cell_type": "code",
      "execution_count": 151,
      "metadata": {
        "id": "-hWJ5_z2QlDC"
      },
      "outputs": [],
      "source": [
        "#df = pd.get_dummies(df, columns=['type'])\n"
      ]
    },
    {
      "cell_type": "code",
      "execution_count": 152,
      "metadata": {
        "scrolled": true,
        "id": "niGszRxEQlDC"
      },
      "outputs": [],
      "source": [
        "df_age_gender = pd.get_dummies(df_age_gender, columns = ['gender'])\n"
      ]
    },
    {
      "cell_type": "code",
      "execution_count": 153,
      "metadata": {
        "id": "a06Jcgj-QlDC"
      },
      "outputs": [],
      "source": [
        "left = df_age_gender\n",
        "right = travel_style_matrix_revised"
      ]
    },
    {
      "cell_type": "code",
      "execution_count": 154,
      "metadata": {
        "id": "OHYvZOabQlDC"
      },
      "outputs": [],
      "source": [
        "user_feat_df = left.join(right)"
      ]
    },
    {
      "cell_type": "code",
      "execution_count": 155,
      "metadata": {
        "colab": {
          "base_uri": "https://localhost:8080/"
        },
        "id": "XZuris2QQlDC",
        "outputId": "dd065623-989c-41fc-f2fe-2f11107a39d0"
      },
      "outputs": [
        {
          "output_type": "execute_result",
          "data": {
            "text/plain": [
              "(1274, 24)"
            ]
          },
          "metadata": {},
          "execution_count": 155
        }
      ],
      "source": [
        "user_feat_df.shape"
      ]
    },
    {
      "cell_type": "code",
      "execution_count": 156,
      "metadata": {
        "colab": {
          "base_uri": "https://localhost:8080/"
        },
        "id": "XVl_WTQTQlDD",
        "outputId": "43130a2b-8267-4fe0-80ce-3a1e69f11caf"
      },
      "outputs": [
        {
          "output_type": "execute_result",
          "data": {
            "text/plain": [
              "(1274, 24)"
            ]
          },
          "metadata": {},
          "execution_count": 156
        }
      ],
      "source": [
        "user_feat_df.shape"
      ]
    },
    {
      "cell_type": "code",
      "execution_count": 158,
      "metadata": {
        "id": "IlIqjLdtQlDD"
      },
      "outputs": [],
      "source": [
        "from sklearn.metrics import jaccard_score"
      ]
    },
    {
      "cell_type": "code",
      "execution_count": 159,
      "metadata": {
        "id": "mVeYMQTDQlDD"
      },
      "outputs": [],
      "source": [
        "user_feat_df_T = user_feat_df.T"
      ]
    },
    {
      "cell_type": "code",
      "execution_count": 160,
      "metadata": {
        "colab": {
          "base_uri": "https://localhost:8080/"
        },
        "id": "z_lANJrWQlDD",
        "outputId": "3b25449c-f9ce-4ec2-ee11-84e2b7a35457"
      },
      "outputs": [
        {
          "output_type": "execute_result",
          "data": {
            "text/plain": [
              "0.1111111111111111"
            ]
          },
          "metadata": {},
          "execution_count": 160
        }
      ],
      "source": [
        "jaccard_score(user_feat_df_T[0], user_feat_df_T[27])"
      ]
    },
    {
      "cell_type": "code",
      "execution_count": 161,
      "metadata": {
        "colab": {
          "base_uri": "https://localhost:8080/",
          "height": 206
        },
        "id": "hnQqLgLaQlDD",
        "outputId": "107c9428-7bcd-4bc2-a11c-6dc438e4a3d4"
      },
      "outputs": [
        {
          "output_type": "execute_result",
          "data": {
            "text/plain": [
              "   user_id  city_id  rating_float\n",
              "0        0        0           4.0\n",
              "1        0        0           3.0\n",
              "2        0        1           5.0\n",
              "3        0        2           4.0\n",
              "4        0        3           3.0"
            ],
            "text/html": [
              "\n",
              "  <div id=\"df-f14a0dfb-234c-4052-937d-8ae3e7d0da69\">\n",
              "    <div class=\"colab-df-container\">\n",
              "      <div>\n",
              "<style scoped>\n",
              "    .dataframe tbody tr th:only-of-type {\n",
              "        vertical-align: middle;\n",
              "    }\n",
              "\n",
              "    .dataframe tbody tr th {\n",
              "        vertical-align: top;\n",
              "    }\n",
              "\n",
              "    .dataframe thead th {\n",
              "        text-align: right;\n",
              "    }\n",
              "</style>\n",
              "<table border=\"1\" class=\"dataframe\">\n",
              "  <thead>\n",
              "    <tr style=\"text-align: right;\">\n",
              "      <th></th>\n",
              "      <th>user_id</th>\n",
              "      <th>city_id</th>\n",
              "      <th>rating_float</th>\n",
              "    </tr>\n",
              "  </thead>\n",
              "  <tbody>\n",
              "    <tr>\n",
              "      <th>0</th>\n",
              "      <td>0</td>\n",
              "      <td>0</td>\n",
              "      <td>4.0</td>\n",
              "    </tr>\n",
              "    <tr>\n",
              "      <th>1</th>\n",
              "      <td>0</td>\n",
              "      <td>0</td>\n",
              "      <td>3.0</td>\n",
              "    </tr>\n",
              "    <tr>\n",
              "      <th>2</th>\n",
              "      <td>0</td>\n",
              "      <td>1</td>\n",
              "      <td>5.0</td>\n",
              "    </tr>\n",
              "    <tr>\n",
              "      <th>3</th>\n",
              "      <td>0</td>\n",
              "      <td>2</td>\n",
              "      <td>4.0</td>\n",
              "    </tr>\n",
              "    <tr>\n",
              "      <th>4</th>\n",
              "      <td>0</td>\n",
              "      <td>3</td>\n",
              "      <td>3.0</td>\n",
              "    </tr>\n",
              "  </tbody>\n",
              "</table>\n",
              "</div>\n",
              "      <button class=\"colab-df-convert\" onclick=\"convertToInteractive('df-f14a0dfb-234c-4052-937d-8ae3e7d0da69')\"\n",
              "              title=\"Convert this dataframe to an interactive table.\"\n",
              "              style=\"display:none;\">\n",
              "        \n",
              "  <svg xmlns=\"http://www.w3.org/2000/svg\" height=\"24px\"viewBox=\"0 0 24 24\"\n",
              "       width=\"24px\">\n",
              "    <path d=\"M0 0h24v24H0V0z\" fill=\"none\"/>\n",
              "    <path d=\"M18.56 5.44l.94 2.06.94-2.06 2.06-.94-2.06-.94-.94-2.06-.94 2.06-2.06.94zm-11 1L8.5 8.5l.94-2.06 2.06-.94-2.06-.94L8.5 2.5l-.94 2.06-2.06.94zm10 10l.94 2.06.94-2.06 2.06-.94-2.06-.94-.94-2.06-.94 2.06-2.06.94z\"/><path d=\"M17.41 7.96l-1.37-1.37c-.4-.4-.92-.59-1.43-.59-.52 0-1.04.2-1.43.59L10.3 9.45l-7.72 7.72c-.78.78-.78 2.05 0 2.83L4 21.41c.39.39.9.59 1.41.59.51 0 1.02-.2 1.41-.59l7.78-7.78 2.81-2.81c.8-.78.8-2.07 0-2.86zM5.41 20L4 18.59l7.72-7.72 1.47 1.35L5.41 20z\"/>\n",
              "  </svg>\n",
              "      </button>\n",
              "      \n",
              "  <style>\n",
              "    .colab-df-container {\n",
              "      display:flex;\n",
              "      flex-wrap:wrap;\n",
              "      gap: 12px;\n",
              "    }\n",
              "\n",
              "    .colab-df-convert {\n",
              "      background-color: #E8F0FE;\n",
              "      border: none;\n",
              "      border-radius: 50%;\n",
              "      cursor: pointer;\n",
              "      display: none;\n",
              "      fill: #1967D2;\n",
              "      height: 32px;\n",
              "      padding: 0 0 0 0;\n",
              "      width: 32px;\n",
              "    }\n",
              "\n",
              "    .colab-df-convert:hover {\n",
              "      background-color: #E2EBFA;\n",
              "      box-shadow: 0px 1px 2px rgba(60, 64, 67, 0.3), 0px 1px 3px 1px rgba(60, 64, 67, 0.15);\n",
              "      fill: #174EA6;\n",
              "    }\n",
              "\n",
              "    [theme=dark] .colab-df-convert {\n",
              "      background-color: #3B4455;\n",
              "      fill: #D2E3FC;\n",
              "    }\n",
              "\n",
              "    [theme=dark] .colab-df-convert:hover {\n",
              "      background-color: #434B5C;\n",
              "      box-shadow: 0px 1px 3px 1px rgba(0, 0, 0, 0.15);\n",
              "      filter: drop-shadow(0px 1px 2px rgba(0, 0, 0, 0.3));\n",
              "      fill: #FFFFFF;\n",
              "    }\n",
              "  </style>\n",
              "\n",
              "      <script>\n",
              "        const buttonEl =\n",
              "          document.querySelector('#df-f14a0dfb-234c-4052-937d-8ae3e7d0da69 button.colab-df-convert');\n",
              "        buttonEl.style.display =\n",
              "          google.colab.kernel.accessAllowed ? 'block' : 'none';\n",
              "\n",
              "        async function convertToInteractive(key) {\n",
              "          const element = document.querySelector('#df-f14a0dfb-234c-4052-937d-8ae3e7d0da69');\n",
              "          const dataTable =\n",
              "            await google.colab.kernel.invokeFunction('convertToInteractive',\n",
              "                                                     [key], {});\n",
              "          if (!dataTable) return;\n",
              "\n",
              "          const docLinkHtml = 'Like what you see? Visit the ' +\n",
              "            '<a target=\"_blank\" href=https://colab.research.google.com/notebooks/data_table.ipynb>data table notebook</a>'\n",
              "            + ' to learn more about interactive tables.';\n",
              "          element.innerHTML = '';\n",
              "          dataTable['output_type'] = 'display_data';\n",
              "          await google.colab.output.renderOutput(dataTable, element);\n",
              "          const docLink = document.createElement('div');\n",
              "          docLink.innerHTML = docLinkHtml;\n",
              "          element.appendChild(docLink);\n",
              "        }\n",
              "      </script>\n",
              "    </div>\n",
              "  </div>\n",
              "  "
            ]
          },
          "metadata": {},
          "execution_count": 161
        }
      ],
      "source": [
        "new_new_temp_rdd.head()"
      ]
    },
    {
      "cell_type": "code",
      "execution_count": 162,
      "metadata": {
        "scrolled": true,
        "colab": {
          "base_uri": "https://localhost:8080/",
          "height": 206
        },
        "id": "4RlnXjMRQlDD",
        "outputId": "8bff2ec0-e3f8-4d1b-c55a-ba1c48fcd7cc"
      },
      "outputs": [
        {
          "output_type": "execute_result",
          "data": {
            "text/plain": [
              "   user_id\n",
              "0        0\n",
              "1        1\n",
              "2        2\n",
              "3        3\n",
              "4        4"
            ],
            "text/html": [
              "\n",
              "  <div id=\"df-c4aad602-5cc3-4149-86d7-0d0625fe41b5\">\n",
              "    <div class=\"colab-df-container\">\n",
              "      <div>\n",
              "<style scoped>\n",
              "    .dataframe tbody tr th:only-of-type {\n",
              "        vertical-align: middle;\n",
              "    }\n",
              "\n",
              "    .dataframe tbody tr th {\n",
              "        vertical-align: top;\n",
              "    }\n",
              "\n",
              "    .dataframe thead th {\n",
              "        text-align: right;\n",
              "    }\n",
              "</style>\n",
              "<table border=\"1\" class=\"dataframe\">\n",
              "  <thead>\n",
              "    <tr style=\"text-align: right;\">\n",
              "      <th></th>\n",
              "      <th>user_id</th>\n",
              "    </tr>\n",
              "  </thead>\n",
              "  <tbody>\n",
              "    <tr>\n",
              "      <th>0</th>\n",
              "      <td>0</td>\n",
              "    </tr>\n",
              "    <tr>\n",
              "      <th>1</th>\n",
              "      <td>1</td>\n",
              "    </tr>\n",
              "    <tr>\n",
              "      <th>2</th>\n",
              "      <td>2</td>\n",
              "    </tr>\n",
              "    <tr>\n",
              "      <th>3</th>\n",
              "      <td>3</td>\n",
              "    </tr>\n",
              "    <tr>\n",
              "      <th>4</th>\n",
              "      <td>4</td>\n",
              "    </tr>\n",
              "  </tbody>\n",
              "</table>\n",
              "</div>\n",
              "      <button class=\"colab-df-convert\" onclick=\"convertToInteractive('df-c4aad602-5cc3-4149-86d7-0d0625fe41b5')\"\n",
              "              title=\"Convert this dataframe to an interactive table.\"\n",
              "              style=\"display:none;\">\n",
              "        \n",
              "  <svg xmlns=\"http://www.w3.org/2000/svg\" height=\"24px\"viewBox=\"0 0 24 24\"\n",
              "       width=\"24px\">\n",
              "    <path d=\"M0 0h24v24H0V0z\" fill=\"none\"/>\n",
              "    <path d=\"M18.56 5.44l.94 2.06.94-2.06 2.06-.94-2.06-.94-.94-2.06-.94 2.06-2.06.94zm-11 1L8.5 8.5l.94-2.06 2.06-.94-2.06-.94L8.5 2.5l-.94 2.06-2.06.94zm10 10l.94 2.06.94-2.06 2.06-.94-2.06-.94-.94-2.06-.94 2.06-2.06.94z\"/><path d=\"M17.41 7.96l-1.37-1.37c-.4-.4-.92-.59-1.43-.59-.52 0-1.04.2-1.43.59L10.3 9.45l-7.72 7.72c-.78.78-.78 2.05 0 2.83L4 21.41c.39.39.9.59 1.41.59.51 0 1.02-.2 1.41-.59l7.78-7.78 2.81-2.81c.8-.78.8-2.07 0-2.86zM5.41 20L4 18.59l7.72-7.72 1.47 1.35L5.41 20z\"/>\n",
              "  </svg>\n",
              "      </button>\n",
              "      \n",
              "  <style>\n",
              "    .colab-df-container {\n",
              "      display:flex;\n",
              "      flex-wrap:wrap;\n",
              "      gap: 12px;\n",
              "    }\n",
              "\n",
              "    .colab-df-convert {\n",
              "      background-color: #E8F0FE;\n",
              "      border: none;\n",
              "      border-radius: 50%;\n",
              "      cursor: pointer;\n",
              "      display: none;\n",
              "      fill: #1967D2;\n",
              "      height: 32px;\n",
              "      padding: 0 0 0 0;\n",
              "      width: 32px;\n",
              "    }\n",
              "\n",
              "    .colab-df-convert:hover {\n",
              "      background-color: #E2EBFA;\n",
              "      box-shadow: 0px 1px 2px rgba(60, 64, 67, 0.3), 0px 1px 3px 1px rgba(60, 64, 67, 0.15);\n",
              "      fill: #174EA6;\n",
              "    }\n",
              "\n",
              "    [theme=dark] .colab-df-convert {\n",
              "      background-color: #3B4455;\n",
              "      fill: #D2E3FC;\n",
              "    }\n",
              "\n",
              "    [theme=dark] .colab-df-convert:hover {\n",
              "      background-color: #434B5C;\n",
              "      box-shadow: 0px 1px 3px 1px rgba(0, 0, 0, 0.15);\n",
              "      filter: drop-shadow(0px 1px 2px rgba(0, 0, 0, 0.3));\n",
              "      fill: #FFFFFF;\n",
              "    }\n",
              "  </style>\n",
              "\n",
              "      <script>\n",
              "        const buttonEl =\n",
              "          document.querySelector('#df-c4aad602-5cc3-4149-86d7-0d0625fe41b5 button.colab-df-convert');\n",
              "        buttonEl.style.display =\n",
              "          google.colab.kernel.accessAllowed ? 'block' : 'none';\n",
              "\n",
              "        async function convertToInteractive(key) {\n",
              "          const element = document.querySelector('#df-c4aad602-5cc3-4149-86d7-0d0625fe41b5');\n",
              "          const dataTable =\n",
              "            await google.colab.kernel.invokeFunction('convertToInteractive',\n",
              "                                                     [key], {});\n",
              "          if (!dataTable) return;\n",
              "\n",
              "          const docLinkHtml = 'Like what you see? Visit the ' +\n",
              "            '<a target=\"_blank\" href=https://colab.research.google.com/notebooks/data_table.ipynb>data table notebook</a>'\n",
              "            + ' to learn more about interactive tables.';\n",
              "          element.innerHTML = '';\n",
              "          dataTable['output_type'] = 'display_data';\n",
              "          await google.colab.output.renderOutput(dataTable, element);\n",
              "          const docLink = document.createElement('div');\n",
              "          docLink.innerHTML = docLinkHtml;\n",
              "          element.appendChild(docLink);\n",
              "        }\n",
              "      </script>\n",
              "    </div>\n",
              "  </div>\n",
              "  "
            ]
          },
          "metadata": {},
          "execution_count": 162
        }
      ],
      "source": [
        "user_temp = new_new_temp_rdd[['user_id']]\n",
        "\n",
        "df_user_id = pd.DataFrame(user_temp.user_id.unique(),columns=['user_id'])\n",
        "df_user_id.head()"
      ]
    },
    {
      "cell_type": "markdown",
      "metadata": {
        "id": "mJuT-wl-QlDE"
      },
      "source": [
        "# creating a matri"
      ]
    },
    {
      "cell_type": "code",
      "execution_count": 163,
      "metadata": {
        "colab": {
          "base_uri": "https://localhost:8080/"
        },
        "id": "M-yCfa6qQlDF",
        "outputId": "44c63d5c-789b-4a17-fa7a-062f9c8347d1"
      },
      "outputs": [
        {
          "output_type": "execute_result",
          "data": {
            "text/plain": [
              "1002"
            ]
          },
          "metadata": {},
          "execution_count": 163
        }
      ],
      "source": [
        "# filtered data number of unique cities\n",
        "len(final_table_2.taObjectCity.unique())\n",
        "#Counter(final_table[attra_mask_final].taObjectCity.unique())"
      ]
    },
    {
      "cell_type": "code",
      "execution_count": 164,
      "metadata": {
        "id": "MA5_brf6QlDF"
      },
      "outputs": [],
      "source": [
        "# original number of unique cities from data4\n",
        "len(data4.taObjectCity.unique());"
      ]
    },
    {
      "cell_type": "code",
      "execution_count": 165,
      "metadata": {
        "colab": {
          "base_uri": "https://localhost:8080/"
        },
        "id": "86k5ma7sQlDF",
        "outputId": "223d00d2-0929-46be-a234-bd380db16e56"
      },
      "outputs": [
        {
          "output_type": "stream",
          "name": "stdout",
          "text": [
            "0.5588666575591985\n",
            "0.6454380874316942\n",
            "0.5664736976320587\n",
            "0.5843303551912571\n",
            "0.4581243078324227\n",
            "----------filtered-------------\n",
            "0.5585416452442162\n",
            "0.6452703084832903\n",
            "0.5661756298200515\n",
            "0.583772673521851\n",
            "0.4584064267352185\n"
          ]
        }
      ],
      "source": [
        "print(data1_new['cons'].mean())\n",
        "print(data1_new['open'].mean())\n",
        "print(data1_new['extra'].mean())\n",
        "print(data1_new['agree'].mean())\n",
        "print(data1_new['neuro'].mean())\n",
        "print('----------filtered-------------')\n",
        "print(data1_and_3['cons'].mean())\n",
        "print(data1_and_3['open'].mean())\n",
        "print(data1_and_3['extra'].mean())\n",
        "print(data1_and_3['agree'].mean())\n",
        "print(data1_and_3['neuro'].mean())"
      ]
    },
    {
      "cell_type": "code",
      "execution_count": 166,
      "metadata": {
        "colab": {
          "base_uri": "https://localhost:8080/",
          "height": 592
        },
        "id": "aaYFb6WMQlDF",
        "outputId": "dc78f32e-6c63-4711-f980-28deb76ab022"
      },
      "outputs": [
        {
          "output_type": "display_data",
          "data": {
            "text/plain": [
              "<Figure size 864x720 with 1 Axes>"
            ],
            "image/png": "[encoded data removed]"
          },
          "metadata": {
            "needs_background": "light"
          }
        }
      ],
      "source": [
        "\n",
        "data1_and_3['cons'].plot(kind='hist', bins=20, figsize=(12,10), alpha = .7);\n",
        "data1_and_3['open'].plot(kind='hist', bins=20, figsize=(12,10), alpha = .7);\n",
        "data1_and_3['extra'].plot(kind='hist', bins=20, figsize=(12,10), alpha = .7);\n",
        "data1_and_3['agree'].plot(kind='hist', bins=20, figsize=(12,10), alpha = .7);\n",
        "data1_and_3['neuro'].plot(kind='hist', bins=20, figsize=(12,10), alpha = .7);"
      ]
    },
    {
      "cell_type": "markdown",
      "metadata": {
        "id": "5wo3C-srQlDG"
      },
      "source": [
        "# NLP"
      ]
    },
    {
      "cell_type": "code",
      "execution_count": 167,
      "metadata": {
        "id": "fktgOXXtQlDG"
      },
      "outputs": [],
      "source": [
        "documents = data2.text[0].split('.')\n",
        "cv = CountVectorizer(stop_words='english')\n",
        "vectorized = cv.fit_transform(documents)"
      ]
    },
    {
      "cell_type": "code",
      "execution_count": 168,
      "metadata": {
        "id": "hz6zFJIgQlDG"
      },
      "outputs": [],
      "source": [
        "manchester_dict = cv.vocabulary_"
      ]
    },
    {
      "cell_type": "code",
      "execution_count": 169,
      "metadata": {
        "id": "J4LMkKR1QlDG"
      },
      "outputs": [],
      "source": [
        "documents2 = data2.text[1].split('.')\n",
        "tfid2 = CountVectorizer(stop_words='english')\n",
        "vectorized2 = tfid2.fit_transform(documents2)"
      ]
    },
    {
      "cell_type": "code",
      "execution_count": 170,
      "metadata": {
        "scrolled": true,
        "colab": {
          "base_uri": "https://localhost:8080/"
        },
        "id": "VKI-QPkyQlDG",
        "outputId": "52c18f32-8902-4bc6-cfce-7db94aa050eb"
      },
      "outputs": [
        {
          "output_type": "stream",
          "name": "stderr",
          "text": [
            "/usr/local/lib/python3.7/dist-packages/sklearn/utils/deprecation.py:87: FutureWarning: Function get_feature_names is deprecated; get_feature_names is deprecated in 1.0 and will be removed in 1.2. Please use get_feature_names_out instead.\n",
            "  warnings.warn(msg, category=FutureWarning)\n"
          ]
        }
      ],
      "source": [
        "features = tfid2.get_feature_names()\n",
        "features;\n",
        "#row = wiki_data.index.get_loc(name)"
      ]
    },
    {
      "cell_type": "code",
      "execution_count": 171,
      "metadata": {
        "colab": {
          "base_uri": "https://localhost:8080/"
        },
        "id": "l8RyM4uNQlDG",
        "outputId": "6ea70e23-94b3-477d-8874-3f13585b6aad"
      },
      "outputs": [
        {
          "output_type": "stream",
          "name": "stderr",
          "text": [
            "/usr/local/lib/python3.7/dist-packages/sklearn/utils/deprecation.py:87: FutureWarning: Function get_feature_names is deprecated; get_feature_names is deprecated in 1.0 and will be removed in 1.2. Please use get_feature_names_out instead.\n",
            "  warnings.warn(msg, category=FutureWarning)\n"
          ]
        }
      ],
      "source": [
        "#vectorized2.shape\n",
        "#d = pd.Series(vectorized2.toarray(), index = features)\n",
        "#sort_values(ascending=False)\n",
        "#vectorized2.toarray()\n",
        "freqs = zip(tfid2.get_feature_names(), vectorized2.sum(axis=0))    \n",
        "sorted(freqs, key=lambda x: -x[1]);"
      ]
    },
    {
      "cell_type": "code",
      "execution_count": 179,
      "metadata": {
        "id": "8vWXAjZBQlDG"
      },
      "outputs": [],
      "source": [
        "# shanghai_dict = sorted(cv2.vocabulary_.items(), key = itemgetter(1), reverse = True)\n",
        "# dct.items(), key="
      ]
    },
    {
      "cell_type": "code",
      "execution_count": 173,
      "metadata": {
        "id": "AZYIS8qLQlDH"
      },
      "outputs": [],
      "source": [
        "from collections import OrderedDict\n",
        "from operator import itemgetter"
      ]
    },
    {
      "cell_type": "code",
      "execution_count": 174,
      "metadata": {
        "id": "DJxhQEr2QlDH"
      },
      "outputs": [],
      "source": [
        "manchester_dict = sorted(cv.vocabulary_.items(), key = itemgetter(1), reverse = True)"
      ]
    },
    {
      "cell_type": "code",
      "execution_count": 177,
      "metadata": {
        "colab": {
          "base_uri": "https://localhost:8080/"
        },
        "id": "x8ZKgbjlQlDH",
        "outputId": "cc5326d8-2d9c-4225-86c2-8be7f10cd95a"
      },
      "outputs": [
        {
          "output_type": "execute_result",
          "data": {
            "text/plain": [
              "[('youвђ', 308),\n",
              " ('young', 307),\n",
              " ('worth', 306),\n",
              " ('world', 305),\n",
              " ('works', 304),\n",
              " ('wigan', 303),\n",
              " ('weekend', 302),\n",
              " ('week', 301),\n",
              " ('wayfarer', 300),\n",
              " ('way', 299),\n",
              " ('water', 298),\n",
              " ('watching', 297),\n",
              " ('warriors', 296),\n",
              " ('warm', 295),\n",
              " ('war', 294),\n",
              " ('want', 293),\n",
              " ('wall', 292),\n",
              " ('walks', 291),\n",
              " ('visit', 290),\n",
              " ('view', 289),\n",
              " ('vietnamese', 288),\n",
              " ('vibrant', 287),\n",
              " ('vibe', 286),\n",
              " ('vegetarianism', 285),\n",
              " ('ve', 284),\n",
              " ('unlimited', 283),\n",
              " ('united', 282),\n",
              " ('union', 281),\n",
              " ('ukвђ', 280),\n",
              " ('uk', 279)]"
            ]
          },
          "metadata": {},
          "execution_count": 177
        }
      ],
      "source": [
        "manchester_dict[:30]"
      ]
    },
    {
      "cell_type": "code",
      "execution_count": 178,
      "metadata": {
        "colab": {
          "base_uri": "https://localhost:8080/"
        },
        "id": "svw9F8-hQlDH",
        "outputId": "dda4026c-2afc-4c02-d5c3-b85fddfa964b"
      },
      "outputs": [
        {
          "output_type": "execute_result",
          "data": {
            "text/plain": [
              "[('the', 50),\n",
              " ('and', 31),\n",
              " ('to', 19),\n",
              " ('of', 18),\n",
              " ('a', 15),\n",
              " ('in', 12),\n",
              " ('is', 12),\n",
              " ('for', 12),\n",
              " ('at', 10),\n",
              " ('on', 9),\n",
              " ('are', 8),\n",
              " ('The', 8),\n",
              " ('Manchester', 8),\n",
              " ('or', 7),\n",
              " ('city', 5),\n",
              " ('you', 5),\n",
              " ('your', 4),\n",
              " ('one', 4),\n",
              " ('where', 4),\n",
              " ('all', 4),\n",
              " ('day', 4),\n",
              " ('within', 4),\n",
              " ('by', 4),\n",
              " ('Centre', 4),\n",
              " ('from', 4),\n",
              " ('want', 3),\n",
              " ('yourself', 3),\n",
              " ('out', 3),\n",
              " ('There', 3),\n",
              " ('centre', 3)]"
            ]
          },
          "metadata": {},
          "execution_count": 178
        }
      ],
      "source": [
        "Counter(' '.join(documents).split()).most_common()[:30]"
      ]
    }
  ],
  "metadata": {
    "kernelspec": {
      "display_name": "Python 3",
      "language": "python",
      "name": "python3"
    },
    "language_info": {
      "codemirror_mode": {
        "name": "ipython",
        "version": 3
      },
      "file_extension": ".py",
      "mimetype": "text/x-python",
      "name": "python",
      "nbconvert_exporter": "python",
      "pygments_lexer": "ipython3",
      "version": "3.6.4"
    },
    "colab": {
      "name": "tripadvisor_personality_EDA.ipynb",
      "provenance": []
    }
  },
  "nbformat": 4,
  "nbformat_minor": 0
}