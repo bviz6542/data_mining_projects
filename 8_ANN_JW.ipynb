{
  "cells": [
    {
      "cell_type": "markdown",
      "metadata": {
        "id": "JMrSABB3GUUq"
      },
      "source": [
        "# Classification"
      ]
    },
    {
      "cell_type": "code",
      "execution_count": 1,
      "metadata": {
        "id": "wK6smxVlZJ6q"
      },
      "outputs": [],
      "source": [
        "import numpy as np\n",
        "import pandas as pd\n",
        "import os\n",
        "import theano\n",
        "import keras\n",
        "import tensorflow\n",
        "import matplotlib.pyplot as plt\n",
        "import seaborn as sns\n",
        "sns.set()"
      ]
    },
    {
      "cell_type": "code",
      "execution_count": 2,
      "metadata": {
        "colab": {
          "base_uri": "https://localhost:8080/",
          "height": 77,
          "resources": {
            "http://localhost:8080/nbextensions/google.colab/files.js": {
              "data": "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",
              "headers": [
                [
                  "content-type",
                  "application/javascript"
                ]
              ],
              "ok": true,
              "status": 200,
              "status_text": ""
            }
          }
        },
        "id": "8aZOVwejZJ4K",
        "outputId": "ac609339-fc9d-482a-9791-ef086e61905c"
      },
      "outputs": [
        {
          "output_type": "display_data",
          "data": {
            "text/plain": [
              "<IPython.core.display.HTML object>"
            ],
            "text/html": [
              "\n",
              "     <input type=\"file\" id=\"files-9d8e3981-d29e-4f9e-8c91-7609fd99934a\" name=\"files[]\" multiple disabled\n",
              "        style=\"border:none\" />\n",
              "     <output id=\"result-9d8e3981-d29e-4f9e-8c91-7609fd99934a\">\n",
              "      Upload widget is only available when the cell has been executed in the\n",
              "      current browser session. Please rerun this cell to enable.\n",
              "      </output>\n",
              "      <script src=\"/nbextensions/google.colab/files.js\"></script> "
            ]
          },
          "metadata": {}
        },
        {
          "output_type": "stream",
          "name": "stdout",
          "text": [
            "Saving Churn_Modelling.csv to Churn_Modelling.csv\n"
          ]
        }
      ],
      "source": [
        "from google.colab import files\n",
        "\n",
        "myfile = files.upload()\n",
        "churn_data = pd.read_csv('Churn_Modelling.csv',index_col='RowNumber')"
      ]
    },
    {
      "cell_type": "code",
      "execution_count": 3,
      "metadata": {
        "colab": {
          "base_uri": "https://localhost:8080/"
        },
        "id": "ijs63ordZJ1i",
        "outputId": "f1dd14ee-a460-47fb-8514-6ad25b28de87"
      },
      "outputs": [
        {
          "output_type": "stream",
          "name": "stdout",
          "text": [
            "<class 'pandas.core.frame.DataFrame'>\n",
            "Int64Index: 10000 entries, 1 to 10000\n",
            "Data columns (total 13 columns):\n",
            " #   Column           Non-Null Count  Dtype  \n",
            "---  ------           --------------  -----  \n",
            " 0   CustomerId       10000 non-null  int64  \n",
            " 1   Surname          10000 non-null  object \n",
            " 2   CreditScore      10000 non-null  int64  \n",
            " 3   Geography        10000 non-null  object \n",
            " 4   Gender           10000 non-null  object \n",
            " 5   Age              10000 non-null  int64  \n",
            " 6   Tenure           10000 non-null  int64  \n",
            " 7   Balance          10000 non-null  float64\n",
            " 8   NumOfProducts    10000 non-null  int64  \n",
            " 9   HasCrCard        10000 non-null  int64  \n",
            " 10  IsActiveMember   10000 non-null  int64  \n",
            " 11  EstimatedSalary  10000 non-null  float64\n",
            " 12  Exited           10000 non-null  int64  \n",
            "dtypes: float64(2), int64(8), object(3)\n",
            "memory usage: 1.1+ MB\n"
          ]
        }
      ],
      "source": [
        "churn_data.info()"
      ]
    },
    {
      "cell_type": "code",
      "execution_count": 4,
      "metadata": {
        "colab": {
          "base_uri": "https://localhost:8080/",
          "height": 300
        },
        "id": "nTzPg03nZJy-",
        "outputId": "45ddf95e-f01e-4b80-9ff3-ff40d60a3e5c"
      },
      "outputs": [
        {
          "output_type": "execute_result",
          "data": {
            "text/plain": [
              "         CustomerId   CreditScore           Age        Tenure        Balance  \\\n",
              "count  1.000000e+04  10000.000000  10000.000000  10000.000000   10000.000000   \n",
              "mean   1.569094e+07    650.528800     38.921800      5.012800   76485.889288   \n",
              "std    7.193619e+04     96.653299     10.487806      2.892174   62397.405202   \n",
              "min    1.556570e+07    350.000000     18.000000      0.000000       0.000000   \n",
              "25%    1.562853e+07    584.000000     32.000000      3.000000       0.000000   \n",
              "50%    1.569074e+07    652.000000     37.000000      5.000000   97198.540000   \n",
              "75%    1.575323e+07    718.000000     44.000000      7.000000  127644.240000   \n",
              "max    1.581569e+07    850.000000     92.000000     10.000000  250898.090000   \n",
              "\n",
              "       NumOfProducts    HasCrCard  IsActiveMember  EstimatedSalary  \\\n",
              "count   10000.000000  10000.00000    10000.000000     10000.000000   \n",
              "mean        1.530200      0.70550        0.515100    100090.239881   \n",
              "std         0.581654      0.45584        0.499797     57510.492818   \n",
              "min         1.000000      0.00000        0.000000        11.580000   \n",
              "25%         1.000000      0.00000        0.000000     51002.110000   \n",
              "50%         1.000000      1.00000        1.000000    100193.915000   \n",
              "75%         2.000000      1.00000        1.000000    149388.247500   \n",
              "max         4.000000      1.00000        1.000000    199992.480000   \n",
              "\n",
              "             Exited  \n",
              "count  10000.000000  \n",
              "mean       0.203700  \n",
              "std        0.402769  \n",
              "min        0.000000  \n",
              "25%        0.000000  \n",
              "50%        0.000000  \n",
              "75%        0.000000  \n",
              "max        1.000000  "
            ],
            "text/html": [
              "\n",
              "  <div id=\"df-7a5dde94-4496-4f9f-96fb-95038ddc5c53\">\n",
              "    <div class=\"colab-df-container\">\n",
              "      <div>\n",
              "<style scoped>\n",
              "    .dataframe tbody tr th:only-of-type {\n",
              "        vertical-align: middle;\n",
              "    }\n",
              "\n",
              "    .dataframe tbody tr th {\n",
              "        vertical-align: top;\n",
              "    }\n",
              "\n",
              "    .dataframe thead th {\n",
              "        text-align: right;\n",
              "    }\n",
              "</style>\n",
              "<table border=\"1\" class=\"dataframe\">\n",
              "  <thead>\n",
              "    <tr style=\"text-align: right;\">\n",
              "      <th></th>\n",
              "      <th>CustomerId</th>\n",
              "      <th>CreditScore</th>\n",
              "      <th>Age</th>\n",
              "      <th>Tenure</th>\n",
              "      <th>Balance</th>\n",
              "      <th>NumOfProducts</th>\n",
              "      <th>HasCrCard</th>\n",
              "      <th>IsActiveMember</th>\n",
              "      <th>EstimatedSalary</th>\n",
              "      <th>Exited</th>\n",
              "    </tr>\n",
              "  </thead>\n",
              "  <tbody>\n",
              "    <tr>\n",
              "      <th>count</th>\n",
              "      <td>1.000000e+04</td>\n",
              "      <td>10000.000000</td>\n",
              "      <td>10000.000000</td>\n",
              "      <td>10000.000000</td>\n",
              "      <td>10000.000000</td>\n",
              "      <td>10000.000000</td>\n",
              "      <td>10000.00000</td>\n",
              "      <td>10000.000000</td>\n",
              "      <td>10000.000000</td>\n",
              "      <td>10000.000000</td>\n",
              "    </tr>\n",
              "    <tr>\n",
              "      <th>mean</th>\n",
              "      <td>1.569094e+07</td>\n",
              "      <td>650.528800</td>\n",
              "      <td>38.921800</td>\n",
              "      <td>5.012800</td>\n",
              "      <td>76485.889288</td>\n",
              "      <td>1.530200</td>\n",
              "      <td>0.70550</td>\n",
              "      <td>0.515100</td>\n",
              "      <td>100090.239881</td>\n",
              "      <td>0.203700</td>\n",
              "    </tr>\n",
              "    <tr>\n",
              "      <th>std</th>\n",
              "      <td>7.193619e+04</td>\n",
              "      <td>96.653299</td>\n",
              "      <td>10.487806</td>\n",
              "      <td>2.892174</td>\n",
              "      <td>62397.405202</td>\n",
              "      <td>0.581654</td>\n",
              "      <td>0.45584</td>\n",
              "      <td>0.499797</td>\n",
              "      <td>57510.492818</td>\n",
              "      <td>0.402769</td>\n",
              "    </tr>\n",
              "    <tr>\n",
              "      <th>min</th>\n",
              "      <td>1.556570e+07</td>\n",
              "      <td>350.000000</td>\n",
              "      <td>18.000000</td>\n",
              "      <td>0.000000</td>\n",
              "      <td>0.000000</td>\n",
              "      <td>1.000000</td>\n",
              "      <td>0.00000</td>\n",
              "      <td>0.000000</td>\n",
              "      <td>11.580000</td>\n",
              "      <td>0.000000</td>\n",
              "    </tr>\n",
              "    <tr>\n",
              "      <th>25%</th>\n",
              "      <td>1.562853e+07</td>\n",
              "      <td>584.000000</td>\n",
              "      <td>32.000000</td>\n",
              "      <td>3.000000</td>\n",
              "      <td>0.000000</td>\n",
              "      <td>1.000000</td>\n",
              "      <td>0.00000</td>\n",
              "      <td>0.000000</td>\n",
              "      <td>51002.110000</td>\n",
              "      <td>0.000000</td>\n",
              "    </tr>\n",
              "    <tr>\n",
              "      <th>50%</th>\n",
              "      <td>1.569074e+07</td>\n",
              "      <td>652.000000</td>\n",
              "      <td>37.000000</td>\n",
              "      <td>5.000000</td>\n",
              "      <td>97198.540000</td>\n",
              "      <td>1.000000</td>\n",
              "      <td>1.00000</td>\n",
              "      <td>1.000000</td>\n",
              "      <td>100193.915000</td>\n",
              "      <td>0.000000</td>\n",
              "    </tr>\n",
              "    <tr>\n",
              "      <th>75%</th>\n",
              "      <td>1.575323e+07</td>\n",
              "      <td>718.000000</td>\n",
              "      <td>44.000000</td>\n",
              "      <td>7.000000</td>\n",
              "      <td>127644.240000</td>\n",
              "      <td>2.000000</td>\n",
              "      <td>1.00000</td>\n",
              "      <td>1.000000</td>\n",
              "      <td>149388.247500</td>\n",
              "      <td>0.000000</td>\n",
              "    </tr>\n",
              "    <tr>\n",
              "      <th>max</th>\n",
              "      <td>1.581569e+07</td>\n",
              "      <td>850.000000</td>\n",
              "      <td>92.000000</td>\n",
              "      <td>10.000000</td>\n",
              "      <td>250898.090000</td>\n",
              "      <td>4.000000</td>\n",
              "      <td>1.00000</td>\n",
              "      <td>1.000000</td>\n",
              "      <td>199992.480000</td>\n",
              "      <td>1.000000</td>\n",
              "    </tr>\n",
              "  </tbody>\n",
              "</table>\n",
              "</div>\n",
              "      <button class=\"colab-df-convert\" onclick=\"convertToInteractive('df-7a5dde94-4496-4f9f-96fb-95038ddc5c53')\"\n",
              "              title=\"Convert this dataframe to an interactive table.\"\n",
              "              style=\"display:none;\">\n",
              "        \n",
              "  <svg xmlns=\"http://www.w3.org/2000/svg\" height=\"24px\"viewBox=\"0 0 24 24\"\n",
              "       width=\"24px\">\n",
              "    <path d=\"M0 0h24v24H0V0z\" fill=\"none\"/>\n",
              "    <path d=\"M18.56 5.44l.94 2.06.94-2.06 2.06-.94-2.06-.94-.94-2.06-.94 2.06-2.06.94zm-11 1L8.5 8.5l.94-2.06 2.06-.94-2.06-.94L8.5 2.5l-.94 2.06-2.06.94zm10 10l.94 2.06.94-2.06 2.06-.94-2.06-.94-.94-2.06-.94 2.06-2.06.94z\"/><path d=\"M17.41 7.96l-1.37-1.37c-.4-.4-.92-.59-1.43-.59-.52 0-1.04.2-1.43.59L10.3 9.45l-7.72 7.72c-.78.78-.78 2.05 0 2.83L4 21.41c.39.39.9.59 1.41.59.51 0 1.02-.2 1.41-.59l7.78-7.78 2.81-2.81c.8-.78.8-2.07 0-2.86zM5.41 20L4 18.59l7.72-7.72 1.47 1.35L5.41 20z\"/>\n",
              "  </svg>\n",
              "      </button>\n",
              "      \n",
              "  <style>\n",
              "    .colab-df-container {\n",
              "      display:flex;\n",
              "      flex-wrap:wrap;\n",
              "      gap: 12px;\n",
              "    }\n",
              "\n",
              "    .colab-df-convert {\n",
              "      background-color: #E8F0FE;\n",
              "      border: none;\n",
              "      border-radius: 50%;\n",
              "      cursor: pointer;\n",
              "      display: none;\n",
              "      fill: #1967D2;\n",
              "      height: 32px;\n",
              "      padding: 0 0 0 0;\n",
              "      width: 32px;\n",
              "    }\n",
              "\n",
              "    .colab-df-convert:hover {\n",
              "      background-color: #E2EBFA;\n",
              "      box-shadow: 0px 1px 2px rgba(60, 64, 67, 0.3), 0px 1px 3px 1px rgba(60, 64, 67, 0.15);\n",
              "      fill: #174EA6;\n",
              "    }\n",
              "\n",
              "    [theme=dark] .colab-df-convert {\n",
              "      background-color: #3B4455;\n",
              "      fill: #D2E3FC;\n",
              "    }\n",
              "\n",
              "    [theme=dark] .colab-df-convert:hover {\n",
              "      background-color: #434B5C;\n",
              "      box-shadow: 0px 1px 3px 1px rgba(0, 0, 0, 0.15);\n",
              "      filter: drop-shadow(0px 1px 2px rgba(0, 0, 0, 0.3));\n",
              "      fill: #FFFFFF;\n",
              "    }\n",
              "  </style>\n",
              "\n",
              "      <script>\n",
              "        const buttonEl =\n",
              "          document.querySelector('#df-7a5dde94-4496-4f9f-96fb-95038ddc5c53 button.colab-df-convert');\n",
              "        buttonEl.style.display =\n",
              "          google.colab.kernel.accessAllowed ? 'block' : 'none';\n",
              "\n",
              "        async function convertToInteractive(key) {\n",
              "          const element = document.querySelector('#df-7a5dde94-4496-4f9f-96fb-95038ddc5c53');\n",
              "          const dataTable =\n",
              "            await google.colab.kernel.invokeFunction('convertToInteractive',\n",
              "                                                     [key], {});\n",
              "          if (!dataTable) return;\n",
              "\n",
              "          const docLinkHtml = 'Like what you see? Visit the ' +\n",
              "            '<a target=\"_blank\" href=https://colab.research.google.com/notebooks/data_table.ipynb>data table notebook</a>'\n",
              "            + ' to learn more about interactive tables.';\n",
              "          element.innerHTML = '';\n",
              "          dataTable['output_type'] = 'display_data';\n",
              "          await google.colab.output.renderOutput(dataTable, element);\n",
              "          const docLink = document.createElement('div');\n",
              "          docLink.innerHTML = docLinkHtml;\n",
              "          element.appendChild(docLink);\n",
              "        }\n",
              "      </script>\n",
              "    </div>\n",
              "  </div>\n",
              "  "
            ]
          },
          "metadata": {},
          "execution_count": 4
        }
      ],
      "source": [
        "churn_data.describe()"
      ]
    },
    {
      "cell_type": "code",
      "execution_count": 5,
      "metadata": {
        "colab": {
          "base_uri": "https://localhost:8080/",
          "height": 237
        },
        "id": "NZEcE_1OZJwP",
        "outputId": "396822ba-36e3-441a-ade1-16a47465334b"
      },
      "outputs": [
        {
          "output_type": "execute_result",
          "data": {
            "text/plain": [
              "           CustomerId   Surname  CreditScore Geography  Gender  Age  Tenure  \\\n",
              "RowNumber                                                                     \n",
              "1            15634602  Hargrave          619    France  Female   42       2   \n",
              "2            15647311      Hill          608     Spain  Female   41       1   \n",
              "3            15619304      Onio          502    France  Female   42       8   \n",
              "4            15701354      Boni          699    France  Female   39       1   \n",
              "5            15737888  Mitchell          850     Spain  Female   43       2   \n",
              "\n",
              "             Balance  NumOfProducts  HasCrCard  IsActiveMember  \\\n",
              "RowNumber                                                        \n",
              "1               0.00              1          1               1   \n",
              "2           83807.86              1          0               1   \n",
              "3          159660.80              3          1               0   \n",
              "4               0.00              2          0               0   \n",
              "5          125510.82              1          1               1   \n",
              "\n",
              "           EstimatedSalary  Exited  \n",
              "RowNumber                           \n",
              "1                101348.88       1  \n",
              "2                112542.58       0  \n",
              "3                113931.57       1  \n",
              "4                 93826.63       0  \n",
              "5                 79084.10       0  "
            ],
            "text/html": [
              "\n",
              "  <div id=\"df-b5a55d12-5cfd-4cac-9f37-a1b897d2d0c1\">\n",
              "    <div class=\"colab-df-container\">\n",
              "      <div>\n",
              "<style scoped>\n",
              "    .dataframe tbody tr th:only-of-type {\n",
              "        vertical-align: middle;\n",
              "    }\n",
              "\n",
              "    .dataframe tbody tr th {\n",
              "        vertical-align: top;\n",
              "    }\n",
              "\n",
              "    .dataframe thead th {\n",
              "        text-align: right;\n",
              "    }\n",
              "</style>\n",
              "<table border=\"1\" class=\"dataframe\">\n",
              "  <thead>\n",
              "    <tr style=\"text-align: right;\">\n",
              "      <th></th>\n",
              "      <th>CustomerId</th>\n",
              "      <th>Surname</th>\n",
              "      <th>CreditScore</th>\n",
              "      <th>Geography</th>\n",
              "      <th>Gender</th>\n",
              "      <th>Age</th>\n",
              "      <th>Tenure</th>\n",
              "      <th>Balance</th>\n",
              "      <th>NumOfProducts</th>\n",
              "      <th>HasCrCard</th>\n",
              "      <th>IsActiveMember</th>\n",
              "      <th>EstimatedSalary</th>\n",
              "      <th>Exited</th>\n",
              "    </tr>\n",
              "    <tr>\n",
              "      <th>RowNumber</th>\n",
              "      <th></th>\n",
              "      <th></th>\n",
              "      <th></th>\n",
              "      <th></th>\n",
              "      <th></th>\n",
              "      <th></th>\n",
              "      <th></th>\n",
              "      <th></th>\n",
              "      <th></th>\n",
              "      <th></th>\n",
              "      <th></th>\n",
              "      <th></th>\n",
              "      <th></th>\n",
              "    </tr>\n",
              "  </thead>\n",
              "  <tbody>\n",
              "    <tr>\n",
              "      <th>1</th>\n",
              "      <td>15634602</td>\n",
              "      <td>Hargrave</td>\n",
              "      <td>619</td>\n",
              "      <td>France</td>\n",
              "      <td>Female</td>\n",
              "      <td>42</td>\n",
              "      <td>2</td>\n",
              "      <td>0.00</td>\n",
              "      <td>1</td>\n",
              "      <td>1</td>\n",
              "      <td>1</td>\n",
              "      <td>101348.88</td>\n",
              "      <td>1</td>\n",
              "    </tr>\n",
              "    <tr>\n",
              "      <th>2</th>\n",
              "      <td>15647311</td>\n",
              "      <td>Hill</td>\n",
              "      <td>608</td>\n",
              "      <td>Spain</td>\n",
              "      <td>Female</td>\n",
              "      <td>41</td>\n",
              "      <td>1</td>\n",
              "      <td>83807.86</td>\n",
              "      <td>1</td>\n",
              "      <td>0</td>\n",
              "      <td>1</td>\n",
              "      <td>112542.58</td>\n",
              "      <td>0</td>\n",
              "    </tr>\n",
              "    <tr>\n",
              "      <th>3</th>\n",
              "      <td>15619304</td>\n",
              "      <td>Onio</td>\n",
              "      <td>502</td>\n",
              "      <td>France</td>\n",
              "      <td>Female</td>\n",
              "      <td>42</td>\n",
              "      <td>8</td>\n",
              "      <td>159660.80</td>\n",
              "      <td>3</td>\n",
              "      <td>1</td>\n",
              "      <td>0</td>\n",
              "      <td>113931.57</td>\n",
              "      <td>1</td>\n",
              "    </tr>\n",
              "    <tr>\n",
              "      <th>4</th>\n",
              "      <td>15701354</td>\n",
              "      <td>Boni</td>\n",
              "      <td>699</td>\n",
              "      <td>France</td>\n",
              "      <td>Female</td>\n",
              "      <td>39</td>\n",
              "      <td>1</td>\n",
              "      <td>0.00</td>\n",
              "      <td>2</td>\n",
              "      <td>0</td>\n",
              "      <td>0</td>\n",
              "      <td>93826.63</td>\n",
              "      <td>0</td>\n",
              "    </tr>\n",
              "    <tr>\n",
              "      <th>5</th>\n",
              "      <td>15737888</td>\n",
              "      <td>Mitchell</td>\n",
              "      <td>850</td>\n",
              "      <td>Spain</td>\n",
              "      <td>Female</td>\n",
              "      <td>43</td>\n",
              "      <td>2</td>\n",
              "      <td>125510.82</td>\n",
              "      <td>1</td>\n",
              "      <td>1</td>\n",
              "      <td>1</td>\n",
              "      <td>79084.10</td>\n",
              "      <td>0</td>\n",
              "    </tr>\n",
              "  </tbody>\n",
              "</table>\n",
              "</div>\n",
              "      <button class=\"colab-df-convert\" onclick=\"convertToInteractive('df-b5a55d12-5cfd-4cac-9f37-a1b897d2d0c1')\"\n",
              "              title=\"Convert this dataframe to an interactive table.\"\n",
              "              style=\"display:none;\">\n",
              "        \n",
              "  <svg xmlns=\"http://www.w3.org/2000/svg\" height=\"24px\"viewBox=\"0 0 24 24\"\n",
              "       width=\"24px\">\n",
              "    <path d=\"M0 0h24v24H0V0z\" fill=\"none\"/>\n",
              "    <path d=\"M18.56 5.44l.94 2.06.94-2.06 2.06-.94-2.06-.94-.94-2.06-.94 2.06-2.06.94zm-11 1L8.5 8.5l.94-2.06 2.06-.94-2.06-.94L8.5 2.5l-.94 2.06-2.06.94zm10 10l.94 2.06.94-2.06 2.06-.94-2.06-.94-.94-2.06-.94 2.06-2.06.94z\"/><path d=\"M17.41 7.96l-1.37-1.37c-.4-.4-.92-.59-1.43-.59-.52 0-1.04.2-1.43.59L10.3 9.45l-7.72 7.72c-.78.78-.78 2.05 0 2.83L4 21.41c.39.39.9.59 1.41.59.51 0 1.02-.2 1.41-.59l7.78-7.78 2.81-2.81c.8-.78.8-2.07 0-2.86zM5.41 20L4 18.59l7.72-7.72 1.47 1.35L5.41 20z\"/>\n",
              "  </svg>\n",
              "      </button>\n",
              "      \n",
              "  <style>\n",
              "    .colab-df-container {\n",
              "      display:flex;\n",
              "      flex-wrap:wrap;\n",
              "      gap: 12px;\n",
              "    }\n",
              "\n",
              "    .colab-df-convert {\n",
              "      background-color: #E8F0FE;\n",
              "      border: none;\n",
              "      border-radius: 50%;\n",
              "      cursor: pointer;\n",
              "      display: none;\n",
              "      fill: #1967D2;\n",
              "      height: 32px;\n",
              "      padding: 0 0 0 0;\n",
              "      width: 32px;\n",
              "    }\n",
              "\n",
              "    .colab-df-convert:hover {\n",
              "      background-color: #E2EBFA;\n",
              "      box-shadow: 0px 1px 2px rgba(60, 64, 67, 0.3), 0px 1px 3px 1px rgba(60, 64, 67, 0.15);\n",
              "      fill: #174EA6;\n",
              "    }\n",
              "\n",
              "    [theme=dark] .colab-df-convert {\n",
              "      background-color: #3B4455;\n",
              "      fill: #D2E3FC;\n",
              "    }\n",
              "\n",
              "    [theme=dark] .colab-df-convert:hover {\n",
              "      background-color: #434B5C;\n",
              "      box-shadow: 0px 1px 3px 1px rgba(0, 0, 0, 0.15);\n",
              "      filter: drop-shadow(0px 1px 2px rgba(0, 0, 0, 0.3));\n",
              "      fill: #FFFFFF;\n",
              "    }\n",
              "  </style>\n",
              "\n",
              "      <script>\n",
              "        const buttonEl =\n",
              "          document.querySelector('#df-b5a55d12-5cfd-4cac-9f37-a1b897d2d0c1 button.colab-df-convert');\n",
              "        buttonEl.style.display =\n",
              "          google.colab.kernel.accessAllowed ? 'block' : 'none';\n",
              "\n",
              "        async function convertToInteractive(key) {\n",
              "          const element = document.querySelector('#df-b5a55d12-5cfd-4cac-9f37-a1b897d2d0c1');\n",
              "          const dataTable =\n",
              "            await google.colab.kernel.invokeFunction('convertToInteractive',\n",
              "                                                     [key], {});\n",
              "          if (!dataTable) return;\n",
              "\n",
              "          const docLinkHtml = 'Like what you see? Visit the ' +\n",
              "            '<a target=\"_blank\" href=https://colab.research.google.com/notebooks/data_table.ipynb>data table notebook</a>'\n",
              "            + ' to learn more about interactive tables.';\n",
              "          element.innerHTML = '';\n",
              "          dataTable['output_type'] = 'display_data';\n",
              "          await google.colab.output.renderOutput(dataTable, element);\n",
              "          const docLink = document.createElement('div');\n",
              "          docLink.innerHTML = docLinkHtml;\n",
              "          element.appendChild(docLink);\n",
              "        }\n",
              "      </script>\n",
              "    </div>\n",
              "  </div>\n",
              "  "
            ]
          },
          "metadata": {},
          "execution_count": 5
        }
      ],
      "source": [
        "churn_data.head()"
      ]
    },
    {
      "cell_type": "code",
      "execution_count": 6,
      "metadata": {
        "id": "OLKPtuA1ZJtg"
      },
      "outputs": [],
      "source": [
        "# some columns are totally unproductive so let's remove them\n",
        "churn_data.drop(['CustomerId','Surname'],axis=1,inplace=True)"
      ]
    },
    {
      "cell_type": "code",
      "execution_count": 7,
      "metadata": {
        "colab": {
          "base_uri": "https://localhost:8080/",
          "height": 237
        },
        "id": "Mdwrtod1ZJoI",
        "outputId": "805599dc-6a46-480a-adc4-0fc7b9f76f58"
      },
      "outputs": [
        {
          "output_type": "execute_result",
          "data": {
            "text/plain": [
              "           CreditScore Geography  Gender  Age  Tenure    Balance  \\\n",
              "RowNumber                                                          \n",
              "1                  619    France  Female   42       2       0.00   \n",
              "2                  608     Spain  Female   41       1   83807.86   \n",
              "3                  502    France  Female   42       8  159660.80   \n",
              "4                  699    France  Female   39       1       0.00   \n",
              "5                  850     Spain  Female   43       2  125510.82   \n",
              "\n",
              "           NumOfProducts  HasCrCard  IsActiveMember  EstimatedSalary  Exited  \n",
              "RowNumber                                                                     \n",
              "1                      1          1               1        101348.88       1  \n",
              "2                      1          0               1        112542.58       0  \n",
              "3                      3          1               0        113931.57       1  \n",
              "4                      2          0               0         93826.63       0  \n",
              "5                      1          1               1         79084.10       0  "
            ],
            "text/html": [
              "\n",
              "  <div id=\"df-1c119a70-1542-4250-828e-af231856108f\">\n",
              "    <div class=\"colab-df-container\">\n",
              "      <div>\n",
              "<style scoped>\n",
              "    .dataframe tbody tr th:only-of-type {\n",
              "        vertical-align: middle;\n",
              "    }\n",
              "\n",
              "    .dataframe tbody tr th {\n",
              "        vertical-align: top;\n",
              "    }\n",
              "\n",
              "    .dataframe thead th {\n",
              "        text-align: right;\n",
              "    }\n",
              "</style>\n",
              "<table border=\"1\" class=\"dataframe\">\n",
              "  <thead>\n",
              "    <tr style=\"text-align: right;\">\n",
              "      <th></th>\n",
              "      <th>CreditScore</th>\n",
              "      <th>Geography</th>\n",
              "      <th>Gender</th>\n",
              "      <th>Age</th>\n",
              "      <th>Tenure</th>\n",
              "      <th>Balance</th>\n",
              "      <th>NumOfProducts</th>\n",
              "      <th>HasCrCard</th>\n",
              "      <th>IsActiveMember</th>\n",
              "      <th>EstimatedSalary</th>\n",
              "      <th>Exited</th>\n",
              "    </tr>\n",
              "    <tr>\n",
              "      <th>RowNumber</th>\n",
              "      <th></th>\n",
              "      <th></th>\n",
              "      <th></th>\n",
              "      <th></th>\n",
              "      <th></th>\n",
              "      <th></th>\n",
              "      <th></th>\n",
              "      <th></th>\n",
              "      <th></th>\n",
              "      <th></th>\n",
              "      <th></th>\n",
              "    </tr>\n",
              "  </thead>\n",
              "  <tbody>\n",
              "    <tr>\n",
              "      <th>1</th>\n",
              "      <td>619</td>\n",
              "      <td>France</td>\n",
              "      <td>Female</td>\n",
              "      <td>42</td>\n",
              "      <td>2</td>\n",
              "      <td>0.00</td>\n",
              "      <td>1</td>\n",
              "      <td>1</td>\n",
              "      <td>1</td>\n",
              "      <td>101348.88</td>\n",
              "      <td>1</td>\n",
              "    </tr>\n",
              "    <tr>\n",
              "      <th>2</th>\n",
              "      <td>608</td>\n",
              "      <td>Spain</td>\n",
              "      <td>Female</td>\n",
              "      <td>41</td>\n",
              "      <td>1</td>\n",
              "      <td>83807.86</td>\n",
              "      <td>1</td>\n",
              "      <td>0</td>\n",
              "      <td>1</td>\n",
              "      <td>112542.58</td>\n",
              "      <td>0</td>\n",
              "    </tr>\n",
              "    <tr>\n",
              "      <th>3</th>\n",
              "      <td>502</td>\n",
              "      <td>France</td>\n",
              "      <td>Female</td>\n",
              "      <td>42</td>\n",
              "      <td>8</td>\n",
              "      <td>159660.80</td>\n",
              "      <td>3</td>\n",
              "      <td>1</td>\n",
              "      <td>0</td>\n",
              "      <td>113931.57</td>\n",
              "      <td>1</td>\n",
              "    </tr>\n",
              "    <tr>\n",
              "      <th>4</th>\n",
              "      <td>699</td>\n",
              "      <td>France</td>\n",
              "      <td>Female</td>\n",
              "      <td>39</td>\n",
              "      <td>1</td>\n",
              "      <td>0.00</td>\n",
              "      <td>2</td>\n",
              "      <td>0</td>\n",
              "      <td>0</td>\n",
              "      <td>93826.63</td>\n",
              "      <td>0</td>\n",
              "    </tr>\n",
              "    <tr>\n",
              "      <th>5</th>\n",
              "      <td>850</td>\n",
              "      <td>Spain</td>\n",
              "      <td>Female</td>\n",
              "      <td>43</td>\n",
              "      <td>2</td>\n",
              "      <td>125510.82</td>\n",
              "      <td>1</td>\n",
              "      <td>1</td>\n",
              "      <td>1</td>\n",
              "      <td>79084.10</td>\n",
              "      <td>0</td>\n",
              "    </tr>\n",
              "  </tbody>\n",
              "</table>\n",
              "</div>\n",
              "      <button class=\"colab-df-convert\" onclick=\"convertToInteractive('df-1c119a70-1542-4250-828e-af231856108f')\"\n",
              "              title=\"Convert this dataframe to an interactive table.\"\n",
              "              style=\"display:none;\">\n",
              "        \n",
              "  <svg xmlns=\"http://www.w3.org/2000/svg\" height=\"24px\"viewBox=\"0 0 24 24\"\n",
              "       width=\"24px\">\n",
              "    <path d=\"M0 0h24v24H0V0z\" fill=\"none\"/>\n",
              "    <path d=\"M18.56 5.44l.94 2.06.94-2.06 2.06-.94-2.06-.94-.94-2.06-.94 2.06-2.06.94zm-11 1L8.5 8.5l.94-2.06 2.06-.94-2.06-.94L8.5 2.5l-.94 2.06-2.06.94zm10 10l.94 2.06.94-2.06 2.06-.94-2.06-.94-.94-2.06-.94 2.06-2.06.94z\"/><path d=\"M17.41 7.96l-1.37-1.37c-.4-.4-.92-.59-1.43-.59-.52 0-1.04.2-1.43.59L10.3 9.45l-7.72 7.72c-.78.78-.78 2.05 0 2.83L4 21.41c.39.39.9.59 1.41.59.51 0 1.02-.2 1.41-.59l7.78-7.78 2.81-2.81c.8-.78.8-2.07 0-2.86zM5.41 20L4 18.59l7.72-7.72 1.47 1.35L5.41 20z\"/>\n",
              "  </svg>\n",
              "      </button>\n",
              "      \n",
              "  <style>\n",
              "    .colab-df-container {\n",
              "      display:flex;\n",
              "      flex-wrap:wrap;\n",
              "      gap: 12px;\n",
              "    }\n",
              "\n",
              "    .colab-df-convert {\n",
              "      background-color: #E8F0FE;\n",
              "      border: none;\n",
              "      border-radius: 50%;\n",
              "      cursor: pointer;\n",
              "      display: none;\n",
              "      fill: #1967D2;\n",
              "      height: 32px;\n",
              "      padding: 0 0 0 0;\n",
              "      width: 32px;\n",
              "    }\n",
              "\n",
              "    .colab-df-convert:hover {\n",
              "      background-color: #E2EBFA;\n",
              "      box-shadow: 0px 1px 2px rgba(60, 64, 67, 0.3), 0px 1px 3px 1px rgba(60, 64, 67, 0.15);\n",
              "      fill: #174EA6;\n",
              "    }\n",
              "\n",
              "    [theme=dark] .colab-df-convert {\n",
              "      background-color: #3B4455;\n",
              "      fill: #D2E3FC;\n",
              "    }\n",
              "\n",
              "    [theme=dark] .colab-df-convert:hover {\n",
              "      background-color: #434B5C;\n",
              "      box-shadow: 0px 1px 3px 1px rgba(0, 0, 0, 0.15);\n",
              "      filter: drop-shadow(0px 1px 2px rgba(0, 0, 0, 0.3));\n",
              "      fill: #FFFFFF;\n",
              "    }\n",
              "  </style>\n",
              "\n",
              "      <script>\n",
              "        const buttonEl =\n",
              "          document.querySelector('#df-1c119a70-1542-4250-828e-af231856108f button.colab-df-convert');\n",
              "        buttonEl.style.display =\n",
              "          google.colab.kernel.accessAllowed ? 'block' : 'none';\n",
              "\n",
              "        async function convertToInteractive(key) {\n",
              "          const element = document.querySelector('#df-1c119a70-1542-4250-828e-af231856108f');\n",
              "          const dataTable =\n",
              "            await google.colab.kernel.invokeFunction('convertToInteractive',\n",
              "                                                     [key], {});\n",
              "          if (!dataTable) return;\n",
              "\n",
              "          const docLinkHtml = 'Like what you see? Visit the ' +\n",
              "            '<a target=\"_blank\" href=https://colab.research.google.com/notebooks/data_table.ipynb>data table notebook</a>'\n",
              "            + ' to learn more about interactive tables.';\n",
              "          element.innerHTML = '';\n",
              "          dataTable['output_type'] = 'display_data';\n",
              "          await google.colab.output.renderOutput(dataTable, element);\n",
              "          const docLink = document.createElement('div');\n",
              "          docLink.innerHTML = docLinkHtml;\n",
              "          element.appendChild(docLink);\n",
              "        }\n",
              "      </script>\n",
              "    </div>\n",
              "  </div>\n",
              "  "
            ]
          },
          "metadata": {},
          "execution_count": 7
        }
      ],
      "source": [
        "churn_data.head()"
      ]
    },
    {
      "cell_type": "code",
      "execution_count": 8,
      "metadata": {
        "id": "oIyNmgYMZJlM"
      },
      "outputs": [],
      "source": [
        "# some columns have text data so let's one hot encode them\n",
        "#  for more on one hot encoding click this link below\n",
        "# https://www.kaggle.com/shrutimechlearn/types-of-regression-and-stats-in-depth\n",
        "Geography_dummies = pd.get_dummies(prefix='Geo',data=churn_data,columns=['Geography'])"
      ]
    },
    {
      "cell_type": "code",
      "execution_count": 9,
      "metadata": {
        "colab": {
          "base_uri": "https://localhost:8080/",
          "height": 237
        },
        "id": "7-lC47lFZJip",
        "outputId": "688ac06d-48b6-4711-9dc5-861ad19e9b0b"
      },
      "outputs": [
        {
          "output_type": "execute_result",
          "data": {
            "text/plain": [
              "           CreditScore  Gender  Age  Tenure    Balance  NumOfProducts  \\\n",
              "RowNumber                                                               \n",
              "1                  619  Female   42       2       0.00              1   \n",
              "2                  608  Female   41       1   83807.86              1   \n",
              "3                  502  Female   42       8  159660.80              3   \n",
              "4                  699  Female   39       1       0.00              2   \n",
              "5                  850  Female   43       2  125510.82              1   \n",
              "\n",
              "           HasCrCard  IsActiveMember  EstimatedSalary  Exited  Geo_France  \\\n",
              "RowNumber                                                                   \n",
              "1                  1               1        101348.88       1           1   \n",
              "2                  0               1        112542.58       0           0   \n",
              "3                  1               0        113931.57       1           1   \n",
              "4                  0               0         93826.63       0           1   \n",
              "5                  1               1         79084.10       0           0   \n",
              "\n",
              "           Geo_Germany  Geo_Spain  \n",
              "RowNumber                          \n",
              "1                    0          0  \n",
              "2                    0          1  \n",
              "3                    0          0  \n",
              "4                    0          0  \n",
              "5                    0          1  "
            ],
            "text/html": [
              "\n",
              "  <div id=\"df-93b17014-21f1-404f-a6da-1b1c5d29ea8b\">\n",
              "    <div class=\"colab-df-container\">\n",
              "      <div>\n",
              "<style scoped>\n",
              "    .dataframe tbody tr th:only-of-type {\n",
              "        vertical-align: middle;\n",
              "    }\n",
              "\n",
              "    .dataframe tbody tr th {\n",
              "        vertical-align: top;\n",
              "    }\n",
              "\n",
              "    .dataframe thead th {\n",
              "        text-align: right;\n",
              "    }\n",
              "</style>\n",
              "<table border=\"1\" class=\"dataframe\">\n",
              "  <thead>\n",
              "    <tr style=\"text-align: right;\">\n",
              "      <th></th>\n",
              "      <th>CreditScore</th>\n",
              "      <th>Gender</th>\n",
              "      <th>Age</th>\n",
              "      <th>Tenure</th>\n",
              "      <th>Balance</th>\n",
              "      <th>NumOfProducts</th>\n",
              "      <th>HasCrCard</th>\n",
              "      <th>IsActiveMember</th>\n",
              "      <th>EstimatedSalary</th>\n",
              "      <th>Exited</th>\n",
              "      <th>Geo_France</th>\n",
              "      <th>Geo_Germany</th>\n",
              "      <th>Geo_Spain</th>\n",
              "    </tr>\n",
              "    <tr>\n",
              "      <th>RowNumber</th>\n",
              "      <th></th>\n",
              "      <th></th>\n",
              "      <th></th>\n",
              "      <th></th>\n",
              "      <th></th>\n",
              "      <th></th>\n",
              "      <th></th>\n",
              "      <th></th>\n",
              "      <th></th>\n",
              "      <th></th>\n",
              "      <th></th>\n",
              "      <th></th>\n",
              "      <th></th>\n",
              "    </tr>\n",
              "  </thead>\n",
              "  <tbody>\n",
              "    <tr>\n",
              "      <th>1</th>\n",
              "      <td>619</td>\n",
              "      <td>Female</td>\n",
              "      <td>42</td>\n",
              "      <td>2</td>\n",
              "      <td>0.00</td>\n",
              "      <td>1</td>\n",
              "      <td>1</td>\n",
              "      <td>1</td>\n",
              "      <td>101348.88</td>\n",
              "      <td>1</td>\n",
              "      <td>1</td>\n",
              "      <td>0</td>\n",
              "      <td>0</td>\n",
              "    </tr>\n",
              "    <tr>\n",
              "      <th>2</th>\n",
              "      <td>608</td>\n",
              "      <td>Female</td>\n",
              "      <td>41</td>\n",
              "      <td>1</td>\n",
              "      <td>83807.86</td>\n",
              "      <td>1</td>\n",
              "      <td>0</td>\n",
              "      <td>1</td>\n",
              "      <td>112542.58</td>\n",
              "      <td>0</td>\n",
              "      <td>0</td>\n",
              "      <td>0</td>\n",
              "      <td>1</td>\n",
              "    </tr>\n",
              "    <tr>\n",
              "      <th>3</th>\n",
              "      <td>502</td>\n",
              "      <td>Female</td>\n",
              "      <td>42</td>\n",
              "      <td>8</td>\n",
              "      <td>159660.80</td>\n",
              "      <td>3</td>\n",
              "      <td>1</td>\n",
              "      <td>0</td>\n",
              "      <td>113931.57</td>\n",
              "      <td>1</td>\n",
              "      <td>1</td>\n",
              "      <td>0</td>\n",
              "      <td>0</td>\n",
              "    </tr>\n",
              "    <tr>\n",
              "      <th>4</th>\n",
              "      <td>699</td>\n",
              "      <td>Female</td>\n",
              "      <td>39</td>\n",
              "      <td>1</td>\n",
              "      <td>0.00</td>\n",
              "      <td>2</td>\n",
              "      <td>0</td>\n",
              "      <td>0</td>\n",
              "      <td>93826.63</td>\n",
              "      <td>0</td>\n",
              "      <td>1</td>\n",
              "      <td>0</td>\n",
              "      <td>0</td>\n",
              "    </tr>\n",
              "    <tr>\n",
              "      <th>5</th>\n",
              "      <td>850</td>\n",
              "      <td>Female</td>\n",
              "      <td>43</td>\n",
              "      <td>2</td>\n",
              "      <td>125510.82</td>\n",
              "      <td>1</td>\n",
              "      <td>1</td>\n",
              "      <td>1</td>\n",
              "      <td>79084.10</td>\n",
              "      <td>0</td>\n",
              "      <td>0</td>\n",
              "      <td>0</td>\n",
              "      <td>1</td>\n",
              "    </tr>\n",
              "  </tbody>\n",
              "</table>\n",
              "</div>\n",
              "      <button class=\"colab-df-convert\" onclick=\"convertToInteractive('df-93b17014-21f1-404f-a6da-1b1c5d29ea8b')\"\n",
              "              title=\"Convert this dataframe to an interactive table.\"\n",
              "              style=\"display:none;\">\n",
              "        \n",
              "  <svg xmlns=\"http://www.w3.org/2000/svg\" height=\"24px\"viewBox=\"0 0 24 24\"\n",
              "       width=\"24px\">\n",
              "    <path d=\"M0 0h24v24H0V0z\" fill=\"none\"/>\n",
              "    <path d=\"M18.56 5.44l.94 2.06.94-2.06 2.06-.94-2.06-.94-.94-2.06-.94 2.06-2.06.94zm-11 1L8.5 8.5l.94-2.06 2.06-.94-2.06-.94L8.5 2.5l-.94 2.06-2.06.94zm10 10l.94 2.06.94-2.06 2.06-.94-2.06-.94-.94-2.06-.94 2.06-2.06.94z\"/><path d=\"M17.41 7.96l-1.37-1.37c-.4-.4-.92-.59-1.43-.59-.52 0-1.04.2-1.43.59L10.3 9.45l-7.72 7.72c-.78.78-.78 2.05 0 2.83L4 21.41c.39.39.9.59 1.41.59.51 0 1.02-.2 1.41-.59l7.78-7.78 2.81-2.81c.8-.78.8-2.07 0-2.86zM5.41 20L4 18.59l7.72-7.72 1.47 1.35L5.41 20z\"/>\n",
              "  </svg>\n",
              "      </button>\n",
              "      \n",
              "  <style>\n",
              "    .colab-df-container {\n",
              "      display:flex;\n",
              "      flex-wrap:wrap;\n",
              "      gap: 12px;\n",
              "    }\n",
              "\n",
              "    .colab-df-convert {\n",
              "      background-color: #E8F0FE;\n",
              "      border: none;\n",
              "      border-radius: 50%;\n",
              "      cursor: pointer;\n",
              "      display: none;\n",
              "      fill: #1967D2;\n",
              "      height: 32px;\n",
              "      padding: 0 0 0 0;\n",
              "      width: 32px;\n",
              "    }\n",
              "\n",
              "    .colab-df-convert:hover {\n",
              "      background-color: #E2EBFA;\n",
              "      box-shadow: 0px 1px 2px rgba(60, 64, 67, 0.3), 0px 1px 3px 1px rgba(60, 64, 67, 0.15);\n",
              "      fill: #174EA6;\n",
              "    }\n",
              "\n",
              "    [theme=dark] .colab-df-convert {\n",
              "      background-color: #3B4455;\n",
              "      fill: #D2E3FC;\n",
              "    }\n",
              "\n",
              "    [theme=dark] .colab-df-convert:hover {\n",
              "      background-color: #434B5C;\n",
              "      box-shadow: 0px 1px 3px 1px rgba(0, 0, 0, 0.15);\n",
              "      filter: drop-shadow(0px 1px 2px rgba(0, 0, 0, 0.3));\n",
              "      fill: #FFFFFF;\n",
              "    }\n",
              "  </style>\n",
              "\n",
              "      <script>\n",
              "        const buttonEl =\n",
              "          document.querySelector('#df-93b17014-21f1-404f-a6da-1b1c5d29ea8b button.colab-df-convert');\n",
              "        buttonEl.style.display =\n",
              "          google.colab.kernel.accessAllowed ? 'block' : 'none';\n",
              "\n",
              "        async function convertToInteractive(key) {\n",
              "          const element = document.querySelector('#df-93b17014-21f1-404f-a6da-1b1c5d29ea8b');\n",
              "          const dataTable =\n",
              "            await google.colab.kernel.invokeFunction('convertToInteractive',\n",
              "                                                     [key], {});\n",
              "          if (!dataTable) return;\n",
              "\n",
              "          const docLinkHtml = 'Like what you see? Visit the ' +\n",
              "            '<a target=\"_blank\" href=https://colab.research.google.com/notebooks/data_table.ipynb>data table notebook</a>'\n",
              "            + ' to learn more about interactive tables.';\n",
              "          element.innerHTML = '';\n",
              "          dataTable['output_type'] = 'display_data';\n",
              "          await google.colab.output.renderOutput(dataTable, element);\n",
              "          const docLink = document.createElement('div');\n",
              "          docLink.innerHTML = docLinkHtml;\n",
              "          element.appendChild(docLink);\n",
              "        }\n",
              "      </script>\n",
              "    </div>\n",
              "  </div>\n",
              "  "
            ]
          },
          "metadata": {},
          "execution_count": 9
        }
      ],
      "source": [
        "Geography_dummies.head()"
      ]
    },
    {
      "cell_type": "code",
      "execution_count": 10,
      "metadata": {
        "id": "4DFmw6KHZJgE"
      },
      "outputs": [],
      "source": [
        "Gender_dummies = Geography_dummies.replace(to_replace={'Gender': {'Female': 1,'Male':0}})"
      ]
    },
    {
      "cell_type": "code",
      "execution_count": 11,
      "metadata": {
        "colab": {
          "base_uri": "https://localhost:8080/",
          "height": 237
        },
        "id": "dMjWqqjNZJdj",
        "outputId": "07e504fd-dc7b-48bb-fb86-a18ef7b215ad"
      },
      "outputs": [
        {
          "output_type": "execute_result",
          "data": {
            "text/plain": [
              "           CreditScore  Gender  Age  Tenure    Balance  NumOfProducts  \\\n",
              "RowNumber                                                               \n",
              "1                  619       1   42       2       0.00              1   \n",
              "2                  608       1   41       1   83807.86              1   \n",
              "3                  502       1   42       8  159660.80              3   \n",
              "4                  699       1   39       1       0.00              2   \n",
              "5                  850       1   43       2  125510.82              1   \n",
              "\n",
              "           HasCrCard  IsActiveMember  EstimatedSalary  Exited  Geo_France  \\\n",
              "RowNumber                                                                   \n",
              "1                  1               1        101348.88       1           1   \n",
              "2                  0               1        112542.58       0           0   \n",
              "3                  1               0        113931.57       1           1   \n",
              "4                  0               0         93826.63       0           1   \n",
              "5                  1               1         79084.10       0           0   \n",
              "\n",
              "           Geo_Germany  Geo_Spain  \n",
              "RowNumber                          \n",
              "1                    0          0  \n",
              "2                    0          1  \n",
              "3                    0          0  \n",
              "4                    0          0  \n",
              "5                    0          1  "
            ],
            "text/html": [
              "\n",
              "  <div id=\"df-6e5bf6d9-7740-4667-9af8-158b5c80d83e\">\n",
              "    <div class=\"colab-df-container\">\n",
              "      <div>\n",
              "<style scoped>\n",
              "    .dataframe tbody tr th:only-of-type {\n",
              "        vertical-align: middle;\n",
              "    }\n",
              "\n",
              "    .dataframe tbody tr th {\n",
              "        vertical-align: top;\n",
              "    }\n",
              "\n",
              "    .dataframe thead th {\n",
              "        text-align: right;\n",
              "    }\n",
              "</style>\n",
              "<table border=\"1\" class=\"dataframe\">\n",
              "  <thead>\n",
              "    <tr style=\"text-align: right;\">\n",
              "      <th></th>\n",
              "      <th>CreditScore</th>\n",
              "      <th>Gender</th>\n",
              "      <th>Age</th>\n",
              "      <th>Tenure</th>\n",
              "      <th>Balance</th>\n",
              "      <th>NumOfProducts</th>\n",
              "      <th>HasCrCard</th>\n",
              "      <th>IsActiveMember</th>\n",
              "      <th>EstimatedSalary</th>\n",
              "      <th>Exited</th>\n",
              "      <th>Geo_France</th>\n",
              "      <th>Geo_Germany</th>\n",
              "      <th>Geo_Spain</th>\n",
              "    </tr>\n",
              "    <tr>\n",
              "      <th>RowNumber</th>\n",
              "      <th></th>\n",
              "      <th></th>\n",
              "      <th></th>\n",
              "      <th></th>\n",
              "      <th></th>\n",
              "      <th></th>\n",
              "      <th></th>\n",
              "      <th></th>\n",
              "      <th></th>\n",
              "      <th></th>\n",
              "      <th></th>\n",
              "      <th></th>\n",
              "      <th></th>\n",
              "    </tr>\n",
              "  </thead>\n",
              "  <tbody>\n",
              "    <tr>\n",
              "      <th>1</th>\n",
              "      <td>619</td>\n",
              "      <td>1</td>\n",
              "      <td>42</td>\n",
              "      <td>2</td>\n",
              "      <td>0.00</td>\n",
              "      <td>1</td>\n",
              "      <td>1</td>\n",
              "      <td>1</td>\n",
              "      <td>101348.88</td>\n",
              "      <td>1</td>\n",
              "      <td>1</td>\n",
              "      <td>0</td>\n",
              "      <td>0</td>\n",
              "    </tr>\n",
              "    <tr>\n",
              "      <th>2</th>\n",
              "      <td>608</td>\n",
              "      <td>1</td>\n",
              "      <td>41</td>\n",
              "      <td>1</td>\n",
              "      <td>83807.86</td>\n",
              "      <td>1</td>\n",
              "      <td>0</td>\n",
              "      <td>1</td>\n",
              "      <td>112542.58</td>\n",
              "      <td>0</td>\n",
              "      <td>0</td>\n",
              "      <td>0</td>\n",
              "      <td>1</td>\n",
              "    </tr>\n",
              "    <tr>\n",
              "      <th>3</th>\n",
              "      <td>502</td>\n",
              "      <td>1</td>\n",
              "      <td>42</td>\n",
              "      <td>8</td>\n",
              "      <td>159660.80</td>\n",
              "      <td>3</td>\n",
              "      <td>1</td>\n",
              "      <td>0</td>\n",
              "      <td>113931.57</td>\n",
              "      <td>1</td>\n",
              "      <td>1</td>\n",
              "      <td>0</td>\n",
              "      <td>0</td>\n",
              "    </tr>\n",
              "    <tr>\n",
              "      <th>4</th>\n",
              "      <td>699</td>\n",
              "      <td>1</td>\n",
              "      <td>39</td>\n",
              "      <td>1</td>\n",
              "      <td>0.00</td>\n",
              "      <td>2</td>\n",
              "      <td>0</td>\n",
              "      <td>0</td>\n",
              "      <td>93826.63</td>\n",
              "      <td>0</td>\n",
              "      <td>1</td>\n",
              "      <td>0</td>\n",
              "      <td>0</td>\n",
              "    </tr>\n",
              "    <tr>\n",
              "      <th>5</th>\n",
              "      <td>850</td>\n",
              "      <td>1</td>\n",
              "      <td>43</td>\n",
              "      <td>2</td>\n",
              "      <td>125510.82</td>\n",
              "      <td>1</td>\n",
              "      <td>1</td>\n",
              "      <td>1</td>\n",
              "      <td>79084.10</td>\n",
              "      <td>0</td>\n",
              "      <td>0</td>\n",
              "      <td>0</td>\n",
              "      <td>1</td>\n",
              "    </tr>\n",
              "  </tbody>\n",
              "</table>\n",
              "</div>\n",
              "      <button class=\"colab-df-convert\" onclick=\"convertToInteractive('df-6e5bf6d9-7740-4667-9af8-158b5c80d83e')\"\n",
              "              title=\"Convert this dataframe to an interactive table.\"\n",
              "              style=\"display:none;\">\n",
              "        \n",
              "  <svg xmlns=\"http://www.w3.org/2000/svg\" height=\"24px\"viewBox=\"0 0 24 24\"\n",
              "       width=\"24px\">\n",
              "    <path d=\"M0 0h24v24H0V0z\" fill=\"none\"/>\n",
              "    <path d=\"M18.56 5.44l.94 2.06.94-2.06 2.06-.94-2.06-.94-.94-2.06-.94 2.06-2.06.94zm-11 1L8.5 8.5l.94-2.06 2.06-.94-2.06-.94L8.5 2.5l-.94 2.06-2.06.94zm10 10l.94 2.06.94-2.06 2.06-.94-2.06-.94-.94-2.06-.94 2.06-2.06.94z\"/><path d=\"M17.41 7.96l-1.37-1.37c-.4-.4-.92-.59-1.43-.59-.52 0-1.04.2-1.43.59L10.3 9.45l-7.72 7.72c-.78.78-.78 2.05 0 2.83L4 21.41c.39.39.9.59 1.41.59.51 0 1.02-.2 1.41-.59l7.78-7.78 2.81-2.81c.8-.78.8-2.07 0-2.86zM5.41 20L4 18.59l7.72-7.72 1.47 1.35L5.41 20z\"/>\n",
              "  </svg>\n",
              "      </button>\n",
              "      \n",
              "  <style>\n",
              "    .colab-df-container {\n",
              "      display:flex;\n",
              "      flex-wrap:wrap;\n",
              "      gap: 12px;\n",
              "    }\n",
              "\n",
              "    .colab-df-convert {\n",
              "      background-color: #E8F0FE;\n",
              "      border: none;\n",
              "      border-radius: 50%;\n",
              "      cursor: pointer;\n",
              "      display: none;\n",
              "      fill: #1967D2;\n",
              "      height: 32px;\n",
              "      padding: 0 0 0 0;\n",
              "      width: 32px;\n",
              "    }\n",
              "\n",
              "    .colab-df-convert:hover {\n",
              "      background-color: #E2EBFA;\n",
              "      box-shadow: 0px 1px 2px rgba(60, 64, 67, 0.3), 0px 1px 3px 1px rgba(60, 64, 67, 0.15);\n",
              "      fill: #174EA6;\n",
              "    }\n",
              "\n",
              "    [theme=dark] .colab-df-convert {\n",
              "      background-color: #3B4455;\n",
              "      fill: #D2E3FC;\n",
              "    }\n",
              "\n",
              "    [theme=dark] .colab-df-convert:hover {\n",
              "      background-color: #434B5C;\n",
              "      box-shadow: 0px 1px 3px 1px rgba(0, 0, 0, 0.15);\n",
              "      filter: drop-shadow(0px 1px 2px rgba(0, 0, 0, 0.3));\n",
              "      fill: #FFFFFF;\n",
              "    }\n",
              "  </style>\n",
              "\n",
              "      <script>\n",
              "        const buttonEl =\n",
              "          document.querySelector('#df-6e5bf6d9-7740-4667-9af8-158b5c80d83e button.colab-df-convert');\n",
              "        buttonEl.style.display =\n",
              "          google.colab.kernel.accessAllowed ? 'block' : 'none';\n",
              "\n",
              "        async function convertToInteractive(key) {\n",
              "          const element = document.querySelector('#df-6e5bf6d9-7740-4667-9af8-158b5c80d83e');\n",
              "          const dataTable =\n",
              "            await google.colab.kernel.invokeFunction('convertToInteractive',\n",
              "                                                     [key], {});\n",
              "          if (!dataTable) return;\n",
              "\n",
              "          const docLinkHtml = 'Like what you see? Visit the ' +\n",
              "            '<a target=\"_blank\" href=https://colab.research.google.com/notebooks/data_table.ipynb>data table notebook</a>'\n",
              "            + ' to learn more about interactive tables.';\n",
              "          element.innerHTML = '';\n",
              "          dataTable['output_type'] = 'display_data';\n",
              "          await google.colab.output.renderOutput(dataTable, element);\n",
              "          const docLink = document.createElement('div');\n",
              "          docLink.innerHTML = docLinkHtml;\n",
              "          element.appendChild(docLink);\n",
              "        }\n",
              "      </script>\n",
              "    </div>\n",
              "  </div>\n",
              "  "
            ]
          },
          "metadata": {},
          "execution_count": 11
        }
      ],
      "source": [
        "Gender_dummies.head()"
      ]
    },
    {
      "cell_type": "code",
      "execution_count": 12,
      "metadata": {
        "id": "z5sKzRZDZJa6"
      },
      "outputs": [],
      "source": [
        "churn_data_encoded = Gender_dummies"
      ]
    },
    {
      "cell_type": "code",
      "execution_count": 13,
      "metadata": {
        "colab": {
          "base_uri": "https://localhost:8080/",
          "height": 285
        },
        "id": "w0DdmjEAZJYj",
        "outputId": "b38b9a7e-fb38-47a9-fdc9-2a87779e921a"
      },
      "outputs": [
        {
          "output_type": "display_data",
          "data": {
            "text/plain": [
              "<Figure size 432x288 with 1 Axes>"
            ],
            "image/png": "[encoded data removed]"
          },
          "metadata": {
            "needs_background": "light"
          }
        }
      ],
      "source": [
        "sns.countplot(y=churn_data_encoded.Exited ,data=churn_data_encoded)\n",
        "plt.xlabel(\"Count of each Target class\")\n",
        "plt.ylabel(\"Target classes\")\n",
        "plt.show()"
      ]
    },
    {
      "cell_type": "code",
      "execution_count": 14,
      "metadata": {
        "colab": {
          "base_uri": "https://localhost:8080/",
          "height": 719
        },
        "id": "SRMhfj_PZJV-",
        "outputId": "24d0d407-0d29-46a0-b087-50452854ae18"
      },
      "outputs": [
        {
          "output_type": "display_data",
          "data": {
            "text/plain": [
              "<Figure size 1080x864 with 16 Axes>"
            ],
            "image/png": "[encoded data removed]"
          },
          "metadata": {
            "needs_background": "light"
          }
        }
      ],
      "source": [
        "churn_data_encoded.hist(figsize=(15,12),bins = 15)\n",
        "plt.title(\"Features Distribution\")\n",
        "plt.show()"
      ]
    },
    {
      "cell_type": "code",
      "execution_count": 15,
      "metadata": {
        "colab": {
          "base_uri": "https://localhost:8080/",
          "height": 951
        },
        "id": "HRBO9V2tZJTL",
        "outputId": "4687327f-3a80-48a9-9ec4-ebc085aef783"
      },
      "outputs": [
        {
          "output_type": "display_data",
          "data": {
            "text/plain": [
              "<Figure size 1080x1080 with 2 Axes>"
            ],
            "image/png": "[encoded data removed]"
          },
          "metadata": {
            "needs_background": "light"
          }
        }
      ],
      "source": [
        "plt.figure(figsize=(15,15))\n",
        "p=sns.heatmap(churn_data_encoded.corr(), annot=True,cmap='RdYlGn',center=0) "
      ]
    },
    {
      "cell_type": "code",
      "execution_count": 16,
      "metadata": {
        "colab": {
          "base_uri": "https://localhost:8080/",
          "height": 1000
        },
        "id": "OJW8sc7-ZJRI",
        "outputId": "d83bf1d6-4a48-490a-f06f-e9c981c027d5"
      },
      "outputs": [
        {
          "output_type": "display_data",
          "data": {
            "text/plain": [
              "<Figure size 2160x2160 with 12 Axes>"
            ],
            "image/png": "[encoded data removed]"
          },
          "metadata": {
            "needs_background": "light"
          }
        }
      ],
      "source": [
        "fig,ax = plt.subplots(nrows = 4, ncols=3, figsize=(30,30))\n",
        "row = 0\n",
        "col = 0\n",
        "for i in range(len(churn_data_encoded.columns) -1):\n",
        "    if col > 2:\n",
        "        row += 1\n",
        "        col = 0\n",
        "    axes = ax[row,col]\n",
        "    sns.boxplot(x = churn_data_encoded['Exited'], y = churn_data_encoded[churn_data_encoded.columns[i]],ax = axes)\n",
        "    col += 1\n",
        "plt.tight_layout()\n",
        "# plt.title(\"Individual Features by Class\")\n",
        "plt.show()"
      ]
    },
    {
      "cell_type": "code",
      "execution_count": 17,
      "metadata": {
        "id": "HQ06NjxUZJO1"
      },
      "outputs": [],
      "source": [
        "X = churn_data_encoded.drop(['Exited'],axis=1)\n",
        "y = churn_data_encoded.Exited"
      ]
    },
    {
      "cell_type": "code",
      "execution_count": 18,
      "metadata": {
        "colab": {
          "base_uri": "https://localhost:8080/",
          "height": 394
        },
        "id": "Jt_Uu6p3ZJMU",
        "outputId": "7378ffb0-7c22-4c09-f80f-0a3e0bc70b9f"
      },
      "outputs": [
        {
          "output_type": "execute_result",
          "data": {
            "text/plain": [
              "           CreditScore  Gender  Age  Tenure    Balance  NumOfProducts  \\\n",
              "RowNumber                                                               \n",
              "1                  619       1   42       2       0.00              1   \n",
              "2                  608       1   41       1   83807.86              1   \n",
              "3                  502       1   42       8  159660.80              3   \n",
              "4                  699       1   39       1       0.00              2   \n",
              "5                  850       1   43       2  125510.82              1   \n",
              "6                  645       0   44       8  113755.78              2   \n",
              "7                  822       0   50       7       0.00              2   \n",
              "8                  376       1   29       4  115046.74              4   \n",
              "9                  501       0   44       4  142051.07              2   \n",
              "10                 684       0   27       2  134603.88              1   \n",
              "\n",
              "           HasCrCard  IsActiveMember  EstimatedSalary  Geo_France  \\\n",
              "RowNumber                                                           \n",
              "1                  1               1        101348.88           1   \n",
              "2                  0               1        112542.58           0   \n",
              "3                  1               0        113931.57           1   \n",
              "4                  0               0         93826.63           1   \n",
              "5                  1               1         79084.10           0   \n",
              "6                  1               0        149756.71           0   \n",
              "7                  1               1         10062.80           1   \n",
              "8                  1               0        119346.88           0   \n",
              "9                  0               1         74940.50           1   \n",
              "10                 1               1         71725.73           1   \n",
              "\n",
              "           Geo_Germany  Geo_Spain  \n",
              "RowNumber                          \n",
              "1                    0          0  \n",
              "2                    0          1  \n",
              "3                    0          0  \n",
              "4                    0          0  \n",
              "5                    0          1  \n",
              "6                    0          1  \n",
              "7                    0          0  \n",
              "8                    1          0  \n",
              "9                    0          0  \n",
              "10                   0          0  "
            ],
            "text/html": [
              "\n",
              "  <div id=\"df-83676a5d-1402-43d3-8330-866374263901\">\n",
              "    <div class=\"colab-df-container\">\n",
              "      <div>\n",
              "<style scoped>\n",
              "    .dataframe tbody tr th:only-of-type {\n",
              "        vertical-align: middle;\n",
              "    }\n",
              "\n",
              "    .dataframe tbody tr th {\n",
              "        vertical-align: top;\n",
              "    }\n",
              "\n",
              "    .dataframe thead th {\n",
              "        text-align: right;\n",
              "    }\n",
              "</style>\n",
              "<table border=\"1\" class=\"dataframe\">\n",
              "  <thead>\n",
              "    <tr style=\"text-align: right;\">\n",
              "      <th></th>\n",
              "      <th>CreditScore</th>\n",
              "      <th>Gender</th>\n",
              "      <th>Age</th>\n",
              "      <th>Tenure</th>\n",
              "      <th>Balance</th>\n",
              "      <th>NumOfProducts</th>\n",
              "      <th>HasCrCard</th>\n",
              "      <th>IsActiveMember</th>\n",
              "      <th>EstimatedSalary</th>\n",
              "      <th>Geo_France</th>\n",
              "      <th>Geo_Germany</th>\n",
              "      <th>Geo_Spain</th>\n",
              "    </tr>\n",
              "    <tr>\n",
              "      <th>RowNumber</th>\n",
              "      <th></th>\n",
              "      <th></th>\n",
              "      <th></th>\n",
              "      <th></th>\n",
              "      <th></th>\n",
              "      <th></th>\n",
              "      <th></th>\n",
              "      <th></th>\n",
              "      <th></th>\n",
              "      <th></th>\n",
              "      <th></th>\n",
              "      <th></th>\n",
              "    </tr>\n",
              "  </thead>\n",
              "  <tbody>\n",
              "    <tr>\n",
              "      <th>1</th>\n",
              "      <td>619</td>\n",
              "      <td>1</td>\n",
              "      <td>42</td>\n",
              "      <td>2</td>\n",
              "      <td>0.00</td>\n",
              "      <td>1</td>\n",
              "      <td>1</td>\n",
              "      <td>1</td>\n",
              "      <td>101348.88</td>\n",
              "      <td>1</td>\n",
              "      <td>0</td>\n",
              "      <td>0</td>\n",
              "    </tr>\n",
              "    <tr>\n",
              "      <th>2</th>\n",
              "      <td>608</td>\n",
              "      <td>1</td>\n",
              "      <td>41</td>\n",
              "      <td>1</td>\n",
              "      <td>83807.86</td>\n",
              "      <td>1</td>\n",
              "      <td>0</td>\n",
              "      <td>1</td>\n",
              "      <td>112542.58</td>\n",
              "      <td>0</td>\n",
              "      <td>0</td>\n",
              "      <td>1</td>\n",
              "    </tr>\n",
              "    <tr>\n",
              "      <th>3</th>\n",
              "      <td>502</td>\n",
              "      <td>1</td>\n",
              "      <td>42</td>\n",
              "      <td>8</td>\n",
              "      <td>159660.80</td>\n",
              "      <td>3</td>\n",
              "      <td>1</td>\n",
              "      <td>0</td>\n",
              "      <td>113931.57</td>\n",
              "      <td>1</td>\n",
              "      <td>0</td>\n",
              "      <td>0</td>\n",
              "    </tr>\n",
              "    <tr>\n",
              "      <th>4</th>\n",
              "      <td>699</td>\n",
              "      <td>1</td>\n",
              "      <td>39</td>\n",
              "      <td>1</td>\n",
              "      <td>0.00</td>\n",
              "      <td>2</td>\n",
              "      <td>0</td>\n",
              "      <td>0</td>\n",
              "      <td>93826.63</td>\n",
              "      <td>1</td>\n",
              "      <td>0</td>\n",
              "      <td>0</td>\n",
              "    </tr>\n",
              "    <tr>\n",
              "      <th>5</th>\n",
              "      <td>850</td>\n",
              "      <td>1</td>\n",
              "      <td>43</td>\n",
              "      <td>2</td>\n",
              "      <td>125510.82</td>\n",
              "      <td>1</td>\n",
              "      <td>1</td>\n",
              "      <td>1</td>\n",
              "      <td>79084.10</td>\n",
              "      <td>0</td>\n",
              "      <td>0</td>\n",
              "      <td>1</td>\n",
              "    </tr>\n",
              "    <tr>\n",
              "      <th>6</th>\n",
              "      <td>645</td>\n",
              "      <td>0</td>\n",
              "      <td>44</td>\n",
              "      <td>8</td>\n",
              "      <td>113755.78</td>\n",
              "      <td>2</td>\n",
              "      <td>1</td>\n",
              "      <td>0</td>\n",
              "      <td>149756.71</td>\n",
              "      <td>0</td>\n",
              "      <td>0</td>\n",
              "      <td>1</td>\n",
              "    </tr>\n",
              "    <tr>\n",
              "      <th>7</th>\n",
              "      <td>822</td>\n",
              "      <td>0</td>\n",
              "      <td>50</td>\n",
              "      <td>7</td>\n",
              "      <td>0.00</td>\n",
              "      <td>2</td>\n",
              "      <td>1</td>\n",
              "      <td>1</td>\n",
              "      <td>10062.80</td>\n",
              "      <td>1</td>\n",
              "      <td>0</td>\n",
              "      <td>0</td>\n",
              "    </tr>\n",
              "    <tr>\n",
              "      <th>8</th>\n",
              "      <td>376</td>\n",
              "      <td>1</td>\n",
              "      <td>29</td>\n",
              "      <td>4</td>\n",
              "      <td>115046.74</td>\n",
              "      <td>4</td>\n",
              "      <td>1</td>\n",
              "      <td>0</td>\n",
              "      <td>119346.88</td>\n",
              "      <td>0</td>\n",
              "      <td>1</td>\n",
              "      <td>0</td>\n",
              "    </tr>\n",
              "    <tr>\n",
              "      <th>9</th>\n",
              "      <td>501</td>\n",
              "      <td>0</td>\n",
              "      <td>44</td>\n",
              "      <td>4</td>\n",
              "      <td>142051.07</td>\n",
              "      <td>2</td>\n",
              "      <td>0</td>\n",
              "      <td>1</td>\n",
              "      <td>74940.50</td>\n",
              "      <td>1</td>\n",
              "      <td>0</td>\n",
              "      <td>0</td>\n",
              "    </tr>\n",
              "    <tr>\n",
              "      <th>10</th>\n",
              "      <td>684</td>\n",
              "      <td>0</td>\n",
              "      <td>27</td>\n",
              "      <td>2</td>\n",
              "      <td>134603.88</td>\n",
              "      <td>1</td>\n",
              "      <td>1</td>\n",
              "      <td>1</td>\n",
              "      <td>71725.73</td>\n",
              "      <td>1</td>\n",
              "      <td>0</td>\n",
              "      <td>0</td>\n",
              "    </tr>\n",
              "  </tbody>\n",
              "</table>\n",
              "</div>\n",
              "      <button class=\"colab-df-convert\" onclick=\"convertToInteractive('df-83676a5d-1402-43d3-8330-866374263901')\"\n",
              "              title=\"Convert this dataframe to an interactive table.\"\n",
              "              style=\"display:none;\">\n",
              "        \n",
              "  <svg xmlns=\"http://www.w3.org/2000/svg\" height=\"24px\"viewBox=\"0 0 24 24\"\n",
              "       width=\"24px\">\n",
              "    <path d=\"M0 0h24v24H0V0z\" fill=\"none\"/>\n",
              "    <path d=\"M18.56 5.44l.94 2.06.94-2.06 2.06-.94-2.06-.94-.94-2.06-.94 2.06-2.06.94zm-11 1L8.5 8.5l.94-2.06 2.06-.94-2.06-.94L8.5 2.5l-.94 2.06-2.06.94zm10 10l.94 2.06.94-2.06 2.06-.94-2.06-.94-.94-2.06-.94 2.06-2.06.94z\"/><path d=\"M17.41 7.96l-1.37-1.37c-.4-.4-.92-.59-1.43-.59-.52 0-1.04.2-1.43.59L10.3 9.45l-7.72 7.72c-.78.78-.78 2.05 0 2.83L4 21.41c.39.39.9.59 1.41.59.51 0 1.02-.2 1.41-.59l7.78-7.78 2.81-2.81c.8-.78.8-2.07 0-2.86zM5.41 20L4 18.59l7.72-7.72 1.47 1.35L5.41 20z\"/>\n",
              "  </svg>\n",
              "      </button>\n",
              "      \n",
              "  <style>\n",
              "    .colab-df-container {\n",
              "      display:flex;\n",
              "      flex-wrap:wrap;\n",
              "      gap: 12px;\n",
              "    }\n",
              "\n",
              "    .colab-df-convert {\n",
              "      background-color: #E8F0FE;\n",
              "      border: none;\n",
              "      border-radius: 50%;\n",
              "      cursor: pointer;\n",
              "      display: none;\n",
              "      fill: #1967D2;\n",
              "      height: 32px;\n",
              "      padding: 0 0 0 0;\n",
              "      width: 32px;\n",
              "    }\n",
              "\n",
              "    .colab-df-convert:hover {\n",
              "      background-color: #E2EBFA;\n",
              "      box-shadow: 0px 1px 2px rgba(60, 64, 67, 0.3), 0px 1px 3px 1px rgba(60, 64, 67, 0.15);\n",
              "      fill: #174EA6;\n",
              "    }\n",
              "\n",
              "    [theme=dark] .colab-df-convert {\n",
              "      background-color: #3B4455;\n",
              "      fill: #D2E3FC;\n",
              "    }\n",
              "\n",
              "    [theme=dark] .colab-df-convert:hover {\n",
              "      background-color: #434B5C;\n",
              "      box-shadow: 0px 1px 3px 1px rgba(0, 0, 0, 0.15);\n",
              "      filter: drop-shadow(0px 1px 2px rgba(0, 0, 0, 0.3));\n",
              "      fill: #FFFFFF;\n",
              "    }\n",
              "  </style>\n",
              "\n",
              "      <script>\n",
              "        const buttonEl =\n",
              "          document.querySelector('#df-83676a5d-1402-43d3-8330-866374263901 button.colab-df-convert');\n",
              "        buttonEl.style.display =\n",
              "          google.colab.kernel.accessAllowed ? 'block' : 'none';\n",
              "\n",
              "        async function convertToInteractive(key) {\n",
              "          const element = document.querySelector('#df-83676a5d-1402-43d3-8330-866374263901');\n",
              "          const dataTable =\n",
              "            await google.colab.kernel.invokeFunction('convertToInteractive',\n",
              "                                                     [key], {});\n",
              "          if (!dataTable) return;\n",
              "\n",
              "          const docLinkHtml = 'Like what you see? Visit the ' +\n",
              "            '<a target=\"_blank\" href=https://colab.research.google.com/notebooks/data_table.ipynb>data table notebook</a>'\n",
              "            + ' to learn more about interactive tables.';\n",
              "          element.innerHTML = '';\n",
              "          dataTable['output_type'] = 'display_data';\n",
              "          await google.colab.output.renderOutput(dataTable, element);\n",
              "          const docLink = document.createElement('div');\n",
              "          docLink.innerHTML = docLinkHtml;\n",
              "          element.appendChild(docLink);\n",
              "        }\n",
              "      </script>\n",
              "    </div>\n",
              "  </div>\n",
              "  "
            ]
          },
          "metadata": {},
          "execution_count": 18
        }
      ],
      "source": [
        "X.head(10)"
      ]
    },
    {
      "cell_type": "code",
      "execution_count": 19,
      "metadata": {
        "id": "0THGa4mMZxRP"
      },
      "outputs": [],
      "source": [
        "# Splitting the dataset into the Training set and Test set\n",
        "from sklearn.model_selection import train_test_split\n",
        "X_train, X_test, y_train, y_test = train_test_split(X, y, test_size = 0.33, random_state = 0)"
      ]
    },
    {
      "cell_type": "code",
      "execution_count": 20,
      "metadata": {
        "id": "QrEG7_nqZxPG"
      },
      "outputs": [],
      "source": [
        "# Feature Scaling because yes we don't want one independent variable dominating the other and it makes computations easy\n",
        "from sklearn.preprocessing import StandardScaler\n",
        "sc = StandardScaler()\n",
        "X_train = sc.fit_transform(X_train)\n",
        "X_test = sc.transform(X_test)"
      ]
    },
    {
      "cell_type": "code",
      "execution_count": 21,
      "metadata": {
        "id": "HNRA-BvQZxMu"
      },
      "outputs": [],
      "source": [
        "# sequential model to initialise our ann and dense module to build the layers\n",
        "from keras.models import Sequential\n",
        "from keras.layers import Dense"
      ]
    },
    {
      "cell_type": "code",
      "execution_count": 22,
      "metadata": {
        "colab": {
          "base_uri": "https://localhost:8080/"
        },
        "id": "_MS2hxpOZxKg",
        "outputId": "2e5e6433-5e9a-42b1-d683-98cb43df000f"
      },
      "outputs": [
        {
          "output_type": "stream",
          "name": "stdout",
          "text": [
            "670/670 [==============================] - 2s 2ms/step - loss: 0.3973 - accuracy: 0.8360\n",
            "Train score: 0.3972833454608917\n",
            "Train accuracy: 0.8359701633453369\n",
            "********************\n",
            "330/330 [==============================] - 1s 2ms/step - loss: 0.4015 - accuracy: 0.8418\n",
            "Test score: 0.40147754549980164\n",
            "Test accuracy: 0.8418181538581848\n"
          ]
        }
      ],
      "source": [
        "classifier = Sequential()\n",
        "# Adding the input layer and the first hidden layer\n",
        "classifier.add(Dense(units = 6, kernel_initializer = 'uniform', activation = 'relu', input_dim = 12))\n",
        "\n",
        "# Adding the second hidden layer\n",
        "classifier.add(Dense(units = 6, kernel_initializer = 'uniform', activation = 'relu'))\n",
        "\n",
        "# Adding the output layer\n",
        "classifier.add(Dense(units = 1, kernel_initializer = 'uniform', activation = 'sigmoid'))\n",
        "\n",
        "# Compiling the ANN | means applying SGD on the whole ANN\n",
        "classifier.compile(optimizer = 'adam', loss = 'binary_crossentropy', metrics = ['accuracy'])\n",
        "\n",
        "# Fitting the ANN to the Training set\n",
        "classifier.fit(X_train, y_train, batch_size = 10, epochs = 100,verbose = 0)\n",
        "\n",
        "score, acc = classifier.evaluate(X_train, y_train,\n",
        "                            batch_size=10)\n",
        "print('Train score:', score)\n",
        "print('Train accuracy:', acc)\n",
        "# Part 3 - Making predictions and evaluating the model\n",
        "\n",
        "# Predicting the Test set results\n",
        "y_pred = classifier.predict(X_test)\n",
        "y_pred = (y_pred > 0.5)\n",
        "\n",
        "print('*'*20)\n",
        "score, acc = classifier.evaluate(X_test, y_test,\n",
        "                            batch_size=10)\n",
        "print('Test score:', score)\n",
        "print('Test accuracy:', acc)\n",
        "# Making the Confusion Matrix\n",
        "from sklearn.metrics import confusion_matrix\n",
        "cm = confusion_matrix(y_test, y_pred)"
      ]
    },
    {
      "cell_type": "code",
      "execution_count": 23,
      "metadata": {
        "colab": {
          "base_uri": "https://localhost:8080/",
          "height": 319
        },
        "id": "z-Oin7KYZxH-",
        "outputId": "ba1f9408-20a8-42ff-a97d-6472b314e509"
      },
      "outputs": [
        {
          "output_type": "execute_result",
          "data": {
            "text/plain": [
              "Text(0.5, 12.5, 'Predicted label')"
            ]
          },
          "metadata": {},
          "execution_count": 23
        },
        {
          "output_type": "display_data",
          "data": {
            "text/plain": [
              "<Figure size 432x288 with 2 Axes>"
            ],
            "image/png": "[encoded data removed]"
          },
          "metadata": {
            "needs_background": "light"
          }
        }
      ],
      "source": [
        "p = sns.heatmap(pd.DataFrame(cm), annot=True, cmap=\"YlGnBu\" ,fmt='g')\n",
        "plt.title('Confusion matrix', y=1.1)\n",
        "plt.ylabel('Actual label')\n",
        "plt.xlabel('Predicted label')"
      ]
    },
    {
      "cell_type": "code",
      "execution_count": 24,
      "metadata": {
        "colab": {
          "base_uri": "https://localhost:8080/"
        },
        "id": "MWt42-eeZxFe",
        "outputId": "0f337264-5dee-4990-b1de-840a74b31387"
      },
      "outputs": [
        {
          "output_type": "stream",
          "name": "stdout",
          "text": [
            "              precision    recall  f1-score   support\n",
            "\n",
            "           0       0.85      0.97      0.91      2617\n",
            "           1       0.76      0.34      0.47       683\n",
            "\n",
            "    accuracy                           0.84      3300\n",
            "   macro avg       0.81      0.66      0.69      3300\n",
            "weighted avg       0.83      0.84      0.82      3300\n",
            "\n"
          ]
        }
      ],
      "source": [
        "#import classification_report\n",
        "from sklearn.metrics import classification_report\n",
        "print(classification_report(y_test,y_pred))"
      ]
    },
    {
      "cell_type": "code",
      "execution_count": 26,
      "metadata": {
        "colab": {
          "base_uri": "https://localhost:8080/",
          "height": 301
        },
        "id": "EzvUNAywZJJc",
        "outputId": "7d4f9871-2d50-4fc2-99be-d13878494486"
      },
      "outputs": [
        {
          "output_type": "display_data",
          "data": {
            "text/plain": [
              "<Figure size 432x288 with 1 Axes>"
            ],
            "image/png": "[encoded data removed]"
          },
          "metadata": {
            "needs_background": "light"
          }
        }
      ],
      "source": [
        "from sklearn.metrics import roc_curve\n",
        "y_pred_proba = classifier.predict(X_test)\n",
        "fpr, tpr, thresholds = roc_curve(y_test, y_pred_proba)\n",
        "plt.plot([0,1],[0,1],'k--')\n",
        "plt.plot(fpr,tpr, label='ANN')\n",
        "plt.xlabel('fpr')\n",
        "plt.ylabel('tpr')\n",
        "plt.title('ROC curve')\n",
        "plt.show()"
      ]
    },
    {
      "cell_type": "code",
      "execution_count": 27,
      "metadata": {
        "colab": {
          "base_uri": "https://localhost:8080/"
        },
        "id": "CyJ0vHduZ8dt",
        "outputId": "284810d8-f8e8-49e3-ee73-a58262e54077"
      },
      "outputs": [
        {
          "output_type": "execute_result",
          "data": {
            "text/plain": [
              "0.7989712494775963"
            ]
          },
          "metadata": {},
          "execution_count": 27
        }
      ],
      "source": [
        "#Area under ROC curve\n",
        "from sklearn.metrics import roc_auc_score\n",
        "roc_auc_score(y_test,y_pred_proba)"
      ]
    },
    {
      "cell_type": "code",
      "execution_count": 28,
      "metadata": {
        "colab": {
          "base_uri": "https://localhost:8080/"
        },
        "id": "6zasbw1EZ-YU",
        "outputId": "f64e764f-e754-42db-b0c4-56547e03ef24"
      },
      "outputs": [
        {
          "output_type": "stream",
          "name": "stderr",
          "text": [
            "/usr/local/lib/python3.7/dist-packages/ipykernel_launcher.py:15: DeprecationWarning: KerasClassifier is deprecated, use Sci-Keras (https://github.com/adriangb/scikeras) instead. See https://www.adriangb.com/scikeras/stable/migration.html for help migrating.\n",
            "  from ipykernel import kernelapp as app\n"
          ]
        }
      ],
      "source": [
        "# Part 4 - Evaluating, Improving and Tuning the ANN\n",
        "\n",
        "# Evaluating the ANN\n",
        "from keras.wrappers.scikit_learn import KerasClassifier\n",
        "from sklearn.model_selection import cross_val_score\n",
        "from keras.models import Sequential\n",
        "from keras.layers import Dense\n",
        "def build_classifier():\n",
        "    classifier = Sequential()\n",
        "    classifier.add(Dense(units = 6, kernel_initializer = 'uniform', activation = 'relu', input_dim = 12))\n",
        "    classifier.add(Dense(units = 6, kernel_initializer = 'uniform', activation = 'relu'))\n",
        "    classifier.add(Dense(units = 1, kernel_initializer = 'uniform', activation = 'sigmoid'))\n",
        "    classifier.compile(optimizer = 'adam', loss = 'binary_crossentropy', metrics = ['accuracy'])\n",
        "    return classifier\n",
        "classifier = KerasClassifier(build_fn = build_classifier, batch_size = 10, epochs = 100,verbose=0)\n",
        "accuracies = cross_val_score(estimator = classifier, X = X_train, y = y_train, cv = 10)\n",
        "mean = accuracies.mean()\n",
        "variance = accuracies.std()"
      ]
    },
    {
      "cell_type": "code",
      "execution_count": 29,
      "metadata": {
        "colab": {
          "base_uri": "https://localhost:8080/"
        },
        "id": "xdhmyxyRZ-V3",
        "outputId": "100f8b72-00e3-4058-9dd5-471466359284"
      },
      "outputs": [
        {
          "output_type": "stream",
          "name": "stdout",
          "text": [
            "Mean accuracy score of 10 different models using Kfold cross validation: 0.8392537415027619\n",
            "Standard Deviation of accuracy score of 10 different models using Kfold cross validation: 0.01608966718042081\n"
          ]
        }
      ],
      "source": [
        "print('Mean accuracy score of 10 different models using Kfold cross validation: {}'.format(mean))\n",
        "print('Standard Deviation of accuracy score of 10 different models using Kfold cross validation: {}'.format(variance))"
      ]
    },
    {
      "cell_type": "code",
      "execution_count": 30,
      "metadata": {
        "colab": {
          "base_uri": "https://localhost:8080/"
        },
        "id": "34BhO78LZ-R4",
        "outputId": "b02fdd65-c46a-42cf-e31b-bd39d07d1f69"
      },
      "outputs": [
        {
          "output_type": "stream",
          "name": "stdout",
          "text": [
            "670/670 [==============================] - 1s 2ms/step - loss: 0.4055 - accuracy: 0.8342\n",
            "Train score: 0.40545061230659485\n",
            "Train accuracy: 0.8341791033744812\n",
            "********************\n",
            "330/330 [==============================] - 1s 2ms/step - loss: 0.4108 - accuracy: 0.8409\n",
            "Test score: 0.41083815693855286\n",
            "Test accuracy: 0.8409090638160706\n"
          ]
        }
      ],
      "source": [
        "# Improving the ANN\n",
        "from keras.layers import Dropout\n",
        "classifier = Sequential()\n",
        "# Adding the input layer and the first hidden layer\n",
        "classifier.add(Dense(units = 6, kernel_initializer = 'uniform', activation = 'relu', input_dim = 12))\n",
        "classifier.add(Dropout(rate = 0.1))\n",
        "\n",
        "# Adding the second hidden layer\n",
        "classifier.add(Dense(units = 6, kernel_initializer = 'uniform', activation = 'relu'))\n",
        "classifier.add(Dropout(rate = 0.1))\n",
        "\n",
        "# Adding the output layer\n",
        "classifier.add(Dense(units = 1, kernel_initializer = 'uniform', activation = 'sigmoid'))\n",
        "\n",
        "# Compiling the ANN\n",
        "classifier.compile(optimizer = 'adam', loss = 'binary_crossentropy', metrics = ['accuracy'])\n",
        "\n",
        "# Fitting the ANN to the Training set\n",
        "classifier.fit(X_train, y_train, batch_size = 10, epochs = 100,verbose = 0)\n",
        "\n",
        "# Part 3 - Making predictions and evaluating the model\n",
        "\n",
        "score, acc = classifier.evaluate(X_train, y_train,\n",
        "                            batch_size=10)\n",
        "print('Train score:', score)\n",
        "print('Train accuracy:', acc)\n",
        "# Part 3 - Making predictions and evaluating the model\n",
        "\n",
        "# Predicting the Test set results\n",
        "y_pred = classifier.predict(X_test)\n",
        "y_pred = (y_pred > 0.5)\n",
        "\n",
        "print('*'*20)\n",
        "score, acc = classifier.evaluate(X_test, y_test,\n",
        "                            batch_size=10)\n",
        "print('Test score:', score)\n",
        "print('Test accuracy:', acc)\n",
        "\n",
        "# Making the Confusion Matrix\n",
        "from sklearn.metrics import confusion_matrix\n",
        "cm = confusion_matrix(y_test, y_pred)"
      ]
    },
    {
      "cell_type": "code",
      "execution_count": 31,
      "metadata": {
        "colab": {
          "base_uri": "https://localhost:8080/",
          "height": 319
        },
        "id": "r9ch_O55Z-PW",
        "outputId": "8c202cf6-78c3-4a17-c720-78d1ffb37d60"
      },
      "outputs": [
        {
          "output_type": "execute_result",
          "data": {
            "text/plain": [
              "Text(0.5, 12.5, 'Predicted label')"
            ]
          },
          "metadata": {},
          "execution_count": 31
        },
        {
          "output_type": "display_data",
          "data": {
            "text/plain": [
              "<Figure size 432x288 with 2 Axes>"
            ],
            "image/png": "[encoded data removed]"
          },
          "metadata": {
            "needs_background": "light"
          }
        }
      ],
      "source": [
        "p = sns.heatmap(pd.DataFrame(cm), annot=True, cmap=\"YlGnBu\" ,fmt='g')\n",
        "plt.title('Confusion matrix', y=1.1)\n",
        "plt.ylabel('Actual label')\n",
        "plt.xlabel('Predicted label')"
      ]
    },
    {
      "cell_type": "code",
      "execution_count": 32,
      "metadata": {
        "colab": {
          "base_uri": "https://localhost:8080/"
        },
        "id": "_0e6MDLhZ8bs",
        "outputId": "7154c6e4-8bbc-47b3-d664-c258b2f14146"
      },
      "outputs": [
        {
          "output_type": "stream",
          "name": "stdout",
          "text": [
            "              precision    recall  f1-score   support\n",
            "\n",
            "           0       0.85      0.98      0.91      2617\n",
            "           1       0.78      0.32      0.46       683\n",
            "\n",
            "    accuracy                           0.84      3300\n",
            "   macro avg       0.81      0.65      0.68      3300\n",
            "weighted avg       0.83      0.84      0.81      3300\n",
            "\n"
          ]
        }
      ],
      "source": [
        "#import classification_report\n",
        "from sklearn.metrics import classification_report\n",
        "print(classification_report(y_test,y_pred))"
      ]
    },
    {
      "cell_type": "code",
      "execution_count": 34,
      "metadata": {
        "colab": {
          "base_uri": "https://localhost:8080/",
          "height": 301
        },
        "id": "oyZbEGhHaFST",
        "outputId": "691533ec-c8da-482b-8c1e-4c73ac3a33f9"
      },
      "outputs": [
        {
          "output_type": "display_data",
          "data": {
            "text/plain": [
              "<Figure size 432x288 with 1 Axes>"
            ],
            "image/png": "[encoded data removed]"
          },
          "metadata": {
            "needs_background": "light"
          }
        }
      ],
      "source": [
        "from sklearn.metrics import roc_curve\n",
        "y_pred_proba = classifier.predict(X_test)\n",
        "fpr, tpr, thresholds = roc_curve(y_test, y_pred_proba)\n",
        "plt.plot([0,1],[0,1],'k--')\n",
        "plt.plot(fpr,tpr, label='ANN')\n",
        "plt.xlabel('fpr')\n",
        "plt.ylabel('tpr')\n",
        "plt.title('ROC curve')\n",
        "plt.show()"
      ]
    },
    {
      "cell_type": "code",
      "execution_count": 35,
      "metadata": {
        "colab": {
          "base_uri": "https://localhost:8080/"
        },
        "id": "URTmOUWvaFQQ",
        "outputId": "20035e63-f56d-44bb-abd6-ef2d7b737c1f"
      },
      "outputs": [
        {
          "output_type": "execute_result",
          "data": {
            "text/plain": [
              "0.7994420421492314"
            ]
          },
          "metadata": {},
          "execution_count": 35
        }
      ],
      "source": [
        "#Area under ROC curve\n",
        "from sklearn.metrics import roc_auc_score\n",
        "roc_auc_score(y_test,y_pred_proba)"
      ]
    },
    {
      "cell_type": "code",
      "execution_count": null,
      "metadata": {
        "colab": {
          "base_uri": "https://localhost:8080/"
        },
        "id": "d4D1ec1UaFMH",
        "outputId": "d181197b-09c1-4581-9587-cef5753b0be8"
      },
      "outputs": [
        {
          "output_type": "stream",
          "name": "stderr",
          "text": [
            "/usr/local/lib/python3.7/dist-packages/ipykernel_launcher.py:13: DeprecationWarning: KerasClassifier is deprecated, use Sci-Keras (https://github.com/adriangb/scikeras) instead. See https://www.adriangb.com/scikeras/stable/migration.html for help migrating.\n",
            "  del sys.path[0]\n"
          ]
        }
      ],
      "source": [
        "# Tuning the ANN\n",
        "from keras.wrappers.scikit_learn import KerasClassifier\n",
        "from sklearn.model_selection import GridSearchCV\n",
        "from keras.models import Sequential\n",
        "from keras.layers import Dense\n",
        "def build_classifier(optimizer):\n",
        "    classifier = Sequential()\n",
        "    classifier.add(Dense(units = 6, kernel_initializer = 'uniform', activation = 'relu', input_dim = 12))\n",
        "    classifier.add(Dense(units = 6, kernel_initializer = 'uniform', activation = 'relu'))\n",
        "    classifier.add(Dense(units = 1, kernel_initializer = 'uniform', activation = 'sigmoid'))\n",
        "    classifier.compile(optimizer = optimizer, loss = 'binary_crossentropy', metrics = ['accuracy'])\n",
        "    return classifier\n",
        "classifier = KerasClassifier(build_fn = build_classifier)\n",
        "parameters = {'batch_size': [25, 32],\n",
        "              'epochs': [100, 200],\n",
        "              'optimizer': ['adam', 'rmsprop']}\n",
        "grid_search = GridSearchCV(estimator = classifier,\n",
        "                           param_grid = parameters,\n",
        "                           scoring = 'accuracy',\n",
        "                           cv = 10)\n",
        "grid_search = grid_search.fit(X_train, y_train,verbose = 0)\n",
        "best_parameters = grid_search.best_params_\n",
        "best_accuracy = grid_search.best_score_"
      ]
    },
    {
      "cell_type": "code",
      "execution_count": null,
      "metadata": {
        "id": "DL586ed1aMOr"
      },
      "outputs": [],
      "source": [
        "print('Best Parameters after tuning: {}'.format(best_parameters))\n",
        "print('Best Accuracy after tuning: {}'.format(best_accuracy))"
      ]
    },
    {
      "cell_type": "markdown",
      "source": [
        "\n",
        "\n",
        "\n",
        "---\n",
        "\n",
        "\n",
        "\n",
        "---\n",
        "\n",
        "\n",
        "\n",
        "---\n",
        "\n",
        "\n",
        "\n",
        "---\n",
        "\n",
        "\n",
        "---\n",
        "\n",
        "\n",
        "\n",
        "---\n",
        "\n",
        "\n",
        "\n",
        "---\n",
        "\n",
        "\n",
        "\n",
        "---\n",
        "\n",
        "\n",
        "\n",
        "---\n",
        "\n"
      ],
      "metadata": {
        "id": "LXw29mP2FUtF"
      }
    },
    {
      "cell_type": "markdown",
      "metadata": {
        "id": "pYzC2FKqea2j"
      },
      "source": [
        "- Layer\n",
        "  - Flatten layer: 1차원 자료로 바꿔주는 layer\n",
        "  - Dense layer (Fully Connected layer): 이전 계층의 모든 뉴런과 결합된 형태의 layer (pytorch에서는 Linear layer)\n",
        "  - Dropout layer: 네트워크가 과적합되는 경우를 방지하기 위해서 만들어진 레이어로 학습 과정에서 무작위로 뉴런의 집합을 제거\n",
        "- [Optimizer](https://keras.io/api/optimizers/)\n",
        "  - sgd, RMSprop, adam, ...\n",
        "  - Adam을 가장 자주 씀\n",
        "  - [참고](https://velog.io/@yookyungkho/%EB%94%A5%EB%9F%AC%EB%8B%9D-%EC%98%B5%ED%8B%B0%EB%A7%88%EC%9D%B4%EC%A0%80-%EC%A0%95%EB%B3%B5%EA%B8%B0%EB%B6%80%EC%A0%9C-CS231n-Lecture7-Review)"
      ]
    },
    {
      "cell_type": "markdown",
      "metadata": {
        "id": "BgBD8gzJuBJ-"
      },
      "source": [
        "![image.png](data:image/png;base64,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)"
      ]
    },
    {
      "cell_type": "markdown",
      "metadata": {
        "id": "KCwuRzxKtjfI"
      },
      "source": [
        "- [Loss](https://keras.io/api/losses/)\n",
        "  - Regression: MSE, RSMSE, MAPE, ...\n",
        "  - Classification: binary crossentropy, categorical crossentropy\n",
        "  - train(훈련)에서 weight를 update하는 용도, [metrics](https://keras.io/api/metrics/regression_metrics/)은 validation을 통한 성능 평가용"
      ]
    },
    {
      "cell_type": "markdown",
      "metadata": {
        "id": "hNgyxy_kd5Vt"
      },
      "source": [
        "참고 (ANN):\n",
        "\n",
        "https://onesixx.com/optimizer-loss-metrics/\n",
        "\n",
        "https://keras.io/ko/metrics/\n",
        "\n",
        "https://talkingaboutme.tistory.com/entry/DL-%ED%95%B4%EB%B3%B4%EB%A9%B4%EC%84%9C-%EB%B0%B0%EC%9A%B0%EB%8A%94-%EB%94%A5%EB%9F%AC%EB%8B%9D-ANN-%EA%B5%AC%ED%98%84-3\n",
        "\n",
        "https://tykimos.github.io/2017/01/27/MLP_Layer_Talk/\n",
        "\n",
        "https://han-py.tistory.com/207\n",
        "\n",
        "https://jackyoon5737.tistory.com/32\n",
        "\n",
        "https://gomguard.tistory.com/187\n",
        "\n",
        "https://blog.naver.com/qbxlvnf11/221449297033\n",
        "\n",
        "https://wikidocs.net/32105\n",
        "\n",
        "http://blog.naver.com/shwotjd14/221458224334\n",
        "\n",
        "https://bioinformaticsandme.tistory.com/241\n",
        "\n",
        "https://tensorflow.blog/%EC%BC%80%EB%9D%BC%EC%8A%A4-%EB%94%A5%EB%9F%AC%EB%8B%9D/3-4-%EC%98%81%ED%99%94-%EB%A6%AC%EB%B7%B0-%EB%B6%84%EB%A5%98-%EC%9D%B4%EC%A7%84-%EB%B6%84%EB%A5%98-%EC%98%88%EC%A0%9C/\n",
        "\n",
        "https://codetorial.net/tensorflow/get_output_of_neuron_layers.html\n",
        "\n",
        "https://codetorial.net/tensorflow/visualize_model.html\n",
        "\n",
        "https://codetorial.net/tensorflow/visualize_training_history.html\n",
        "\n",
        "\n",
        "\n",
        "\n",
        "https://wikidocs.net/44766\n",
        "\n",
        "https://gooopy.tistory.com/80\n",
        "\n",
        "https://codetorial.net/tensorflow/classifying_the_cats_and_dogs.html\n",
        "\n",
        "https://ssongnote.tistory.com/10\n",
        "\n",
        "- RBF\n",
        "https://www.python2.net/questions-379561.htm"
      ]
    }
  ],
  "metadata": {
    "accelerator": "GPU",
    "colab": {
      "collapsed_sections": [],
      "name": "8_ANN_JW.ipynb",
      "provenance": []
    },
    "kernelspec": {
      "display_name": "Python 3",
      "language": "python",
      "name": "python3"
    },
    "language_info": {
      "codemirror_mode": {
        "name": "ipython",
        "version": 3
      },
      "file_extension": ".py",
      "mimetype": "text/x-python",
      "name": "python",
      "nbconvert_exporter": "python",
      "pygments_lexer": "ipython3",
      "version": "3.8.8"
    }
  },
  "nbformat": 4,
  "nbformat_minor": 0
}