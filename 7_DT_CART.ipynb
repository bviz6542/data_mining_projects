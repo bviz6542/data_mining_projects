{
  "cells": [
    {
      "cell_type": "markdown",
      "metadata": {
        "id": "aI_b93xAN_UL"
      },
      "source": [
        "# Decision Tree (의사결정나무)\n",
        "- TA: 전은지 (Eunji Jeon)  \n",
        "- Dept. of Industrial Engineering, Yonsei Univ (Industrial Statistics Lab; ISL 산업통계연구실)\n",
        "- 문의: `jej_0312_@naver.com`"
      ]
    },
    {
      "cell_type": "markdown",
      "source": [
        "- [의사결정 나무](https://heytech.tistory.com/145)\n",
        "  - 불순도 (impurity)가 작은 방향, information gain이 큰 방향으로 분기 (e.g., entropy, gini index, ...)\n",
        "  - [ID3](https://tyami.github.io/machine%20learning/decision-tree-2-ID3/), [C4.5](https://tyami.github.io/machine%20learning/decision-tree-3-c4_5/), CART 등\n",
        "- 장점\n",
        "  - 간단하고 효과적\n",
        "  - interpretable/직관적 rule\n",
        "  - 통계적 가정 불필요\n",
        "- 단점\n",
        "  - 비연속성: 분리의 경계점 근방에서는 예측 오류가 클 가능성이 있음\n",
        "  - 선형성 결여: 전체적인 선형 관계 파악이 어려움\n",
        "  - 비안정성: 데이터 수가 적을 경우 불안정; 과적합에 취약하므로 가지치기 필요"
      ],
      "metadata": {
        "id": "GlclEMjXvXL8"
      }
    },
    {
      "cell_type": "markdown",
      "metadata": {
        "id": "TxG-6tJwN_UP"
      },
      "source": [
        "- based on [CART](https://tyami.github.io/machine%20learning/decision-tree-4-CART/)\n",
        "  - gini index를 기준으로 불순도 평가\n",
        "  - binary tree 사용\n",
        "  ![image.png](data:image/png;base64,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)"
      ]
    },
    {
      "cell_type": "markdown",
      "metadata": {
        "id": "aaAaa-MhN_UP"
      },
      "source": [
        "# Y: Categorical"
      ]
    },
    {
      "cell_type": "markdown",
      "source": [
        "## Step 1. Preprocessing"
      ],
      "metadata": {
        "id": "bG9oBieBQfHa"
      }
    },
    {
      "cell_type": "markdown",
      "source": [
        ""
      ],
      "metadata": {
        "id": "f3To5yvXs3g8"
      }
    },
    {
      "cell_type": "code",
      "execution_count": null,
      "metadata": {
        "id": "7rKylQ_wN_UQ"
      },
      "outputs": [],
      "source": [
        "# csv파일 불러오기\n",
        "import pandas as pd\n",
        "data = pd.read_csv(\"https://gist.githubusercontent.com/netj/8836201/raw/6f9306ad21398ea43cba4f7d537619d0e07d5ae3/iris.csv\")"
      ]
    },
    {
      "cell_type": "code",
      "execution_count": null,
      "metadata": {
        "scrolled": false,
        "colab": {
          "base_uri": "https://localhost:8080/",
          "height": 423
        },
        "id": "84iP6sOWN_UR",
        "outputId": "14237006-a2c8-441d-9c40-b47b737fcffb"
      },
      "outputs": [
        {
          "output_type": "execute_result",
          "data": {
            "text/plain": [
              "     sepal.length  sepal.width  petal.length  petal.width    variety\n",
              "0             5.1          3.5           1.4          0.2     Setosa\n",
              "1             4.9          3.0           1.4          0.2     Setosa\n",
              "2             4.7          3.2           1.3          0.2     Setosa\n",
              "3             4.6          3.1           1.5          0.2     Setosa\n",
              "4             5.0          3.6           1.4          0.2     Setosa\n",
              "..            ...          ...           ...          ...        ...\n",
              "145           6.7          3.0           5.2          2.3  Virginica\n",
              "146           6.3          2.5           5.0          1.9  Virginica\n",
              "147           6.5          3.0           5.2          2.0  Virginica\n",
              "148           6.2          3.4           5.4          2.3  Virginica\n",
              "149           5.9          3.0           5.1          1.8  Virginica\n",
              "\n",
              "[150 rows x 5 columns]"
            ],
            "text/html": [
              "\n",
              "  <div id=\"df-9b412367-6313-4502-b321-a88224bb03cd\">\n",
              "    <div class=\"colab-df-container\">\n",
              "      <div>\n",
              "<style scoped>\n",
              "    .dataframe tbody tr th:only-of-type {\n",
              "        vertical-align: middle;\n",
              "    }\n",
              "\n",
              "    .dataframe tbody tr th {\n",
              "        vertical-align: top;\n",
              "    }\n",
              "\n",
              "    .dataframe thead th {\n",
              "        text-align: right;\n",
              "    }\n",
              "</style>\n",
              "<table border=\"1\" class=\"dataframe\">\n",
              "  <thead>\n",
              "    <tr style=\"text-align: right;\">\n",
              "      <th></th>\n",
              "      <th>sepal.length</th>\n",
              "      <th>sepal.width</th>\n",
              "      <th>petal.length</th>\n",
              "      <th>petal.width</th>\n",
              "      <th>variety</th>\n",
              "    </tr>\n",
              "  </thead>\n",
              "  <tbody>\n",
              "    <tr>\n",
              "      <th>0</th>\n",
              "      <td>5.1</td>\n",
              "      <td>3.5</td>\n",
              "      <td>1.4</td>\n",
              "      <td>0.2</td>\n",
              "      <td>Setosa</td>\n",
              "    </tr>\n",
              "    <tr>\n",
              "      <th>1</th>\n",
              "      <td>4.9</td>\n",
              "      <td>3.0</td>\n",
              "      <td>1.4</td>\n",
              "      <td>0.2</td>\n",
              "      <td>Setosa</td>\n",
              "    </tr>\n",
              "    <tr>\n",
              "      <th>2</th>\n",
              "      <td>4.7</td>\n",
              "      <td>3.2</td>\n",
              "      <td>1.3</td>\n",
              "      <td>0.2</td>\n",
              "      <td>Setosa</td>\n",
              "    </tr>\n",
              "    <tr>\n",
              "      <th>3</th>\n",
              "      <td>4.6</td>\n",
              "      <td>3.1</td>\n",
              "      <td>1.5</td>\n",
              "      <td>0.2</td>\n",
              "      <td>Setosa</td>\n",
              "    </tr>\n",
              "    <tr>\n",
              "      <th>4</th>\n",
              "      <td>5.0</td>\n",
              "      <td>3.6</td>\n",
              "      <td>1.4</td>\n",
              "      <td>0.2</td>\n",
              "      <td>Setosa</td>\n",
              "    </tr>\n",
              "    <tr>\n",
              "      <th>...</th>\n",
              "      <td>...</td>\n",
              "      <td>...</td>\n",
              "      <td>...</td>\n",
              "      <td>...</td>\n",
              "      <td>...</td>\n",
              "    </tr>\n",
              "    <tr>\n",
              "      <th>145</th>\n",
              "      <td>6.7</td>\n",
              "      <td>3.0</td>\n",
              "      <td>5.2</td>\n",
              "      <td>2.3</td>\n",
              "      <td>Virginica</td>\n",
              "    </tr>\n",
              "    <tr>\n",
              "      <th>146</th>\n",
              "      <td>6.3</td>\n",
              "      <td>2.5</td>\n",
              "      <td>5.0</td>\n",
              "      <td>1.9</td>\n",
              "      <td>Virginica</td>\n",
              "    </tr>\n",
              "    <tr>\n",
              "      <th>147</th>\n",
              "      <td>6.5</td>\n",
              "      <td>3.0</td>\n",
              "      <td>5.2</td>\n",
              "      <td>2.0</td>\n",
              "      <td>Virginica</td>\n",
              "    </tr>\n",
              "    <tr>\n",
              "      <th>148</th>\n",
              "      <td>6.2</td>\n",
              "      <td>3.4</td>\n",
              "      <td>5.4</td>\n",
              "      <td>2.3</td>\n",
              "      <td>Virginica</td>\n",
              "    </tr>\n",
              "    <tr>\n",
              "      <th>149</th>\n",
              "      <td>5.9</td>\n",
              "      <td>3.0</td>\n",
              "      <td>5.1</td>\n",
              "      <td>1.8</td>\n",
              "      <td>Virginica</td>\n",
              "    </tr>\n",
              "  </tbody>\n",
              "</table>\n",
              "<p>150 rows × 5 columns</p>\n",
              "</div>\n",
              "      <button class=\"colab-df-convert\" onclick=\"convertToInteractive('df-9b412367-6313-4502-b321-a88224bb03cd')\"\n",
              "              title=\"Convert this dataframe to an interactive table.\"\n",
              "              style=\"display:none;\">\n",
              "        \n",
              "  <svg xmlns=\"http://www.w3.org/2000/svg\" height=\"24px\"viewBox=\"0 0 24 24\"\n",
              "       width=\"24px\">\n",
              "    <path d=\"M0 0h24v24H0V0z\" fill=\"none\"/>\n",
              "    <path d=\"M18.56 5.44l.94 2.06.94-2.06 2.06-.94-2.06-.94-.94-2.06-.94 2.06-2.06.94zm-11 1L8.5 8.5l.94-2.06 2.06-.94-2.06-.94L8.5 2.5l-.94 2.06-2.06.94zm10 10l.94 2.06.94-2.06 2.06-.94-2.06-.94-.94-2.06-.94 2.06-2.06.94z\"/><path d=\"M17.41 7.96l-1.37-1.37c-.4-.4-.92-.59-1.43-.59-.52 0-1.04.2-1.43.59L10.3 9.45l-7.72 7.72c-.78.78-.78 2.05 0 2.83L4 21.41c.39.39.9.59 1.41.59.51 0 1.02-.2 1.41-.59l7.78-7.78 2.81-2.81c.8-.78.8-2.07 0-2.86zM5.41 20L4 18.59l7.72-7.72 1.47 1.35L5.41 20z\"/>\n",
              "  </svg>\n",
              "      </button>\n",
              "      \n",
              "  <style>\n",
              "    .colab-df-container {\n",
              "      display:flex;\n",
              "      flex-wrap:wrap;\n",
              "      gap: 12px;\n",
              "    }\n",
              "\n",
              "    .colab-df-convert {\n",
              "      background-color: #E8F0FE;\n",
              "      border: none;\n",
              "      border-radius: 50%;\n",
              "      cursor: pointer;\n",
              "      display: none;\n",
              "      fill: #1967D2;\n",
              "      height: 32px;\n",
              "      padding: 0 0 0 0;\n",
              "      width: 32px;\n",
              "    }\n",
              "\n",
              "    .colab-df-convert:hover {\n",
              "      background-color: #E2EBFA;\n",
              "      box-shadow: 0px 1px 2px rgba(60, 64, 67, 0.3), 0px 1px 3px 1px rgba(60, 64, 67, 0.15);\n",
              "      fill: #174EA6;\n",
              "    }\n",
              "\n",
              "    [theme=dark] .colab-df-convert {\n",
              "      background-color: #3B4455;\n",
              "      fill: #D2E3FC;\n",
              "    }\n",
              "\n",
              "    [theme=dark] .colab-df-convert:hover {\n",
              "      background-color: #434B5C;\n",
              "      box-shadow: 0px 1px 3px 1px rgba(0, 0, 0, 0.15);\n",
              "      filter: drop-shadow(0px 1px 2px rgba(0, 0, 0, 0.3));\n",
              "      fill: #FFFFFF;\n",
              "    }\n",
              "  </style>\n",
              "\n",
              "      <script>\n",
              "        const buttonEl =\n",
              "          document.querySelector('#df-9b412367-6313-4502-b321-a88224bb03cd button.colab-df-convert');\n",
              "        buttonEl.style.display =\n",
              "          google.colab.kernel.accessAllowed ? 'block' : 'none';\n",
              "\n",
              "        async function convertToInteractive(key) {\n",
              "          const element = document.querySelector('#df-9b412367-6313-4502-b321-a88224bb03cd');\n",
              "          const dataTable =\n",
              "            await google.colab.kernel.invokeFunction('convertToInteractive',\n",
              "                                                     [key], {});\n",
              "          if (!dataTable) return;\n",
              "\n",
              "          const docLinkHtml = 'Like what you see? Visit the ' +\n",
              "            '<a target=\"_blank\" href=https://colab.research.google.com/notebooks/data_table.ipynb>data table notebook</a>'\n",
              "            + ' to learn more about interactive tables.';\n",
              "          element.innerHTML = '';\n",
              "          dataTable['output_type'] = 'display_data';\n",
              "          await google.colab.output.renderOutput(dataTable, element);\n",
              "          const docLink = document.createElement('div');\n",
              "          docLink.innerHTML = docLinkHtml;\n",
              "          element.appendChild(docLink);\n",
              "        }\n",
              "      </script>\n",
              "    </div>\n",
              "  </div>\n",
              "  "
            ]
          },
          "metadata": {},
          "execution_count": 2
        }
      ],
      "source": [
        "data # 0: DEAD, 1: Survive"
      ]
    },
    {
      "cell_type": "code",
      "execution_count": null,
      "metadata": {
        "scrolled": true,
        "colab": {
          "base_uri": "https://localhost:8080/",
          "height": 423
        },
        "id": "RRL1oHMeN_UR",
        "outputId": "69503610-ef10-49f5-89fe-d0dd63f156c7"
      },
      "outputs": [
        {
          "output_type": "execute_result",
          "data": {
            "text/plain": [
              "     sepal.length  sepal.width  petal.length  petal.width  variety\n",
              "0             5.1          3.5           1.4          0.2        1\n",
              "1             4.9          3.0           1.4          0.2        1\n",
              "2             4.7          3.2           1.3          0.2        1\n",
              "3             4.6          3.1           1.5          0.2        1\n",
              "4             5.0          3.6           1.4          0.2        1\n",
              "..            ...          ...           ...          ...      ...\n",
              "145           6.7          3.0           5.2          2.3        3\n",
              "146           6.3          2.5           5.0          1.9        3\n",
              "147           6.5          3.0           5.2          2.0        3\n",
              "148           6.2          3.4           5.4          2.3        3\n",
              "149           5.9          3.0           5.1          1.8        3\n",
              "\n",
              "[150 rows x 5 columns]"
            ],
            "text/html": [
              "\n",
              "  <div id=\"df-dc6c7202-e592-4530-aab0-dc773223dea1\">\n",
              "    <div class=\"colab-df-container\">\n",
              "      <div>\n",
              "<style scoped>\n",
              "    .dataframe tbody tr th:only-of-type {\n",
              "        vertical-align: middle;\n",
              "    }\n",
              "\n",
              "    .dataframe tbody tr th {\n",
              "        vertical-align: top;\n",
              "    }\n",
              "\n",
              "    .dataframe thead th {\n",
              "        text-align: right;\n",
              "    }\n",
              "</style>\n",
              "<table border=\"1\" class=\"dataframe\">\n",
              "  <thead>\n",
              "    <tr style=\"text-align: right;\">\n",
              "      <th></th>\n",
              "      <th>sepal.length</th>\n",
              "      <th>sepal.width</th>\n",
              "      <th>petal.length</th>\n",
              "      <th>petal.width</th>\n",
              "      <th>variety</th>\n",
              "    </tr>\n",
              "  </thead>\n",
              "  <tbody>\n",
              "    <tr>\n",
              "      <th>0</th>\n",
              "      <td>5.1</td>\n",
              "      <td>3.5</td>\n",
              "      <td>1.4</td>\n",
              "      <td>0.2</td>\n",
              "      <td>1</td>\n",
              "    </tr>\n",
              "    <tr>\n",
              "      <th>1</th>\n",
              "      <td>4.9</td>\n",
              "      <td>3.0</td>\n",
              "      <td>1.4</td>\n",
              "      <td>0.2</td>\n",
              "      <td>1</td>\n",
              "    </tr>\n",
              "    <tr>\n",
              "      <th>2</th>\n",
              "      <td>4.7</td>\n",
              "      <td>3.2</td>\n",
              "      <td>1.3</td>\n",
              "      <td>0.2</td>\n",
              "      <td>1</td>\n",
              "    </tr>\n",
              "    <tr>\n",
              "      <th>3</th>\n",
              "      <td>4.6</td>\n",
              "      <td>3.1</td>\n",
              "      <td>1.5</td>\n",
              "      <td>0.2</td>\n",
              "      <td>1</td>\n",
              "    </tr>\n",
              "    <tr>\n",
              "      <th>4</th>\n",
              "      <td>5.0</td>\n",
              "      <td>3.6</td>\n",
              "      <td>1.4</td>\n",
              "      <td>0.2</td>\n",
              "      <td>1</td>\n",
              "    </tr>\n",
              "    <tr>\n",
              "      <th>...</th>\n",
              "      <td>...</td>\n",
              "      <td>...</td>\n",
              "      <td>...</td>\n",
              "      <td>...</td>\n",
              "      <td>...</td>\n",
              "    </tr>\n",
              "    <tr>\n",
              "      <th>145</th>\n",
              "      <td>6.7</td>\n",
              "      <td>3.0</td>\n",
              "      <td>5.2</td>\n",
              "      <td>2.3</td>\n",
              "      <td>3</td>\n",
              "    </tr>\n",
              "    <tr>\n",
              "      <th>146</th>\n",
              "      <td>6.3</td>\n",
              "      <td>2.5</td>\n",
              "      <td>5.0</td>\n",
              "      <td>1.9</td>\n",
              "      <td>3</td>\n",
              "    </tr>\n",
              "    <tr>\n",
              "      <th>147</th>\n",
              "      <td>6.5</td>\n",
              "      <td>3.0</td>\n",
              "      <td>5.2</td>\n",
              "      <td>2.0</td>\n",
              "      <td>3</td>\n",
              "    </tr>\n",
              "    <tr>\n",
              "      <th>148</th>\n",
              "      <td>6.2</td>\n",
              "      <td>3.4</td>\n",
              "      <td>5.4</td>\n",
              "      <td>2.3</td>\n",
              "      <td>3</td>\n",
              "    </tr>\n",
              "    <tr>\n",
              "      <th>149</th>\n",
              "      <td>5.9</td>\n",
              "      <td>3.0</td>\n",
              "      <td>5.1</td>\n",
              "      <td>1.8</td>\n",
              "      <td>3</td>\n",
              "    </tr>\n",
              "  </tbody>\n",
              "</table>\n",
              "<p>150 rows × 5 columns</p>\n",
              "</div>\n",
              "      <button class=\"colab-df-convert\" onclick=\"convertToInteractive('df-dc6c7202-e592-4530-aab0-dc773223dea1')\"\n",
              "              title=\"Convert this dataframe to an interactive table.\"\n",
              "              style=\"display:none;\">\n",
              "        \n",
              "  <svg xmlns=\"http://www.w3.org/2000/svg\" height=\"24px\"viewBox=\"0 0 24 24\"\n",
              "       width=\"24px\">\n",
              "    <path d=\"M0 0h24v24H0V0z\" fill=\"none\"/>\n",
              "    <path d=\"M18.56 5.44l.94 2.06.94-2.06 2.06-.94-2.06-.94-.94-2.06-.94 2.06-2.06.94zm-11 1L8.5 8.5l.94-2.06 2.06-.94-2.06-.94L8.5 2.5l-.94 2.06-2.06.94zm10 10l.94 2.06.94-2.06 2.06-.94-2.06-.94-.94-2.06-.94 2.06-2.06.94z\"/><path d=\"M17.41 7.96l-1.37-1.37c-.4-.4-.92-.59-1.43-.59-.52 0-1.04.2-1.43.59L10.3 9.45l-7.72 7.72c-.78.78-.78 2.05 0 2.83L4 21.41c.39.39.9.59 1.41.59.51 0 1.02-.2 1.41-.59l7.78-7.78 2.81-2.81c.8-.78.8-2.07 0-2.86zM5.41 20L4 18.59l7.72-7.72 1.47 1.35L5.41 20z\"/>\n",
              "  </svg>\n",
              "      </button>\n",
              "      \n",
              "  <style>\n",
              "    .colab-df-container {\n",
              "      display:flex;\n",
              "      flex-wrap:wrap;\n",
              "      gap: 12px;\n",
              "    }\n",
              "\n",
              "    .colab-df-convert {\n",
              "      background-color: #E8F0FE;\n",
              "      border: none;\n",
              "      border-radius: 50%;\n",
              "      cursor: pointer;\n",
              "      display: none;\n",
              "      fill: #1967D2;\n",
              "      height: 32px;\n",
              "      padding: 0 0 0 0;\n",
              "      width: 32px;\n",
              "    }\n",
              "\n",
              "    .colab-df-convert:hover {\n",
              "      background-color: #E2EBFA;\n",
              "      box-shadow: 0px 1px 2px rgba(60, 64, 67, 0.3), 0px 1px 3px 1px rgba(60, 64, 67, 0.15);\n",
              "      fill: #174EA6;\n",
              "    }\n",
              "\n",
              "    [theme=dark] .colab-df-convert {\n",
              "      background-color: #3B4455;\n",
              "      fill: #D2E3FC;\n",
              "    }\n",
              "\n",
              "    [theme=dark] .colab-df-convert:hover {\n",
              "      background-color: #434B5C;\n",
              "      box-shadow: 0px 1px 3px 1px rgba(0, 0, 0, 0.15);\n",
              "      filter: drop-shadow(0px 1px 2px rgba(0, 0, 0, 0.3));\n",
              "      fill: #FFFFFF;\n",
              "    }\n",
              "  </style>\n",
              "\n",
              "      <script>\n",
              "        const buttonEl =\n",
              "          document.querySelector('#df-dc6c7202-e592-4530-aab0-dc773223dea1 button.colab-df-convert');\n",
              "        buttonEl.style.display =\n",
              "          google.colab.kernel.accessAllowed ? 'block' : 'none';\n",
              "\n",
              "        async function convertToInteractive(key) {\n",
              "          const element = document.querySelector('#df-dc6c7202-e592-4530-aab0-dc773223dea1');\n",
              "          const dataTable =\n",
              "            await google.colab.kernel.invokeFunction('convertToInteractive',\n",
              "                                                     [key], {});\n",
              "          if (!dataTable) return;\n",
              "\n",
              "          const docLinkHtml = 'Like what you see? Visit the ' +\n",
              "            '<a target=\"_blank\" href=https://colab.research.google.com/notebooks/data_table.ipynb>data table notebook</a>'\n",
              "            + ' to learn more about interactive tables.';\n",
              "          element.innerHTML = '';\n",
              "          dataTable['output_type'] = 'display_data';\n",
              "          await google.colab.output.renderOutput(dataTable, element);\n",
              "          const docLink = document.createElement('div');\n",
              "          docLink.innerHTML = docLinkHtml;\n",
              "          element.appendChild(docLink);\n",
              "        }\n",
              "      </script>\n",
              "    </div>\n",
              "  </div>\n",
              "  "
            ]
          },
          "metadata": {},
          "execution_count": 3
        }
      ],
      "source": [
        "data['variety'] = data['variety'].map({'Setosa': int(1),\n",
        "                             'Versicolor': int(2),\n",
        "                             'Virginica':int(3),\n",
        "                             },\n",
        "                             )\n",
        "data\n",
        "# Setosa : 1 \n",
        "# Versicolor : 2\n",
        "# Virginica : 3 \n"
      ]
    },
    {
      "cell_type": "code",
      "execution_count": null,
      "metadata": {
        "scrolled": false,
        "colab": {
          "base_uri": "https://localhost:8080/"
        },
        "id": "nztRWZEqN_US",
        "outputId": "2cdbffd5-c6b5-4479-dfda-a63cb5141411"
      },
      "outputs": [
        {
          "output_type": "execute_result",
          "data": {
            "text/plain": [
              "1    50\n",
              "2    50\n",
              "3    50\n",
              "Name: variety, dtype: int64"
            ]
          },
          "metadata": {},
          "execution_count": 4
        }
      ],
      "source": [
        "import pandas as pd\n",
        "data['variety'].value_counts() # Y열의 데이터 개수 확인\n",
        "# Setosa : 1 \n",
        "# Versicolor : 2\n",
        "# Virginica : 3"
      ]
    },
    {
      "cell_type": "code",
      "execution_count": null,
      "metadata": {
        "id": "Q2pxBfbaN_UT"
      },
      "outputs": [],
      "source": [
        ""
      ]
    },
    {
      "cell_type": "code",
      "execution_count": null,
      "metadata": {
        "scrolled": true,
        "id": "ikZxyqSAN_UT"
      },
      "outputs": [],
      "source": [
        ""
      ]
    },
    {
      "cell_type": "code",
      "execution_count": null,
      "metadata": {
        "id": "UWcgkHJvN_UU",
        "colab": {
          "base_uri": "https://localhost:8080/",
          "height": 423
        },
        "outputId": "6cb68913-17a6-47f1-ff7a-5ea8de1ab93c"
      },
      "outputs": [
        {
          "output_type": "execute_result",
          "data": {
            "text/plain": [
              "     sepal.length  sepal.width  petal.length  petal.width\n",
              "0             5.1          3.5           1.4          0.2\n",
              "1             4.9          3.0           1.4          0.2\n",
              "2             4.7          3.2           1.3          0.2\n",
              "3             4.6          3.1           1.5          0.2\n",
              "4             5.0          3.6           1.4          0.2\n",
              "..            ...          ...           ...          ...\n",
              "145           6.7          3.0           5.2          2.3\n",
              "146           6.3          2.5           5.0          1.9\n",
              "147           6.5          3.0           5.2          2.0\n",
              "148           6.2          3.4           5.4          2.3\n",
              "149           5.9          3.0           5.1          1.8\n",
              "\n",
              "[150 rows x 4 columns]"
            ],
            "text/html": [
              "\n",
              "  <div id=\"df-ba50fbd2-2203-4ebf-a809-629087dd8dd4\">\n",
              "    <div class=\"colab-df-container\">\n",
              "      <div>\n",
              "<style scoped>\n",
              "    .dataframe tbody tr th:only-of-type {\n",
              "        vertical-align: middle;\n",
              "    }\n",
              "\n",
              "    .dataframe tbody tr th {\n",
              "        vertical-align: top;\n",
              "    }\n",
              "\n",
              "    .dataframe thead th {\n",
              "        text-align: right;\n",
              "    }\n",
              "</style>\n",
              "<table border=\"1\" class=\"dataframe\">\n",
              "  <thead>\n",
              "    <tr style=\"text-align: right;\">\n",
              "      <th></th>\n",
              "      <th>sepal.length</th>\n",
              "      <th>sepal.width</th>\n",
              "      <th>petal.length</th>\n",
              "      <th>petal.width</th>\n",
              "    </tr>\n",
              "  </thead>\n",
              "  <tbody>\n",
              "    <tr>\n",
              "      <th>0</th>\n",
              "      <td>5.1</td>\n",
              "      <td>3.5</td>\n",
              "      <td>1.4</td>\n",
              "      <td>0.2</td>\n",
              "    </tr>\n",
              "    <tr>\n",
              "      <th>1</th>\n",
              "      <td>4.9</td>\n",
              "      <td>3.0</td>\n",
              "      <td>1.4</td>\n",
              "      <td>0.2</td>\n",
              "    </tr>\n",
              "    <tr>\n",
              "      <th>2</th>\n",
              "      <td>4.7</td>\n",
              "      <td>3.2</td>\n",
              "      <td>1.3</td>\n",
              "      <td>0.2</td>\n",
              "    </tr>\n",
              "    <tr>\n",
              "      <th>3</th>\n",
              "      <td>4.6</td>\n",
              "      <td>3.1</td>\n",
              "      <td>1.5</td>\n",
              "      <td>0.2</td>\n",
              "    </tr>\n",
              "    <tr>\n",
              "      <th>4</th>\n",
              "      <td>5.0</td>\n",
              "      <td>3.6</td>\n",
              "      <td>1.4</td>\n",
              "      <td>0.2</td>\n",
              "    </tr>\n",
              "    <tr>\n",
              "      <th>...</th>\n",
              "      <td>...</td>\n",
              "      <td>...</td>\n",
              "      <td>...</td>\n",
              "      <td>...</td>\n",
              "    </tr>\n",
              "    <tr>\n",
              "      <th>145</th>\n",
              "      <td>6.7</td>\n",
              "      <td>3.0</td>\n",
              "      <td>5.2</td>\n",
              "      <td>2.3</td>\n",
              "    </tr>\n",
              "    <tr>\n",
              "      <th>146</th>\n",
              "      <td>6.3</td>\n",
              "      <td>2.5</td>\n",
              "      <td>5.0</td>\n",
              "      <td>1.9</td>\n",
              "    </tr>\n",
              "    <tr>\n",
              "      <th>147</th>\n",
              "      <td>6.5</td>\n",
              "      <td>3.0</td>\n",
              "      <td>5.2</td>\n",
              "      <td>2.0</td>\n",
              "    </tr>\n",
              "    <tr>\n",
              "      <th>148</th>\n",
              "      <td>6.2</td>\n",
              "      <td>3.4</td>\n",
              "      <td>5.4</td>\n",
              "      <td>2.3</td>\n",
              "    </tr>\n",
              "    <tr>\n",
              "      <th>149</th>\n",
              "      <td>5.9</td>\n",
              "      <td>3.0</td>\n",
              "      <td>5.1</td>\n",
              "      <td>1.8</td>\n",
              "    </tr>\n",
              "  </tbody>\n",
              "</table>\n",
              "<p>150 rows × 4 columns</p>\n",
              "</div>\n",
              "      <button class=\"colab-df-convert\" onclick=\"convertToInteractive('df-ba50fbd2-2203-4ebf-a809-629087dd8dd4')\"\n",
              "              title=\"Convert this dataframe to an interactive table.\"\n",
              "              style=\"display:none;\">\n",
              "        \n",
              "  <svg xmlns=\"http://www.w3.org/2000/svg\" height=\"24px\"viewBox=\"0 0 24 24\"\n",
              "       width=\"24px\">\n",
              "    <path d=\"M0 0h24v24H0V0z\" fill=\"none\"/>\n",
              "    <path d=\"M18.56 5.44l.94 2.06.94-2.06 2.06-.94-2.06-.94-.94-2.06-.94 2.06-2.06.94zm-11 1L8.5 8.5l.94-2.06 2.06-.94-2.06-.94L8.5 2.5l-.94 2.06-2.06.94zm10 10l.94 2.06.94-2.06 2.06-.94-2.06-.94-.94-2.06-.94 2.06-2.06.94z\"/><path d=\"M17.41 7.96l-1.37-1.37c-.4-.4-.92-.59-1.43-.59-.52 0-1.04.2-1.43.59L10.3 9.45l-7.72 7.72c-.78.78-.78 2.05 0 2.83L4 21.41c.39.39.9.59 1.41.59.51 0 1.02-.2 1.41-.59l7.78-7.78 2.81-2.81c.8-.78.8-2.07 0-2.86zM5.41 20L4 18.59l7.72-7.72 1.47 1.35L5.41 20z\"/>\n",
              "  </svg>\n",
              "      </button>\n",
              "      \n",
              "  <style>\n",
              "    .colab-df-container {\n",
              "      display:flex;\n",
              "      flex-wrap:wrap;\n",
              "      gap: 12px;\n",
              "    }\n",
              "\n",
              "    .colab-df-convert {\n",
              "      background-color: #E8F0FE;\n",
              "      border: none;\n",
              "      border-radius: 50%;\n",
              "      cursor: pointer;\n",
              "      display: none;\n",
              "      fill: #1967D2;\n",
              "      height: 32px;\n",
              "      padding: 0 0 0 0;\n",
              "      width: 32px;\n",
              "    }\n",
              "\n",
              "    .colab-df-convert:hover {\n",
              "      background-color: #E2EBFA;\n",
              "      box-shadow: 0px 1px 2px rgba(60, 64, 67, 0.3), 0px 1px 3px 1px rgba(60, 64, 67, 0.15);\n",
              "      fill: #174EA6;\n",
              "    }\n",
              "\n",
              "    [theme=dark] .colab-df-convert {\n",
              "      background-color: #3B4455;\n",
              "      fill: #D2E3FC;\n",
              "    }\n",
              "\n",
              "    [theme=dark] .colab-df-convert:hover {\n",
              "      background-color: #434B5C;\n",
              "      box-shadow: 0px 1px 3px 1px rgba(0, 0, 0, 0.15);\n",
              "      filter: drop-shadow(0px 1px 2px rgba(0, 0, 0, 0.3));\n",
              "      fill: #FFFFFF;\n",
              "    }\n",
              "  </style>\n",
              "\n",
              "      <script>\n",
              "        const buttonEl =\n",
              "          document.querySelector('#df-ba50fbd2-2203-4ebf-a809-629087dd8dd4 button.colab-df-convert');\n",
              "        buttonEl.style.display =\n",
              "          google.colab.kernel.accessAllowed ? 'block' : 'none';\n",
              "\n",
              "        async function convertToInteractive(key) {\n",
              "          const element = document.querySelector('#df-ba50fbd2-2203-4ebf-a809-629087dd8dd4');\n",
              "          const dataTable =\n",
              "            await google.colab.kernel.invokeFunction('convertToInteractive',\n",
              "                                                     [key], {});\n",
              "          if (!dataTable) return;\n",
              "\n",
              "          const docLinkHtml = 'Like what you see? Visit the ' +\n",
              "            '<a target=\"_blank\" href=https://colab.research.google.com/notebooks/data_table.ipynb>data table notebook</a>'\n",
              "            + ' to learn more about interactive tables.';\n",
              "          element.innerHTML = '';\n",
              "          dataTable['output_type'] = 'display_data';\n",
              "          await google.colab.output.renderOutput(dataTable, element);\n",
              "          const docLink = document.createElement('div');\n",
              "          docLink.innerHTML = docLinkHtml;\n",
              "          element.appendChild(docLink);\n",
              "        }\n",
              "      </script>\n",
              "    </div>\n",
              "  </div>\n",
              "  "
            ]
          },
          "metadata": {},
          "execution_count": 5
        }
      ],
      "source": [
        "# Features와 target 나누기\n",
        "t_features = data[data.columns[:-1]]\n",
        "t_target = data[data.columns[-1]]\n",
        "t_features"
      ]
    },
    {
      "cell_type": "code",
      "execution_count": null,
      "metadata": {
        "id": "Z2mTu7pmN_UU"
      },
      "outputs": [],
      "source": [
        "# # One-hot Encoding (decision tree는 비모수적 방법이므로, dummy변수를 하나 제거하는게 아니다! 살린다.)\n",
        "# t_features = pd.get_dummies(data = t_features, columns = ['Pclass'], prefix = 'Pclass')"
      ]
    },
    {
      "cell_type": "code",
      "execution_count": null,
      "metadata": {
        "scrolled": true,
        "colab": {
          "base_uri": "https://localhost:8080/",
          "height": 423
        },
        "id": "PhyuIj6UN_UV",
        "outputId": "bdeee55a-a29b-4969-f8b7-815cf92e27a8"
      },
      "outputs": [
        {
          "output_type": "execute_result",
          "data": {
            "text/plain": [
              "     sepal.length  sepal.width  petal.length  petal.width\n",
              "0             5.1          3.5           1.4          0.2\n",
              "1             4.9          3.0           1.4          0.2\n",
              "2             4.7          3.2           1.3          0.2\n",
              "3             4.6          3.1           1.5          0.2\n",
              "4             5.0          3.6           1.4          0.2\n",
              "..            ...          ...           ...          ...\n",
              "145           6.7          3.0           5.2          2.3\n",
              "146           6.3          2.5           5.0          1.9\n",
              "147           6.5          3.0           5.2          2.0\n",
              "148           6.2          3.4           5.4          2.3\n",
              "149           5.9          3.0           5.1          1.8\n",
              "\n",
              "[150 rows x 4 columns]"
            ],
            "text/html": [
              "\n",
              "  <div id=\"df-a3612213-9250-433d-927f-a99742a1010e\">\n",
              "    <div class=\"colab-df-container\">\n",
              "      <div>\n",
              "<style scoped>\n",
              "    .dataframe tbody tr th:only-of-type {\n",
              "        vertical-align: middle;\n",
              "    }\n",
              "\n",
              "    .dataframe tbody tr th {\n",
              "        vertical-align: top;\n",
              "    }\n",
              "\n",
              "    .dataframe thead th {\n",
              "        text-align: right;\n",
              "    }\n",
              "</style>\n",
              "<table border=\"1\" class=\"dataframe\">\n",
              "  <thead>\n",
              "    <tr style=\"text-align: right;\">\n",
              "      <th></th>\n",
              "      <th>sepal.length</th>\n",
              "      <th>sepal.width</th>\n",
              "      <th>petal.length</th>\n",
              "      <th>petal.width</th>\n",
              "    </tr>\n",
              "  </thead>\n",
              "  <tbody>\n",
              "    <tr>\n",
              "      <th>0</th>\n",
              "      <td>5.1</td>\n",
              "      <td>3.5</td>\n",
              "      <td>1.4</td>\n",
              "      <td>0.2</td>\n",
              "    </tr>\n",
              "    <tr>\n",
              "      <th>1</th>\n",
              "      <td>4.9</td>\n",
              "      <td>3.0</td>\n",
              "      <td>1.4</td>\n",
              "      <td>0.2</td>\n",
              "    </tr>\n",
              "    <tr>\n",
              "      <th>2</th>\n",
              "      <td>4.7</td>\n",
              "      <td>3.2</td>\n",
              "      <td>1.3</td>\n",
              "      <td>0.2</td>\n",
              "    </tr>\n",
              "    <tr>\n",
              "      <th>3</th>\n",
              "      <td>4.6</td>\n",
              "      <td>3.1</td>\n",
              "      <td>1.5</td>\n",
              "      <td>0.2</td>\n",
              "    </tr>\n",
              "    <tr>\n",
              "      <th>4</th>\n",
              "      <td>5.0</td>\n",
              "      <td>3.6</td>\n",
              "      <td>1.4</td>\n",
              "      <td>0.2</td>\n",
              "    </tr>\n",
              "    <tr>\n",
              "      <th>...</th>\n",
              "      <td>...</td>\n",
              "      <td>...</td>\n",
              "      <td>...</td>\n",
              "      <td>...</td>\n",
              "    </tr>\n",
              "    <tr>\n",
              "      <th>145</th>\n",
              "      <td>6.7</td>\n",
              "      <td>3.0</td>\n",
              "      <td>5.2</td>\n",
              "      <td>2.3</td>\n",
              "    </tr>\n",
              "    <tr>\n",
              "      <th>146</th>\n",
              "      <td>6.3</td>\n",
              "      <td>2.5</td>\n",
              "      <td>5.0</td>\n",
              "      <td>1.9</td>\n",
              "    </tr>\n",
              "    <tr>\n",
              "      <th>147</th>\n",
              "      <td>6.5</td>\n",
              "      <td>3.0</td>\n",
              "      <td>5.2</td>\n",
              "      <td>2.0</td>\n",
              "    </tr>\n",
              "    <tr>\n",
              "      <th>148</th>\n",
              "      <td>6.2</td>\n",
              "      <td>3.4</td>\n",
              "      <td>5.4</td>\n",
              "      <td>2.3</td>\n",
              "    </tr>\n",
              "    <tr>\n",
              "      <th>149</th>\n",
              "      <td>5.9</td>\n",
              "      <td>3.0</td>\n",
              "      <td>5.1</td>\n",
              "      <td>1.8</td>\n",
              "    </tr>\n",
              "  </tbody>\n",
              "</table>\n",
              "<p>150 rows × 4 columns</p>\n",
              "</div>\n",
              "      <button class=\"colab-df-convert\" onclick=\"convertToInteractive('df-a3612213-9250-433d-927f-a99742a1010e')\"\n",
              "              title=\"Convert this dataframe to an interactive table.\"\n",
              "              style=\"display:none;\">\n",
              "        \n",
              "  <svg xmlns=\"http://www.w3.org/2000/svg\" height=\"24px\"viewBox=\"0 0 24 24\"\n",
              "       width=\"24px\">\n",
              "    <path d=\"M0 0h24v24H0V0z\" fill=\"none\"/>\n",
              "    <path d=\"M18.56 5.44l.94 2.06.94-2.06 2.06-.94-2.06-.94-.94-2.06-.94 2.06-2.06.94zm-11 1L8.5 8.5l.94-2.06 2.06-.94-2.06-.94L8.5 2.5l-.94 2.06-2.06.94zm10 10l.94 2.06.94-2.06 2.06-.94-2.06-.94-.94-2.06-.94 2.06-2.06.94z\"/><path d=\"M17.41 7.96l-1.37-1.37c-.4-.4-.92-.59-1.43-.59-.52 0-1.04.2-1.43.59L10.3 9.45l-7.72 7.72c-.78.78-.78 2.05 0 2.83L4 21.41c.39.39.9.59 1.41.59.51 0 1.02-.2 1.41-.59l7.78-7.78 2.81-2.81c.8-.78.8-2.07 0-2.86zM5.41 20L4 18.59l7.72-7.72 1.47 1.35L5.41 20z\"/>\n",
              "  </svg>\n",
              "      </button>\n",
              "      \n",
              "  <style>\n",
              "    .colab-df-container {\n",
              "      display:flex;\n",
              "      flex-wrap:wrap;\n",
              "      gap: 12px;\n",
              "    }\n",
              "\n",
              "    .colab-df-convert {\n",
              "      background-color: #E8F0FE;\n",
              "      border: none;\n",
              "      border-radius: 50%;\n",
              "      cursor: pointer;\n",
              "      display: none;\n",
              "      fill: #1967D2;\n",
              "      height: 32px;\n",
              "      padding: 0 0 0 0;\n",
              "      width: 32px;\n",
              "    }\n",
              "\n",
              "    .colab-df-convert:hover {\n",
              "      background-color: #E2EBFA;\n",
              "      box-shadow: 0px 1px 2px rgba(60, 64, 67, 0.3), 0px 1px 3px 1px rgba(60, 64, 67, 0.15);\n",
              "      fill: #174EA6;\n",
              "    }\n",
              "\n",
              "    [theme=dark] .colab-df-convert {\n",
              "      background-color: #3B4455;\n",
              "      fill: #D2E3FC;\n",
              "    }\n",
              "\n",
              "    [theme=dark] .colab-df-convert:hover {\n",
              "      background-color: #434B5C;\n",
              "      box-shadow: 0px 1px 3px 1px rgba(0, 0, 0, 0.15);\n",
              "      filter: drop-shadow(0px 1px 2px rgba(0, 0, 0, 0.3));\n",
              "      fill: #FFFFFF;\n",
              "    }\n",
              "  </style>\n",
              "\n",
              "      <script>\n",
              "        const buttonEl =\n",
              "          document.querySelector('#df-a3612213-9250-433d-927f-a99742a1010e button.colab-df-convert');\n",
              "        buttonEl.style.display =\n",
              "          google.colab.kernel.accessAllowed ? 'block' : 'none';\n",
              "\n",
              "        async function convertToInteractive(key) {\n",
              "          const element = document.querySelector('#df-a3612213-9250-433d-927f-a99742a1010e');\n",
              "          const dataTable =\n",
              "            await google.colab.kernel.invokeFunction('convertToInteractive',\n",
              "                                                     [key], {});\n",
              "          if (!dataTable) return;\n",
              "\n",
              "          const docLinkHtml = 'Like what you see? Visit the ' +\n",
              "            '<a target=\"_blank\" href=https://colab.research.google.com/notebooks/data_table.ipynb>data table notebook</a>'\n",
              "            + ' to learn more about interactive tables.';\n",
              "          element.innerHTML = '';\n",
              "          dataTable['output_type'] = 'display_data';\n",
              "          await google.colab.output.renderOutput(dataTable, element);\n",
              "          const docLink = document.createElement('div');\n",
              "          docLink.innerHTML = docLinkHtml;\n",
              "          element.appendChild(docLink);\n",
              "        }\n",
              "      </script>\n",
              "    </div>\n",
              "  </div>\n",
              "  "
            ]
          },
          "metadata": {},
          "execution_count": 7
        }
      ],
      "source": [
        "t_features"
      ]
    },
    {
      "cell_type": "code",
      "execution_count": null,
      "metadata": {
        "id": "wuBKYOOON_UV"
      },
      "outputs": [],
      "source": [
        "# train: test = 8:2 분리\n",
        "from sklearn.model_selection import train_test_split\n",
        "train_features, test_features , train_target, test_target = train_test_split(\n",
        "    t_features, t_target, test_size = 0.2, random_state = 2021, stratify=t_target)"
      ]
    },
    {
      "cell_type": "code",
      "execution_count": null,
      "metadata": {
        "scrolled": true,
        "colab": {
          "base_uri": "https://localhost:8080/"
        },
        "id": "2RJ5eueDN_UW",
        "outputId": "0a53f4e3-bd49-43e0-ed86-70fd5ea0c590"
      },
      "outputs": [
        {
          "output_type": "stream",
          "name": "stdout",
          "text": [
            "120\n",
            "120\n",
            "30\n",
            "30\n"
          ]
        }
      ],
      "source": [
        "print(len(train_features))\n",
        "print(len(train_target))\n",
        "\n",
        "print(len(test_features))\n",
        "print(len(test_target))"
      ]
    },
    {
      "cell_type": "code",
      "execution_count": null,
      "metadata": {
        "colab": {
          "base_uri": "https://localhost:8080/"
        },
        "id": "ltTATDAUN_UW",
        "outputId": "e7d9d56a-5b5e-4362-d1bc-721ce6bd3cc1"
      },
      "outputs": [
        {
          "output_type": "execute_result",
          "data": {
            "text/plain": [
              "1    40\n",
              "3    40\n",
              "2    40\n",
              "Name: variety, dtype: int64"
            ]
          },
          "metadata": {},
          "execution_count": 10
        }
      ],
      "source": [
        "import pandas as pd\n",
        "pd.DataFrame(train_target)['variety'].value_counts() # Y열의 데이터 개수 확인\n",
        "# Setosa : 1 \n",
        "# Versicolor : 2\n",
        "# Virginica : 3 "
      ]
    },
    {
      "cell_type": "markdown",
      "source": [
        "- class 불균형이 심한 경우 샘플링 진행"
      ],
      "metadata": {
        "id": "yugrZXfbTV2c"
      }
    },
    {
      "cell_type": "code",
      "execution_count": null,
      "metadata": {
        "id": "L0B6aexXN_UW"
      },
      "outputs": [],
      "source": [
        "# class 1,2,3 모두 40개로 갯수가 동일하므로 Under Sampling과정이 필요없음 \n",
        "## sampling하기 전에 shuffling을 해주기(행 순서 섞기)\n",
        "import sklearn\n",
        "x_shuffled = sklearn.utils.shuffle(train_features, random_state=312)\n",
        "y_shuffled = sklearn.utils.shuffle(train_target, random_state=312)\n",
        "\n",
        "# import imblearn\n",
        "# from imblearn.under_sampling import RandomUnderSampler\n",
        "# train_features_us, train_target_us = RandomUnderSampler(random_state=312).fit_resample(x_shuffled, y_shuffled)"
      ]
    },
    {
      "cell_type": "code",
      "execution_count": null,
      "metadata": {
        "scrolled": true,
        "colab": {
          "base_uri": "https://localhost:8080/"
        },
        "id": "ftmn0d_0N_UX",
        "outputId": "998b27bd-c786-452c-b713-c6d283879a4e"
      },
      "outputs": [
        {
          "output_type": "execute_result",
          "data": {
            "text/plain": [
              "1    40\n",
              "2    40\n",
              "3    40\n",
              "Name: variety, dtype: int64"
            ]
          },
          "metadata": {},
          "execution_count": 15
        }
      ],
      "source": [
        "import pandas as pd\n",
        "pd.DataFrame(y_shuffled)['variety'].value_counts() # Y열의 데이터 개수 확인: total 546명"
      ]
    },
    {
      "cell_type": "markdown",
      "source": [
        "## Step 2. Decision Tree Modeling\n",
        "- entropy (uncertainty)\n",
        "  - $E=-\\sum^k_{i=1}p_ilog_2(p_i)$"
      ],
      "metadata": {
        "id": "Q6PrDdgvqZk4"
      }
    },
    {
      "cell_type": "markdown",
      "metadata": {
        "id": "ucmPrvM2N_UX"
      },
      "source": [
        "- gini index: 엔트로피와 같은 불순도 (Impurity) 지표\n",
        "  - 경제적 불평등을 계수화\n",
        "  - 분류가 잘 될 때 낮은 값\n",
        "  - CART 알고리즘에서는 모든 조합에 대해 Gini index를 계산한 후, Gini index가 가장 낮은 지표를 찾아 분기\n",
        "  - $Gini(t,D)=1-\\sum_{l \\in levels(t)}P(t=l)^2$"
      ]
    },
    {
      "cell_type": "markdown",
      "source": [
        "- Information gain\n",
        "  - impurity의 개선 정도\n",
        "    - decision tree에 의해 나누기 전의 impurity - 나누어진 subset들의 impurity\n",
        "- pruning"
      ],
      "metadata": {
        "id": "SdQL7opDq2Ro"
      }
    },
    {
      "cell_type": "code",
      "execution_count": null,
      "metadata": {
        "id": "cOWpsYfiN_UX"
      },
      "outputs": [],
      "source": [
        "from sklearn.tree import DecisionTreeClassifier\n",
        "'''\n",
        "https://scikit-learn.org/stable/modules/generated/sklearn.tree.DecisionTreeClassifier.html\n",
        "'''\n",
        "tree = DecisionTreeClassifier(random_state = 312)\n",
        "# criterion = 'gini' 또는 'entropy' (default='gini')\n",
        "# max_depth = None (default)\n",
        "# min_samples_leaf = 1 (default)\n",
        "# min_samples_split = None (default)\n",
        "tree_fit = tree.fit(train_features, train_target)"
      ]
    },
    {
      "cell_type": "code",
      "execution_count": null,
      "metadata": {
        "scrolled": true,
        "colab": {
          "base_uri": "https://localhost:8080/"
        },
        "id": "vvoTy_bZN_UY",
        "outputId": "f2702726-3eab-4f46-f6cc-37901dac363d"
      },
      "outputs": [
        {
          "output_type": "execute_result",
          "data": {
            "text/plain": [
              "DecisionTreeClassifier(random_state=312)"
            ]
          },
          "metadata": {},
          "execution_count": 17
        }
      ],
      "source": [
        "tree_fit"
      ]
    },
    {
      "cell_type": "code",
      "execution_count": null,
      "metadata": {
        "id": "kTPbVlWhN_UZ"
      },
      "outputs": [],
      "source": [
        "import pydotplus\n",
        "from pydotplus import graph_from_dot_data\n",
        "from sklearn.tree import export_graphviz\n",
        "from IPython.display import Image # CART Tree 그림\n",
        "import os"
      ]
    },
    {
      "cell_type": "code",
      "execution_count": null,
      "metadata": {
        "id": "CSKjn2hMN_UZ"
      },
      "outputs": [],
      "source": [
        "import numpy as np\n",
        "feature_names = train_features.columns.tolist()\n",
        "target_name = np.array(['Setosa','Versicolor','Virginica'])\n",
        "# Setosa : 1 \n",
        "# Versicolor : 2\n",
        "# Virginica : 3 "
      ]
    },
    {
      "cell_type": "code",
      "execution_count": null,
      "metadata": {
        "colab": {
          "base_uri": "https://localhost:8080/"
        },
        "id": "Xg_LuZ5pN_UZ",
        "outputId": "e336a3e2-7935-4334-f779-2e43215b790b"
      },
      "outputs": [
        {
          "output_type": "execute_result",
          "data": {
            "text/plain": [
              "True"
            ]
          },
          "metadata": {},
          "execution_count": 20
        }
      ],
      "source": [
        "dot_data = export_graphviz(tree,\n",
        "                          filled = True,\n",
        "                          rounded = True,\n",
        "                          class_names = target_name,\n",
        "                          feature_names = feature_names,\n",
        "                          out_file = None)\n",
        "\n",
        "graph = graph_from_dot_data(dot_data)\n",
        "graph.write_png('tree.png') #Tree 이미지를 저장"
      ]
    },
    {
      "cell_type": "code",
      "execution_count": null,
      "metadata": {
        "colab": {
          "base_uri": "https://localhost:8080/",
          "height": 753
        },
        "id": "Bn6qsOR6N_Ua",
        "outputId": "79889823-73ed-4ab7-ddc6-e673b8be0690"
      },
      "outputs": [
        {
          "output_type": "execute_result",
          "data": {
            "text/plain": [
              "<IPython.core.display.Image object>"
            ],
            "image/png": "[encoded data removed]"
          },
          "metadata": {},
          "execution_count": 21
        }
      ],
      "source": [
        "dt_graph = pydotplus.graph_from_dot_data(dot_data)\n",
        "Image(dt_graph.create_png())"
      ]
    },
    {
      "cell_type": "code",
      "execution_count": null,
      "metadata": {
        "colab": {
          "base_uri": "https://localhost:8080/"
        },
        "id": "Nk7qS_bvN_Ua",
        "outputId": "0acfa411-ccac-4249-901f-2b9d6b8bf7d9"
      },
      "outputs": [
        {
          "output_type": "stream",
          "name": "stdout",
          "text": [
            "CV accuracy: [1.         1.         1.         0.91666667 1.         1.\n",
            " 1.         1.         1.         0.75      ]\n",
            "CV aacuracy(Mean): 0.967 (std: 0.076)\n"
          ]
        }
      ],
      "source": [
        "from sklearn.model_selection import cross_validate\n",
        "\n",
        "scores = cross_validate(estimator = tree,\n",
        "                       X=train_features,\n",
        "                       y=train_target,\n",
        "                       scoring = ['accuracy'],\n",
        "                       cv=10,\n",
        "                       n_jobs= -1,\n",
        "                       return_train_score=False)\n",
        "\n",
        "print('CV accuracy: %s' % scores['test_accuracy'])\n",
        "print('CV aacuracy(Mean): %.3f (std: %.3f)' % (np.mean(scores['test_accuracy']),\n",
        "                                     np.std(scores['test_accuracy'])))"
      ]
    },
    {
      "cell_type": "code",
      "execution_count": null,
      "metadata": {
        "id": "hty1VWDqN_Ua"
      },
      "outputs": [],
      "source": [
        "y_pred = tree.predict(test_features)"
      ]
    },
    {
      "cell_type": "code",
      "execution_count": null,
      "metadata": {
        "scrolled": false,
        "colab": {
          "base_uri": "https://localhost:8080/"
        },
        "id": "sZ2IVDPrN_Ub",
        "outputId": "3c8fbabb-e976-40e1-8a1f-9bcb9ce6676b"
      },
      "outputs": [
        {
          "output_type": "execute_result",
          "data": {
            "text/plain": [
              "array([1, 2, 3, 3, 1, 2, 1, 2, 3, 1, 2, 2, 2, 3, 2, 1, 3, 1, 3, 1, 2, 3,\n",
              "       1, 3, 2, 1, 2, 2, 3, 1])"
            ]
          },
          "metadata": {},
          "execution_count": 25
        }
      ],
      "source": [
        "y_pred"
      ]
    },
    {
      "cell_type": "code",
      "execution_count": null,
      "metadata": {
        "scrolled": true,
        "colab": {
          "base_uri": "https://localhost:8080/",
          "height": 143
        },
        "id": "6iy1Qr_KN_Ub",
        "outputId": "cdf70b65-3ae8-45ef-9e3b-dbe6efd75f77"
      },
      "outputs": [
        {
          "output_type": "execute_result",
          "data": {
            "text/plain": [
              "               Predict[1]  Predict[2]  Predict[3]\n",
              "Setosa[1]              10           0           0\n",
              "Versicolor[2]           0           9           1\n",
              "Virginica[3]            0           2           8"
            ],
            "text/html": [
              "\n",
              "  <div id=\"df-0c337762-c9be-4c8c-b433-3f90f1e7d6a2\">\n",
              "    <div class=\"colab-df-container\">\n",
              "      <div>\n",
              "<style scoped>\n",
              "    .dataframe tbody tr th:only-of-type {\n",
              "        vertical-align: middle;\n",
              "    }\n",
              "\n",
              "    .dataframe tbody tr th {\n",
              "        vertical-align: top;\n",
              "    }\n",
              "\n",
              "    .dataframe thead th {\n",
              "        text-align: right;\n",
              "    }\n",
              "</style>\n",
              "<table border=\"1\" class=\"dataframe\">\n",
              "  <thead>\n",
              "    <tr style=\"text-align: right;\">\n",
              "      <th></th>\n",
              "      <th>Predict[1]</th>\n",
              "      <th>Predict[2]</th>\n",
              "      <th>Predict[3]</th>\n",
              "    </tr>\n",
              "  </thead>\n",
              "  <tbody>\n",
              "    <tr>\n",
              "      <th>Setosa[1]</th>\n",
              "      <td>10</td>\n",
              "      <td>0</td>\n",
              "      <td>0</td>\n",
              "    </tr>\n",
              "    <tr>\n",
              "      <th>Versicolor[2]</th>\n",
              "      <td>0</td>\n",
              "      <td>9</td>\n",
              "      <td>1</td>\n",
              "    </tr>\n",
              "    <tr>\n",
              "      <th>Virginica[3]</th>\n",
              "      <td>0</td>\n",
              "      <td>2</td>\n",
              "      <td>8</td>\n",
              "    </tr>\n",
              "  </tbody>\n",
              "</table>\n",
              "</div>\n",
              "      <button class=\"colab-df-convert\" onclick=\"convertToInteractive('df-0c337762-c9be-4c8c-b433-3f90f1e7d6a2')\"\n",
              "              title=\"Convert this dataframe to an interactive table.\"\n",
              "              style=\"display:none;\">\n",
              "        \n",
              "  <svg xmlns=\"http://www.w3.org/2000/svg\" height=\"24px\"viewBox=\"0 0 24 24\"\n",
              "       width=\"24px\">\n",
              "    <path d=\"M0 0h24v24H0V0z\" fill=\"none\"/>\n",
              "    <path d=\"M18.56 5.44l.94 2.06.94-2.06 2.06-.94-2.06-.94-.94-2.06-.94 2.06-2.06.94zm-11 1L8.5 8.5l.94-2.06 2.06-.94-2.06-.94L8.5 2.5l-.94 2.06-2.06.94zm10 10l.94 2.06.94-2.06 2.06-.94-2.06-.94-.94-2.06-.94 2.06-2.06.94z\"/><path d=\"M17.41 7.96l-1.37-1.37c-.4-.4-.92-.59-1.43-.59-.52 0-1.04.2-1.43.59L10.3 9.45l-7.72 7.72c-.78.78-.78 2.05 0 2.83L4 21.41c.39.39.9.59 1.41.59.51 0 1.02-.2 1.41-.59l7.78-7.78 2.81-2.81c.8-.78.8-2.07 0-2.86zM5.41 20L4 18.59l7.72-7.72 1.47 1.35L5.41 20z\"/>\n",
              "  </svg>\n",
              "      </button>\n",
              "      \n",
              "  <style>\n",
              "    .colab-df-container {\n",
              "      display:flex;\n",
              "      flex-wrap:wrap;\n",
              "      gap: 12px;\n",
              "    }\n",
              "\n",
              "    .colab-df-convert {\n",
              "      background-color: #E8F0FE;\n",
              "      border: none;\n",
              "      border-radius: 50%;\n",
              "      cursor: pointer;\n",
              "      display: none;\n",
              "      fill: #1967D2;\n",
              "      height: 32px;\n",
              "      padding: 0 0 0 0;\n",
              "      width: 32px;\n",
              "    }\n",
              "\n",
              "    .colab-df-convert:hover {\n",
              "      background-color: #E2EBFA;\n",
              "      box-shadow: 0px 1px 2px rgba(60, 64, 67, 0.3), 0px 1px 3px 1px rgba(60, 64, 67, 0.15);\n",
              "      fill: #174EA6;\n",
              "    }\n",
              "\n",
              "    [theme=dark] .colab-df-convert {\n",
              "      background-color: #3B4455;\n",
              "      fill: #D2E3FC;\n",
              "    }\n",
              "\n",
              "    [theme=dark] .colab-df-convert:hover {\n",
              "      background-color: #434B5C;\n",
              "      box-shadow: 0px 1px 3px 1px rgba(0, 0, 0, 0.15);\n",
              "      filter: drop-shadow(0px 1px 2px rgba(0, 0, 0, 0.3));\n",
              "      fill: #FFFFFF;\n",
              "    }\n",
              "  </style>\n",
              "\n",
              "      <script>\n",
              "        const buttonEl =\n",
              "          document.querySelector('#df-0c337762-c9be-4c8c-b433-3f90f1e7d6a2 button.colab-df-convert');\n",
              "        buttonEl.style.display =\n",
              "          google.colab.kernel.accessAllowed ? 'block' : 'none';\n",
              "\n",
              "        async function convertToInteractive(key) {\n",
              "          const element = document.querySelector('#df-0c337762-c9be-4c8c-b433-3f90f1e7d6a2');\n",
              "          const dataTable =\n",
              "            await google.colab.kernel.invokeFunction('convertToInteractive',\n",
              "                                                     [key], {});\n",
              "          if (!dataTable) return;\n",
              "\n",
              "          const docLinkHtml = 'Like what you see? Visit the ' +\n",
              "            '<a target=\"_blank\" href=https://colab.research.google.com/notebooks/data_table.ipynb>data table notebook</a>'\n",
              "            + ' to learn more about interactive tables.';\n",
              "          element.innerHTML = '';\n",
              "          dataTable['output_type'] = 'display_data';\n",
              "          await google.colab.output.renderOutput(dataTable, element);\n",
              "          const docLink = document.createElement('div');\n",
              "          docLink.innerHTML = docLinkHtml;\n",
              "          element.appendChild(docLink);\n",
              "        }\n",
              "      </script>\n",
              "    </div>\n",
              "  </div>\n",
              "  "
            ]
          },
          "metadata": {},
          "execution_count": 26
        }
      ],
      "source": [
        "from sklearn.metrics import confusion_matrix\n",
        "# Setosa : 1 \n",
        "# Versicolor : 2\n",
        "# Virginica : 3 \n",
        "\n",
        "confmat = pd.DataFrame(confusion_matrix(test_target, y_pred),\n",
        "                      index=['Setosa[1]', 'Versicolor[2]', 'Virginica[3]'],             #정답 데이터\n",
        "                      columns=['Predict[1]', 'Predict[2]','Predict[3]'])\n",
        "\n",
        "confmat"
      ]
    },
    {
      "cell_type": "code",
      "execution_count": null,
      "metadata": {
        "scrolled": true,
        "colab": {
          "base_uri": "https://localhost:8080/"
        },
        "id": "D0Wjj6TWN_Ub",
        "outputId": "b3bf4079-b508-4348-aa16-e455759a7700"
      },
      "outputs": [
        {
          "output_type": "stream",
          "name": "stdout",
          "text": [
            "Classification Report\n",
            "              precision    recall  f1-score   support\n",
            "\n",
            "           1       1.00      1.00      1.00        10\n",
            "           2       0.82      0.90      0.86        10\n",
            "           3       0.89      0.80      0.84        10\n",
            "\n",
            "    accuracy                           0.90        30\n",
            "   macro avg       0.90      0.90      0.90        30\n",
            "weighted avg       0.90      0.90      0.90        30\n",
            "\n"
          ]
        }
      ],
      "source": [
        "from sklearn.metrics import classification_report\n",
        "\n",
        "print('Classification Report')\n",
        "print(classification_report(test_target, y_pred))"
      ]
    },
    {
      "cell_type": "code",
      "execution_count": null,
      "metadata": {
        "scrolled": true,
        "colab": {
          "base_uri": "https://localhost:8080/",
          "height": 429
        },
        "id": "CUig16AnN_Uc",
        "outputId": "bd6deda2-c110-46d1-a9ea-8c0b45ec34d4"
      },
      "outputs": [
        {
          "output_type": "stream",
          "name": "stdout",
          "text": [
            "정확도 accuracy: 0.900\n",
            "정밀도 precision: 0.900\n",
            "재현율 recall: 0.900\n",
            "F1-score: 0.900\n"
          ]
        },
        {
          "output_type": "error",
          "ename": "AxisError",
          "evalue": "ignored",
          "traceback": [
            "\u001b[0;31m---------------------------------------------------------------------------\u001b[0m",
            "\u001b[0;31mAxisError\u001b[0m                                 Traceback (most recent call last)",
            "\u001b[0;32m<ipython-input-42-7bbbe2d53344>\u001b[0m in \u001b[0;36m<module>\u001b[0;34m()\u001b[0m\n\u001b[1;32m      5\u001b[0m \u001b[0mprint\u001b[0m\u001b[0;34m(\u001b[0m\u001b[0;34m'재현율 recall: %.3f'\u001b[0m \u001b[0;34m%\u001b[0m \u001b[0mrecall_score\u001b[0m\u001b[0;34m(\u001b[0m\u001b[0my_true\u001b[0m\u001b[0;34m=\u001b[0m\u001b[0mtest_target\u001b[0m\u001b[0;34m,\u001b[0m \u001b[0my_pred\u001b[0m\u001b[0;34m=\u001b[0m\u001b[0my_pred\u001b[0m\u001b[0;34m,\u001b[0m\u001b[0maverage\u001b[0m\u001b[0;34m=\u001b[0m\u001b[0;34m'micro'\u001b[0m\u001b[0;34m)\u001b[0m\u001b[0;34m)\u001b[0m\u001b[0;34m\u001b[0m\u001b[0;34m\u001b[0m\u001b[0m\n\u001b[1;32m      6\u001b[0m \u001b[0mprint\u001b[0m\u001b[0;34m(\u001b[0m\u001b[0;34m'F1-score: %.3f'\u001b[0m \u001b[0;34m%\u001b[0m \u001b[0mf1_score\u001b[0m\u001b[0;34m(\u001b[0m\u001b[0my_true\u001b[0m\u001b[0;34m=\u001b[0m\u001b[0mtest_target\u001b[0m\u001b[0;34m,\u001b[0m \u001b[0my_pred\u001b[0m\u001b[0;34m=\u001b[0m\u001b[0my_pred\u001b[0m\u001b[0;34m,\u001b[0m\u001b[0maverage\u001b[0m\u001b[0;34m=\u001b[0m\u001b[0;34m'micro'\u001b[0m\u001b[0;34m)\u001b[0m\u001b[0;34m)\u001b[0m\u001b[0;34m\u001b[0m\u001b[0;34m\u001b[0m\u001b[0m\n\u001b[0;32m----> 7\u001b[0;31m \u001b[0mprint\u001b[0m\u001b[0;34m(\u001b[0m\u001b[0;34m'AUC: %.3f'\u001b[0m \u001b[0;34m%\u001b[0m \u001b[0mroc_auc_score\u001b[0m\u001b[0;34m(\u001b[0m\u001b[0mtest_target\u001b[0m\u001b[0;34m,\u001b[0m \u001b[0my_pred\u001b[0m\u001b[0;34m,\u001b[0m \u001b[0mmulti_class\u001b[0m \u001b[0;34m=\u001b[0m \u001b[0;34m'ovo'\u001b[0m\u001b[0;34m,\u001b[0m\u001b[0maverage\u001b[0m\u001b[0;34m=\u001b[0m\u001b[0;34m'micro'\u001b[0m\u001b[0;34m)\u001b[0m\u001b[0;34m)\u001b[0m\u001b[0;34m\u001b[0m\u001b[0;34m\u001b[0m\u001b[0m\n\u001b[0m",
            "\u001b[0;32m/usr/local/lib/python3.7/dist-packages/sklearn/metrics/_ranking.py\u001b[0m in \u001b[0;36mroc_auc_score\u001b[0;34m(y_true, y_score, average, sample_weight, max_fpr, multi_class, labels)\u001b[0m\n\u001b[1;32m    560\u001b[0m             \u001b[0;32mraise\u001b[0m \u001b[0mValueError\u001b[0m\u001b[0;34m(\u001b[0m\u001b[0;34m\"multi_class must be in ('ovo', 'ovr')\"\u001b[0m\u001b[0;34m)\u001b[0m\u001b[0;34m\u001b[0m\u001b[0;34m\u001b[0m\u001b[0m\n\u001b[1;32m    561\u001b[0m         return _multiclass_roc_auc_score(\n\u001b[0;32m--> 562\u001b[0;31m             \u001b[0my_true\u001b[0m\u001b[0;34m,\u001b[0m \u001b[0my_score\u001b[0m\u001b[0;34m,\u001b[0m \u001b[0mlabels\u001b[0m\u001b[0;34m,\u001b[0m \u001b[0mmulti_class\u001b[0m\u001b[0;34m,\u001b[0m \u001b[0maverage\u001b[0m\u001b[0;34m,\u001b[0m \u001b[0msample_weight\u001b[0m\u001b[0;34m\u001b[0m\u001b[0;34m\u001b[0m\u001b[0m\n\u001b[0m\u001b[1;32m    563\u001b[0m         )\n\u001b[1;32m    564\u001b[0m     \u001b[0;32melif\u001b[0m \u001b[0my_type\u001b[0m \u001b[0;34m==\u001b[0m \u001b[0;34m\"binary\"\u001b[0m\u001b[0;34m:\u001b[0m\u001b[0;34m\u001b[0m\u001b[0;34m\u001b[0m\u001b[0m\n",
            "\u001b[0;32m/usr/local/lib/python3.7/dist-packages/sklearn/metrics/_ranking.py\u001b[0m in \u001b[0;36m_multiclass_roc_auc_score\u001b[0;34m(y_true, y_score, labels, multi_class, average, sample_weight)\u001b[0m\n\u001b[1;32m    625\u001b[0m     \"\"\"\n\u001b[1;32m    626\u001b[0m     \u001b[0;31m# validation of the input y_score\u001b[0m\u001b[0;34m\u001b[0m\u001b[0;34m\u001b[0m\u001b[0;34m\u001b[0m\u001b[0m\n\u001b[0;32m--> 627\u001b[0;31m     \u001b[0;32mif\u001b[0m \u001b[0;32mnot\u001b[0m \u001b[0mnp\u001b[0m\u001b[0;34m.\u001b[0m\u001b[0mallclose\u001b[0m\u001b[0;34m(\u001b[0m\u001b[0;36m1\u001b[0m\u001b[0;34m,\u001b[0m \u001b[0my_score\u001b[0m\u001b[0;34m.\u001b[0m\u001b[0msum\u001b[0m\u001b[0;34m(\u001b[0m\u001b[0maxis\u001b[0m\u001b[0;34m=\u001b[0m\u001b[0;36m1\u001b[0m\u001b[0;34m)\u001b[0m\u001b[0;34m)\u001b[0m\u001b[0;34m:\u001b[0m\u001b[0;34m\u001b[0m\u001b[0;34m\u001b[0m\u001b[0m\n\u001b[0m\u001b[1;32m    628\u001b[0m         raise ValueError(\n\u001b[1;32m    629\u001b[0m             \u001b[0;34m\"Target scores need to be probabilities for multiclass \"\u001b[0m\u001b[0;34m\u001b[0m\u001b[0;34m\u001b[0m\u001b[0m\n",
            "\u001b[0;32m/usr/local/lib/python3.7/dist-packages/numpy/core/_methods.py\u001b[0m in \u001b[0;36m_sum\u001b[0;34m(a, axis, dtype, out, keepdims, initial, where)\u001b[0m\n\u001b[1;32m     46\u001b[0m def _sum(a, axis=None, dtype=None, out=None, keepdims=False,\n\u001b[1;32m     47\u001b[0m          initial=_NoValue, where=True):\n\u001b[0;32m---> 48\u001b[0;31m     \u001b[0;32mreturn\u001b[0m \u001b[0mumr_sum\u001b[0m\u001b[0;34m(\u001b[0m\u001b[0ma\u001b[0m\u001b[0;34m,\u001b[0m \u001b[0maxis\u001b[0m\u001b[0;34m,\u001b[0m \u001b[0mdtype\u001b[0m\u001b[0;34m,\u001b[0m \u001b[0mout\u001b[0m\u001b[0;34m,\u001b[0m \u001b[0mkeepdims\u001b[0m\u001b[0;34m,\u001b[0m \u001b[0minitial\u001b[0m\u001b[0;34m,\u001b[0m \u001b[0mwhere\u001b[0m\u001b[0;34m)\u001b[0m\u001b[0;34m\u001b[0m\u001b[0;34m\u001b[0m\u001b[0m\n\u001b[0m\u001b[1;32m     49\u001b[0m \u001b[0;34m\u001b[0m\u001b[0m\n\u001b[1;32m     50\u001b[0m def _prod(a, axis=None, dtype=None, out=None, keepdims=False,\n",
            "\u001b[0;31mAxisError\u001b[0m: axis 1 is out of bounds for array of dimension 1"
          ]
        }
      ],
      "source": [
        "from sklearn.metrics import accuracy_score, precision_score, recall_score, f1_score, roc_auc_score\n",
        "\n",
        "print('정확도 accuracy: %.3f' % accuracy_score(test_target, y_pred))\n",
        "print('정밀도 precision: %.3f' % precision_score(y_true= test_target, y_pred=y_pred,average='micro'))\n",
        "print('재현율 recall: %.3f' % recall_score(y_true=test_target, y_pred=y_pred,average='micro'))\n",
        "print('F1-score: %.3f' % f1_score(y_true=test_target, y_pred=y_pred,average='micro'))\n",
        "print('AUC: %.3f' % roc_auc_score(test_target, y_pred, multi_class = 'ovo',average='mcro'))"
      ]
    },
    {
      "cell_type": "code",
      "execution_count": null,
      "metadata": {
        "colab": {
          "base_uri": "https://localhost:8080/",
          "height": 393
        },
        "id": "3nEL5Q6-N_Uc",
        "outputId": "2790e680-0aff-4ef5-f6b9-58918394e585"
      },
      "outputs": [
        {
          "output_type": "error",
          "ename": "ValueError",
          "evalue": "ignored",
          "traceback": [
            "\u001b[0;31m---------------------------------------------------------------------------\u001b[0m",
            "\u001b[0;31mValueError\u001b[0m                                Traceback (most recent call last)",
            "\u001b[0;32m<ipython-input-43-82f0ea35097b>\u001b[0m in \u001b[0;36m<module>\u001b[0;34m()\u001b[0m\n\u001b[1;32m      2\u001b[0m \u001b[0;32mimport\u001b[0m \u001b[0mmatplotlib\u001b[0m\u001b[0;34m.\u001b[0m\u001b[0mpyplot\u001b[0m \u001b[0;32mas\u001b[0m \u001b[0mplt\u001b[0m\u001b[0;34m\u001b[0m\u001b[0;34m\u001b[0m\u001b[0m\n\u001b[1;32m      3\u001b[0m \u001b[0;34m\u001b[0m\u001b[0m\n\u001b[0;32m----> 4\u001b[0;31m \u001b[0mfpr\u001b[0m\u001b[0;34m,\u001b[0m \u001b[0mtpr\u001b[0m\u001b[0;34m,\u001b[0m \u001b[0mthresholds\u001b[0m \u001b[0;34m=\u001b[0m \u001b[0mroc_curve\u001b[0m\u001b[0;34m(\u001b[0m \u001b[0mtest_target\u001b[0m\u001b[0;34m,\u001b[0m \u001b[0mtree\u001b[0m\u001b[0;34m.\u001b[0m\u001b[0mpredict_proba\u001b[0m\u001b[0;34m(\u001b[0m\u001b[0mtest_features\u001b[0m\u001b[0;34m)\u001b[0m\u001b[0;34m[\u001b[0m\u001b[0;34m:\u001b[0m\u001b[0;34m,\u001b[0m \u001b[0;36m1\u001b[0m\u001b[0;34m]\u001b[0m \u001b[0;34m)\u001b[0m\u001b[0;34m\u001b[0m\u001b[0;34m\u001b[0m\u001b[0m\n\u001b[0m\u001b[1;32m      5\u001b[0m \u001b[0;34m\u001b[0m\u001b[0m\n\u001b[1;32m      6\u001b[0m \u001b[0mplt\u001b[0m\u001b[0;34m.\u001b[0m\u001b[0mplot\u001b[0m\u001b[0;34m(\u001b[0m\u001b[0mfpr\u001b[0m\u001b[0;34m,\u001b[0m \u001b[0mtpr\u001b[0m\u001b[0;34m,\u001b[0m \u001b[0;34m'--'\u001b[0m\u001b[0;34m,\u001b[0m \u001b[0mlabel\u001b[0m \u001b[0;34m=\u001b[0m \u001b[0;34m'Decision Tree'\u001b[0m\u001b[0;34m)\u001b[0m\u001b[0;34m\u001b[0m\u001b[0;34m\u001b[0m\u001b[0m\n",
            "\u001b[0;32m/usr/local/lib/python3.7/dist-packages/sklearn/metrics/_ranking.py\u001b[0m in \u001b[0;36mroc_curve\u001b[0;34m(y_true, y_score, pos_label, sample_weight, drop_intermediate)\u001b[0m\n\u001b[1;32m    961\u001b[0m     \"\"\"\n\u001b[1;32m    962\u001b[0m     fps, tps, thresholds = _binary_clf_curve(\n\u001b[0;32m--> 963\u001b[0;31m         \u001b[0my_true\u001b[0m\u001b[0;34m,\u001b[0m \u001b[0my_score\u001b[0m\u001b[0;34m,\u001b[0m \u001b[0mpos_label\u001b[0m\u001b[0;34m=\u001b[0m\u001b[0mpos_label\u001b[0m\u001b[0;34m,\u001b[0m \u001b[0msample_weight\u001b[0m\u001b[0;34m=\u001b[0m\u001b[0msample_weight\u001b[0m\u001b[0;34m\u001b[0m\u001b[0;34m\u001b[0m\u001b[0m\n\u001b[0m\u001b[1;32m    964\u001b[0m     )\n\u001b[1;32m    965\u001b[0m \u001b[0;34m\u001b[0m\u001b[0m\n",
            "\u001b[0;32m/usr/local/lib/python3.7/dist-packages/sklearn/metrics/_ranking.py\u001b[0m in \u001b[0;36m_binary_clf_curve\u001b[0;34m(y_true, y_score, pos_label, sample_weight)\u001b[0m\n\u001b[1;32m    729\u001b[0m     \u001b[0my_type\u001b[0m \u001b[0;34m=\u001b[0m \u001b[0mtype_of_target\u001b[0m\u001b[0;34m(\u001b[0m\u001b[0my_true\u001b[0m\u001b[0;34m)\u001b[0m\u001b[0;34m\u001b[0m\u001b[0;34m\u001b[0m\u001b[0m\n\u001b[1;32m    730\u001b[0m     \u001b[0;32mif\u001b[0m \u001b[0;32mnot\u001b[0m \u001b[0;34m(\u001b[0m\u001b[0my_type\u001b[0m \u001b[0;34m==\u001b[0m \u001b[0;34m\"binary\"\u001b[0m \u001b[0;32mor\u001b[0m \u001b[0;34m(\u001b[0m\u001b[0my_type\u001b[0m \u001b[0;34m==\u001b[0m \u001b[0;34m\"multiclass\"\u001b[0m \u001b[0;32mand\u001b[0m \u001b[0mpos_label\u001b[0m \u001b[0;32mis\u001b[0m \u001b[0;32mnot\u001b[0m \u001b[0;32mNone\u001b[0m\u001b[0;34m)\u001b[0m\u001b[0;34m)\u001b[0m\u001b[0;34m:\u001b[0m\u001b[0;34m\u001b[0m\u001b[0;34m\u001b[0m\u001b[0m\n\u001b[0;32m--> 731\u001b[0;31m         \u001b[0;32mraise\u001b[0m \u001b[0mValueError\u001b[0m\u001b[0;34m(\u001b[0m\u001b[0;34m\"{0} format is not supported\"\u001b[0m\u001b[0;34m.\u001b[0m\u001b[0mformat\u001b[0m\u001b[0;34m(\u001b[0m\u001b[0my_type\u001b[0m\u001b[0;34m)\u001b[0m\u001b[0;34m)\u001b[0m\u001b[0;34m\u001b[0m\u001b[0;34m\u001b[0m\u001b[0m\n\u001b[0m\u001b[1;32m    732\u001b[0m \u001b[0;34m\u001b[0m\u001b[0m\n\u001b[1;32m    733\u001b[0m     \u001b[0mcheck_consistent_length\u001b[0m\u001b[0;34m(\u001b[0m\u001b[0my_true\u001b[0m\u001b[0;34m,\u001b[0m \u001b[0my_score\u001b[0m\u001b[0;34m,\u001b[0m \u001b[0msample_weight\u001b[0m\u001b[0;34m)\u001b[0m\u001b[0;34m\u001b[0m\u001b[0;34m\u001b[0m\u001b[0m\n",
            "\u001b[0;31mValueError\u001b[0m: multiclass format is not supported"
          ]
        }
      ],
      "source": [
        "from sklearn.metrics import roc_curve\n",
        "import matplotlib.pyplot as plt\n",
        "\n",
        "fpr, tpr, thresholds = roc_curve( test_target, tree.predict_proba(test_features)[:, 1] )\n",
        "\n",
        "plt.plot(fpr, tpr, '--', label = 'Decision Tree')\n",
        "plt.plot([0,1], [0,1], 'k--', label='random guess')\n",
        "plt.plot([fpr],[tpr],'r-', ms=10)\n",
        "plt.xlabel('FPR')\n",
        "plt.ylabel('TPR')\n",
        "plt.title('ROC')\n",
        "plt.show()"
      ]
    },
    {
      "cell_type": "markdown",
      "metadata": {
        "id": "kDxz5inGN_Uc"
      },
      "source": [
        "## Step 3. Optimization"
      ]
    },
    {
      "cell_type": "code",
      "execution_count": null,
      "metadata": {
        "id": "Pry8B86lN_Uc"
      },
      "outputs": [],
      "source": [
        "from sklearn.pipeline import make_pipeline\n",
        "pipe_tree = make_pipeline(DecisionTreeClassifier(random_state=312)) # default model로 시작\n",
        "# pipeline은 hyper-parameter 값을 바꾸면서 여러 모델을 사용 가능."
      ]
    },
    {
      "cell_type": "code",
      "execution_count": null,
      "metadata": {
        "colab": {
          "base_uri": "https://localhost:8080/"
        },
        "id": "QHa2D1fwN_Uc",
        "outputId": "0f8d391c-d999-4062-81c8-2f23e2219ee6"
      },
      "outputs": [
        {
          "output_type": "execute_result",
          "data": {
            "text/plain": [
              "dict_keys(['memory', 'steps', 'verbose', 'decisiontreeclassifier', 'decisiontreeclassifier__ccp_alpha', 'decisiontreeclassifier__class_weight', 'decisiontreeclassifier__criterion', 'decisiontreeclassifier__max_depth', 'decisiontreeclassifier__max_features', 'decisiontreeclassifier__max_leaf_nodes', 'decisiontreeclassifier__min_impurity_decrease', 'decisiontreeclassifier__min_samples_leaf', 'decisiontreeclassifier__min_samples_split', 'decisiontreeclassifier__min_weight_fraction_leaf', 'decisiontreeclassifier__random_state', 'decisiontreeclassifier__splitter'])"
            ]
          },
          "metadata": {},
          "execution_count": 45
        }
      ],
      "source": [
        "pipe_tree.get_params().keys()"
      ]
    },
    {
      "cell_type": "code",
      "execution_count": null,
      "metadata": {
        "colab": {
          "base_uri": "https://localhost:8080/",
          "height": 297
        },
        "id": "F1f2oELXN_Uc",
        "outputId": "ce3d1fd7-f70a-4078-d59d-81094d216457"
      },
      "outputs": [
        {
          "output_type": "display_data",
          "data": {
            "text/plain": [
              "<Figure size 432x288 with 1 Axes>"
            ],
            "image/png": "[encoded data removed]"
          },
          "metadata": {
            "needs_background": "light"
          }
        }
      ],
      "source": [
        "from sklearn.model_selection import validation_curve\n",
        "\n",
        "param_range = [1,2,3,4,5,6,7,8,9,10] # max_depth 범위 설정\n",
        "train_scores, validation_scores = validation_curve(estimator = pipe_tree, #기본모형 선택\n",
        "                                                   X = train_features,\n",
        "                                                   y = train_target,\n",
        "                                                   param_name = 'decisiontreeclassifier__max_depth', #pipe_tree.get_params().keys()에서\n",
        "                                                   param_range=param_range,\n",
        "                                                   scoring=\"accuracy\",\n",
        "                                                   cv=10)\n",
        "\n",
        "train_mean = np.mean(train_scores, axis = 1)\n",
        "train_std = np.std(train_scores, axis = 1)\n",
        "validation_mean = np.mean(validation_scores, axis = 1)\n",
        "validation_std = np.std(validation_scores, axis = 1)\n",
        "\n",
        "plt.plot(param_range, train_mean,\n",
        "        color='blue', marker='o',\n",
        "        markersize=5, label='training accuracy')\n",
        "plt.fill_between(param_range, \n",
        "                train_mean + train_std,\n",
        "                train_mean - train_std,\n",
        "                alpha=0.15,\n",
        "                color='blue')\n",
        "plt.plot(param_range, validation_mean,\n",
        "        color='green', linestyle='--',\n",
        "        marker='s', markersize=5,\n",
        "        label='validation accuracy')\n",
        "plt.fill_between(param_range,\n",
        "                validation_mean + validation_std,\n",
        "                validation_mean - validation_std,\n",
        "                alpha=0.15, color='green')\n",
        "\n",
        "plt.grid()\n",
        "plt.xlabel('Number of max_depth')\n",
        "plt.legend(loc='lower right')\n",
        "plt.xlabel('Parameter max_depth')\n",
        "plt.ylabel('Accuracy')\n",
        "plt.ylim([0.7, 1.00]) # 보고싶은 구간 설정\n",
        "plt.tight_layout()\n",
        "plt.show()\n",
        "\n",
        "# train accuracy와 validation accuracy가 모두 적절한 성능 & 오버피팅이 발생하기 전까지인 max_dept = 4 선택"
      ]
    },
    {
      "cell_type": "markdown",
      "metadata": {
        "id": "Tbznq-9wN_Ud"
      },
      "source": [
        "## Step 4. Grid Search"
      ]
    },
    {
      "cell_type": "code",
      "execution_count": null,
      "metadata": {
        "colab": {
          "base_uri": "https://localhost:8080/"
        },
        "id": "RhZIP-GLN_Ud",
        "outputId": "01837873-064a-49d0-b304-152911712d0c"
      },
      "outputs": [
        {
          "output_type": "stream",
          "name": "stdout",
          "text": [
            "0.95\n",
            "{'decisiontreeclassifier__criterion': 'gini', 'decisiontreeclassifier__max_depth': 2, 'decisiontreeclassifier__min_samples_leaf': 10}\n"
          ]
        }
      ],
      "source": [
        "from sklearn.model_selection import GridSearchCV\n",
        "\n",
        "param_range1 = [1,2,3,4,5,6,7,8,9,10]\n",
        "param_range2 = [10, 20, 30, 40, 50]\n",
        "param_range3 = ['gini', 'entropy']\n",
        "\n",
        "param_grid = [{'decisiontreeclassifier__max_depth': param_range1,\n",
        "              'decisiontreeclassifier__min_samples_leaf': param_range2,\n",
        "              'decisiontreeclassifier__criterion': param_range3}]\n",
        "\n",
        "gs = GridSearchCV(estimator = pipe_tree,\n",
        "                 param_grid = param_grid, # 찾고자하는 파라미터. dictionary 형식\n",
        "                 scoring = 'accuracy', #  Classification일때  'accuracy','f1', Regression 일때 'neg_mean_squared_error','r2' 등\n",
        "                 cv=10,\n",
        "                 n_jobs= -1) # 병렬 처리; -1은 전부를 의미\n",
        "\n",
        "gs = gs.fit(train_features, train_target)\n",
        "\n",
        "print(gs.best_score_)\n",
        "print(gs.best_params_)"
      ]
    },
    {
      "cell_type": "code",
      "execution_count": null,
      "metadata": {
        "scrolled": true,
        "colab": {
          "base_uri": "https://localhost:8080/"
        },
        "id": "xLHyVwrYN_Ud",
        "outputId": "dd31aa14-895e-4075-aa6a-ceac2aec5845"
      },
      "outputs": [
        {
          "output_type": "execute_result",
          "data": {
            "text/plain": [
              "Pipeline(steps=[('decisiontreeclassifier',\n",
              "                 DecisionTreeClassifier(max_depth=2, min_samples_leaf=10,\n",
              "                                        random_state=312))])"
            ]
          },
          "metadata": {},
          "execution_count": 51
        }
      ],
      "source": [
        "# 최적의 모델 선택\n",
        "best_tree = gs.best_estimator_\n",
        "best_tree.fit(train_features, train_target)"
      ]
    },
    {
      "cell_type": "code",
      "execution_count": null,
      "metadata": {
        "id": "SiYnp7aWN_Ud"
      },
      "outputs": [],
      "source": [
        "best_tree_for_graph = DecisionTreeClassifier(criterion='gini', max_depth=2, min_samples_leaf=10, random_state = 2021)"
      ]
    },
    {
      "cell_type": "code",
      "execution_count": null,
      "metadata": {
        "colab": {
          "base_uri": "https://localhost:8080/"
        },
        "id": "NCPaO-FMN_Ue",
        "outputId": "6ba68784-2db0-488e-ce64-aa78b93a8d58"
      },
      "outputs": [
        {
          "output_type": "execute_result",
          "data": {
            "text/plain": [
              "DecisionTreeClassifier(max_depth=2, min_samples_leaf=10, random_state=2021)"
            ]
          },
          "metadata": {},
          "execution_count": 61
        }
      ],
      "source": [
        "best_tree_for_graph.fit(train_features, train_target)"
      ]
    },
    {
      "cell_type": "code",
      "execution_count": null,
      "metadata": {
        "id": "auMrz5AWN_Ue"
      },
      "outputs": [],
      "source": [
        "y_pred = best_tree.predict(test_features)"
      ]
    },
    {
      "cell_type": "code",
      "execution_count": null,
      "metadata": {
        "colab": {
          "base_uri": "https://localhost:8080/",
          "height": 143
        },
        "id": "idx4Eu7YN_Ue",
        "outputId": "5dbea5f5-97f0-475e-b2dc-a1776f8e26a2"
      },
      "outputs": [
        {
          "output_type": "execute_result",
          "data": {
            "text/plain": [
              "               Predict[1]  Predict[2]  Predict[3]\n",
              "Setosa[1]              10           0           0\n",
              "Versicolor[2]           0           9           1\n",
              "Virginica[3]            0           2           8"
            ],
            "text/html": [
              "\n",
              "  <div id=\"df-bb497e09-be96-4700-a34e-64ccce6264e6\">\n",
              "    <div class=\"colab-df-container\">\n",
              "      <div>\n",
              "<style scoped>\n",
              "    .dataframe tbody tr th:only-of-type {\n",
              "        vertical-align: middle;\n",
              "    }\n",
              "\n",
              "    .dataframe tbody tr th {\n",
              "        vertical-align: top;\n",
              "    }\n",
              "\n",
              "    .dataframe thead th {\n",
              "        text-align: right;\n",
              "    }\n",
              "</style>\n",
              "<table border=\"1\" class=\"dataframe\">\n",
              "  <thead>\n",
              "    <tr style=\"text-align: right;\">\n",
              "      <th></th>\n",
              "      <th>Predict[1]</th>\n",
              "      <th>Predict[2]</th>\n",
              "      <th>Predict[3]</th>\n",
              "    </tr>\n",
              "  </thead>\n",
              "  <tbody>\n",
              "    <tr>\n",
              "      <th>Setosa[1]</th>\n",
              "      <td>10</td>\n",
              "      <td>0</td>\n",
              "      <td>0</td>\n",
              "    </tr>\n",
              "    <tr>\n",
              "      <th>Versicolor[2]</th>\n",
              "      <td>0</td>\n",
              "      <td>9</td>\n",
              "      <td>1</td>\n",
              "    </tr>\n",
              "    <tr>\n",
              "      <th>Virginica[3]</th>\n",
              "      <td>0</td>\n",
              "      <td>2</td>\n",
              "      <td>8</td>\n",
              "    </tr>\n",
              "  </tbody>\n",
              "</table>\n",
              "</div>\n",
              "      <button class=\"colab-df-convert\" onclick=\"convertToInteractive('df-bb497e09-be96-4700-a34e-64ccce6264e6')\"\n",
              "              title=\"Convert this dataframe to an interactive table.\"\n",
              "              style=\"display:none;\">\n",
              "        \n",
              "  <svg xmlns=\"http://www.w3.org/2000/svg\" height=\"24px\"viewBox=\"0 0 24 24\"\n",
              "       width=\"24px\">\n",
              "    <path d=\"M0 0h24v24H0V0z\" fill=\"none\"/>\n",
              "    <path d=\"M18.56 5.44l.94 2.06.94-2.06 2.06-.94-2.06-.94-.94-2.06-.94 2.06-2.06.94zm-11 1L8.5 8.5l.94-2.06 2.06-.94-2.06-.94L8.5 2.5l-.94 2.06-2.06.94zm10 10l.94 2.06.94-2.06 2.06-.94-2.06-.94-.94-2.06-.94 2.06-2.06.94z\"/><path d=\"M17.41 7.96l-1.37-1.37c-.4-.4-.92-.59-1.43-.59-.52 0-1.04.2-1.43.59L10.3 9.45l-7.72 7.72c-.78.78-.78 2.05 0 2.83L4 21.41c.39.39.9.59 1.41.59.51 0 1.02-.2 1.41-.59l7.78-7.78 2.81-2.81c.8-.78.8-2.07 0-2.86zM5.41 20L4 18.59l7.72-7.72 1.47 1.35L5.41 20z\"/>\n",
              "  </svg>\n",
              "      </button>\n",
              "      \n",
              "  <style>\n",
              "    .colab-df-container {\n",
              "      display:flex;\n",
              "      flex-wrap:wrap;\n",
              "      gap: 12px;\n",
              "    }\n",
              "\n",
              "    .colab-df-convert {\n",
              "      background-color: #E8F0FE;\n",
              "      border: none;\n",
              "      border-radius: 50%;\n",
              "      cursor: pointer;\n",
              "      display: none;\n",
              "      fill: #1967D2;\n",
              "      height: 32px;\n",
              "      padding: 0 0 0 0;\n",
              "      width: 32px;\n",
              "    }\n",
              "\n",
              "    .colab-df-convert:hover {\n",
              "      background-color: #E2EBFA;\n",
              "      box-shadow: 0px 1px 2px rgba(60, 64, 67, 0.3), 0px 1px 3px 1px rgba(60, 64, 67, 0.15);\n",
              "      fill: #174EA6;\n",
              "    }\n",
              "\n",
              "    [theme=dark] .colab-df-convert {\n",
              "      background-color: #3B4455;\n",
              "      fill: #D2E3FC;\n",
              "    }\n",
              "\n",
              "    [theme=dark] .colab-df-convert:hover {\n",
              "      background-color: #434B5C;\n",
              "      box-shadow: 0px 1px 3px 1px rgba(0, 0, 0, 0.15);\n",
              "      filter: drop-shadow(0px 1px 2px rgba(0, 0, 0, 0.3));\n",
              "      fill: #FFFFFF;\n",
              "    }\n",
              "  </style>\n",
              "\n",
              "      <script>\n",
              "        const buttonEl =\n",
              "          document.querySelector('#df-bb497e09-be96-4700-a34e-64ccce6264e6 button.colab-df-convert');\n",
              "        buttonEl.style.display =\n",
              "          google.colab.kernel.accessAllowed ? 'block' : 'none';\n",
              "\n",
              "        async function convertToInteractive(key) {\n",
              "          const element = document.querySelector('#df-bb497e09-be96-4700-a34e-64ccce6264e6');\n",
              "          const dataTable =\n",
              "            await google.colab.kernel.invokeFunction('convertToInteractive',\n",
              "                                                     [key], {});\n",
              "          if (!dataTable) return;\n",
              "\n",
              "          const docLinkHtml = 'Like what you see? Visit the ' +\n",
              "            '<a target=\"_blank\" href=https://colab.research.google.com/notebooks/data_table.ipynb>data table notebook</a>'\n",
              "            + ' to learn more about interactive tables.';\n",
              "          element.innerHTML = '';\n",
              "          dataTable['output_type'] = 'display_data';\n",
              "          await google.colab.output.renderOutput(dataTable, element);\n",
              "          const docLink = document.createElement('div');\n",
              "          docLink.innerHTML = docLinkHtml;\n",
              "          element.appendChild(docLink);\n",
              "        }\n",
              "      </script>\n",
              "    </div>\n",
              "  </div>\n",
              "  "
            ]
          },
          "metadata": {},
          "execution_count": 63
        }
      ],
      "source": [
        "confmat = pd.DataFrame(confusion_matrix(test_target, y_pred),\n",
        "                      index=['Setosa[1]', 'Versicolor[2]', 'Virginica[3]'],             #정답 데이터\n",
        "                      columns=['Predict[1]', 'Predict[2]','Predict[3]'])\n",
        "confmat"
      ]
    },
    {
      "cell_type": "code",
      "execution_count": null,
      "metadata": {
        "colab": {
          "base_uri": "https://localhost:8080/"
        },
        "id": "rfjqmwUPN_Ue",
        "outputId": "f891dd2b-6a04-447d-fcea-a2b83810400a"
      },
      "outputs": [
        {
          "output_type": "stream",
          "name": "stdout",
          "text": [
            "Classification Report\n",
            "              precision    recall  f1-score   support\n",
            "\n",
            "           1       1.00      1.00      1.00        10\n",
            "           2       0.82      0.90      0.86        10\n",
            "           3       0.89      0.80      0.84        10\n",
            "\n",
            "    accuracy                           0.90        30\n",
            "   macro avg       0.90      0.90      0.90        30\n",
            "weighted avg       0.90      0.90      0.90        30\n",
            "\n"
          ]
        }
      ],
      "source": [
        "from sklearn.metrics import classification_report\n",
        "\n",
        "print('Classification Report')\n",
        "print(classification_report(test_target, y_pred))"
      ]
    },
    {
      "cell_type": "code",
      "execution_count": null,
      "metadata": {
        "colab": {
          "base_uri": "https://localhost:8080/",
          "height": 405
        },
        "id": "W4lHC25IN_Ue",
        "outputId": "d20aaae8-ae69-4310-91e2-c6a26da8cf70"
      },
      "outputs": [
        {
          "output_type": "stream",
          "name": "stdout",
          "text": [
            "정확도 accuracy: 0.900\n",
            "정밀도 precision: 0.900\n",
            "재현율 recall: 0.900\n",
            "F1-score: 0.900\n"
          ]
        },
        {
          "output_type": "error",
          "ename": "ValueError",
          "evalue": "ignored",
          "traceback": [
            "\u001b[0;31m---------------------------------------------------------------------------\u001b[0m",
            "\u001b[0;31mValueError\u001b[0m                                Traceback (most recent call last)",
            "\u001b[0;32m<ipython-input-71-b14800eb7ba7>\u001b[0m in \u001b[0;36m<module>\u001b[0;34m()\u001b[0m\n\u001b[1;32m      5\u001b[0m \u001b[0mprint\u001b[0m\u001b[0;34m(\u001b[0m\u001b[0;34m'재현율 recall: %.3f'\u001b[0m \u001b[0;34m%\u001b[0m \u001b[0mrecall_score\u001b[0m\u001b[0;34m(\u001b[0m\u001b[0my_true\u001b[0m\u001b[0;34m=\u001b[0m\u001b[0mtest_target\u001b[0m\u001b[0;34m,\u001b[0m \u001b[0my_pred\u001b[0m\u001b[0;34m=\u001b[0m\u001b[0my_pred\u001b[0m\u001b[0;34m,\u001b[0m\u001b[0maverage\u001b[0m \u001b[0;34m=\u001b[0m \u001b[0;34m'micro'\u001b[0m\u001b[0;34m)\u001b[0m\u001b[0;34m)\u001b[0m\u001b[0;34m\u001b[0m\u001b[0;34m\u001b[0m\u001b[0m\n\u001b[1;32m      6\u001b[0m \u001b[0mprint\u001b[0m\u001b[0;34m(\u001b[0m\u001b[0;34m'F1-score: %.3f'\u001b[0m \u001b[0;34m%\u001b[0m \u001b[0mf1_score\u001b[0m\u001b[0;34m(\u001b[0m\u001b[0my_true\u001b[0m\u001b[0;34m=\u001b[0m\u001b[0mtest_target\u001b[0m\u001b[0;34m,\u001b[0m \u001b[0my_pred\u001b[0m\u001b[0;34m=\u001b[0m\u001b[0my_pred\u001b[0m\u001b[0;34m,\u001b[0m\u001b[0maverage\u001b[0m \u001b[0;34m=\u001b[0m \u001b[0;34m'micro'\u001b[0m\u001b[0;34m)\u001b[0m\u001b[0;34m)\u001b[0m\u001b[0;34m\u001b[0m\u001b[0;34m\u001b[0m\u001b[0m\n\u001b[0;32m----> 7\u001b[0;31m \u001b[0mprint\u001b[0m\u001b[0;34m(\u001b[0m\u001b[0;34m'AUC: %.3f'\u001b[0m \u001b[0;34m%\u001b[0m \u001b[0mroc_auc_score\u001b[0m\u001b[0;34m(\u001b[0m\u001b[0mtest_target\u001b[0m\u001b[0;34m,\u001b[0m \u001b[0my_pred\u001b[0m\u001b[0;34m,\u001b[0m\u001b[0mmulti_class\u001b[0m \u001b[0;34m=\u001b[0m \u001b[0;34m'raise'\u001b[0m\u001b[0;34m)\u001b[0m\u001b[0;34m)\u001b[0m\u001b[0;34m\u001b[0m\u001b[0;34m\u001b[0m\u001b[0m\n\u001b[0m",
            "\u001b[0;32m/usr/local/lib/python3.7/dist-packages/sklearn/metrics/_ranking.py\u001b[0m in \u001b[0;36mroc_auc_score\u001b[0;34m(y_true, y_score, average, sample_weight, max_fpr, multi_class, labels)\u001b[0m\n\u001b[1;32m    558\u001b[0m             )\n\u001b[1;32m    559\u001b[0m         \u001b[0;32mif\u001b[0m \u001b[0mmulti_class\u001b[0m \u001b[0;34m==\u001b[0m \u001b[0;34m\"raise\"\u001b[0m\u001b[0;34m:\u001b[0m\u001b[0;34m\u001b[0m\u001b[0;34m\u001b[0m\u001b[0m\n\u001b[0;32m--> 560\u001b[0;31m             \u001b[0;32mraise\u001b[0m \u001b[0mValueError\u001b[0m\u001b[0;34m(\u001b[0m\u001b[0;34m\"multi_class must be in ('ovo', 'ovr')\"\u001b[0m\u001b[0;34m)\u001b[0m\u001b[0;34m\u001b[0m\u001b[0;34m\u001b[0m\u001b[0m\n\u001b[0m\u001b[1;32m    561\u001b[0m         return _multiclass_roc_auc_score(\n\u001b[1;32m    562\u001b[0m             \u001b[0my_true\u001b[0m\u001b[0;34m,\u001b[0m \u001b[0my_score\u001b[0m\u001b[0;34m,\u001b[0m \u001b[0mlabels\u001b[0m\u001b[0;34m,\u001b[0m \u001b[0mmulti_class\u001b[0m\u001b[0;34m,\u001b[0m \u001b[0maverage\u001b[0m\u001b[0;34m,\u001b[0m \u001b[0msample_weight\u001b[0m\u001b[0;34m\u001b[0m\u001b[0;34m\u001b[0m\u001b[0m\n",
            "\u001b[0;31mValueError\u001b[0m: multi_class must be in ('ovo', 'ovr')"
          ]
        }
      ],
      "source": [
        "from sklearn.metrics import accuracy_score, precision_score, recall_score, f1_score, roc_auc_score\n",
        "\n",
        "print('정확도 accuracy: %.3f' % accuracy_score(test_target, y_pred))\n",
        "print('정밀도 precision: %.3f' % precision_score(y_true= test_target, y_pred=y_pred,average = 'micro'))\n",
        "print('재현율 recall: %.3f' % recall_score(y_true=test_target, y_pred=y_pred,average = 'micro'))\n",
        "print('F1-score: %.3f' % f1_score(y_true=test_target, y_pred=y_pred,average = 'micro'))\n",
        "print('AUC: %.3f' % roc_auc_score(test_target, y_pred,multi_class = 'raise'))"
      ]
    },
    {
      "cell_type": "code",
      "execution_count": null,
      "metadata": {
        "colab": {
          "base_uri": "https://localhost:8080/",
          "height": 393
        },
        "id": "0oQo_pUAN_Ue",
        "outputId": "742062df-a5ed-4b44-cccd-65fde3d72b2a"
      },
      "outputs": [
        {
          "output_type": "error",
          "ename": "ValueError",
          "evalue": "ignored",
          "traceback": [
            "\u001b[0;31m---------------------------------------------------------------------------\u001b[0m",
            "\u001b[0;31mValueError\u001b[0m                                Traceback (most recent call last)",
            "\u001b[0;32m<ipython-input-72-6c2979f1a6b3>\u001b[0m in \u001b[0;36m<module>\u001b[0;34m()\u001b[0m\n\u001b[1;32m      2\u001b[0m \u001b[0;32mimport\u001b[0m \u001b[0mmatplotlib\u001b[0m\u001b[0;34m.\u001b[0m\u001b[0mpyplot\u001b[0m \u001b[0;32mas\u001b[0m \u001b[0mplt\u001b[0m\u001b[0;34m\u001b[0m\u001b[0;34m\u001b[0m\u001b[0m\n\u001b[1;32m      3\u001b[0m \u001b[0;34m\u001b[0m\u001b[0m\n\u001b[0;32m----> 4\u001b[0;31m \u001b[0mfpr\u001b[0m\u001b[0;34m,\u001b[0m \u001b[0mtpr\u001b[0m\u001b[0;34m,\u001b[0m \u001b[0mthresholds\u001b[0m \u001b[0;34m=\u001b[0m \u001b[0mroc_curve\u001b[0m\u001b[0;34m(\u001b[0m \u001b[0mtest_target\u001b[0m\u001b[0;34m,\u001b[0m \u001b[0mbest_tree\u001b[0m\u001b[0;34m.\u001b[0m\u001b[0mpredict_proba\u001b[0m\u001b[0;34m(\u001b[0m\u001b[0mtest_features\u001b[0m\u001b[0;34m)\u001b[0m\u001b[0;34m[\u001b[0m\u001b[0;34m:\u001b[0m\u001b[0;34m,\u001b[0m \u001b[0;36m1\u001b[0m\u001b[0;34m]\u001b[0m \u001b[0;34m)\u001b[0m\u001b[0;34m\u001b[0m\u001b[0;34m\u001b[0m\u001b[0m\n\u001b[0m\u001b[1;32m      5\u001b[0m \u001b[0;34m\u001b[0m\u001b[0m\n\u001b[1;32m      6\u001b[0m \u001b[0mplt\u001b[0m\u001b[0;34m.\u001b[0m\u001b[0mplot\u001b[0m\u001b[0;34m(\u001b[0m\u001b[0mfpr\u001b[0m\u001b[0;34m,\u001b[0m \u001b[0mtpr\u001b[0m\u001b[0;34m,\u001b[0m \u001b[0;34m'--'\u001b[0m\u001b[0;34m,\u001b[0m \u001b[0mlabel\u001b[0m \u001b[0;34m=\u001b[0m \u001b[0;34m'Decision Tree'\u001b[0m\u001b[0;34m)\u001b[0m\u001b[0;34m\u001b[0m\u001b[0;34m\u001b[0m\u001b[0m\n",
            "\u001b[0;32m/usr/local/lib/python3.7/dist-packages/sklearn/metrics/_ranking.py\u001b[0m in \u001b[0;36mroc_curve\u001b[0;34m(y_true, y_score, pos_label, sample_weight, drop_intermediate)\u001b[0m\n\u001b[1;32m    961\u001b[0m     \"\"\"\n\u001b[1;32m    962\u001b[0m     fps, tps, thresholds = _binary_clf_curve(\n\u001b[0;32m--> 963\u001b[0;31m         \u001b[0my_true\u001b[0m\u001b[0;34m,\u001b[0m \u001b[0my_score\u001b[0m\u001b[0;34m,\u001b[0m \u001b[0mpos_label\u001b[0m\u001b[0;34m=\u001b[0m\u001b[0mpos_label\u001b[0m\u001b[0;34m,\u001b[0m \u001b[0msample_weight\u001b[0m\u001b[0;34m=\u001b[0m\u001b[0msample_weight\u001b[0m\u001b[0;34m\u001b[0m\u001b[0;34m\u001b[0m\u001b[0m\n\u001b[0m\u001b[1;32m    964\u001b[0m     )\n\u001b[1;32m    965\u001b[0m \u001b[0;34m\u001b[0m\u001b[0m\n",
            "\u001b[0;32m/usr/local/lib/python3.7/dist-packages/sklearn/metrics/_ranking.py\u001b[0m in \u001b[0;36m_binary_clf_curve\u001b[0;34m(y_true, y_score, pos_label, sample_weight)\u001b[0m\n\u001b[1;32m    729\u001b[0m     \u001b[0my_type\u001b[0m \u001b[0;34m=\u001b[0m \u001b[0mtype_of_target\u001b[0m\u001b[0;34m(\u001b[0m\u001b[0my_true\u001b[0m\u001b[0;34m)\u001b[0m\u001b[0;34m\u001b[0m\u001b[0;34m\u001b[0m\u001b[0m\n\u001b[1;32m    730\u001b[0m     \u001b[0;32mif\u001b[0m \u001b[0;32mnot\u001b[0m \u001b[0;34m(\u001b[0m\u001b[0my_type\u001b[0m \u001b[0;34m==\u001b[0m \u001b[0;34m\"binary\"\u001b[0m \u001b[0;32mor\u001b[0m \u001b[0;34m(\u001b[0m\u001b[0my_type\u001b[0m \u001b[0;34m==\u001b[0m \u001b[0;34m\"multiclass\"\u001b[0m \u001b[0;32mand\u001b[0m \u001b[0mpos_label\u001b[0m \u001b[0;32mis\u001b[0m \u001b[0;32mnot\u001b[0m \u001b[0;32mNone\u001b[0m\u001b[0;34m)\u001b[0m\u001b[0;34m)\u001b[0m\u001b[0;34m:\u001b[0m\u001b[0;34m\u001b[0m\u001b[0;34m\u001b[0m\u001b[0m\n\u001b[0;32m--> 731\u001b[0;31m         \u001b[0;32mraise\u001b[0m \u001b[0mValueError\u001b[0m\u001b[0;34m(\u001b[0m\u001b[0;34m\"{0} format is not supported\"\u001b[0m\u001b[0;34m.\u001b[0m\u001b[0mformat\u001b[0m\u001b[0;34m(\u001b[0m\u001b[0my_type\u001b[0m\u001b[0;34m)\u001b[0m\u001b[0;34m)\u001b[0m\u001b[0;34m\u001b[0m\u001b[0;34m\u001b[0m\u001b[0m\n\u001b[0m\u001b[1;32m    732\u001b[0m \u001b[0;34m\u001b[0m\u001b[0m\n\u001b[1;32m    733\u001b[0m     \u001b[0mcheck_consistent_length\u001b[0m\u001b[0;34m(\u001b[0m\u001b[0my_true\u001b[0m\u001b[0;34m,\u001b[0m \u001b[0my_score\u001b[0m\u001b[0;34m,\u001b[0m \u001b[0msample_weight\u001b[0m\u001b[0;34m)\u001b[0m\u001b[0;34m\u001b[0m\u001b[0;34m\u001b[0m\u001b[0m\n",
            "\u001b[0;31mValueError\u001b[0m: multiclass format is not supported"
          ]
        }
      ],
      "source": [
        "from sklearn.metrics import roc_curve\n",
        "import matplotlib.pyplot as plt\n",
        "\n",
        "fpr, tpr, thresholds = roc_curve( test_target, best_tree.predict_proba(test_features)[:, 1] )\n",
        "\n",
        "plt.plot(fpr, tpr, '--', label = 'Decision Tree')\n",
        "plt.plot([0,1], [0,1], 'k--', label='random guess')\n",
        "plt.plot([fpr],[tpr],'r-', ms=10)\n",
        "plt.xlabel('FPR')\n",
        "plt.ylabel('TPR')\n",
        "plt.title('ROC')\n",
        "plt.show()"
      ]
    },
    {
      "cell_type": "code",
      "execution_count": null,
      "metadata": {
        "id": "B3YQWBKwN_Uf"
      },
      "outputs": [],
      "source": [
        "import numpy as np\n",
        "feature_names = train_features.columns.tolist()\n",
        "target_name = np.array(['Setosa[1]', 'Versicolor[2]', 'Virginica[3]'])"
      ]
    },
    {
      "cell_type": "code",
      "execution_count": null,
      "metadata": {
        "colab": {
          "base_uri": "https://localhost:8080/"
        },
        "id": "Wu2UjBySN_Uf",
        "outputId": "f16cd614-2a84-4092-ada4-9e6dde22fc7f"
      },
      "outputs": [
        {
          "output_type": "execute_result",
          "data": {
            "text/plain": [
              "True"
            ]
          },
          "metadata": {},
          "execution_count": 74
        }
      ],
      "source": [
        "dot_data_best = export_graphviz(best_tree_for_graph,\n",
        "                          filled = True,\n",
        "                          rounded = True,\n",
        "                          class_names = target_name,\n",
        "                          feature_names = feature_names,\n",
        "                          out_file = None)\n",
        "\n",
        "graph_best = graph_from_dot_data(dot_data_best)\n",
        "graph.write_png('tree_best.png') #Tree 이미지를 저장"
      ]
    },
    {
      "cell_type": "code",
      "execution_count": null,
      "metadata": {
        "colab": {
          "base_uri": "https://localhost:8080/",
          "height": 436
        },
        "id": "V-SYh1JcN_Uf",
        "outputId": "29e7f5fc-64b0-44c0-ee1a-7bba8da3e597"
      },
      "outputs": [
        {
          "output_type": "execute_result",
          "data": {
            "text/plain": [
              "<IPython.core.display.Image object>"
            ],
            "image/png": "[encoded data removed]"
          },
          "metadata": {},
          "execution_count": 75
        }
      ],
      "source": [
        "dt_graph_best = pydotplus.graph_from_dot_data(dot_data_best)\n",
        "Image(dt_graph_best.create_png())"
      ]
    },
    {
      "cell_type": "markdown",
      "source": [
        "- [feature_importance](https://soohee410.github.io/iml_tree_importance): 불순도를 가장 크게 감소시키는 변수의 중요도가 가장 큼\n",
        "  - 연속형 변수 또는 카테고리 개수가 매우 많은 변수들(high cardinality)의 중요도를 더욱 부풀릴 가능성이 높음\n",
        "  - train 과정에서 얻은 중요도이기 때문에, test 데이터셋에서는 이 변수 중요도가 어떻게 변하는 지 알 수 없음 \n",
        "  - 어떤 변수가 어떤 방향으로(positive or negative)로 영향일 미치는지 판단을 할 수 없음 -> [shap value](https://todayisbetterthanyesterday.tistory.com/56)"
      ],
      "metadata": {
        "id": "4bPVcmrvuyT6"
      }
    },
    {
      "cell_type": "code",
      "execution_count": null,
      "metadata": {
        "colab": {
          "base_uri": "https://localhost:8080/",
          "height": 390
        },
        "id": "dWJemmSgN_Ug",
        "outputId": "4c45e92d-9be4-4545-e9dd-bf78c035234a"
      },
      "outputs": [
        {
          "output_type": "display_data",
          "data": {
            "text/plain": [
              "<Figure size 576x432 with 1 Axes>"
            ],
            "image/png": "[encoded data removed]"
          },
          "metadata": {
            "needs_background": "light"
          }
        }
      ],
      "source": [
        "# Feature Importance\n",
        "\n",
        "import seaborn as sns\n",
        "feature_importance_values = best_tree_for_graph.feature_importances_\n",
        "feature_importances = pd.Series(feature_importance_values, index=train_features.columns)\n",
        "feature_top5 = feature_importances.sort_values(ascending=False)[:5]\n",
        "\n",
        "plt.figure(figsize=[8, 6])\n",
        "plt.title('Feature Importances Top 5')\n",
        "sns.barplot(x=feature_top5, y=feature_top5.index)\n",
        "plt.show()"
      ]
    },
    {
      "cell_type": "code",
      "execution_count": null,
      "metadata": {
        "colab": {
          "base_uri": "https://localhost:8080/"
        },
        "id": "e135J3i-N_Ug",
        "outputId": "25be02f1-5944-4e2a-e6eb-866e979c9bb9"
      },
      "outputs": [
        {
          "output_type": "execute_result",
          "data": {
            "text/plain": [
              "petal.width     1.0\n",
              "sepal.length    0.0\n",
              "sepal.width     0.0\n",
              "petal.length    0.0\n",
              "dtype: float64"
            ]
          },
          "metadata": {},
          "execution_count": 78
        }
      ],
      "source": [
        "feature_importances.sort_values(ascending=False)"
      ]
    }
  ],
  "metadata": {
    "kernelspec": {
      "display_name": "Python 3",
      "language": "python",
      "name": "python3"
    },
    "language_info": {
      "codemirror_mode": {
        "name": "ipython",
        "version": 3
      },
      "file_extension": ".py",
      "mimetype": "text/x-python",
      "name": "python",
      "nbconvert_exporter": "python",
      "pygments_lexer": "ipython3",
      "version": "3.8.8"
    },
    "colab": {
      "name": "7_DecisionTree_Iris(CART).ipynb",
      "provenance": [],
      "collapsed_sections": []
    }
  },
  "nbformat": 4,
  "nbformat_minor": 0
}